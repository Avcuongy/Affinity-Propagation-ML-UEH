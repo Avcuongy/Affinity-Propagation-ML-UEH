{
 "cells": [
  {
   "cell_type": "code",
   "execution_count": 1,
   "metadata": {},
   "outputs": [],
   "source": [
    "import numpy as np\n",
    "import pandas as pd\n",
    "import matplotlib.pyplot as plt\n",
    "import seaborn as sns\n",
    "import warnings\n",
    "warnings.filterwarnings(\"ignore\")\n",
    "from sklearn import preprocessing\n",
    "from sklearn.decomposition import PCA\n",
    "from sklearn.cluster import DBSCAN\n",
    "from sklearn.metrics import davies_bouldin_score, calinski_harabasz_score, silhouette_score"
   ]
  },
  {
   "cell_type": "markdown",
   "metadata": {},
   "source": [
    "# Data"
   ]
  },
  {
   "cell_type": "code",
   "execution_count": 2,
   "metadata": {},
   "outputs": [],
   "source": [
    "df = pd.read_csv(r\"D:\\_Dev\\_Group Project\\Affinity-Propagation-ML-UEH\\Data\\Mall Customers\\Mall_Customers_preprocessed.csv\")"
   ]
  },
  {
   "cell_type": "code",
   "execution_count": 3,
   "metadata": {},
   "outputs": [
    {
     "data": {
      "text/html": [
       "<div>\n",
       "<style scoped>\n",
       "    .dataframe tbody tr th:only-of-type {\n",
       "        vertical-align: middle;\n",
       "    }\n",
       "\n",
       "    .dataframe tbody tr th {\n",
       "        vertical-align: top;\n",
       "    }\n",
       "\n",
       "    .dataframe thead th {\n",
       "        text-align: right;\n",
       "    }\n",
       "</style>\n",
       "<table border=\"1\" class=\"dataframe\">\n",
       "  <thead>\n",
       "    <tr style=\"text-align: right;\">\n",
       "      <th></th>\n",
       "      <th>customerid</th>\n",
       "      <th>age</th>\n",
       "      <th>annual_income</th>\n",
       "      <th>spending_score</th>\n",
       "      <th>genre_female</th>\n",
       "    </tr>\n",
       "  </thead>\n",
       "  <tbody>\n",
       "    <tr>\n",
       "      <th>0</th>\n",
       "      <td>1</td>\n",
       "      <td>-1.424569</td>\n",
       "      <td>-1.738999</td>\n",
       "      <td>-0.434801</td>\n",
       "      <td>0.0</td>\n",
       "    </tr>\n",
       "    <tr>\n",
       "      <th>1</th>\n",
       "      <td>2</td>\n",
       "      <td>-1.281035</td>\n",
       "      <td>-1.738999</td>\n",
       "      <td>1.195704</td>\n",
       "      <td>0.0</td>\n",
       "    </tr>\n",
       "    <tr>\n",
       "      <th>2</th>\n",
       "      <td>3</td>\n",
       "      <td>-1.352802</td>\n",
       "      <td>-1.700830</td>\n",
       "      <td>-1.715913</td>\n",
       "      <td>1.0</td>\n",
       "    </tr>\n",
       "    <tr>\n",
       "      <th>3</th>\n",
       "      <td>4</td>\n",
       "      <td>-1.137502</td>\n",
       "      <td>-1.700830</td>\n",
       "      <td>1.040418</td>\n",
       "      <td>1.0</td>\n",
       "    </tr>\n",
       "    <tr>\n",
       "      <th>4</th>\n",
       "      <td>5</td>\n",
       "      <td>-0.563369</td>\n",
       "      <td>-1.662660</td>\n",
       "      <td>-0.395980</td>\n",
       "      <td>1.0</td>\n",
       "    </tr>\n",
       "  </tbody>\n",
       "</table>\n",
       "</div>"
      ],
      "text/plain": [
       "   customerid       age  annual_income  spending_score  genre_female\n",
       "0           1 -1.424569      -1.738999       -0.434801           0.0\n",
       "1           2 -1.281035      -1.738999        1.195704           0.0\n",
       "2           3 -1.352802      -1.700830       -1.715913           1.0\n",
       "3           4 -1.137502      -1.700830        1.040418           1.0\n",
       "4           5 -0.563369      -1.662660       -0.395980           1.0"
      ]
     },
     "execution_count": 3,
     "metadata": {},
     "output_type": "execute_result"
    }
   ],
   "source": [
    "df.head()"
   ]
  },
  {
   "cell_type": "code",
   "execution_count": 4,
   "metadata": {},
   "outputs": [],
   "source": [
    "X = df.copy()"
   ]
  },
  {
   "cell_type": "markdown",
   "metadata": {},
   "source": [
    "# Model"
   ]
  },
  {
   "cell_type": "code",
   "execution_count": 5,
   "metadata": {},
   "outputs": [],
   "source": [
    "# Áp dụng thuật toán DBSCAN\n",
    "dbscan = DBSCAN(eps=1.4, min_samples=3)\n",
    "labels = dbscan.fit_predict(X)"
   ]
  },
  {
   "cell_type": "code",
   "execution_count": 6,
   "metadata": {},
   "outputs": [
    {
     "name": "stdout",
     "output_type": "stream",
     "text": [
      "Số cụm: 4\n",
      "Davies-Bouldin Index: 0.115\n",
      "Calinski-Harabasz Index: 2802.343\n",
      "Silhouette Score: 0.892\n"
     ]
    }
   ],
   "source": [
    "core_samples_mask = labels != -1\n",
    "X_valid = X[core_samples_mask]\n",
    "labels_valid = labels[core_samples_mask]\n",
    "\n",
    "n_clusters = len(set(labels_valid))\n",
    "print(f\"Số cụm: {n_clusters}\")\n",
    "\n",
    "if n_clusters > 1:\n",
    "    db_index = davies_bouldin_score(X_valid, labels_valid)\n",
    "    ch_index = calinski_harabasz_score(X_valid, labels_valid)\n",
    "    silhouette = silhouette_score(X_valid, labels_valid)\n",
    "\n",
    "    print(f\"Davies-Bouldin Index: {db_index:.3f}\")\n",
    "    print(f\"Calinski-Harabasz Index: {ch_index:.3f}\")\n",
    "    print(f\"Silhouette Score: {silhouette:.3f}\")\n",
    "else:\n",
    "    print(\"Không đủ cụm hợp lệ để đánh giá\")"
   ]
  },
  {
   "cell_type": "code",
   "execution_count": 7,
   "metadata": {},
   "outputs": [
    {
     "data": {
      "image/png": "[encoded data removed]",
      "text/plain": [
       "<Figure size 1000x500 with 1 Axes>"
      ]
     },
     "metadata": {},
     "output_type": "display_data"
    }
   ],
   "source": [
    "# Giảm chiều xuống 2D với PCA\n",
    "pca = PCA(n_components=2)\n",
    "X_pca = pca.fit_transform(X)\n",
    "\n",
    "# Vẽ biểu đồ phân cụm\n",
    "plt.figure(figsize=(10, 5))\n",
    "\n",
    "# Sử dụng các màu sắc khác nhau cho các cụm\n",
    "unique_labels = set(labels)\n",
    "colors = [plt.cm.Spectral(each) for each in np.linspace(0, 1, len(unique_labels))]\n",
    "\n",
    "for k, col in zip(unique_labels, colors):\n",
    "    class_member_mask = (labels == k)\n",
    "    xy = X_pca[class_member_mask]\n",
    "    plt.scatter(xy[:, 0], xy[:, 1], s=50, c=[col], label=f'Cluster {k}' if k != -1 else 'Noise')\n",
    "\n",
    "# Đánh dấu các điểm nhiễu (Noise)\n",
    "plt.scatter(X_pca[labels == -1, 0], X_pca[labels == -1, 1], s=50, c='black', label='Noise', marker='x')\n",
    "plt.title('DBSCAN Clustering')\n",
    "plt.legend(loc='upper right')\n",
    "plt.show()"
   ]
  },
  {
   "cell_type": "markdown",
   "metadata": {},
   "source": [
    "# Hyperparamter Optimization"
   ]
  },
  {
   "cell_type": "code",
   "execution_count": 8,
   "metadata": {},
   "outputs": [],
   "source": [
    "best_score = -1\n",
    "best_params = {}\n",
    "top_results = []\n",
    "\n",
    "for eps in np.arange(0.1, 2.0, 0.1):  # thử eps từ 0.1 đến 2\n",
    "    for min_samples in range(3, 10):  # thử min_samples từ 3 đến 9\n",
    "        db = DBSCAN(eps=eps, min_samples=min_samples)\n",
    "        labels = db.fit_predict(X)\n",
    "        \n",
    "        # Loại bỏ noise\n",
    "        if len(set(labels)) > 1 and -1 in labels:\n",
    "            valid_mask = labels != -1\n",
    "            try:\n",
    "                score = silhouette_score(X[valid_mask], labels[valid_mask])\n",
    "                if score > best_score:\n",
    "                    best_score = score\n",
    "                    best_params = {'eps': eps, 'min_samples': min_samples}\n",
    "                    top_results.append((eps, min_samples, score))\n",
    "            except:\n",
    "                pass"
   ]
  },
  {
   "cell_type": "code",
   "execution_count": 9,
   "metadata": {},
   "outputs": [],
   "source": [
    "best_score = -1\n",
    "best_params = {}\n",
    "top_results = []\n",
    "\n",
    "for eps in np.arange(0.1, 2.0, 0.1):\n",
    "    for min_samples in range(3, 10):\n",
    "        db = DBSCAN(eps=eps, min_samples=min_samples)\n",
    "        labels = db.fit_predict(X)\n",
    "\n",
    "        # Loại bỏ noise\n",
    "        if len(set(labels)) > 1 and -1 in labels:\n",
    "            valid_mask = labels != -1\n",
    "            try:\n",
    "                X_valid = X[valid_mask]\n",
    "                labels_valid = labels[valid_mask]\n",
    "\n",
    "                sil_score = silhouette_score(X_valid, labels_valid)\n",
    "                dbi = davies_bouldin_score(X_valid, labels_valid)\n",
    "                chi = calinski_harabasz_score(X_valid, labels_valid)\n",
    "                n_clusters = len(set(labels_valid))\n",
    "\n",
    "                result = {\n",
    "                    \"sil_score\": sil_score,\n",
    "                    \"dbi\": dbi,\n",
    "                    \"chi\": chi,\n",
    "                    \"n_clusters\": n_clusters,\n",
    "                    \"params\": {\n",
    "                        \"eps\": eps,\n",
    "                        \"min_samples\": min_samples,\n",
    "                    },\n",
    "                }\n",
    "\n",
    "                top_results.append(result)\n",
    "\n",
    "                if sil_score > best_score:\n",
    "                    best_score = sil_score\n",
    "                    best_params = {\"eps\": eps, \"min_samples\": min_samples}\n",
    "            except:\n",
    "                pass"
   ]
  },
  {
   "cell_type": "code",
   "execution_count": 10,
   "metadata": {},
   "outputs": [
    {
     "data": {
      "text/html": [
       "<div>\n",
       "<style scoped>\n",
       "    .dataframe tbody tr th:only-of-type {\n",
       "        vertical-align: middle;\n",
       "    }\n",
       "\n",
       "    .dataframe tbody tr th {\n",
       "        vertical-align: top;\n",
       "    }\n",
       "\n",
       "    .dataframe thead th {\n",
       "        text-align: right;\n",
       "    }\n",
       "</style>\n",
       "<table border=\"1\" class=\"dataframe\">\n",
       "  <thead>\n",
       "    <tr style=\"text-align: right;\">\n",
       "      <th></th>\n",
       "      <th>Top</th>\n",
       "      <th>Silhouette</th>\n",
       "      <th>Davies-Bouldin</th>\n",
       "      <th>Calinski-Harabaz</th>\n",
       "      <th>Số cụm</th>\n",
       "      <th>eps</th>\n",
       "      <th>min_samples</th>\n",
       "    </tr>\n",
       "  </thead>\n",
       "  <tbody>\n",
       "    <tr>\n",
       "      <th>0</th>\n",
       "      <td>1.0</td>\n",
       "      <td>0.978</td>\n",
       "      <td>0.023</td>\n",
       "      <td>5390.593</td>\n",
       "      <td>2.0</td>\n",
       "      <td>1.1</td>\n",
       "      <td>3.0</td>\n",
       "    </tr>\n",
       "    <tr>\n",
       "      <th>1</th>\n",
       "      <td>2.0</td>\n",
       "      <td>0.892</td>\n",
       "      <td>0.115</td>\n",
       "      <td>2802.343</td>\n",
       "      <td>4.0</td>\n",
       "      <td>1.4</td>\n",
       "      <td>3.0</td>\n",
       "    </tr>\n",
       "    <tr>\n",
       "      <th>2</th>\n",
       "      <td>3.0</td>\n",
       "      <td>0.889</td>\n",
       "      <td>0.117</td>\n",
       "      <td>4089.259</td>\n",
       "      <td>3.0</td>\n",
       "      <td>1.2</td>\n",
       "      <td>3.0</td>\n",
       "    </tr>\n",
       "    <tr>\n",
       "      <th>3</th>\n",
       "      <td>4.0</td>\n",
       "      <td>0.889</td>\n",
       "      <td>0.117</td>\n",
       "      <td>4089.259</td>\n",
       "      <td>3.0</td>\n",
       "      <td>1.3</td>\n",
       "      <td>3.0</td>\n",
       "    </tr>\n",
       "    <tr>\n",
       "      <th>4</th>\n",
       "      <td>5.0</td>\n",
       "      <td>0.759</td>\n",
       "      <td>0.269</td>\n",
       "      <td>1963.442</td>\n",
       "      <td>6.0</td>\n",
       "      <td>1.5</td>\n",
       "      <td>3.0</td>\n",
       "    </tr>\n",
       "  </tbody>\n",
       "</table>\n",
       "</div>"
      ],
      "text/plain": [
       "   Top  Silhouette  Davies-Bouldin  Calinski-Harabaz  Số cụm  eps  min_samples\n",
       "0  1.0       0.978           0.023          5390.593     2.0  1.1          3.0\n",
       "1  2.0       0.892           0.115          2802.343     4.0  1.4          3.0\n",
       "2  3.0       0.889           0.117          4089.259     3.0  1.2          3.0\n",
       "3  4.0       0.889           0.117          4089.259     3.0  1.3          3.0\n",
       "4  5.0       0.759           0.269          1963.442     6.0  1.5          3.0"
      ]
     },
     "execution_count": 10,
     "metadata": {},
     "output_type": "execute_result"
    }
   ],
   "source": [
    "top_results = sorted(top_results, key=lambda x: x[\"sil_score\"], reverse=True)[:5]\n",
    "show_results = pd.DataFrame(\n",
    "    columns=[\"Top\", \"Silhouette\", \"Davies-Bouldin\", \"Calinski-Harabaz\", \"Số cụm\", 'eps', \"min_samples\"]\n",
    ")\n",
    "for i, res in enumerate(top_results):\n",
    "    show_results.loc[len(show_results)] = [\n",
    "        i + 1,\n",
    "        round(res[\"sil_score\"], 3),\n",
    "        round(res[\"dbi\"], 3),\n",
    "        round(res[\"chi\"], 3),\n",
    "        res[\"n_clusters\"],\n",
    "        res[\"params\"][\"eps\"],\n",
    "        res[\"params\"][\"min_samples\"],\n",
    "    ]\n",
    "show_results"
   ]
  }
 ],
 "metadata": {
  "colab": {
   "authorship_tag": "ABX9TyMk1dQOSYSsRzQ3ry3HH5ma",
   "name": "Untitled"
  },
  "kernelspec": {
   "display_name": "Python 3",
   "name": "python3"
  },
  "language_info": {
   "codemirror_mode": {
    "name": "ipython",
    "version": 3
   },
   "file_extension": ".py",
   "mimetype": "text/x-python",
   "name": "python",
   "nbconvert_exporter": "python",
   "pygments_lexer": "ipython3",
   "version": "3.10.11"
  }
 },
 "nbformat": 4,
 "nbformat_minor": 0
}

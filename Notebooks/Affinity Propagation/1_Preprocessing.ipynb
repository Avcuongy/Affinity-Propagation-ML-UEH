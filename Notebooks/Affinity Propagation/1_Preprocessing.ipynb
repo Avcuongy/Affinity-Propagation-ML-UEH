## Thư viện
import joblib             as jlb
import matplotlib.pyplot  as plt
import numpy              as np
import pandas             as pd
import seaborn            as sbn
import warnings
warnings.filterwarnings('ignore') # tắt những cảnh báo

from collections          import Counter
from scipy.cluster        import hierarchy

from sklearn.preprocessing import StandardScaler

from sklearn.cluster import AffinityPropagation
from sklearn import metrics
from sklearn.datasets import make_blobs
============================================================================
folder = "C:/Users/PC/Desktop"
data = pd.read_excel(folder+"/sample_data.xlsx")
data.info()
data.head()
===========================================================================
# Chọn cột số
X = data[['Age', 'Salary']].values  # Chuyển thành mảng numpy

print("Dữ liệu đầu vào:")
print(X[:5])  # Xem 5 dòng đầu tiên
==========================================================================
scaler = StandardScaler()
X_scaled = scaler.fit_transform(X)

print("Dữ liệu sau khi chuẩn hóa:")
print(X_scaled[:5])  # Xem 5 dòng đầu tiên
=================================================================
sns.histplot(data['Age'], kde=True)
plt.title('Phân phối tuổi')
plt.show()

# Biểu đồ phân phối lương
sns.histplot(data['Salary'], kde=True)
plt.title('Phân phối lương')
plt.show()

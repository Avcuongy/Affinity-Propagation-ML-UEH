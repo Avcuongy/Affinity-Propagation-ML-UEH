{
 "cells": [
  {
   "cell_type": "markdown",
   "metadata": {},
   "source": [
    "Chỉ số | Ý nghĩa | Khi nào dùng | Ghi chú\n",
    "---|---|---|---\n",
    "Silhouette Score | Đánh giá độ \"gọn cụm\" và \"xa cụm khác\" | Luôn dùng | Cao hơn thì tốt\n",
    "Davies-Bouldin Index (DBI) | Đánh giá độ \"chồng lấn\" giữa các cụm | Khi muốn kiểm tra tính phân cách | Thấp hơn thì tốt\n",
    "Calinski-Harabasz Index (CHI) | Tỉ lệ giữa độ phân tán giữa cụm và trong cụm | Khi muốn tối ưu về hiệu quả phân tách | Cao hơn thì tốt\n",
    "Number of Clusters | Số lượng cụm được tạo ra | Luôn theo dõi |"
   ]
  },
  {
   "cell_type": "markdown",
   "metadata": {},
   "source": [
    "# Khai báo thư viện"
   ]
  },
  {
   "cell_type": "code",
   "execution_count": 21,
   "metadata": {
    "id": "cU072qD6hRuP"
   },
   "outputs": [],
   "source": [
    "import numpy as np\n",
    "import pandas as pd\n",
    "import matplotlib.pyplot as plt\n",
    "import seaborn as sns\n",
    "import warnings\n",
    "warnings.filterwarnings(\"ignore\")\n",
    "from mpl_toolkits.mplot3d import Axes3D\n",
    "from hyperopt import fmin, tpe, hp, STATUS_OK, Trials\n",
    "from joblib import Parallel, delayed\n",
    "import time\n",
    "# ------------------------------------------------------------------\n",
    "from sklearn import preprocessing\n",
    "from sklearn.decomposition import PCA\n",
    "from sklearn.manifold import TSNE\n",
    "# ------------------------------------------------------------------\n",
    "from scipy.stats import uniform\n",
    "# ------------------------------------------------------------------\n",
    "from sklearn.model_selection import train_test_split\n",
    "from sklearn.model_selection import cross_val_score\n",
    "from sklearn.model_selection import ParameterGrid\n",
    "from sklearn.model_selection import GridSearchCV\n",
    "from sklearn.model_selection import RandomizedSearchCV\n",
    "# ------------------------------------------------------------------\n",
    "from sklearn.cluster import KMeans\n",
    "from sklearn.cluster import AffinityPropagation\n",
    "# ------------------------------------------------------------------\n",
    "from sklearn.metrics import silhouette_score, calinski_harabasz_score,davies_bouldin_score\n",
    "from sklearn.metrics import make_scorer, silhouette_samples"
   ]
  },
  {
   "cell_type": "markdown",
   "metadata": {
    "id": "nK9kf3FJhl-x"
   },
   "source": [
    "# Data"
   ]
  },
  {
   "cell_type": "code",
   "execution_count": 22,
   "metadata": {
    "id": "e7T60koUhdYB"
   },
   "outputs": [],
   "source": [
    "df = pd.read_csv(\"D:\\_Dev\\_Group Project\\Affinity-Propagation-ML-UEH\\Data\\Shopping Mall Customer Segmentation Data (Base)\\data_preprocessed.csv\")"
   ]
  },
  {
   "cell_type": "code",
   "execution_count": 23,
   "metadata": {
    "colab": {
     "base_uri": "https://localhost:8080/",
     "height": 206
    },
    "executionInfo": {
     "elapsed": 48,
     "status": "ok",
     "timestamp": 1745739497516,
     "user": {
      "displayName": "CƯỜNG ĐẶNG XUÂN",
      "userId": "00956941829870484129"
     },
     "user_tz": -420
    },
    "id": "PO2y0vMBhhWQ",
    "outputId": "5a28e44b-032c-452b-8d67-1d3b0664c906"
   },
   "outputs": [
    {
     "data": {
      "text/html": [
       "<div>\n",
       "<style scoped>\n",
       "    .dataframe tbody tr th:only-of-type {\n",
       "        vertical-align: middle;\n",
       "    }\n",
       "\n",
       "    .dataframe tbody tr th {\n",
       "        vertical-align: top;\n",
       "    }\n",
       "\n",
       "    .dataframe thead th {\n",
       "        text-align: right;\n",
       "    }\n",
       "</style>\n",
       "<table border=\"1\" class=\"dataframe\">\n",
       "  <thead>\n",
       "    <tr style=\"text-align: right;\">\n",
       "      <th></th>\n",
       "      <th>Unnamed: 0</th>\n",
       "      <th>customer_id</th>\n",
       "      <th>age</th>\n",
       "      <th>annual_income</th>\n",
       "      <th>spending_score</th>\n",
       "      <th>gender_Female</th>\n",
       "    </tr>\n",
       "  </thead>\n",
       "  <tbody>\n",
       "    <tr>\n",
       "      <th>0</th>\n",
       "      <td>0</td>\n",
       "      <td>d410ea53-6661-42a9-ad3a-f554b05fd2a7</td>\n",
       "      <td>-1.145516</td>\n",
       "      <td>0.798813</td>\n",
       "      <td>1.337059</td>\n",
       "      <td>0.0</td>\n",
       "    </tr>\n",
       "    <tr>\n",
       "      <th>1</th>\n",
       "      <td>1</td>\n",
       "      <td>1770b26f-493f-46b6-837f-4237fb5a314e</td>\n",
       "      <td>0.180335</td>\n",
       "      <td>1.442076</td>\n",
       "      <td>1.545929</td>\n",
       "      <td>1.0</td>\n",
       "    </tr>\n",
       "    <tr>\n",
       "      <th>2</th>\n",
       "      <td>2</td>\n",
       "      <td>e81aa8eb-1767-4b77-87ce-1620dc732c5e</td>\n",
       "      <td>0.369742</td>\n",
       "      <td>-0.743208</td>\n",
       "      <td>0.884507</td>\n",
       "      <td>1.0</td>\n",
       "    </tr>\n",
       "    <tr>\n",
       "      <th>3</th>\n",
       "      <td>3</td>\n",
       "      <td>9795712a-ad19-47bf-8886-4f997d6046e3</td>\n",
       "      <td>-1.476979</td>\n",
       "      <td>-1.038953</td>\n",
       "      <td>0.223086</td>\n",
       "      <td>0.0</td>\n",
       "    </tr>\n",
       "    <tr>\n",
       "      <th>4</th>\n",
       "      <td>4</td>\n",
       "      <td>64139426-2226-4cd6-bf09-91bce4b4db5e</td>\n",
       "      <td>-1.429627</td>\n",
       "      <td>0.842317</td>\n",
       "      <td>0.884507</td>\n",
       "      <td>0.0</td>\n",
       "    </tr>\n",
       "  </tbody>\n",
       "</table>\n",
       "</div>"
      ],
      "text/plain": [
       "   Unnamed: 0                           customer_id       age  annual_income  \\\n",
       "0           0  d410ea53-6661-42a9-ad3a-f554b05fd2a7 -1.145516       0.798813   \n",
       "1           1  1770b26f-493f-46b6-837f-4237fb5a314e  0.180335       1.442076   \n",
       "2           2  e81aa8eb-1767-4b77-87ce-1620dc732c5e  0.369742      -0.743208   \n",
       "3           3  9795712a-ad19-47bf-8886-4f997d6046e3 -1.476979      -1.038953   \n",
       "4           4  64139426-2226-4cd6-bf09-91bce4b4db5e -1.429627       0.842317   \n",
       "\n",
       "   spending_score  gender_Female  \n",
       "0        1.337059            0.0  \n",
       "1        1.545929            1.0  \n",
       "2        0.884507            1.0  \n",
       "3        0.223086            0.0  \n",
       "4        0.884507            0.0  "
      ]
     },
     "execution_count": 23,
     "metadata": {},
     "output_type": "execute_result"
    }
   ],
   "source": [
    "df.head()"
   ]
  },
  {
   "cell_type": "code",
   "execution_count": 24,
   "metadata": {},
   "outputs": [],
   "source": [
    "data = df.drop(columns=[\"customer_id\",],axis=1,)"
   ]
  },
  {
   "cell_type": "code",
   "execution_count": 25,
   "metadata": {
    "id": "8besrod7aFLM"
   },
   "outputs": [
    {
     "data": {
      "text/html": [
       "<div>\n",
       "<style scoped>\n",
       "    .dataframe tbody tr th:only-of-type {\n",
       "        vertical-align: middle;\n",
       "    }\n",
       "\n",
       "    .dataframe tbody tr th {\n",
       "        vertical-align: top;\n",
       "    }\n",
       "\n",
       "    .dataframe thead th {\n",
       "        text-align: right;\n",
       "    }\n",
       "</style>\n",
       "<table border=\"1\" class=\"dataframe\">\n",
       "  <thead>\n",
       "    <tr style=\"text-align: right;\">\n",
       "      <th></th>\n",
       "      <th>Unnamed: 0</th>\n",
       "      <th>age</th>\n",
       "      <th>annual_income</th>\n",
       "      <th>spending_score</th>\n",
       "      <th>gender_Female</th>\n",
       "    </tr>\n",
       "  </thead>\n",
       "  <tbody>\n",
       "    <tr>\n",
       "      <th>0</th>\n",
       "      <td>0</td>\n",
       "      <td>-1.145516</td>\n",
       "      <td>0.798813</td>\n",
       "      <td>1.337059</td>\n",
       "      <td>0.0</td>\n",
       "    </tr>\n",
       "    <tr>\n",
       "      <th>1</th>\n",
       "      <td>1</td>\n",
       "      <td>0.180335</td>\n",
       "      <td>1.442076</td>\n",
       "      <td>1.545929</td>\n",
       "      <td>1.0</td>\n",
       "    </tr>\n",
       "    <tr>\n",
       "      <th>2</th>\n",
       "      <td>2</td>\n",
       "      <td>0.369742</td>\n",
       "      <td>-0.743208</td>\n",
       "      <td>0.884507</td>\n",
       "      <td>1.0</td>\n",
       "    </tr>\n",
       "    <tr>\n",
       "      <th>3</th>\n",
       "      <td>3</td>\n",
       "      <td>-1.476979</td>\n",
       "      <td>-1.038953</td>\n",
       "      <td>0.223086</td>\n",
       "      <td>0.0</td>\n",
       "    </tr>\n",
       "    <tr>\n",
       "      <th>4</th>\n",
       "      <td>4</td>\n",
       "      <td>-1.429627</td>\n",
       "      <td>0.842317</td>\n",
       "      <td>0.884507</td>\n",
       "      <td>0.0</td>\n",
       "    </tr>\n",
       "  </tbody>\n",
       "</table>\n",
       "</div>"
      ],
      "text/plain": [
       "   Unnamed: 0       age  annual_income  spending_score  gender_Female\n",
       "0           0 -1.145516       0.798813        1.337059            0.0\n",
       "1           1  0.180335       1.442076        1.545929            1.0\n",
       "2           2  0.369742      -0.743208        0.884507            1.0\n",
       "3           3 -1.476979      -1.038953        0.223086            0.0\n",
       "4           4 -1.429627       0.842317        0.884507            0.0"
      ]
     },
     "execution_count": 25,
     "metadata": {},
     "output_type": "execute_result"
    }
   ],
   "source": [
    "X = data.copy()\n",
    "X.head()"
   ]
  },
  {
   "cell_type": "markdown",
   "metadata": {
    "id": "ukDHFXC3lckO"
   },
   "source": [
    "# Áp Dụng"
   ]
  },
  {
   "cell_type": "markdown",
   "metadata": {
    "id": "N2n74qbit-DY"
   },
   "source": [
    "## AP"
   ]
  },
  {
   "cell_type": "markdown",
   "metadata": {
    "id": "-DOdCbg-mKZ5"
   },
   "source": [
    "### 1. Tham số thuật toán\n",
    "\n",
    "```\n",
    "preference\n",
    "damping\n",
    "```\n",
    "=> Tập trung tối ưu vào damping và preference"
   ]
  },
  {
   "cell_type": "code",
   "execution_count": 36,
   "metadata": {
    "colab": {
     "base_uri": "https://localhost:8080/",
     "height": 80
    },
    "executionInfo": {
     "elapsed": 744,
     "status": "ok",
     "timestamp": 1745741341851,
     "user": {
      "displayName": "CƯỜNG ĐẶNG XUÂN",
      "userId": "00956941829870484129"
     },
     "user_tz": -420
    },
    "id": "6VtYNF2-jyKi",
    "outputId": "d0082a92-7562-45f9-bc6a-9b386d1d8b6a"
   },
   "outputs": [
    {
     "data": {
      "text/html": [
       "<style>#sk-container-id-5 {\n",
       "  /* Definition of color scheme common for light and dark mode */\n",
       "  --sklearn-color-text: #000;\n",
       "  --sklearn-color-text-muted: #666;\n",
       "  --sklearn-color-line: gray;\n",
       "  /* Definition of color scheme for unfitted estimators */\n",
       "  --sklearn-color-unfitted-level-0: #fff5e6;\n",
       "  --sklearn-color-unfitted-level-1: #f6e4d2;\n",
       "  --sklearn-color-unfitted-level-2: #ffe0b3;\n",
       "  --sklearn-color-unfitted-level-3: chocolate;\n",
       "  /* Definition of color scheme for fitted estimators */\n",
       "  --sklearn-color-fitted-level-0: #f0f8ff;\n",
       "  --sklearn-color-fitted-level-1: #d4ebff;\n",
       "  --sklearn-color-fitted-level-2: #b3dbfd;\n",
       "  --sklearn-color-fitted-level-3: cornflowerblue;\n",
       "\n",
       "  /* Specific color for light theme */\n",
       "  --sklearn-color-text-on-default-background: var(--sg-text-color, var(--theme-code-foreground, var(--jp-content-font-color1, black)));\n",
       "  --sklearn-color-background: var(--sg-background-color, var(--theme-background, var(--jp-layout-color0, white)));\n",
       "  --sklearn-color-border-box: var(--sg-text-color, var(--theme-code-foreground, var(--jp-content-font-color1, black)));\n",
       "  --sklearn-color-icon: #696969;\n",
       "\n",
       "  @media (prefers-color-scheme: dark) {\n",
       "    /* Redefinition of color scheme for dark theme */\n",
       "    --sklearn-color-text-on-default-background: var(--sg-text-color, var(--theme-code-foreground, var(--jp-content-font-color1, white)));\n",
       "    --sklearn-color-background: var(--sg-background-color, var(--theme-background, var(--jp-layout-color0, #111)));\n",
       "    --sklearn-color-border-box: var(--sg-text-color, var(--theme-code-foreground, var(--jp-content-font-color1, white)));\n",
       "    --sklearn-color-icon: #878787;\n",
       "  }\n",
       "}\n",
       "\n",
       "#sk-container-id-5 {\n",
       "  color: var(--sklearn-color-text);\n",
       "}\n",
       "\n",
       "#sk-container-id-5 pre {\n",
       "  padding: 0;\n",
       "}\n",
       "\n",
       "#sk-container-id-5 input.sk-hidden--visually {\n",
       "  border: 0;\n",
       "  clip: rect(1px 1px 1px 1px);\n",
       "  clip: rect(1px, 1px, 1px, 1px);\n",
       "  height: 1px;\n",
       "  margin: -1px;\n",
       "  overflow: hidden;\n",
       "  padding: 0;\n",
       "  position: absolute;\n",
       "  width: 1px;\n",
       "}\n",
       "\n",
       "#sk-container-id-5 div.sk-dashed-wrapped {\n",
       "  border: 1px dashed var(--sklearn-color-line);\n",
       "  margin: 0 0.4em 0.5em 0.4em;\n",
       "  box-sizing: border-box;\n",
       "  padding-bottom: 0.4em;\n",
       "  background-color: var(--sklearn-color-background);\n",
       "}\n",
       "\n",
       "#sk-container-id-5 div.sk-container {\n",
       "  /* jupyter's `normalize.less` sets `[hidden] { display: none; }`\n",
       "     but bootstrap.min.css set `[hidden] { display: none !important; }`\n",
       "     so we also need the `!important` here to be able to override the\n",
       "     default hidden behavior on the sphinx rendered scikit-learn.org.\n",
       "     See: https://github.com/scikit-learn/scikit-learn/issues/21755 */\n",
       "  display: inline-block !important;\n",
       "  position: relative;\n",
       "}\n",
       "\n",
       "#sk-container-id-5 div.sk-text-repr-fallback {\n",
       "  display: none;\n",
       "}\n",
       "\n",
       "div.sk-parallel-item,\n",
       "div.sk-serial,\n",
       "div.sk-item {\n",
       "  /* draw centered vertical line to link estimators */\n",
       "  background-image: linear-gradient(var(--sklearn-color-text-on-default-background), var(--sklearn-color-text-on-default-background));\n",
       "  background-size: 2px 100%;\n",
       "  background-repeat: no-repeat;\n",
       "  background-position: center center;\n",
       "}\n",
       "\n",
       "/* Parallel-specific style estimator block */\n",
       "\n",
       "#sk-container-id-5 div.sk-parallel-item::after {\n",
       "  content: \"\";\n",
       "  width: 100%;\n",
       "  border-bottom: 2px solid var(--sklearn-color-text-on-default-background);\n",
       "  flex-grow: 1;\n",
       "}\n",
       "\n",
       "#sk-container-id-5 div.sk-parallel {\n",
       "  display: flex;\n",
       "  align-items: stretch;\n",
       "  justify-content: center;\n",
       "  background-color: var(--sklearn-color-background);\n",
       "  position: relative;\n",
       "}\n",
       "\n",
       "#sk-container-id-5 div.sk-parallel-item {\n",
       "  display: flex;\n",
       "  flex-direction: column;\n",
       "}\n",
       "\n",
       "#sk-container-id-5 div.sk-parallel-item:first-child::after {\n",
       "  align-self: flex-end;\n",
       "  width: 50%;\n",
       "}\n",
       "\n",
       "#sk-container-id-5 div.sk-parallel-item:last-child::after {\n",
       "  align-self: flex-start;\n",
       "  width: 50%;\n",
       "}\n",
       "\n",
       "#sk-container-id-5 div.sk-parallel-item:only-child::after {\n",
       "  width: 0;\n",
       "}\n",
       "\n",
       "/* Serial-specific style estimator block */\n",
       "\n",
       "#sk-container-id-5 div.sk-serial {\n",
       "  display: flex;\n",
       "  flex-direction: column;\n",
       "  align-items: center;\n",
       "  background-color: var(--sklearn-color-background);\n",
       "  padding-right: 1em;\n",
       "  padding-left: 1em;\n",
       "}\n",
       "\n",
       "\n",
       "/* Toggleable style: style used for estimator/Pipeline/ColumnTransformer box that is\n",
       "clickable and can be expanded/collapsed.\n",
       "- Pipeline and ColumnTransformer use this feature and define the default style\n",
       "- Estimators will overwrite some part of the style using the `sk-estimator` class\n",
       "*/\n",
       "\n",
       "/* Pipeline and ColumnTransformer style (default) */\n",
       "\n",
       "#sk-container-id-5 div.sk-toggleable {\n",
       "  /* Default theme specific background. It is overwritten whether we have a\n",
       "  specific estimator or a Pipeline/ColumnTransformer */\n",
       "  background-color: var(--sklearn-color-background);\n",
       "}\n",
       "\n",
       "/* Toggleable label */\n",
       "#sk-container-id-5 label.sk-toggleable__label {\n",
       "  cursor: pointer;\n",
       "  display: flex;\n",
       "  width: 100%;\n",
       "  margin-bottom: 0;\n",
       "  padding: 0.5em;\n",
       "  box-sizing: border-box;\n",
       "  text-align: center;\n",
       "  align-items: start;\n",
       "  justify-content: space-between;\n",
       "  gap: 0.5em;\n",
       "}\n",
       "\n",
       "#sk-container-id-5 label.sk-toggleable__label .caption {\n",
       "  font-size: 0.6rem;\n",
       "  font-weight: lighter;\n",
       "  color: var(--sklearn-color-text-muted);\n",
       "}\n",
       "\n",
       "#sk-container-id-5 label.sk-toggleable__label-arrow:before {\n",
       "  /* Arrow on the left of the label */\n",
       "  content: \"▸\";\n",
       "  float: left;\n",
       "  margin-right: 0.25em;\n",
       "  color: var(--sklearn-color-icon);\n",
       "}\n",
       "\n",
       "#sk-container-id-5 label.sk-toggleable__label-arrow:hover:before {\n",
       "  color: var(--sklearn-color-text);\n",
       "}\n",
       "\n",
       "/* Toggleable content - dropdown */\n",
       "\n",
       "#sk-container-id-5 div.sk-toggleable__content {\n",
       "  max-height: 0;\n",
       "  max-width: 0;\n",
       "  overflow: hidden;\n",
       "  text-align: left;\n",
       "  /* unfitted */\n",
       "  background-color: var(--sklearn-color-unfitted-level-0);\n",
       "}\n",
       "\n",
       "#sk-container-id-5 div.sk-toggleable__content.fitted {\n",
       "  /* fitted */\n",
       "  background-color: var(--sklearn-color-fitted-level-0);\n",
       "}\n",
       "\n",
       "#sk-container-id-5 div.sk-toggleable__content pre {\n",
       "  margin: 0.2em;\n",
       "  border-radius: 0.25em;\n",
       "  color: var(--sklearn-color-text);\n",
       "  /* unfitted */\n",
       "  background-color: var(--sklearn-color-unfitted-level-0);\n",
       "}\n",
       "\n",
       "#sk-container-id-5 div.sk-toggleable__content.fitted pre {\n",
       "  /* unfitted */\n",
       "  background-color: var(--sklearn-color-fitted-level-0);\n",
       "}\n",
       "\n",
       "#sk-container-id-5 input.sk-toggleable__control:checked~div.sk-toggleable__content {\n",
       "  /* Expand drop-down */\n",
       "  max-height: 200px;\n",
       "  max-width: 100%;\n",
       "  overflow: auto;\n",
       "}\n",
       "\n",
       "#sk-container-id-5 input.sk-toggleable__control:checked~label.sk-toggleable__label-arrow:before {\n",
       "  content: \"▾\";\n",
       "}\n",
       "\n",
       "/* Pipeline/ColumnTransformer-specific style */\n",
       "\n",
       "#sk-container-id-5 div.sk-label input.sk-toggleable__control:checked~label.sk-toggleable__label {\n",
       "  color: var(--sklearn-color-text);\n",
       "  background-color: var(--sklearn-color-unfitted-level-2);\n",
       "}\n",
       "\n",
       "#sk-container-id-5 div.sk-label.fitted input.sk-toggleable__control:checked~label.sk-toggleable__label {\n",
       "  background-color: var(--sklearn-color-fitted-level-2);\n",
       "}\n",
       "\n",
       "/* Estimator-specific style */\n",
       "\n",
       "/* Colorize estimator box */\n",
       "#sk-container-id-5 div.sk-estimator input.sk-toggleable__control:checked~label.sk-toggleable__label {\n",
       "  /* unfitted */\n",
       "  background-color: var(--sklearn-color-unfitted-level-2);\n",
       "}\n",
       "\n",
       "#sk-container-id-5 div.sk-estimator.fitted input.sk-toggleable__control:checked~label.sk-toggleable__label {\n",
       "  /* fitted */\n",
       "  background-color: var(--sklearn-color-fitted-level-2);\n",
       "}\n",
       "\n",
       "#sk-container-id-5 div.sk-label label.sk-toggleable__label,\n",
       "#sk-container-id-5 div.sk-label label {\n",
       "  /* The background is the default theme color */\n",
       "  color: var(--sklearn-color-text-on-default-background);\n",
       "}\n",
       "\n",
       "/* On hover, darken the color of the background */\n",
       "#sk-container-id-5 div.sk-label:hover label.sk-toggleable__label {\n",
       "  color: var(--sklearn-color-text);\n",
       "  background-color: var(--sklearn-color-unfitted-level-2);\n",
       "}\n",
       "\n",
       "/* Label box, darken color on hover, fitted */\n",
       "#sk-container-id-5 div.sk-label.fitted:hover label.sk-toggleable__label.fitted {\n",
       "  color: var(--sklearn-color-text);\n",
       "  background-color: var(--sklearn-color-fitted-level-2);\n",
       "}\n",
       "\n",
       "/* Estimator label */\n",
       "\n",
       "#sk-container-id-5 div.sk-label label {\n",
       "  font-family: monospace;\n",
       "  font-weight: bold;\n",
       "  display: inline-block;\n",
       "  line-height: 1.2em;\n",
       "}\n",
       "\n",
       "#sk-container-id-5 div.sk-label-container {\n",
       "  text-align: center;\n",
       "}\n",
       "\n",
       "/* Estimator-specific */\n",
       "#sk-container-id-5 div.sk-estimator {\n",
       "  font-family: monospace;\n",
       "  border: 1px dotted var(--sklearn-color-border-box);\n",
       "  border-radius: 0.25em;\n",
       "  box-sizing: border-box;\n",
       "  margin-bottom: 0.5em;\n",
       "  /* unfitted */\n",
       "  background-color: var(--sklearn-color-unfitted-level-0);\n",
       "}\n",
       "\n",
       "#sk-container-id-5 div.sk-estimator.fitted {\n",
       "  /* fitted */\n",
       "  background-color: var(--sklearn-color-fitted-level-0);\n",
       "}\n",
       "\n",
       "/* on hover */\n",
       "#sk-container-id-5 div.sk-estimator:hover {\n",
       "  /* unfitted */\n",
       "  background-color: var(--sklearn-color-unfitted-level-2);\n",
       "}\n",
       "\n",
       "#sk-container-id-5 div.sk-estimator.fitted:hover {\n",
       "  /* fitted */\n",
       "  background-color: var(--sklearn-color-fitted-level-2);\n",
       "}\n",
       "\n",
       "/* Specification for estimator info (e.g. \"i\" and \"?\") */\n",
       "\n",
       "/* Common style for \"i\" and \"?\" */\n",
       "\n",
       ".sk-estimator-doc-link,\n",
       "a:link.sk-estimator-doc-link,\n",
       "a:visited.sk-estimator-doc-link {\n",
       "  float: right;\n",
       "  font-size: smaller;\n",
       "  line-height: 1em;\n",
       "  font-family: monospace;\n",
       "  background-color: var(--sklearn-color-background);\n",
       "  border-radius: 1em;\n",
       "  height: 1em;\n",
       "  width: 1em;\n",
       "  text-decoration: none !important;\n",
       "  margin-left: 0.5em;\n",
       "  text-align: center;\n",
       "  /* unfitted */\n",
       "  border: var(--sklearn-color-unfitted-level-1) 1pt solid;\n",
       "  color: var(--sklearn-color-unfitted-level-1);\n",
       "}\n",
       "\n",
       ".sk-estimator-doc-link.fitted,\n",
       "a:link.sk-estimator-doc-link.fitted,\n",
       "a:visited.sk-estimator-doc-link.fitted {\n",
       "  /* fitted */\n",
       "  border: var(--sklearn-color-fitted-level-1) 1pt solid;\n",
       "  color: var(--sklearn-color-fitted-level-1);\n",
       "}\n",
       "\n",
       "/* On hover */\n",
       "div.sk-estimator:hover .sk-estimator-doc-link:hover,\n",
       ".sk-estimator-doc-link:hover,\n",
       "div.sk-label-container:hover .sk-estimator-doc-link:hover,\n",
       ".sk-estimator-doc-link:hover {\n",
       "  /* unfitted */\n",
       "  background-color: var(--sklearn-color-unfitted-level-3);\n",
       "  color: var(--sklearn-color-background);\n",
       "  text-decoration: none;\n",
       "}\n",
       "\n",
       "div.sk-estimator.fitted:hover .sk-estimator-doc-link.fitted:hover,\n",
       ".sk-estimator-doc-link.fitted:hover,\n",
       "div.sk-label-container:hover .sk-estimator-doc-link.fitted:hover,\n",
       ".sk-estimator-doc-link.fitted:hover {\n",
       "  /* fitted */\n",
       "  background-color: var(--sklearn-color-fitted-level-3);\n",
       "  color: var(--sklearn-color-background);\n",
       "  text-decoration: none;\n",
       "}\n",
       "\n",
       "/* Span, style for the box shown on hovering the info icon */\n",
       ".sk-estimator-doc-link span {\n",
       "  display: none;\n",
       "  z-index: 9999;\n",
       "  position: relative;\n",
       "  font-weight: normal;\n",
       "  right: .2ex;\n",
       "  padding: .5ex;\n",
       "  margin: .5ex;\n",
       "  width: min-content;\n",
       "  min-width: 20ex;\n",
       "  max-width: 50ex;\n",
       "  color: var(--sklearn-color-text);\n",
       "  box-shadow: 2pt 2pt 4pt #999;\n",
       "  /* unfitted */\n",
       "  background: var(--sklearn-color-unfitted-level-0);\n",
       "  border: .5pt solid var(--sklearn-color-unfitted-level-3);\n",
       "}\n",
       "\n",
       ".sk-estimator-doc-link.fitted span {\n",
       "  /* fitted */\n",
       "  background: var(--sklearn-color-fitted-level-0);\n",
       "  border: var(--sklearn-color-fitted-level-3);\n",
       "}\n",
       "\n",
       ".sk-estimator-doc-link:hover span {\n",
       "  display: block;\n",
       "}\n",
       "\n",
       "/* \"?\"-specific style due to the `<a>` HTML tag */\n",
       "\n",
       "#sk-container-id-5 a.estimator_doc_link {\n",
       "  float: right;\n",
       "  font-size: 1rem;\n",
       "  line-height: 1em;\n",
       "  font-family: monospace;\n",
       "  background-color: var(--sklearn-color-background);\n",
       "  border-radius: 1rem;\n",
       "  height: 1rem;\n",
       "  width: 1rem;\n",
       "  text-decoration: none;\n",
       "  /* unfitted */\n",
       "  color: var(--sklearn-color-unfitted-level-1);\n",
       "  border: var(--sklearn-color-unfitted-level-1) 1pt solid;\n",
       "}\n",
       "\n",
       "#sk-container-id-5 a.estimator_doc_link.fitted {\n",
       "  /* fitted */\n",
       "  border: var(--sklearn-color-fitted-level-1) 1pt solid;\n",
       "  color: var(--sklearn-color-fitted-level-1);\n",
       "}\n",
       "\n",
       "/* On hover */\n",
       "#sk-container-id-5 a.estimator_doc_link:hover {\n",
       "  /* unfitted */\n",
       "  background-color: var(--sklearn-color-unfitted-level-3);\n",
       "  color: var(--sklearn-color-background);\n",
       "  text-decoration: none;\n",
       "}\n",
       "\n",
       "#sk-container-id-5 a.estimator_doc_link.fitted:hover {\n",
       "  /* fitted */\n",
       "  background-color: var(--sklearn-color-fitted-level-3);\n",
       "}\n",
       "</style><div id=\"sk-container-id-5\" class=\"sk-top-container\"><div class=\"sk-text-repr-fallback\"><pre>AffinityPropagation(damping=0.7, preference=-500.0, random_state=42)</pre><b>In a Jupyter environment, please rerun this cell to show the HTML representation or trust the notebook. <br />On GitHub, the HTML representation is unable to render, please try loading this page with nbviewer.org.</b></div><div class=\"sk-container\" hidden><div class=\"sk-item\"><div class=\"sk-estimator fitted sk-toggleable\"><input class=\"sk-toggleable__control sk-hidden--visually\" id=\"sk-estimator-id-5\" type=\"checkbox\" checked><label for=\"sk-estimator-id-5\" class=\"sk-toggleable__label fitted sk-toggleable__label-arrow\"><div><div>AffinityPropagation</div></div><div><a class=\"sk-estimator-doc-link fitted\" rel=\"noreferrer\" target=\"_blank\" href=\"https://scikit-learn.org/1.6/modules/generated/sklearn.cluster.AffinityPropagation.html\">?<span>Documentation for AffinityPropagation</span></a><span class=\"sk-estimator-doc-link fitted\">i<span>Fitted</span></span></div></label><div class=\"sk-toggleable__content fitted\"><pre>AffinityPropagation(damping=0.7, preference=-500.0, random_state=42)</pre></div> </div></div></div></div>"
      ],
      "text/plain": [
       "AffinityPropagation(damping=0.7, preference=-500.0, random_state=42)"
      ]
     },
     "execution_count": 36,
     "metadata": {},
     "output_type": "execute_result"
    }
   ],
   "source": [
    "ap = AffinityPropagation(random_state=42, damping=0.7, preference=-500.000)\n",
    "ap.fit(X)"
   ]
  },
  {
   "cell_type": "markdown",
   "metadata": {
    "id": "zlPbVHTzneHk"
   },
   "source": [
    "### 2. Biểu diễn phân cụm"
   ]
  },
  {
   "cell_type": "code",
   "execution_count": 37,
   "metadata": {
    "colab": {
     "base_uri": "https://localhost:8080/",
     "height": 686
    },
    "executionInfo": {
     "elapsed": 341,
     "status": "ok",
     "timestamp": 1745741087041,
     "user": {
      "displayName": "CƯỜNG ĐẶNG XUÂN",
      "userId": "00956941829870484129"
     },
     "user_tz": -420
    },
    "id": "NUs2757XmCzT",
    "outputId": "e6cde68c-8dc9-4dee-c8d1-36b0f1d83dcf"
   },
   "outputs": [
    {
     "data": {
      "image/png": "[encoded data removed]",
      "text/plain": [
       "<Figure size 1600x600 with 1 Axes>"
      ]
     },
     "metadata": {},
     "output_type": "display_data"
    }
   ],
   "source": [
    "# Giảm số chiều về 2\n",
    "X_2d = PCA(n_components=2).fit_transform(X)\n",
    "\n",
    "labels = ap.labels_\n",
    "exemplars = ap.cluster_centers_indices_\n",
    "\n",
    "plt.figure(figsize=(16, 6))\n",
    "for cluster in set(labels):\n",
    "    plt.scatter(\n",
    "        X_2d[labels == cluster, 0],\n",
    "        X_2d[labels == cluster, 1],\n",
    "        label=f\"Cluster {cluster}\",\n",
    "    )\n",
    "plt.scatter(\n",
    "    X_2d[exemplars, 0],\n",
    "    X_2d[exemplars, 1],\n",
    "    c=\"black\",\n",
    "    marker=\"x\",\n",
    "    s=250,\n",
    "    label=\"Exemplars\",\n",
    "    edgecolors=\"white\",\n",
    ")\n",
    "plt.legend()\n",
    "plt.title(\"Affinity Propagation Clustering\")\n",
    "plt.show()"
   ]
  },
  {
   "cell_type": "markdown",
   "metadata": {
    "id": "PptI1DAZFj1j"
   },
   "source": [
    "# Hyperparameter Optimization"
   ]
  },
  {
   "cell_type": "markdown",
   "metadata": {
    "id": "C37aWFLyovxS"
   },
   "source": [
    "### 1. Grid Search"
   ]
  },
  {
   "cell_type": "code",
   "execution_count": 28,
   "metadata": {
    "colab": {
     "base_uri": "https://localhost:8080/"
    },
    "executionInfo": {
     "elapsed": 156383,
     "status": "ok",
     "timestamp": 1745740217788,
     "user": {
      "displayName": "CƯỜNG ĐẶNG XUÂN",
      "userId": "00956941829870484129"
     },
     "user_tz": -420
    },
    "id": "QFYA8TBgzjJX",
    "outputId": "6e618f78-262a-4210-fd11-a86e0f642bf7"
   },
   "outputs": [],
   "source": [
    "# Grid Search Space\n",
    "param_grid = {\n",
    "    \"damping\": np.linspace(0.5, 0.9, 5),\n",
    "    \"preference\": np.linspace(-500, 0, 100),\n",
    "}\n",
    "grid = ParameterGrid(param_grid)\n",
    "\n",
    "# Khởi tạo biến lưu trữ kết quả tốt nhất\n",
    "best_score = -1\n",
    "best_params = None\n",
    "best_model = None\n",
    "best_labels = None\n",
    "best_n_clusters = None\n",
    "\n",
    "# Thực hiện Grid Search\n",
    "for params in grid:\n",
    "    model = AffinityPropagation(\n",
    "        damping=params[\"damping\"], preference=params[\"preference\"], random_state=42\n",
    "    )\n",
    "    labels = model.fit_predict(X)\n",
    "\n",
    "    n_clusters = len(set(labels))\n",
    "    if n_clusters <= 1 or n_clusters >= len(X):\n",
    "        continue  # Bỏ qua các trường hợp không hợp lệ\n",
    "\n",
    "    score = silhouette_score(X, labels)\n",
    "\n",
    "    if score > best_score:\n",
    "        best_score = score\n",
    "        best_params = params\n",
    "        best_model = model\n",
    "        best_labels = labels\n",
    "        best_n_clusters = n_clusters\n",
    "\n",
    "# Tính các chỉ số đánh giá\n",
    "silhouette_ap = silhouette_score(X, best_labels)\n",
    "davies_bouldin_ap = davies_bouldin_score(X, best_labels)\n",
    "calinski_harabasz_ap = calinski_harabasz_score(X, best_labels)"
   ]
  },
  {
   "cell_type": "code",
   "execution_count": 29,
   "metadata": {},
   "outputs": [
    {
     "name": "stdout",
     "output_type": "stream",
     "text": [
      "[Grid Search] Affinity Propagation:\n",
      "- Số lượng cụm: 72\n",
      "- Silhouette Score: 0.432\n",
      "- Davies Bouldin Score: 0.581\n",
      "- Calinski Harabasz Score: 54108.842\n",
      "- Tham số tối ưu:\n",
      "\t+ Damping: 0.700\n",
      "\t+ Preference: -500.000\n"
     ]
    }
   ],
   "source": [
    "print(\"[Grid Search] Affinity Propagation:\")\n",
    "print(f\"- Số lượng cụm: {best_n_clusters}\")\n",
    "print(f\"- Silhouette Score: {silhouette_ap:.3f}\")\n",
    "print(f\"- Davies Bouldin Score: {davies_bouldin_ap:.3f}\")\n",
    "print(f\"- Calinski Harabasz Score: {calinski_harabasz_ap:.3f}\")\n",
    "print(f\"- Tham số tối ưu:\")\n",
    "print(f\"\\t+ Damping: {best_params['damping']:.3f}\")\n",
    "print(f\"\\t+ Preference: {best_params['preference']:.3f}\")"
   ]
  },
  {
   "cell_type": "markdown",
   "metadata": {
    "id": "fNOqiNK_sk3E"
   },
   "source": [
    "### 2. Hyperopt"
   ]
  },
  {
   "cell_type": "code",
   "execution_count": 30,
   "metadata": {
    "id": "BLmX7QcWsn0j"
   },
   "outputs": [
    {
     "name": "stdout",
     "output_type": "stream",
     "text": [
      "100%|██████████| 100/100 [00:42<00:00,  2.38trial/s, best loss: -0.4099386233756937]\n"
     ]
    }
   ],
   "source": [
    "# Xây dựng không gian tìm kiếm\n",
    "space = {\n",
    "    \"damping\": hp.uniform(\"damping\", 0.5, 0.9),\n",
    "    \"preference\": hp.uniform(\"preference\", -300, 0),\n",
    "}\n",
    "\n",
    "\n",
    "# Hàm mục tiêu cần tối ưu\n",
    "def objective(params):\n",
    "    model = AffinityPropagation(\n",
    "        damping=params[\"damping\"], preference=params[\"preference\"], random_state=42\n",
    "    )\n",
    "    labels = model.fit_predict(X)\n",
    "\n",
    "    n_clusters = len(set(labels))\n",
    "    if n_clusters <= 1 or n_clusters >= len(X):\n",
    "        return {\"loss\": 1, \"status\": STATUS_OK}  # Loss cao nếu cụm không hợp lệ\n",
    "\n",
    "    score = silhouette_score(X, labels)\n",
    "    return {\n",
    "        \"loss\": -score,\n",
    "        \"status\": STATUS_OK,\n",
    "        \"params\": params,\n",
    "        \"n_clusters\": n_clusters,\n",
    "    }\n",
    "\n",
    "\n",
    "# Thực hiện tối ưu\n",
    "trials = Trials()\n",
    "best = fmin(fn=objective, space=space, algo=tpe.suggest, max_evals=100, trials=trials)\n",
    "\n",
    "# Thực hiện mô hình với tham số tốt nhất\n",
    "best_model = AffinityPropagation(\n",
    "    damping=best[\"damping\"], preference=best[\"preference\"], random_state=42\n",
    ")\n",
    "best_labels = best_model.fit_predict(X)\n",
    "best_n_clusters = len(set(best_labels))\n",
    "\n",
    "# Tính các chỉ số\n",
    "silhouette_ap = silhouette_score(X, best_labels)\n",
    "davies_bouldin_ap = davies_bouldin_score(X, best_labels)\n",
    "calinski_harabasz_ap = calinski_harabasz_score(X, best_labels)"
   ]
  },
  {
   "cell_type": "code",
   "execution_count": 31,
   "metadata": {},
   "outputs": [
    {
     "name": "stdout",
     "output_type": "stream",
     "text": [
      "[Hyperopt] Affinity Propagation:\n",
      "- Số lượng cụm: 88\n",
      "- Silhouette Score: 0.410\n",
      "- Davies Bouldin Score: 0.611\n",
      "- Calinski Harabasz Score: 61114.678\n",
      "- Tham số tối ưu:\n",
      "\t+ Damping: 0.567\n",
      "\t+ Preference: -299.287\n"
     ]
    }
   ],
   "source": [
    "print(\"[Hyperopt] Affinity Propagation:\")\n",
    "print(f\"- Số lượng cụm: {best_n_clusters}\")\n",
    "print(f\"- Silhouette Score: {silhouette_ap:.3f}\")\n",
    "print(f\"- Davies Bouldin Score: {davies_bouldin_ap:.3f}\")\n",
    "print(f\"- Calinski Harabasz Score: {calinski_harabasz_ap:.3f}\")\n",
    "print(f\"- Tham số tối ưu:\")\n",
    "print(f\"\\t+ Damping: {best['damping']:.3f}\")\n",
    "print(f\"\\t+ Preference: {best['preference']:.3f}\")"
   ]
  },
  {
   "cell_type": "markdown",
   "metadata": {},
   "source": [
    "### 3. Optuna"
   ]
  },
  {
   "cell_type": "markdown",
   "metadata": {},
   "source": [
    "|Tính năng | Ý nghĩa |\n",
    "|---|---|\n",
    "|Sơ đồ dòng tối ưu hóa | Hiểu tổng quan quá trình|\n",
    "|Early Stopping (Pruning) | Tiết kiệm thời gian|\n",
    "|Visualization | Nhìn thấy quá trình tối ưu trực quan|"
   ]
  },
  {
   "cell_type": "code",
   "execution_count": 32,
   "metadata": {},
   "outputs": [
    {
     "name": "stderr",
     "output_type": "stream",
     "text": [
      "[I 2025-05-06 20:00:38,346] A new study created in memory with name: no-name-ee161c25-6b9a-4db2-859b-309083a66228\n",
      "[I 2025-05-06 20:00:38,798] Trial 0 finished with value: -0.39122384114065717 and parameters: {'damping': 0.8041527997877598, 'preference': -177.88515385985852}. Best is trial 0 with value: -0.39122384114065717.\n",
      "[I 2025-05-06 20:00:39,575] Trial 1 finished with value: -0.39753680126269286 and parameters: {'damping': 0.8890141570796, 'preference': -234.5872386465536}. Best is trial 1 with value: -0.39753680126269286.\n",
      "[I 2025-05-06 20:00:40,234] Trial 2 finished with value: -0.3244471251487356 and parameters: {'damping': 0.7066689150420864, 'preference': -45.779940923988136}. Best is trial 1 with value: -0.39753680126269286.\n",
      "[I 2025-05-06 20:00:40,553] Trial 3 finished with value: -0.38363396565384805 and parameters: {'damping': 0.5227232019531549, 'preference': -160.36800142357512}. Best is trial 1 with value: -0.39753680126269286.\n",
      "[I 2025-05-06 20:00:40,917] Trial 4 finished with value: -0.36955705432569846 and parameters: {'damping': 0.7039644562583504, 'preference': -120.5640415313884}. Best is trial 1 with value: -0.39753680126269286.\n",
      "[I 2025-05-06 20:00:41,277] Trial 5 finished with value: -0.39315337232937336 and parameters: {'damping': 0.6982000477445838, 'preference': -195.41554723046553}. Best is trial 1 with value: -0.39753680126269286.\n",
      "[I 2025-05-06 20:00:41,750] Trial 6 finished with value: -0.36995135551560115 and parameters: {'damping': 0.7989268402142511, 'preference': -125.94830947630135}. Best is trial 1 with value: -0.39753680126269286.\n",
      "[I 2025-05-06 20:00:42,130] Trial 7 finished with value: -0.3853220762082971 and parameters: {'damping': 0.5859061221057434, 'preference': -158.19108141327638}. Best is trial 1 with value: -0.39753680126269286.\n",
      "[I 2025-05-06 20:00:42,456] Trial 8 finished with value: -0.4064178339970412 and parameters: {'damping': 0.6391531966860217, 'preference': -267.23994392487316}. Best is trial 8 with value: -0.4064178339970412.\n",
      "[I 2025-05-06 20:00:42,786] Trial 9 finished with value: -0.38436917891640215 and parameters: {'damping': 0.581551785796043, 'preference': -147.78522032720468}. Best is trial 8 with value: -0.4064178339970412.\n",
      "[I 2025-05-06 20:00:43,165] Trial 10 finished with value: -0.4081075216569071 and parameters: {'damping': 0.6303139620452538, 'preference': -296.0984187178792}. Best is trial 10 with value: -0.4081075216569071.\n",
      "[I 2025-05-06 20:00:43,479] Trial 11 finished with value: -0.4077450618090842 and parameters: {'damping': 0.6316437630479385, 'preference': -298.07850167545166}. Best is trial 10 with value: -0.4081075216569071.\n",
      "[I 2025-05-06 20:00:43,772] Trial 12 finished with value: -0.40801740695500704 and parameters: {'damping': 0.648915918338243, 'preference': -299.3942128763535}. Best is trial 10 with value: -0.4081075216569071.\n",
      "[I 2025-05-06 20:00:44,083] Trial 13 finished with value: -0.4082278498611088 and parameters: {'damping': 0.6524383887779216, 'preference': -299.9633276921043}. Best is trial 13 with value: -0.4082278498611088.\n",
      "[I 2025-05-06 20:00:44,349] Trial 14 finished with value: -0.3994573362363203 and parameters: {'damping': 0.5062129493216505, 'preference': -239.19634649693592}. Best is trial 13 with value: -0.4082278498611088.\n",
      "[I 2025-05-06 20:00:45,455] Trial 15 pruned. \n",
      "[I 2025-05-06 20:00:45,750] Trial 16 finished with value: -0.4012346828588362 and parameters: {'damping': 0.6001439241433809, 'preference': -232.01860243306356}. Best is trial 13 with value: -0.4082278498611088.\n",
      "[I 2025-05-06 20:00:46,126] Trial 17 finished with value: -0.40568734646053495 and parameters: {'damping': 0.5508954566106515, 'preference': -263.4203589989799}. Best is trial 13 with value: -0.4082278498611088.\n",
      "[I 2025-05-06 20:00:46,505] Trial 18 pruned. \n",
      "[I 2025-05-06 20:00:47,038] Trial 19 pruned. \n",
      "[I 2025-05-06 20:00:47,669] Trial 20 finished with value: -0.4036024212148835 and parameters: {'damping': 0.8939176977709395, 'preference': -271.8581161516898}. Best is trial 13 with value: -0.4082278498611088.\n",
      "[I 2025-05-06 20:00:47,996] Trial 21 finished with value: -0.40825387698614146 and parameters: {'damping': 0.6447654760797253, 'preference': -299.3556054519773}. Best is trial 21 with value: -0.40825387698614146.\n",
      "[I 2025-05-06 20:00:48,286] Trial 22 finished with value: -0.40633028819213685 and parameters: {'damping': 0.6117512329166326, 'preference': -280.529945933543}. Best is trial 21 with value: -0.40825387698614146.\n",
      "[I 2025-05-06 20:00:48,800] Trial 23 finished with value: -0.4043213774257897 and parameters: {'damping': 0.6776431129639382, 'preference': -249.3087529041077}. Best is trial 21 with value: -0.40825387698614146.\n",
      "[I 2025-05-06 20:00:49,307] Trial 24 pruned. \n",
      "[I 2025-05-06 20:00:49,592] Trial 25 finished with value: -0.40531773518614234 and parameters: {'damping': 0.5520840493238729, 'preference': -287.15286792396006}. Best is trial 21 with value: -0.40825387698614146.\n",
      "[I 2025-05-06 20:00:49,875] Trial 26 finished with value: -0.40578309513870064 and parameters: {'damping': 0.6174943132069037, 'preference': -260.56782014386675}. Best is trial 21 with value: -0.40825387698614146.\n",
      "[I 2025-05-06 20:00:50,308] Trial 27 finished with value: -0.4065556271924215 and parameters: {'damping': 0.6672225140494922, 'preference': -295.55209594645}. Best is trial 21 with value: -0.40825387698614146.\n",
      "[I 2025-05-06 20:00:50,567] Trial 28 pruned. \n",
      "[I 2025-05-06 20:00:50,993] Trial 29 pruned. \n",
      "[I 2025-05-06 20:00:51,249] Trial 30 finished with value: -0.40491095698580204 and parameters: {'damping': 0.5699387223235436, 'preference': -252.34973646383972}. Best is trial 21 with value: -0.40825387698614146.\n",
      "[I 2025-05-06 20:00:51,563] Trial 31 finished with value: -0.4070042083491313 and parameters: {'damping': 0.6490392147625205, 'preference': -296.0145645025728}. Best is trial 21 with value: -0.40825387698614146.\n",
      "[I 2025-05-06 20:00:51,850] Trial 32 finished with value: -0.40696396237924604 and parameters: {'damping': 0.649492249610885, 'preference': -273.78900565519035}. Best is trial 21 with value: -0.40825387698614146.\n",
      "[I 2025-05-06 20:00:52,173] Trial 33 finished with value: -0.40603442269886036 and parameters: {'damping': 0.6819757474656977, 'preference': -280.3836328795074}. Best is trial 21 with value: -0.40825387698614146.\n",
      "[I 2025-05-06 20:00:52,464] Trial 34 finished with value: -0.410017149541955 and parameters: {'damping': 0.6220239257587, 'preference': -298.8717743616166}. Best is trial 34 with value: -0.410017149541955.\n",
      "[I 2025-05-06 20:00:52,776] Trial 35 pruned. \n",
      "[I 2025-05-06 20:00:53,128] Trial 36 finished with value: -0.4054872272204828 and parameters: {'damping': 0.720094846607401, 'preference': -280.4303326937827}. Best is trial 34 with value: -0.410017149541955.\n",
      "[I 2025-05-06 20:00:53,460] Trial 37 pruned. \n",
      "[I 2025-05-06 20:00:53,851] Trial 38 pruned. \n",
      "[I 2025-05-06 20:00:54,499] Trial 39 pruned. \n",
      "[I 2025-05-06 20:00:54,760] Trial 40 pruned. \n",
      "[I 2025-05-06 20:00:55,097] Trial 41 finished with value: -0.4070527695234016 and parameters: {'damping': 0.6514006177158285, 'preference': -299.73381767943334}. Best is trial 34 with value: -0.410017149541955.\n",
      "[I 2025-05-06 20:00:55,491] Trial 42 pruned. \n",
      "[I 2025-05-06 20:00:55,785] Trial 43 finished with value: -0.40580438602005997 and parameters: {'damping': 0.5913013886748731, 'preference': -285.54642958606433}. Best is trial 34 with value: -0.410017149541955.\n",
      "[I 2025-05-06 20:00:56,122] Trial 44 finished with value: -0.40581932959449346 and parameters: {'damping': 0.666316650714253, 'preference': -270.45416260171135}. Best is trial 34 with value: -0.410017149541955.\n",
      "[I 2025-05-06 20:00:56,475] Trial 45 finished with value: -0.40884206920424776 and parameters: {'damping': 0.6244871243364797, 'preference': -297.7140589941336}. Best is trial 34 with value: -0.410017149541955.\n",
      "[I 2025-05-06 20:00:56,893] Trial 46 pruned. \n",
      "[I 2025-05-06 20:00:57,193] Trial 47 finished with value: -0.4072073150328093 and parameters: {'damping': 0.6229131032978312, 'preference': -287.1032530228036}. Best is trial 34 with value: -0.410017149541955.\n",
      "[I 2025-05-06 20:00:57,578] Trial 48 pruned. \n",
      "[I 2025-05-06 20:00:57,913] Trial 49 pruned. \n",
      "[I 2025-05-06 20:00:59,901] Trial 50 pruned. \n",
      "[I 2025-05-06 20:01:00,276] Trial 51 finished with value: -0.41021190476431574 and parameters: {'damping': 0.6562083272916792, 'preference': -299.85414509543796}. Best is trial 51 with value: -0.41021190476431574.\n",
      "[I 2025-05-06 20:01:00,711] Trial 52 pruned. \n",
      "[I 2025-05-06 20:01:01,067] Trial 53 pruned. \n",
      "[I 2025-05-06 20:01:01,478] Trial 54 finished with value: -0.4101816987580285 and parameters: {'damping': 0.7145722055117333, 'preference': -299.98323308702436}. Best is trial 51 with value: -0.41021190476431574.\n",
      "[I 2025-05-06 20:01:01,816] Trial 55 pruned. \n",
      "[I 2025-05-06 20:01:02,330] Trial 56 finished with value: -0.4060148256271531 and parameters: {'damping': 0.8102228187099906, 'preference': -299.94380841637246}. Best is trial 51 with value: -0.41021190476431574.\n",
      "[I 2025-05-06 20:01:02,862] Trial 57 pruned. \n",
      "[I 2025-05-06 20:01:03,374] Trial 58 pruned. \n",
      "[I 2025-05-06 20:01:03,917] Trial 59 pruned. \n",
      "[I 2025-05-06 20:01:04,269] Trial 60 finished with value: -0.40657046864139884 and parameters: {'damping': 0.5911793635391897, 'preference': -268.9604085083457}. Best is trial 51 with value: -0.41021190476431574.\n",
      "[I 2025-05-06 20:01:04,595] Trial 61 finished with value: -0.4090785392353822 and parameters: {'damping': 0.6381089405699566, 'preference': -299.70813089459216}. Best is trial 51 with value: -0.41021190476431574.\n",
      "[I 2025-05-06 20:01:04,938] Trial 62 finished with value: -0.4067399370173993 and parameters: {'damping': 0.6423873595148764, 'preference': -290.53509068180813}. Best is trial 51 with value: -0.41021190476431574.\n",
      "[I 2025-05-06 20:01:05,301] Trial 63 pruned. \n",
      "[I 2025-05-06 20:01:05,681] Trial 64 finished with value: -0.4091075260844296 and parameters: {'damping': 0.6618391630561046, 'preference': -299.12460312248555}. Best is trial 51 with value: -0.41021190476431574.\n",
      "[I 2025-05-06 20:01:06,105] Trial 65 pruned. \n",
      "[I 2025-05-06 20:01:06,531] Trial 66 pruned. \n",
      "[I 2025-05-06 20:01:06,928] Trial 67 finished with value: -0.40684485518498636 and parameters: {'damping': 0.6246990381269247, 'preference': -294.13454216062445}. Best is trial 51 with value: -0.41021190476431574.\n",
      "[I 2025-05-06 20:01:07,261] Trial 68 finished with value: -0.4062714360249425 and parameters: {'damping': 0.6064309621957975, 'preference': -279.24533930015326}. Best is trial 51 with value: -0.41021190476431574.\n",
      "[I 2025-05-06 20:01:07,625] Trial 69 pruned. \n",
      "[I 2025-05-06 20:01:07,990] Trial 70 finished with value: -0.4067399370173993 and parameters: {'damping': 0.6414149681843381, 'preference': -290.41187016686126}. Best is trial 51 with value: -0.41021190476431574.\n",
      "[I 2025-05-06 20:01:08,368] Trial 71 finished with value: -0.4078915303281279 and parameters: {'damping': 0.6702144744806837, 'preference': -299.01108059621413}. Best is trial 51 with value: -0.41021190476431574.\n",
      "[I 2025-05-06 20:01:08,732] Trial 72 pruned. \n",
      "[I 2025-05-06 20:01:09,069] Trial 73 finished with value: -0.4074437850639438 and parameters: {'damping': 0.6318784953355174, 'preference': -291.41838607550363}. Best is trial 51 with value: -0.41021190476431574.\n",
      "[I 2025-05-06 20:01:09,421] Trial 74 finished with value: -0.40913489679889636 and parameters: {'damping': 0.612045606933645, 'preference': -299.7344293305585}. Best is trial 51 with value: -0.41021190476431574.\n",
      "[I 2025-05-06 20:01:09,772] Trial 75 finished with value: -0.4069611858467677 and parameters: {'damping': 0.6172705864503919, 'preference': -274.06355571309336}. Best is trial 51 with value: -0.41021190476431574.\n",
      "[I 2025-05-06 20:01:10,208] Trial 76 pruned. \n",
      "[I 2025-05-06 20:01:10,573] Trial 77 pruned. \n",
      "[I 2025-05-06 20:01:10,913] Trial 78 pruned. \n",
      "[I 2025-05-06 20:01:11,305] Trial 79 finished with value: -0.40913489679889636 and parameters: {'damping': 0.6124930199167847, 'preference': -299.13945136179666}. Best is trial 51 with value: -0.41021190476431574.\n",
      "[I 2025-05-06 20:01:11,630] Trial 80 finished with value: -0.4065742213638309 and parameters: {'damping': 0.5635149248239629, 'preference': -269.4275277914564}. Best is trial 51 with value: -0.41021190476431574.\n",
      "[I 2025-05-06 20:01:12,018] Trial 81 finished with value: -0.4080849323064571 and parameters: {'damping': 0.6124776957039991, 'preference': -293.8305090133192}. Best is trial 51 with value: -0.41021190476431574.\n",
      "[I 2025-05-06 20:01:12,379] Trial 82 pruned. \n",
      "[I 2025-05-06 20:01:12,724] Trial 83 finished with value: -0.4069611858467677 and parameters: {'damping': 0.6197170062942711, 'preference': -280.2198209938691}. Best is trial 51 with value: -0.41021190476431574.\n",
      "[I 2025-05-06 20:01:13,031] Trial 84 finished with value: -0.4067771264572015 and parameters: {'damping': 0.5272629930170082, 'preference': -288.42103492725494}. Best is trial 51 with value: -0.41021190476431574.\n",
      "[I 2025-05-06 20:01:13,363] Trial 85 pruned. \n",
      "[I 2025-05-06 20:01:13,683] Trial 86 finished with value: -0.40737814895072283 and parameters: {'damping': 0.5944574130196473, 'preference': -292.61331657090335}. Best is trial 51 with value: -0.41021190476431574.\n",
      "[I 2025-05-06 20:01:14,092] Trial 87 pruned. \n",
      "[I 2025-05-06 20:01:14,455] Trial 88 finished with value: -0.40664333341640174 and parameters: {'damping': 0.6436380467875453, 'preference': -284.31851675827187}. Best is trial 51 with value: -0.41021190476431574.\n",
      "[I 2025-05-06 20:01:14,813] Trial 89 pruned. \n",
      "[I 2025-05-06 20:01:15,231] Trial 90 pruned. \n",
      "[I 2025-05-06 20:01:15,560] Trial 91 finished with value: -0.4072073150328093 and parameters: {'damping': 0.6265528730418547, 'preference': -293.1654546281826}. Best is trial 51 with value: -0.41021190476431574.\n",
      "[I 2025-05-06 20:01:15,949] Trial 92 pruned. \n",
      "[I 2025-05-06 20:01:16,336] Trial 93 finished with value: -0.41019630148382197 and parameters: {'damping': 0.6573339740137404, 'preference': -299.2984526223411}. Best is trial 51 with value: -0.41021190476431574.\n",
      "[I 2025-05-06 20:01:16,767] Trial 94 finished with value: -0.4101816987580285 and parameters: {'damping': 0.7163281471791809, 'preference': -299.84961135622876}. Best is trial 51 with value: -0.41021190476431574.\n",
      "[I 2025-05-06 20:01:17,201] Trial 95 pruned. \n",
      "[I 2025-05-06 20:01:17,767] Trial 96 finished with value: -0.4098479446717001 and parameters: {'damping': 0.7156092656528041, 'preference': -293.3667538792549}. Best is trial 51 with value: -0.41021190476431574.\n",
      "[I 2025-05-06 20:01:18,329] Trial 97 finished with value: -0.4098479446717001 and parameters: {'damping': 0.7104255427621369, 'preference': -292.7517600560685}. Best is trial 51 with value: -0.41021190476431574.\n",
      "[I 2025-05-06 20:01:18,697] Trial 98 pruned. \n",
      "[I 2025-05-06 20:01:19,169] Trial 99 pruned. \n"
     ]
    }
   ],
   "source": [
    "import optuna\n",
    "from optuna.pruners import MedianPruner\n",
    "\n",
    "# Hàm objective với pruning\n",
    "def objective(trial):\n",
    "    damping = trial.suggest_float('damping', 0.5, 0.9)\n",
    "    preference = trial.suggest_float('preference', -300, 0)\n",
    "    \n",
    "    model = AffinityPropagation(\n",
    "        damping=damping,\n",
    "        preference=preference,\n",
    "        random_state=42\n",
    "    )\n",
    "    labels = model.fit_predict(X)\n",
    "    \n",
    "    n_clusters = len(set(labels))\n",
    "    if n_clusters <= 1 or n_clusters >= len(X):\n",
    "        return 1.0  # Trả về loss cao ngay\n",
    "\n",
    "    score = silhouette_score(X, labels)\n",
    "\n",
    "    # Gửi signal cho Optuna pruning\n",
    "    trial.report(-score, step=0)\n",
    "    if trial.should_prune():\n",
    "        raise optuna.TrialPruned()\n",
    "\n",
    "    return -score  # Vì Optuna minimize\n",
    "\n",
    "# Tạo Study có pruner\n",
    "pruner = MedianPruner(n_startup_trials=10, n_warmup_steps=0)\n",
    "study = optuna.create_study(direction='minimize', pruner=pruner)\n",
    "study.optimize(objective, n_trials=100)\n",
    "\n",
    "# Sau khi tìm xong, build lại mô hình tốt nhất\n",
    "best = study.best_params\n",
    "\n",
    "best_model = AffinityPropagation(\n",
    "    damping=best['damping'],\n",
    "    preference=best['preference'],\n",
    "    random_state=42\n",
    ")\n",
    "best_labels = best_model.fit_predict(X)\n",
    "best_n_clusters = len(set(best_labels))\n",
    "\n",
    "# Tính các chỉ số đánh giá\n",
    "silhouette_ap = silhouette_score(X, best_labels)\n",
    "davies_bouldin_ap = davies_bouldin_score(X, best_labels)\n",
    "calinski_harabasz_ap = calinski_harabasz_score(X, best_labels)\n"
   ]
  },
  {
   "cell_type": "code",
   "execution_count": 33,
   "metadata": {},
   "outputs": [
    {
     "name": "stdout",
     "output_type": "stream",
     "text": [
      "[Optuna] Affinity Propagation:\n",
      "- Số lượng cụm: 88\n",
      "- Silhouette Score: 0.410\n",
      "- Davies Bouldin Score: 0.610\n",
      "- Calinski Harabasz Score: 61311.592\n",
      "- Tham số tối ưu:\n",
      "\t+ Damping: 0.656\n",
      "\t+ Preference: -299.854\n"
     ]
    }
   ],
   "source": [
    "print(\"[Optuna] Affinity Propagation:\")\n",
    "print(f\"- Số lượng cụm: {best_n_clusters}\")\n",
    "print(f\"- Silhouette Score: {silhouette_ap:.3f}\")\n",
    "print(f\"- Davies Bouldin Score: {davies_bouldin_ap:.3f}\")\n",
    "print(f\"- Calinski Harabasz Score: {calinski_harabasz_ap:.3f}\")\n",
    "print(f\"- Tham số tối ưu:\")\n",
    "print(f\"\\t+ Damping: {best['damping']:.3f}\")\n",
    "print(f\"\\t+ Preference: {best['preference']:.3f}\")"
   ]
  },
  {
   "cell_type": "code",
   "execution_count": 34,
   "metadata": {},
   "outputs": [
    {
     "data": {
      "application/vnd.plotly.v1+json": {
       "config": {
        "plotlyServerURL": "https://plot.ly"
       },
       "data": [
        {
         "mode": "markers",
         "name": "Objective Value",
         "type": "scatter",
         "x": [
          0,
          1,
          2,
          3,
          4,
          5,
          6,
          7,
          8,
          9,
          10,
          11,
          12,
          13,
          14,
          16,
          17,
          20,
          21,
          22,
          23,
          25,
          26,
          27,
          30,
          31,
          32,
          33,
          34,
          36,
          41,
          43,
          44,
          45,
          47,
          51,
          54,
          56,
          60,
          61,
          62,
          64,
          67,
          68,
          70,
          71,
          73,
          74,
          75,
          79,
          80,
          81,
          83,
          84,
          86,
          88,
          91,
          93,
          94,
          96,
          97
         ],
         "y": [
          -0.39122384114065717,
          -0.39753680126269286,
          -0.3244471251487356,
          -0.38363396565384805,
          -0.36955705432569846,
          -0.39315337232937336,
          -0.36995135551560115,
          -0.3853220762082971,
          -0.4064178339970412,
          -0.38436917891640215,
          -0.4081075216569071,
          -0.4077450618090842,
          -0.40801740695500704,
          -0.4082278498611088,
          -0.3994573362363203,
          -0.4012346828588362,
          -0.40568734646053495,
          -0.4036024212148835,
          -0.40825387698614146,
          -0.40633028819213685,
          -0.4043213774257897,
          -0.40531773518614234,
          -0.40578309513870064,
          -0.4065556271924215,
          -0.40491095698580204,
          -0.4070042083491313,
          -0.40696396237924604,
          -0.40603442269886036,
          -0.410017149541955,
          -0.4054872272204828,
          -0.4070527695234016,
          -0.40580438602005997,
          -0.40581932959449346,
          -0.40884206920424776,
          -0.4072073150328093,
          -0.41021190476431574,
          -0.4101816987580285,
          -0.4060148256271531,
          -0.40657046864139884,
          -0.4090785392353822,
          -0.4067399370173993,
          -0.4091075260844296,
          -0.40684485518498636,
          -0.4062714360249425,
          -0.4067399370173993,
          -0.4078915303281279,
          -0.4074437850639438,
          -0.40913489679889636,
          -0.4069611858467677,
          -0.40913489679889636,
          -0.4065742213638309,
          -0.4080849323064571,
          -0.4069611858467677,
          -0.4067771264572015,
          -0.40737814895072283,
          -0.40664333341640174,
          -0.4072073150328093,
          -0.41019630148382197,
          -0.4101816987580285,
          -0.4098479446717001,
          -0.4098479446717001
         ]
        },
        {
         "mode": "lines",
         "name": "Best Value",
         "type": "scatter",
         "x": [
          0,
          1,
          2,
          3,
          4,
          5,
          6,
          7,
          8,
          9,
          10,
          11,
          12,
          13,
          14,
          15,
          16,
          17,
          18,
          19,
          20,
          21,
          22,
          23,
          24,
          25,
          26,
          27,
          28,
          29,
          30,
          31,
          32,
          33,
          34,
          35,
          36,
          37,
          38,
          39,
          40,
          41,
          42,
          43,
          44,
          45,
          46,
          47,
          48,
          49,
          50,
          51,
          52,
          53,
          54,
          55,
          56,
          57,
          58,
          59,
          60,
          61,
          62,
          63,
          64,
          65,
          66,
          67,
          68,
          69,
          70,
          71,
          72,
          73,
          74,
          75,
          76,
          77,
          78,
          79,
          80,
          81,
          82,
          83,
          84,
          85,
          86,
          87,
          88,
          89,
          90,
          91,
          92,
          93,
          94,
          95,
          96,
          97,
          98,
          99
         ],
         "y": [
          -0.39122384114065717,
          -0.39753680126269286,
          -0.39753680126269286,
          -0.39753680126269286,
          -0.39753680126269286,
          -0.39753680126269286,
          -0.39753680126269286,
          -0.39753680126269286,
          -0.4064178339970412,
          -0.4064178339970412,
          -0.4081075216569071,
          -0.4081075216569071,
          -0.4081075216569071,
          -0.4082278498611088,
          -0.4082278498611088,
          -0.4082278498611088,
          -0.4082278498611088,
          -0.4082278498611088,
          -0.4082278498611088,
          -0.4082278498611088,
          -0.4082278498611088,
          -0.40825387698614146,
          -0.40825387698614146,
          -0.40825387698614146,
          -0.40825387698614146,
          -0.40825387698614146,
          -0.40825387698614146,
          -0.40825387698614146,
          -0.40825387698614146,
          -0.40825387698614146,
          -0.40825387698614146,
          -0.40825387698614146,
          -0.40825387698614146,
          -0.40825387698614146,
          -0.410017149541955,
          -0.410017149541955,
          -0.410017149541955,
          -0.410017149541955,
          -0.410017149541955,
          -0.410017149541955,
          -0.410017149541955,
          -0.410017149541955,
          -0.410017149541955,
          -0.410017149541955,
          -0.410017149541955,
          -0.410017149541955,
          -0.410017149541955,
          -0.410017149541955,
          -0.410017149541955,
          -0.410017149541955,
          -0.410017149541955,
          -0.41021190476431574,
          -0.41021190476431574,
          -0.41021190476431574,
          -0.41021190476431574,
          -0.41021190476431574,
          -0.41021190476431574,
          -0.41021190476431574,
          -0.41021190476431574,
          -0.41021190476431574,
          -0.41021190476431574,
          -0.41021190476431574,
          -0.41021190476431574,
          -0.41021190476431574,
          -0.41021190476431574,
          -0.41021190476431574,
          -0.41021190476431574,
          -0.41021190476431574,
          -0.41021190476431574,
          -0.41021190476431574,
          -0.41021190476431574,
          -0.41021190476431574,
          -0.41021190476431574,
          -0.41021190476431574,
          -0.41021190476431574,
          -0.41021190476431574,
          -0.41021190476431574,
          -0.41021190476431574,
          -0.41021190476431574,
          -0.41021190476431574,
          -0.41021190476431574,
          -0.41021190476431574,
          -0.41021190476431574,
          -0.41021190476431574,
          -0.41021190476431574,
          -0.41021190476431574,
          -0.41021190476431574,
          -0.41021190476431574,
          -0.41021190476431574,
          -0.41021190476431574,
          -0.41021190476431574,
          -0.41021190476431574,
          -0.41021190476431574,
          -0.41021190476431574,
          -0.41021190476431574,
          -0.41021190476431574,
          -0.41021190476431574,
          -0.41021190476431574,
          -0.41021190476431574,
          -0.41021190476431574
         ]
        },
        {
         "marker": {
          "color": "#cccccc"
         },
         "mode": "markers",
         "name": "Infeasible Trial",
         "showlegend": false,
         "type": "scatter",
         "x": [],
         "y": []
        }
       ],
       "layout": {
        "template": {
         "data": {
          "bar": [
           {
            "error_x": {
             "color": "#2a3f5f"
            },
            "error_y": {
             "color": "#2a3f5f"
            },
            "marker": {
             "line": {
              "color": "#E5ECF6",
              "width": 0.5
             },
             "pattern": {
              "fillmode": "overlay",
              "size": 10,
              "solidity": 0.2
             }
            },
            "type": "bar"
           }
          ],
          "barpolar": [
           {
            "marker": {
             "line": {
              "color": "#E5ECF6",
              "width": 0.5
             },
             "pattern": {
              "fillmode": "overlay",
              "size": 10,
              "solidity": 0.2
             }
            },
            "type": "barpolar"
           }
          ],
          "carpet": [
           {
            "aaxis": {
             "endlinecolor": "#2a3f5f",
             "gridcolor": "white",
             "linecolor": "white",
             "minorgridcolor": "white",
             "startlinecolor": "#2a3f5f"
            },
            "baxis": {
             "endlinecolor": "#2a3f5f",
             "gridcolor": "white",
             "linecolor": "white",
             "minorgridcolor": "white",
             "startlinecolor": "#2a3f5f"
            },
            "type": "carpet"
           }
          ],
          "choropleth": [
           {
            "colorbar": {
             "outlinewidth": 0,
             "ticks": ""
            },
            "type": "choropleth"
           }
          ],
          "contour": [
           {
            "colorbar": {
             "outlinewidth": 0,
             "ticks": ""
            },
            "colorscale": [
             [
              0,
              "#0d0887"
             ],
             [
              0.1111111111111111,
              "#46039f"
             ],
             [
              0.2222222222222222,
              "#7201a8"
             ],
             [
              0.3333333333333333,
              "#9c179e"
             ],
             [
              0.4444444444444444,
              "#bd3786"
             ],
             [
              0.5555555555555556,
              "#d8576b"
             ],
             [
              0.6666666666666666,
              "#ed7953"
             ],
             [
              0.7777777777777778,
              "#fb9f3a"
             ],
             [
              0.8888888888888888,
              "#fdca26"
             ],
             [
              1,
              "#f0f921"
             ]
            ],
            "type": "contour"
           }
          ],
          "contourcarpet": [
           {
            "colorbar": {
             "outlinewidth": 0,
             "ticks": ""
            },
            "type": "contourcarpet"
           }
          ],
          "heatmap": [
           {
            "colorbar": {
             "outlinewidth": 0,
             "ticks": ""
            },
            "colorscale": [
             [
              0,
              "#0d0887"
             ],
             [
              0.1111111111111111,
              "#46039f"
             ],
             [
              0.2222222222222222,
              "#7201a8"
             ],
             [
              0.3333333333333333,
              "#9c179e"
             ],
             [
              0.4444444444444444,
              "#bd3786"
             ],
             [
              0.5555555555555556,
              "#d8576b"
             ],
             [
              0.6666666666666666,
              "#ed7953"
             ],
             [
              0.7777777777777778,
              "#fb9f3a"
             ],
             [
              0.8888888888888888,
              "#fdca26"
             ],
             [
              1,
              "#f0f921"
             ]
            ],
            "type": "heatmap"
           }
          ],
          "histogram": [
           {
            "marker": {
             "pattern": {
              "fillmode": "overlay",
              "size": 10,
              "solidity": 0.2
             }
            },
            "type": "histogram"
           }
          ],
          "histogram2d": [
           {
            "colorbar": {
             "outlinewidth": 0,
             "ticks": ""
            },
            "colorscale": [
             [
              0,
              "#0d0887"
             ],
             [
              0.1111111111111111,
              "#46039f"
             ],
             [
              0.2222222222222222,
              "#7201a8"
             ],
             [
              0.3333333333333333,
              "#9c179e"
             ],
             [
              0.4444444444444444,
              "#bd3786"
             ],
             [
              0.5555555555555556,
              "#d8576b"
             ],
             [
              0.6666666666666666,
              "#ed7953"
             ],
             [
              0.7777777777777778,
              "#fb9f3a"
             ],
             [
              0.8888888888888888,
              "#fdca26"
             ],
             [
              1,
              "#f0f921"
             ]
            ],
            "type": "histogram2d"
           }
          ],
          "histogram2dcontour": [
           {
            "colorbar": {
             "outlinewidth": 0,
             "ticks": ""
            },
            "colorscale": [
             [
              0,
              "#0d0887"
             ],
             [
              0.1111111111111111,
              "#46039f"
             ],
             [
              0.2222222222222222,
              "#7201a8"
             ],
             [
              0.3333333333333333,
              "#9c179e"
             ],
             [
              0.4444444444444444,
              "#bd3786"
             ],
             [
              0.5555555555555556,
              "#d8576b"
             ],
             [
              0.6666666666666666,
              "#ed7953"
             ],
             [
              0.7777777777777778,
              "#fb9f3a"
             ],
             [
              0.8888888888888888,
              "#fdca26"
             ],
             [
              1,
              "#f0f921"
             ]
            ],
            "type": "histogram2dcontour"
           }
          ],
          "mesh3d": [
           {
            "colorbar": {
             "outlinewidth": 0,
             "ticks": ""
            },
            "type": "mesh3d"
           }
          ],
          "parcoords": [
           {
            "line": {
             "colorbar": {
              "outlinewidth": 0,
              "ticks": ""
             }
            },
            "type": "parcoords"
           }
          ],
          "pie": [
           {
            "automargin": true,
            "type": "pie"
           }
          ],
          "scatter": [
           {
            "fillpattern": {
             "fillmode": "overlay",
             "size": 10,
             "solidity": 0.2
            },
            "type": "scatter"
           }
          ],
          "scatter3d": [
           {
            "line": {
             "colorbar": {
              "outlinewidth": 0,
              "ticks": ""
             }
            },
            "marker": {
             "colorbar": {
              "outlinewidth": 0,
              "ticks": ""
             }
            },
            "type": "scatter3d"
           }
          ],
          "scattercarpet": [
           {
            "marker": {
             "colorbar": {
              "outlinewidth": 0,
              "ticks": ""
             }
            },
            "type": "scattercarpet"
           }
          ],
          "scattergeo": [
           {
            "marker": {
             "colorbar": {
              "outlinewidth": 0,
              "ticks": ""
             }
            },
            "type": "scattergeo"
           }
          ],
          "scattergl": [
           {
            "marker": {
             "colorbar": {
              "outlinewidth": 0,
              "ticks": ""
             }
            },
            "type": "scattergl"
           }
          ],
          "scattermap": [
           {
            "marker": {
             "colorbar": {
              "outlinewidth": 0,
              "ticks": ""
             }
            },
            "type": "scattermap"
           }
          ],
          "scattermapbox": [
           {
            "marker": {
             "colorbar": {
              "outlinewidth": 0,
              "ticks": ""
             }
            },
            "type": "scattermapbox"
           }
          ],
          "scatterpolar": [
           {
            "marker": {
             "colorbar": {
              "outlinewidth": 0,
              "ticks": ""
             }
            },
            "type": "scatterpolar"
           }
          ],
          "scatterpolargl": [
           {
            "marker": {
             "colorbar": {
              "outlinewidth": 0,
              "ticks": ""
             }
            },
            "type": "scatterpolargl"
           }
          ],
          "scatterternary": [
           {
            "marker": {
             "colorbar": {
              "outlinewidth": 0,
              "ticks": ""
             }
            },
            "type": "scatterternary"
           }
          ],
          "surface": [
           {
            "colorbar": {
             "outlinewidth": 0,
             "ticks": ""
            },
            "colorscale": [
             [
              0,
              "#0d0887"
             ],
             [
              0.1111111111111111,
              "#46039f"
             ],
             [
              0.2222222222222222,
              "#7201a8"
             ],
             [
              0.3333333333333333,
              "#9c179e"
             ],
             [
              0.4444444444444444,
              "#bd3786"
             ],
             [
              0.5555555555555556,
              "#d8576b"
             ],
             [
              0.6666666666666666,
              "#ed7953"
             ],
             [
              0.7777777777777778,
              "#fb9f3a"
             ],
             [
              0.8888888888888888,
              "#fdca26"
             ],
             [
              1,
              "#f0f921"
             ]
            ],
            "type": "surface"
           }
          ],
          "table": [
           {
            "cells": {
             "fill": {
              "color": "#EBF0F8"
             },
             "line": {
              "color": "white"
             }
            },
            "header": {
             "fill": {
              "color": "#C8D4E3"
             },
             "line": {
              "color": "white"
             }
            },
            "type": "table"
           }
          ]
         },
         "layout": {
          "annotationdefaults": {
           "arrowcolor": "#2a3f5f",
           "arrowhead": 0,
           "arrowwidth": 1
          },
          "autotypenumbers": "strict",
          "coloraxis": {
           "colorbar": {
            "outlinewidth": 0,
            "ticks": ""
           }
          },
          "colorscale": {
           "diverging": [
            [
             0,
             "#8e0152"
            ],
            [
             0.1,
             "#c51b7d"
            ],
            [
             0.2,
             "#de77ae"
            ],
            [
             0.3,
             "#f1b6da"
            ],
            [
             0.4,
             "#fde0ef"
            ],
            [
             0.5,
             "#f7f7f7"
            ],
            [
             0.6,
             "#e6f5d0"
            ],
            [
             0.7,
             "#b8e186"
            ],
            [
             0.8,
             "#7fbc41"
            ],
            [
             0.9,
             "#4d9221"
            ],
            [
             1,
             "#276419"
            ]
           ],
           "sequential": [
            [
             0,
             "#0d0887"
            ],
            [
             0.1111111111111111,
             "#46039f"
            ],
            [
             0.2222222222222222,
             "#7201a8"
            ],
            [
             0.3333333333333333,
             "#9c179e"
            ],
            [
             0.4444444444444444,
             "#bd3786"
            ],
            [
             0.5555555555555556,
             "#d8576b"
            ],
            [
             0.6666666666666666,
             "#ed7953"
            ],
            [
             0.7777777777777778,
             "#fb9f3a"
            ],
            [
             0.8888888888888888,
             "#fdca26"
            ],
            [
             1,
             "#f0f921"
            ]
           ],
           "sequentialminus": [
            [
             0,
             "#0d0887"
            ],
            [
             0.1111111111111111,
             "#46039f"
            ],
            [
             0.2222222222222222,
             "#7201a8"
            ],
            [
             0.3333333333333333,
             "#9c179e"
            ],
            [
             0.4444444444444444,
             "#bd3786"
            ],
            [
             0.5555555555555556,
             "#d8576b"
            ],
            [
             0.6666666666666666,
             "#ed7953"
            ],
            [
             0.7777777777777778,
             "#fb9f3a"
            ],
            [
             0.8888888888888888,
             "#fdca26"
            ],
            [
             1,
             "#f0f921"
            ]
           ]
          },
          "colorway": [
           "#636efa",
           "#EF553B",
           "#00cc96",
           "#ab63fa",
           "#FFA15A",
           "#19d3f3",
           "#FF6692",
           "#B6E880",
           "#FF97FF",
           "#FECB52"
          ],
          "font": {
           "color": "#2a3f5f"
          },
          "geo": {
           "bgcolor": "white",
           "lakecolor": "white",
           "landcolor": "#E5ECF6",
           "showlakes": true,
           "showland": true,
           "subunitcolor": "white"
          },
          "hoverlabel": {
           "align": "left"
          },
          "hovermode": "closest",
          "mapbox": {
           "style": "light"
          },
          "paper_bgcolor": "white",
          "plot_bgcolor": "#E5ECF6",
          "polar": {
           "angularaxis": {
            "gridcolor": "white",
            "linecolor": "white",
            "ticks": ""
           },
           "bgcolor": "#E5ECF6",
           "radialaxis": {
            "gridcolor": "white",
            "linecolor": "white",
            "ticks": ""
           }
          },
          "scene": {
           "xaxis": {
            "backgroundcolor": "#E5ECF6",
            "gridcolor": "white",
            "gridwidth": 2,
            "linecolor": "white",
            "showbackground": true,
            "ticks": "",
            "zerolinecolor": "white"
           },
           "yaxis": {
            "backgroundcolor": "#E5ECF6",
            "gridcolor": "white",
            "gridwidth": 2,
            "linecolor": "white",
            "showbackground": true,
            "ticks": "",
            "zerolinecolor": "white"
           },
           "zaxis": {
            "backgroundcolor": "#E5ECF6",
            "gridcolor": "white",
            "gridwidth": 2,
            "linecolor": "white",
            "showbackground": true,
            "ticks": "",
            "zerolinecolor": "white"
           }
          },
          "shapedefaults": {
           "line": {
            "color": "#2a3f5f"
           }
          },
          "ternary": {
           "aaxis": {
            "gridcolor": "white",
            "linecolor": "white",
            "ticks": ""
           },
           "baxis": {
            "gridcolor": "white",
            "linecolor": "white",
            "ticks": ""
           },
           "bgcolor": "#E5ECF6",
           "caxis": {
            "gridcolor": "white",
            "linecolor": "white",
            "ticks": ""
           }
          },
          "title": {
           "x": 0.05
          },
          "xaxis": {
           "automargin": true,
           "gridcolor": "white",
           "linecolor": "white",
           "ticks": "",
           "title": {
            "standoff": 15
           },
           "zerolinecolor": "white",
           "zerolinewidth": 2
          },
          "yaxis": {
           "automargin": true,
           "gridcolor": "white",
           "linecolor": "white",
           "ticks": "",
           "title": {
            "standoff": 15
           },
           "zerolinecolor": "white",
           "zerolinewidth": 2
          }
         }
        },
        "title": {
         "text": "Optimization History Plot"
        },
        "xaxis": {
         "title": {
          "text": "Trial"
         }
        },
        "yaxis": {
         "title": {
          "text": "Objective Value"
         }
        }
       }
      }
     },
     "metadata": {},
     "output_type": "display_data"
    }
   ],
   "source": [
    "# Vẽ lịch sử tối ưu (Optimization History)\n",
    "optuna.visualization.plot_optimization_history(study).show()"
   ]
  },
  {
   "cell_type": "code",
   "execution_count": 35,
   "metadata": {},
   "outputs": [
    {
     "data": {
      "application/vnd.plotly.v1+json": {
       "config": {
        "plotlyServerURL": "https://plot.ly"
       },
       "data": [
        {
         "cliponaxis": false,
         "hovertemplate": [
          "damping (FloatDistribution): 0.02855688229873293<extra></extra>",
          "preference (FloatDistribution): 0.9714431177012671<extra></extra>"
         ],
         "name": "Objective Value",
         "orientation": "h",
         "text": [
          "0.03",
          "0.97"
         ],
         "textposition": "outside",
         "type": "bar",
         "x": [
          0.02855688229873293,
          0.9714431177012671
         ],
         "y": [
          "damping",
          "preference"
         ]
        }
       ],
       "layout": {
        "template": {
         "data": {
          "bar": [
           {
            "error_x": {
             "color": "#2a3f5f"
            },
            "error_y": {
             "color": "#2a3f5f"
            },
            "marker": {
             "line": {
              "color": "#E5ECF6",
              "width": 0.5
             },
             "pattern": {
              "fillmode": "overlay",
              "size": 10,
              "solidity": 0.2
             }
            },
            "type": "bar"
           }
          ],
          "barpolar": [
           {
            "marker": {
             "line": {
              "color": "#E5ECF6",
              "width": 0.5
             },
             "pattern": {
              "fillmode": "overlay",
              "size": 10,
              "solidity": 0.2
             }
            },
            "type": "barpolar"
           }
          ],
          "carpet": [
           {
            "aaxis": {
             "endlinecolor": "#2a3f5f",
             "gridcolor": "white",
             "linecolor": "white",
             "minorgridcolor": "white",
             "startlinecolor": "#2a3f5f"
            },
            "baxis": {
             "endlinecolor": "#2a3f5f",
             "gridcolor": "white",
             "linecolor": "white",
             "minorgridcolor": "white",
             "startlinecolor": "#2a3f5f"
            },
            "type": "carpet"
           }
          ],
          "choropleth": [
           {
            "colorbar": {
             "outlinewidth": 0,
             "ticks": ""
            },
            "type": "choropleth"
           }
          ],
          "contour": [
           {
            "colorbar": {
             "outlinewidth": 0,
             "ticks": ""
            },
            "colorscale": [
             [
              0,
              "#0d0887"
             ],
             [
              0.1111111111111111,
              "#46039f"
             ],
             [
              0.2222222222222222,
              "#7201a8"
             ],
             [
              0.3333333333333333,
              "#9c179e"
             ],
             [
              0.4444444444444444,
              "#bd3786"
             ],
             [
              0.5555555555555556,
              "#d8576b"
             ],
             [
              0.6666666666666666,
              "#ed7953"
             ],
             [
              0.7777777777777778,
              "#fb9f3a"
             ],
             [
              0.8888888888888888,
              "#fdca26"
             ],
             [
              1,
              "#f0f921"
             ]
            ],
            "type": "contour"
           }
          ],
          "contourcarpet": [
           {
            "colorbar": {
             "outlinewidth": 0,
             "ticks": ""
            },
            "type": "contourcarpet"
           }
          ],
          "heatmap": [
           {
            "colorbar": {
             "outlinewidth": 0,
             "ticks": ""
            },
            "colorscale": [
             [
              0,
              "#0d0887"
             ],
             [
              0.1111111111111111,
              "#46039f"
             ],
             [
              0.2222222222222222,
              "#7201a8"
             ],
             [
              0.3333333333333333,
              "#9c179e"
             ],
             [
              0.4444444444444444,
              "#bd3786"
             ],
             [
              0.5555555555555556,
              "#d8576b"
             ],
             [
              0.6666666666666666,
              "#ed7953"
             ],
             [
              0.7777777777777778,
              "#fb9f3a"
             ],
             [
              0.8888888888888888,
              "#fdca26"
             ],
             [
              1,
              "#f0f921"
             ]
            ],
            "type": "heatmap"
           }
          ],
          "histogram": [
           {
            "marker": {
             "pattern": {
              "fillmode": "overlay",
              "size": 10,
              "solidity": 0.2
             }
            },
            "type": "histogram"
           }
          ],
          "histogram2d": [
           {
            "colorbar": {
             "outlinewidth": 0,
             "ticks": ""
            },
            "colorscale": [
             [
              0,
              "#0d0887"
             ],
             [
              0.1111111111111111,
              "#46039f"
             ],
             [
              0.2222222222222222,
              "#7201a8"
             ],
             [
              0.3333333333333333,
              "#9c179e"
             ],
             [
              0.4444444444444444,
              "#bd3786"
             ],
             [
              0.5555555555555556,
              "#d8576b"
             ],
             [
              0.6666666666666666,
              "#ed7953"
             ],
             [
              0.7777777777777778,
              "#fb9f3a"
             ],
             [
              0.8888888888888888,
              "#fdca26"
             ],
             [
              1,
              "#f0f921"
             ]
            ],
            "type": "histogram2d"
           }
          ],
          "histogram2dcontour": [
           {
            "colorbar": {
             "outlinewidth": 0,
             "ticks": ""
            },
            "colorscale": [
             [
              0,
              "#0d0887"
             ],
             [
              0.1111111111111111,
              "#46039f"
             ],
             [
              0.2222222222222222,
              "#7201a8"
             ],
             [
              0.3333333333333333,
              "#9c179e"
             ],
             [
              0.4444444444444444,
              "#bd3786"
             ],
             [
              0.5555555555555556,
              "#d8576b"
             ],
             [
              0.6666666666666666,
              "#ed7953"
             ],
             [
              0.7777777777777778,
              "#fb9f3a"
             ],
             [
              0.8888888888888888,
              "#fdca26"
             ],
             [
              1,
              "#f0f921"
             ]
            ],
            "type": "histogram2dcontour"
           }
          ],
          "mesh3d": [
           {
            "colorbar": {
             "outlinewidth": 0,
             "ticks": ""
            },
            "type": "mesh3d"
           }
          ],
          "parcoords": [
           {
            "line": {
             "colorbar": {
              "outlinewidth": 0,
              "ticks": ""
             }
            },
            "type": "parcoords"
           }
          ],
          "pie": [
           {
            "automargin": true,
            "type": "pie"
           }
          ],
          "scatter": [
           {
            "fillpattern": {
             "fillmode": "overlay",
             "size": 10,
             "solidity": 0.2
            },
            "type": "scatter"
           }
          ],
          "scatter3d": [
           {
            "line": {
             "colorbar": {
              "outlinewidth": 0,
              "ticks": ""
             }
            },
            "marker": {
             "colorbar": {
              "outlinewidth": 0,
              "ticks": ""
             }
            },
            "type": "scatter3d"
           }
          ],
          "scattercarpet": [
           {
            "marker": {
             "colorbar": {
              "outlinewidth": 0,
              "ticks": ""
             }
            },
            "type": "scattercarpet"
           }
          ],
          "scattergeo": [
           {
            "marker": {
             "colorbar": {
              "outlinewidth": 0,
              "ticks": ""
             }
            },
            "type": "scattergeo"
           }
          ],
          "scattergl": [
           {
            "marker": {
             "colorbar": {
              "outlinewidth": 0,
              "ticks": ""
             }
            },
            "type": "scattergl"
           }
          ],
          "scattermap": [
           {
            "marker": {
             "colorbar": {
              "outlinewidth": 0,
              "ticks": ""
             }
            },
            "type": "scattermap"
           }
          ],
          "scattermapbox": [
           {
            "marker": {
             "colorbar": {
              "outlinewidth": 0,
              "ticks": ""
             }
            },
            "type": "scattermapbox"
           }
          ],
          "scatterpolar": [
           {
            "marker": {
             "colorbar": {
              "outlinewidth": 0,
              "ticks": ""
             }
            },
            "type": "scatterpolar"
           }
          ],
          "scatterpolargl": [
           {
            "marker": {
             "colorbar": {
              "outlinewidth": 0,
              "ticks": ""
             }
            },
            "type": "scatterpolargl"
           }
          ],
          "scatterternary": [
           {
            "marker": {
             "colorbar": {
              "outlinewidth": 0,
              "ticks": ""
             }
            },
            "type": "scatterternary"
           }
          ],
          "surface": [
           {
            "colorbar": {
             "outlinewidth": 0,
             "ticks": ""
            },
            "colorscale": [
             [
              0,
              "#0d0887"
             ],
             [
              0.1111111111111111,
              "#46039f"
             ],
             [
              0.2222222222222222,
              "#7201a8"
             ],
             [
              0.3333333333333333,
              "#9c179e"
             ],
             [
              0.4444444444444444,
              "#bd3786"
             ],
             [
              0.5555555555555556,
              "#d8576b"
             ],
             [
              0.6666666666666666,
              "#ed7953"
             ],
             [
              0.7777777777777778,
              "#fb9f3a"
             ],
             [
              0.8888888888888888,
              "#fdca26"
             ],
             [
              1,
              "#f0f921"
             ]
            ],
            "type": "surface"
           }
          ],
          "table": [
           {
            "cells": {
             "fill": {
              "color": "#EBF0F8"
             },
             "line": {
              "color": "white"
             }
            },
            "header": {
             "fill": {
              "color": "#C8D4E3"
             },
             "line": {
              "color": "white"
             }
            },
            "type": "table"
           }
          ]
         },
         "layout": {
          "annotationdefaults": {
           "arrowcolor": "#2a3f5f",
           "arrowhead": 0,
           "arrowwidth": 1
          },
          "autotypenumbers": "strict",
          "coloraxis": {
           "colorbar": {
            "outlinewidth": 0,
            "ticks": ""
           }
          },
          "colorscale": {
           "diverging": [
            [
             0,
             "#8e0152"
            ],
            [
             0.1,
             "#c51b7d"
            ],
            [
             0.2,
             "#de77ae"
            ],
            [
             0.3,
             "#f1b6da"
            ],
            [
             0.4,
             "#fde0ef"
            ],
            [
             0.5,
             "#f7f7f7"
            ],
            [
             0.6,
             "#e6f5d0"
            ],
            [
             0.7,
             "#b8e186"
            ],
            [
             0.8,
             "#7fbc41"
            ],
            [
             0.9,
             "#4d9221"
            ],
            [
             1,
             "#276419"
            ]
           ],
           "sequential": [
            [
             0,
             "#0d0887"
            ],
            [
             0.1111111111111111,
             "#46039f"
            ],
            [
             0.2222222222222222,
             "#7201a8"
            ],
            [
             0.3333333333333333,
             "#9c179e"
            ],
            [
             0.4444444444444444,
             "#bd3786"
            ],
            [
             0.5555555555555556,
             "#d8576b"
            ],
            [
             0.6666666666666666,
             "#ed7953"
            ],
            [
             0.7777777777777778,
             "#fb9f3a"
            ],
            [
             0.8888888888888888,
             "#fdca26"
            ],
            [
             1,
             "#f0f921"
            ]
           ],
           "sequentialminus": [
            [
             0,
             "#0d0887"
            ],
            [
             0.1111111111111111,
             "#46039f"
            ],
            [
             0.2222222222222222,
             "#7201a8"
            ],
            [
             0.3333333333333333,
             "#9c179e"
            ],
            [
             0.4444444444444444,
             "#bd3786"
            ],
            [
             0.5555555555555556,
             "#d8576b"
            ],
            [
             0.6666666666666666,
             "#ed7953"
            ],
            [
             0.7777777777777778,
             "#fb9f3a"
            ],
            [
             0.8888888888888888,
             "#fdca26"
            ],
            [
             1,
             "#f0f921"
            ]
           ]
          },
          "colorway": [
           "#636efa",
           "#EF553B",
           "#00cc96",
           "#ab63fa",
           "#FFA15A",
           "#19d3f3",
           "#FF6692",
           "#B6E880",
           "#FF97FF",
           "#FECB52"
          ],
          "font": {
           "color": "#2a3f5f"
          },
          "geo": {
           "bgcolor": "white",
           "lakecolor": "white",
           "landcolor": "#E5ECF6",
           "showlakes": true,
           "showland": true,
           "subunitcolor": "white"
          },
          "hoverlabel": {
           "align": "left"
          },
          "hovermode": "closest",
          "mapbox": {
           "style": "light"
          },
          "paper_bgcolor": "white",
          "plot_bgcolor": "#E5ECF6",
          "polar": {
           "angularaxis": {
            "gridcolor": "white",
            "linecolor": "white",
            "ticks": ""
           },
           "bgcolor": "#E5ECF6",
           "radialaxis": {
            "gridcolor": "white",
            "linecolor": "white",
            "ticks": ""
           }
          },
          "scene": {
           "xaxis": {
            "backgroundcolor": "#E5ECF6",
            "gridcolor": "white",
            "gridwidth": 2,
            "linecolor": "white",
            "showbackground": true,
            "ticks": "",
            "zerolinecolor": "white"
           },
           "yaxis": {
            "backgroundcolor": "#E5ECF6",
            "gridcolor": "white",
            "gridwidth": 2,
            "linecolor": "white",
            "showbackground": true,
            "ticks": "",
            "zerolinecolor": "white"
           },
           "zaxis": {
            "backgroundcolor": "#E5ECF6",
            "gridcolor": "white",
            "gridwidth": 2,
            "linecolor": "white",
            "showbackground": true,
            "ticks": "",
            "zerolinecolor": "white"
           }
          },
          "shapedefaults": {
           "line": {
            "color": "#2a3f5f"
           }
          },
          "ternary": {
           "aaxis": {
            "gridcolor": "white",
            "linecolor": "white",
            "ticks": ""
           },
           "baxis": {
            "gridcolor": "white",
            "linecolor": "white",
            "ticks": ""
           },
           "bgcolor": "#E5ECF6",
           "caxis": {
            "gridcolor": "white",
            "linecolor": "white",
            "ticks": ""
           }
          },
          "title": {
           "x": 0.05
          },
          "xaxis": {
           "automargin": true,
           "gridcolor": "white",
           "linecolor": "white",
           "ticks": "",
           "title": {
            "standoff": 15
           },
           "zerolinecolor": "white",
           "zerolinewidth": 2
          },
          "yaxis": {
           "automargin": true,
           "gridcolor": "white",
           "linecolor": "white",
           "ticks": "",
           "title": {
            "standoff": 15
           },
           "zerolinecolor": "white",
           "zerolinewidth": 2
          }
         }
        },
        "title": {
         "text": "Hyperparameter Importances"
        },
        "xaxis": {
         "title": {
          "text": "Hyperparameter Importance"
         }
        },
        "yaxis": {
         "title": {
          "text": "Hyperparameter"
         }
        }
       }
      }
     },
     "metadata": {},
     "output_type": "display_data"
    }
   ],
   "source": [
    "# Vẽ tầm quan trọng các tham số (Hyperparameter Importance)\n",
    "optuna.visualization.plot_param_importances(study).show()"
   ]
  },
  {
   "cell_type": "markdown",
   "metadata": {},
   "source": [
    "# Một số kết luận"
   ]
  },
  {
   "cell_type": "markdown",
   "metadata": {},
   "source": [
    "## 1. Hyperopt/Optuna\n",
    "\n",
    "Công cụ | Ưu điểm\n",
    "---|---\n",
    "Hyperopt | Dễ code, nhanh, tối ưu tốt với bài toán đơn giản\n",
    "Optuna | Giao diện đẹp, logging mạnh, hỗ trợ visualization trực quan"
   ]
  },
  {
   "cell_type": "markdown",
   "metadata": {},
   "source": [
    "## 2. Lựa chọn kỹ thuật\n",
    "\n",
    "Tiêu chí | Grid Search | Hyperopt / Optuna\n",
    "---|---|---\n",
    "Cách tìm kiếm | Quét toàn bộ (mọi tổ hợp parameter có thể) | Tối ưu hóa thông minh dựa trên mẫu ngẫu nhiên + học từ kết quả trước\n",
    "Phủ không gian tham số | Đảm bảo mọi vùng đều được quét qua | Không đảm bảo quét hết — ưu tiên vùng thấy \"ngon\" sớm\n",
    "Phụ thuộc random | Không | Có\n",
    "Độ tin cậy khi mẫu nhỏ | Cao (vì bao phủ đều) | Thấp (dễ mắc kẹt vào vùng xấu)\n",
    "\n",
    "<p>\n",
    "\n",
    "Grid Search | Hyperopt / Optuna\n",
    "---|---\n",
    "Tin cậy hơn khi số lượng trial nhỏ | Cần nhiều trial mới hiệu quả\n",
    "Tìm chắc chắn preference tốt | Dễ tìm nhầm preference xấu\n",
    "Độ ổn định cao | Độ dao động lớn\n",
    "\n",
    "**Vì vậy**:\n",
    "- Grid Search: Khi ít mẫu và không gian nhỏ, nó rất hiệu quả vì đi hết từng ngóc ngách.\n",
    "- Hyperopt / Optuna: Cần nhiều lượt thử mới \"học\" được vùng tốt vì khi ít trial thì hay bị chọn nhầm vùng xấu."
   ]
  }
 ],
 "metadata": {
  "colab": {
   "provenance": [],
   "toc_visible": true
  },
  "kernelspec": {
   "display_name": "Python 3",
   "name": "python3"
  },
  "language_info": {
   "codemirror_mode": {
    "name": "ipython",
    "version": 3
   },
   "file_extension": ".py",
   "mimetype": "text/x-python",
   "name": "python",
   "nbconvert_exporter": "python",
   "pygments_lexer": "ipython3",
   "version": "3.13.2"
  }
 },
 "nbformat": 4,
 "nbformat_minor": 0
}

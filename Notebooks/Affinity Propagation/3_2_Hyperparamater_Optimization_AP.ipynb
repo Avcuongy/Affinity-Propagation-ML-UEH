{
 "cells": [
  {
   "cell_type": "markdown",
   "metadata": {},
   "source": [
    "Chỉ số | Ý nghĩa | Khi nào dùng | Ghi chú\n",
    "---|---|---|---\n",
    "Silhouette Score | Đánh giá độ \"gọn cụm\" và \"xa cụm khác\" | Luôn dùng | Cao hơn thì tốt\n",
    "Number of Clusters | Số lượng cụm được tạo ra | Luôn theo dõi |"
   ]
  },
  {
   "cell_type": "markdown",
   "metadata": {},
   "source": [
    "# Khai báo thư viện"
   ]
  },
  {
   "cell_type": "code",
   "execution_count": 148,
   "metadata": {
    "id": "cU072qD6hRuP"
   },
   "outputs": [],
   "source": [
    "import numpy as np\n",
    "import pandas as pd\n",
    "import matplotlib.pyplot as plt\n",
    "import seaborn as sns\n",
    "import warnings\n",
    "warnings.filterwarnings(\"ignore\")\n",
    "# ------------------------------------------------------------------\n",
    "from sklearn import preprocessing\n",
    "from sklearn.decomposition import PCA\n",
    "from sklearn.manifold import TSNE\n",
    "# ------------------------------------------------------------------\n",
    "from scipy.stats import uniform\n",
    "# ------------------------------------------------------------------\n",
    "from sklearn.model_selection import train_test_split\n",
    "from sklearn.model_selection import cross_val_score\n",
    "from sklearn.model_selection import ParameterGrid\n",
    "from sklearn.model_selection import GridSearchCV\n",
    "from sklearn.model_selection import RandomizedSearchCV\n",
    "# ------------------------------------------------------------------\n",
    "from sklearn.cluster import KMeans\n",
    "from sklearn.cluster import AffinityPropagation\n",
    "# ------------------------------------------------------------------\n",
    "from sklearn.metrics import silhouette_score, calinski_harabasz_score,davies_bouldin_score\n",
    "from sklearn.metrics import make_scorer, silhouette_samples\n",
    "# ------------------------------------------------------------------\n",
    "from hyperopt import fmin, hp, tpe, Trials, STATUS_OK\n",
    "from joblib import Parallel, delayed\n",
    "import optuna\n",
    "from optuna.pruners import MedianPruner"
   ]
  },
  {
   "cell_type": "markdown",
   "metadata": {
    "id": "nK9kf3FJhl-x"
   },
   "source": [
    "# Data"
   ]
  },
  {
   "cell_type": "code",
   "execution_count": 149,
   "metadata": {
    "id": "e7T60koUhdYB"
   },
   "outputs": [],
   "source": [
    "df = pd.read_csv(\"D:\\_Dev\\_Group Project\\Affinity-Propagation-ML-UEH\\Data\\Mall Customers\\Mall_Customers_preprocessed.csv\")"
   ]
  },
  {
   "cell_type": "code",
   "execution_count": 150,
   "metadata": {
    "colab": {
     "base_uri": "https://localhost:8080/",
     "height": 206
    },
    "executionInfo": {
     "elapsed": 48,
     "status": "ok",
     "timestamp": 1745739497516,
     "user": {
      "displayName": "CƯỜNG ĐẶNG XUÂN",
      "userId": "00956941829870484129"
     },
     "user_tz": -420
    },
    "id": "PO2y0vMBhhWQ",
    "outputId": "5a28e44b-032c-452b-8d67-1d3b0664c906"
   },
   "outputs": [
    {
     "data": {
      "text/html": [
       "<div>\n",
       "<style scoped>\n",
       "    .dataframe tbody tr th:only-of-type {\n",
       "        vertical-align: middle;\n",
       "    }\n",
       "\n",
       "    .dataframe tbody tr th {\n",
       "        vertical-align: top;\n",
       "    }\n",
       "\n",
       "    .dataframe thead th {\n",
       "        text-align: right;\n",
       "    }\n",
       "</style>\n",
       "<table border=\"1\" class=\"dataframe\">\n",
       "  <thead>\n",
       "    <tr style=\"text-align: right;\">\n",
       "      <th></th>\n",
       "      <th>customerid</th>\n",
       "      <th>age</th>\n",
       "      <th>annual_income</th>\n",
       "      <th>spending_score</th>\n",
       "      <th>genre_Female</th>\n",
       "    </tr>\n",
       "  </thead>\n",
       "  <tbody>\n",
       "    <tr>\n",
       "      <th>0</th>\n",
       "      <td>1</td>\n",
       "      <td>-1.424569</td>\n",
       "      <td>-1.738999</td>\n",
       "      <td>-0.434801</td>\n",
       "      <td>0.0</td>\n",
       "    </tr>\n",
       "    <tr>\n",
       "      <th>1</th>\n",
       "      <td>2</td>\n",
       "      <td>-1.281035</td>\n",
       "      <td>-1.738999</td>\n",
       "      <td>1.195704</td>\n",
       "      <td>0.0</td>\n",
       "    </tr>\n",
       "    <tr>\n",
       "      <th>2</th>\n",
       "      <td>3</td>\n",
       "      <td>-1.352802</td>\n",
       "      <td>-1.700830</td>\n",
       "      <td>-1.715913</td>\n",
       "      <td>1.0</td>\n",
       "    </tr>\n",
       "    <tr>\n",
       "      <th>3</th>\n",
       "      <td>4</td>\n",
       "      <td>-1.137502</td>\n",
       "      <td>-1.700830</td>\n",
       "      <td>1.040418</td>\n",
       "      <td>1.0</td>\n",
       "    </tr>\n",
       "    <tr>\n",
       "      <th>4</th>\n",
       "      <td>5</td>\n",
       "      <td>-0.563369</td>\n",
       "      <td>-1.662660</td>\n",
       "      <td>-0.395980</td>\n",
       "      <td>1.0</td>\n",
       "    </tr>\n",
       "  </tbody>\n",
       "</table>\n",
       "</div>"
      ],
      "text/plain": [
       "   customerid       age  annual_income  spending_score  genre_Female\n",
       "0           1 -1.424569      -1.738999       -0.434801           0.0\n",
       "1           2 -1.281035      -1.738999        1.195704           0.0\n",
       "2           3 -1.352802      -1.700830       -1.715913           1.0\n",
       "3           4 -1.137502      -1.700830        1.040418           1.0\n",
       "4           5 -0.563369      -1.662660       -0.395980           1.0"
      ]
     },
     "execution_count": 150,
     "metadata": {},
     "output_type": "execute_result"
    }
   ],
   "source": [
    "df.head()"
   ]
  },
  {
   "cell_type": "code",
   "execution_count": 151,
   "metadata": {},
   "outputs": [],
   "source": [
    "data = df.drop(columns=[\"customerid\"],axis=1,)"
   ]
  },
  {
   "cell_type": "code",
   "execution_count": 152,
   "metadata": {
    "id": "8besrod7aFLM"
   },
   "outputs": [
    {
     "data": {
      "text/html": [
       "<div>\n",
       "<style scoped>\n",
       "    .dataframe tbody tr th:only-of-type {\n",
       "        vertical-align: middle;\n",
       "    }\n",
       "\n",
       "    .dataframe tbody tr th {\n",
       "        vertical-align: top;\n",
       "    }\n",
       "\n",
       "    .dataframe thead th {\n",
       "        text-align: right;\n",
       "    }\n",
       "</style>\n",
       "<table border=\"1\" class=\"dataframe\">\n",
       "  <thead>\n",
       "    <tr style=\"text-align: right;\">\n",
       "      <th></th>\n",
       "      <th>age</th>\n",
       "      <th>annual_income</th>\n",
       "      <th>spending_score</th>\n",
       "      <th>genre_Female</th>\n",
       "    </tr>\n",
       "  </thead>\n",
       "  <tbody>\n",
       "    <tr>\n",
       "      <th>0</th>\n",
       "      <td>-1.424569</td>\n",
       "      <td>-1.738999</td>\n",
       "      <td>-0.434801</td>\n",
       "      <td>0.0</td>\n",
       "    </tr>\n",
       "    <tr>\n",
       "      <th>1</th>\n",
       "      <td>-1.281035</td>\n",
       "      <td>-1.738999</td>\n",
       "      <td>1.195704</td>\n",
       "      <td>0.0</td>\n",
       "    </tr>\n",
       "    <tr>\n",
       "      <th>2</th>\n",
       "      <td>-1.352802</td>\n",
       "      <td>-1.700830</td>\n",
       "      <td>-1.715913</td>\n",
       "      <td>1.0</td>\n",
       "    </tr>\n",
       "    <tr>\n",
       "      <th>3</th>\n",
       "      <td>-1.137502</td>\n",
       "      <td>-1.700830</td>\n",
       "      <td>1.040418</td>\n",
       "      <td>1.0</td>\n",
       "    </tr>\n",
       "    <tr>\n",
       "      <th>4</th>\n",
       "      <td>-0.563369</td>\n",
       "      <td>-1.662660</td>\n",
       "      <td>-0.395980</td>\n",
       "      <td>1.0</td>\n",
       "    </tr>\n",
       "  </tbody>\n",
       "</table>\n",
       "</div>"
      ],
      "text/plain": [
       "        age  annual_income  spending_score  genre_Female\n",
       "0 -1.424569      -1.738999       -0.434801           0.0\n",
       "1 -1.281035      -1.738999        1.195704           0.0\n",
       "2 -1.352802      -1.700830       -1.715913           1.0\n",
       "3 -1.137502      -1.700830        1.040418           1.0\n",
       "4 -0.563369      -1.662660       -0.395980           1.0"
      ]
     },
     "execution_count": 152,
     "metadata": {},
     "output_type": "execute_result"
    }
   ],
   "source": [
    "X = data.copy()\n",
    "X.head()"
   ]
  },
  {
   "cell_type": "markdown",
   "metadata": {
    "id": "ukDHFXC3lckO"
   },
   "source": [
    "# Áp Dụng"
   ]
  },
  {
   "cell_type": "markdown",
   "metadata": {
    "id": "N2n74qbit-DY"
   },
   "source": [
    "## AP"
   ]
  },
  {
   "cell_type": "markdown",
   "metadata": {
    "id": "-DOdCbg-mKZ5"
   },
   "source": [
    "### 1. Tham số thuật toán\n",
    "\n",
    "```\n",
    "preference\n",
    "damping\n",
    "```\n",
    "=> Tập trung tối ưu vào damping và preference"
   ]
  },
  {
   "cell_type": "code",
   "execution_count": 167,
   "metadata": {
    "colab": {
     "base_uri": "https://localhost:8080/",
     "height": 80
    },
    "executionInfo": {
     "elapsed": 744,
     "status": "ok",
     "timestamp": 1745741341851,
     "user": {
      "displayName": "CƯỜNG ĐẶNG XUÂN",
      "userId": "00956941829870484129"
     },
     "user_tz": -420
    },
    "id": "6VtYNF2-jyKi",
    "outputId": "d0082a92-7562-45f9-bc6a-9b386d1d8b6a"
   },
   "outputs": [
    {
     "data": {
      "text/html": [
       "<style>#sk-container-id-11 {\n",
       "  /* Definition of color scheme common for light and dark mode */\n",
       "  --sklearn-color-text: #000;\n",
       "  --sklearn-color-text-muted: #666;\n",
       "  --sklearn-color-line: gray;\n",
       "  /* Definition of color scheme for unfitted estimators */\n",
       "  --sklearn-color-unfitted-level-0: #fff5e6;\n",
       "  --sklearn-color-unfitted-level-1: #f6e4d2;\n",
       "  --sklearn-color-unfitted-level-2: #ffe0b3;\n",
       "  --sklearn-color-unfitted-level-3: chocolate;\n",
       "  /* Definition of color scheme for fitted estimators */\n",
       "  --sklearn-color-fitted-level-0: #f0f8ff;\n",
       "  --sklearn-color-fitted-level-1: #d4ebff;\n",
       "  --sklearn-color-fitted-level-2: #b3dbfd;\n",
       "  --sklearn-color-fitted-level-3: cornflowerblue;\n",
       "\n",
       "  /* Specific color for light theme */\n",
       "  --sklearn-color-text-on-default-background: var(--sg-text-color, var(--theme-code-foreground, var(--jp-content-font-color1, black)));\n",
       "  --sklearn-color-background: var(--sg-background-color, var(--theme-background, var(--jp-layout-color0, white)));\n",
       "  --sklearn-color-border-box: var(--sg-text-color, var(--theme-code-foreground, var(--jp-content-font-color1, black)));\n",
       "  --sklearn-color-icon: #696969;\n",
       "\n",
       "  @media (prefers-color-scheme: dark) {\n",
       "    /* Redefinition of color scheme for dark theme */\n",
       "    --sklearn-color-text-on-default-background: var(--sg-text-color, var(--theme-code-foreground, var(--jp-content-font-color1, white)));\n",
       "    --sklearn-color-background: var(--sg-background-color, var(--theme-background, var(--jp-layout-color0, #111)));\n",
       "    --sklearn-color-border-box: var(--sg-text-color, var(--theme-code-foreground, var(--jp-content-font-color1, white)));\n",
       "    --sklearn-color-icon: #878787;\n",
       "  }\n",
       "}\n",
       "\n",
       "#sk-container-id-11 {\n",
       "  color: var(--sklearn-color-text);\n",
       "}\n",
       "\n",
       "#sk-container-id-11 pre {\n",
       "  padding: 0;\n",
       "}\n",
       "\n",
       "#sk-container-id-11 input.sk-hidden--visually {\n",
       "  border: 0;\n",
       "  clip: rect(1px 1px 1px 1px);\n",
       "  clip: rect(1px, 1px, 1px, 1px);\n",
       "  height: 1px;\n",
       "  margin: -1px;\n",
       "  overflow: hidden;\n",
       "  padding: 0;\n",
       "  position: absolute;\n",
       "  width: 1px;\n",
       "}\n",
       "\n",
       "#sk-container-id-11 div.sk-dashed-wrapped {\n",
       "  border: 1px dashed var(--sklearn-color-line);\n",
       "  margin: 0 0.4em 0.5em 0.4em;\n",
       "  box-sizing: border-box;\n",
       "  padding-bottom: 0.4em;\n",
       "  background-color: var(--sklearn-color-background);\n",
       "}\n",
       "\n",
       "#sk-container-id-11 div.sk-container {\n",
       "  /* jupyter's `normalize.less` sets `[hidden] { display: none; }`\n",
       "     but bootstrap.min.css set `[hidden] { display: none !important; }`\n",
       "     so we also need the `!important` here to be able to override the\n",
       "     default hidden behavior on the sphinx rendered scikit-learn.org.\n",
       "     See: https://github.com/scikit-learn/scikit-learn/issues/21755 */\n",
       "  display: inline-block !important;\n",
       "  position: relative;\n",
       "}\n",
       "\n",
       "#sk-container-id-11 div.sk-text-repr-fallback {\n",
       "  display: none;\n",
       "}\n",
       "\n",
       "div.sk-parallel-item,\n",
       "div.sk-serial,\n",
       "div.sk-item {\n",
       "  /* draw centered vertical line to link estimators */\n",
       "  background-image: linear-gradient(var(--sklearn-color-text-on-default-background), var(--sklearn-color-text-on-default-background));\n",
       "  background-size: 2px 100%;\n",
       "  background-repeat: no-repeat;\n",
       "  background-position: center center;\n",
       "}\n",
       "\n",
       "/* Parallel-specific style estimator block */\n",
       "\n",
       "#sk-container-id-11 div.sk-parallel-item::after {\n",
       "  content: \"\";\n",
       "  width: 100%;\n",
       "  border-bottom: 2px solid var(--sklearn-color-text-on-default-background);\n",
       "  flex-grow: 1;\n",
       "}\n",
       "\n",
       "#sk-container-id-11 div.sk-parallel {\n",
       "  display: flex;\n",
       "  align-items: stretch;\n",
       "  justify-content: center;\n",
       "  background-color: var(--sklearn-color-background);\n",
       "  position: relative;\n",
       "}\n",
       "\n",
       "#sk-container-id-11 div.sk-parallel-item {\n",
       "  display: flex;\n",
       "  flex-direction: column;\n",
       "}\n",
       "\n",
       "#sk-container-id-11 div.sk-parallel-item:first-child::after {\n",
       "  align-self: flex-end;\n",
       "  width: 50%;\n",
       "}\n",
       "\n",
       "#sk-container-id-11 div.sk-parallel-item:last-child::after {\n",
       "  align-self: flex-start;\n",
       "  width: 50%;\n",
       "}\n",
       "\n",
       "#sk-container-id-11 div.sk-parallel-item:only-child::after {\n",
       "  width: 0;\n",
       "}\n",
       "\n",
       "/* Serial-specific style estimator block */\n",
       "\n",
       "#sk-container-id-11 div.sk-serial {\n",
       "  display: flex;\n",
       "  flex-direction: column;\n",
       "  align-items: center;\n",
       "  background-color: var(--sklearn-color-background);\n",
       "  padding-right: 1em;\n",
       "  padding-left: 1em;\n",
       "}\n",
       "\n",
       "\n",
       "/* Toggleable style: style used for estimator/Pipeline/ColumnTransformer box that is\n",
       "clickable and can be expanded/collapsed.\n",
       "- Pipeline and ColumnTransformer use this feature and define the default style\n",
       "- Estimators will overwrite some part of the style using the `sk-estimator` class\n",
       "*/\n",
       "\n",
       "/* Pipeline and ColumnTransformer style (default) */\n",
       "\n",
       "#sk-container-id-11 div.sk-toggleable {\n",
       "  /* Default theme specific background. It is overwritten whether we have a\n",
       "  specific estimator or a Pipeline/ColumnTransformer */\n",
       "  background-color: var(--sklearn-color-background);\n",
       "}\n",
       "\n",
       "/* Toggleable label */\n",
       "#sk-container-id-11 label.sk-toggleable__label {\n",
       "  cursor: pointer;\n",
       "  display: flex;\n",
       "  width: 100%;\n",
       "  margin-bottom: 0;\n",
       "  padding: 0.5em;\n",
       "  box-sizing: border-box;\n",
       "  text-align: center;\n",
       "  align-items: start;\n",
       "  justify-content: space-between;\n",
       "  gap: 0.5em;\n",
       "}\n",
       "\n",
       "#sk-container-id-11 label.sk-toggleable__label .caption {\n",
       "  font-size: 0.6rem;\n",
       "  font-weight: lighter;\n",
       "  color: var(--sklearn-color-text-muted);\n",
       "}\n",
       "\n",
       "#sk-container-id-11 label.sk-toggleable__label-arrow:before {\n",
       "  /* Arrow on the left of the label */\n",
       "  content: \"▸\";\n",
       "  float: left;\n",
       "  margin-right: 0.25em;\n",
       "  color: var(--sklearn-color-icon);\n",
       "}\n",
       "\n",
       "#sk-container-id-11 label.sk-toggleable__label-arrow:hover:before {\n",
       "  color: var(--sklearn-color-text);\n",
       "}\n",
       "\n",
       "/* Toggleable content - dropdown */\n",
       "\n",
       "#sk-container-id-11 div.sk-toggleable__content {\n",
       "  max-height: 0;\n",
       "  max-width: 0;\n",
       "  overflow: hidden;\n",
       "  text-align: left;\n",
       "  /* unfitted */\n",
       "  background-color: var(--sklearn-color-unfitted-level-0);\n",
       "}\n",
       "\n",
       "#sk-container-id-11 div.sk-toggleable__content.fitted {\n",
       "  /* fitted */\n",
       "  background-color: var(--sklearn-color-fitted-level-0);\n",
       "}\n",
       "\n",
       "#sk-container-id-11 div.sk-toggleable__content pre {\n",
       "  margin: 0.2em;\n",
       "  border-radius: 0.25em;\n",
       "  color: var(--sklearn-color-text);\n",
       "  /* unfitted */\n",
       "  background-color: var(--sklearn-color-unfitted-level-0);\n",
       "}\n",
       "\n",
       "#sk-container-id-11 div.sk-toggleable__content.fitted pre {\n",
       "  /* unfitted */\n",
       "  background-color: var(--sklearn-color-fitted-level-0);\n",
       "}\n",
       "\n",
       "#sk-container-id-11 input.sk-toggleable__control:checked~div.sk-toggleable__content {\n",
       "  /* Expand drop-down */\n",
       "  max-height: 200px;\n",
       "  max-width: 100%;\n",
       "  overflow: auto;\n",
       "}\n",
       "\n",
       "#sk-container-id-11 input.sk-toggleable__control:checked~label.sk-toggleable__label-arrow:before {\n",
       "  content: \"▾\";\n",
       "}\n",
       "\n",
       "/* Pipeline/ColumnTransformer-specific style */\n",
       "\n",
       "#sk-container-id-11 div.sk-label input.sk-toggleable__control:checked~label.sk-toggleable__label {\n",
       "  color: var(--sklearn-color-text);\n",
       "  background-color: var(--sklearn-color-unfitted-level-2);\n",
       "}\n",
       "\n",
       "#sk-container-id-11 div.sk-label.fitted input.sk-toggleable__control:checked~label.sk-toggleable__label {\n",
       "  background-color: var(--sklearn-color-fitted-level-2);\n",
       "}\n",
       "\n",
       "/* Estimator-specific style */\n",
       "\n",
       "/* Colorize estimator box */\n",
       "#sk-container-id-11 div.sk-estimator input.sk-toggleable__control:checked~label.sk-toggleable__label {\n",
       "  /* unfitted */\n",
       "  background-color: var(--sklearn-color-unfitted-level-2);\n",
       "}\n",
       "\n",
       "#sk-container-id-11 div.sk-estimator.fitted input.sk-toggleable__control:checked~label.sk-toggleable__label {\n",
       "  /* fitted */\n",
       "  background-color: var(--sklearn-color-fitted-level-2);\n",
       "}\n",
       "\n",
       "#sk-container-id-11 div.sk-label label.sk-toggleable__label,\n",
       "#sk-container-id-11 div.sk-label label {\n",
       "  /* The background is the default theme color */\n",
       "  color: var(--sklearn-color-text-on-default-background);\n",
       "}\n",
       "\n",
       "/* On hover, darken the color of the background */\n",
       "#sk-container-id-11 div.sk-label:hover label.sk-toggleable__label {\n",
       "  color: var(--sklearn-color-text);\n",
       "  background-color: var(--sklearn-color-unfitted-level-2);\n",
       "}\n",
       "\n",
       "/* Label box, darken color on hover, fitted */\n",
       "#sk-container-id-11 div.sk-label.fitted:hover label.sk-toggleable__label.fitted {\n",
       "  color: var(--sklearn-color-text);\n",
       "  background-color: var(--sklearn-color-fitted-level-2);\n",
       "}\n",
       "\n",
       "/* Estimator label */\n",
       "\n",
       "#sk-container-id-11 div.sk-label label {\n",
       "  font-family: monospace;\n",
       "  font-weight: bold;\n",
       "  display: inline-block;\n",
       "  line-height: 1.2em;\n",
       "}\n",
       "\n",
       "#sk-container-id-11 div.sk-label-container {\n",
       "  text-align: center;\n",
       "}\n",
       "\n",
       "/* Estimator-specific */\n",
       "#sk-container-id-11 div.sk-estimator {\n",
       "  font-family: monospace;\n",
       "  border: 1px dotted var(--sklearn-color-border-box);\n",
       "  border-radius: 0.25em;\n",
       "  box-sizing: border-box;\n",
       "  margin-bottom: 0.5em;\n",
       "  /* unfitted */\n",
       "  background-color: var(--sklearn-color-unfitted-level-0);\n",
       "}\n",
       "\n",
       "#sk-container-id-11 div.sk-estimator.fitted {\n",
       "  /* fitted */\n",
       "  background-color: var(--sklearn-color-fitted-level-0);\n",
       "}\n",
       "\n",
       "/* on hover */\n",
       "#sk-container-id-11 div.sk-estimator:hover {\n",
       "  /* unfitted */\n",
       "  background-color: var(--sklearn-color-unfitted-level-2);\n",
       "}\n",
       "\n",
       "#sk-container-id-11 div.sk-estimator.fitted:hover {\n",
       "  /* fitted */\n",
       "  background-color: var(--sklearn-color-fitted-level-2);\n",
       "}\n",
       "\n",
       "/* Specification for estimator info (e.g. \"i\" and \"?\") */\n",
       "\n",
       "/* Common style for \"i\" and \"?\" */\n",
       "\n",
       ".sk-estimator-doc-link,\n",
       "a:link.sk-estimator-doc-link,\n",
       "a:visited.sk-estimator-doc-link {\n",
       "  float: right;\n",
       "  font-size: smaller;\n",
       "  line-height: 1em;\n",
       "  font-family: monospace;\n",
       "  background-color: var(--sklearn-color-background);\n",
       "  border-radius: 1em;\n",
       "  height: 1em;\n",
       "  width: 1em;\n",
       "  text-decoration: none !important;\n",
       "  margin-left: 0.5em;\n",
       "  text-align: center;\n",
       "  /* unfitted */\n",
       "  border: var(--sklearn-color-unfitted-level-1) 1pt solid;\n",
       "  color: var(--sklearn-color-unfitted-level-1);\n",
       "}\n",
       "\n",
       ".sk-estimator-doc-link.fitted,\n",
       "a:link.sk-estimator-doc-link.fitted,\n",
       "a:visited.sk-estimator-doc-link.fitted {\n",
       "  /* fitted */\n",
       "  border: var(--sklearn-color-fitted-level-1) 1pt solid;\n",
       "  color: var(--sklearn-color-fitted-level-1);\n",
       "}\n",
       "\n",
       "/* On hover */\n",
       "div.sk-estimator:hover .sk-estimator-doc-link:hover,\n",
       ".sk-estimator-doc-link:hover,\n",
       "div.sk-label-container:hover .sk-estimator-doc-link:hover,\n",
       ".sk-estimator-doc-link:hover {\n",
       "  /* unfitted */\n",
       "  background-color: var(--sklearn-color-unfitted-level-3);\n",
       "  color: var(--sklearn-color-background);\n",
       "  text-decoration: none;\n",
       "}\n",
       "\n",
       "div.sk-estimator.fitted:hover .sk-estimator-doc-link.fitted:hover,\n",
       ".sk-estimator-doc-link.fitted:hover,\n",
       "div.sk-label-container:hover .sk-estimator-doc-link.fitted:hover,\n",
       ".sk-estimator-doc-link.fitted:hover {\n",
       "  /* fitted */\n",
       "  background-color: var(--sklearn-color-fitted-level-3);\n",
       "  color: var(--sklearn-color-background);\n",
       "  text-decoration: none;\n",
       "}\n",
       "\n",
       "/* Span, style for the box shown on hovering the info icon */\n",
       ".sk-estimator-doc-link span {\n",
       "  display: none;\n",
       "  z-index: 9999;\n",
       "  position: relative;\n",
       "  font-weight: normal;\n",
       "  right: .2ex;\n",
       "  padding: .5ex;\n",
       "  margin: .5ex;\n",
       "  width: min-content;\n",
       "  min-width: 20ex;\n",
       "  max-width: 50ex;\n",
       "  color: var(--sklearn-color-text);\n",
       "  box-shadow: 2pt 2pt 4pt #999;\n",
       "  /* unfitted */\n",
       "  background: var(--sklearn-color-unfitted-level-0);\n",
       "  border: .5pt solid var(--sklearn-color-unfitted-level-3);\n",
       "}\n",
       "\n",
       ".sk-estimator-doc-link.fitted span {\n",
       "  /* fitted */\n",
       "  background: var(--sklearn-color-fitted-level-0);\n",
       "  border: var(--sklearn-color-fitted-level-3);\n",
       "}\n",
       "\n",
       ".sk-estimator-doc-link:hover span {\n",
       "  display: block;\n",
       "}\n",
       "\n",
       "/* \"?\"-specific style due to the `<a>` HTML tag */\n",
       "\n",
       "#sk-container-id-11 a.estimator_doc_link {\n",
       "  float: right;\n",
       "  font-size: 1rem;\n",
       "  line-height: 1em;\n",
       "  font-family: monospace;\n",
       "  background-color: var(--sklearn-color-background);\n",
       "  border-radius: 1rem;\n",
       "  height: 1rem;\n",
       "  width: 1rem;\n",
       "  text-decoration: none;\n",
       "  /* unfitted */\n",
       "  color: var(--sklearn-color-unfitted-level-1);\n",
       "  border: var(--sklearn-color-unfitted-level-1) 1pt solid;\n",
       "}\n",
       "\n",
       "#sk-container-id-11 a.estimator_doc_link.fitted {\n",
       "  /* fitted */\n",
       "  border: var(--sklearn-color-fitted-level-1) 1pt solid;\n",
       "  color: var(--sklearn-color-fitted-level-1);\n",
       "}\n",
       "\n",
       "/* On hover */\n",
       "#sk-container-id-11 a.estimator_doc_link:hover {\n",
       "  /* unfitted */\n",
       "  background-color: var(--sklearn-color-unfitted-level-3);\n",
       "  color: var(--sklearn-color-background);\n",
       "  text-decoration: none;\n",
       "}\n",
       "\n",
       "#sk-container-id-11 a.estimator_doc_link.fitted:hover {\n",
       "  /* fitted */\n",
       "  background-color: var(--sklearn-color-fitted-level-3);\n",
       "}\n",
       "</style><div id=\"sk-container-id-11\" class=\"sk-top-container\"><div class=\"sk-text-repr-fallback\"><pre>AffinityPropagation(damping=0.6, preference=-30.201, random_state=42)</pre><b>In a Jupyter environment, please rerun this cell to show the HTML representation or trust the notebook. <br />On GitHub, the HTML representation is unable to render, please try loading this page with nbviewer.org.</b></div><div class=\"sk-container\" hidden><div class=\"sk-item\"><div class=\"sk-estimator fitted sk-toggleable\"><input class=\"sk-toggleable__control sk-hidden--visually\" id=\"sk-estimator-id-11\" type=\"checkbox\" checked><label for=\"sk-estimator-id-11\" class=\"sk-toggleable__label fitted sk-toggleable__label-arrow\"><div><div>AffinityPropagation</div></div><div><a class=\"sk-estimator-doc-link fitted\" rel=\"noreferrer\" target=\"_blank\" href=\"https://scikit-learn.org/1.6/modules/generated/sklearn.cluster.AffinityPropagation.html\">?<span>Documentation for AffinityPropagation</span></a><span class=\"sk-estimator-doc-link fitted\">i<span>Fitted</span></span></div></label><div class=\"sk-toggleable__content fitted\"><pre>AffinityPropagation(damping=0.6, preference=-30.201, random_state=42)</pre></div> </div></div></div></div>"
      ],
      "text/plain": [
       "AffinityPropagation(damping=0.6, preference=-30.201, random_state=42)"
      ]
     },
     "execution_count": 167,
     "metadata": {},
     "output_type": "execute_result"
    }
   ],
   "source": [
    "ap = AffinityPropagation(random_state=42, damping=0.6, preference=-30.201)\n",
    "ap.fit(X)"
   ]
  },
  {
   "cell_type": "markdown",
   "metadata": {
    "id": "zlPbVHTzneHk"
   },
   "source": [
    "### 2. Biểu diễn phân cụm"
   ]
  },
  {
   "cell_type": "code",
   "execution_count": 168,
   "metadata": {
    "colab": {
     "base_uri": "https://localhost:8080/",
     "height": 686
    },
    "executionInfo": {
     "elapsed": 341,
     "status": "ok",
     "timestamp": 1745741087041,
     "user": {
      "displayName": "CƯỜNG ĐẶNG XUÂN",
      "userId": "00956941829870484129"
     },
     "user_tz": -420
    },
    "id": "NUs2757XmCzT",
    "outputId": "e6cde68c-8dc9-4dee-c8d1-36b0f1d83dcf"
   },
   "outputs": [
    {
     "data": {
      "image/png": "[encoded data removed]",
      "text/plain": [
       "<Figure size 1600x600 with 1 Axes>"
      ]
     },
     "metadata": {},
     "output_type": "display_data"
    }
   ],
   "source": [
    "# Giảm số chiều về 2\n",
    "X_2d = PCA(n_components=2).fit_transform(X)\n",
    "\n",
    "labels = ap.labels_\n",
    "exemplars = ap.cluster_centers_indices_\n",
    "\n",
    "plt.figure(figsize=(16, 6))\n",
    "for cluster in set(labels):\n",
    "    plt.scatter(\n",
    "        X_2d[labels == cluster, 0],\n",
    "        X_2d[labels == cluster, 1],\n",
    "        label=f\"Cluster {cluster}\",\n",
    "    )\n",
    "plt.scatter(\n",
    "    X_2d[exemplars, 0],\n",
    "    X_2d[exemplars, 1],\n",
    "    c=\"black\",\n",
    "    marker=\"x\",\n",
    "    s=250,\n",
    "    label=\"Exemplars\",\n",
    "    edgecolors=\"white\",\n",
    ")\n",
    "plt.legend()\n",
    "plt.title(\"Affinity Propagation Clustering\")\n",
    "plt.show()"
   ]
  },
  {
   "cell_type": "markdown",
   "metadata": {
    "id": "PptI1DAZFj1j"
   },
   "source": [
    "# Hyperparameter Optimization"
   ]
  },
  {
   "cell_type": "markdown",
   "metadata": {
    "id": "C37aWFLyovxS"
   },
   "source": [
    "### 1. Grid Search"
   ]
  },
  {
   "cell_type": "code",
   "execution_count": 155,
   "metadata": {
    "colab": {
     "base_uri": "https://localhost:8080/"
    },
    "executionInfo": {
     "elapsed": 156383,
     "status": "ok",
     "timestamp": 1745740217788,
     "user": {
      "displayName": "CƯỜNG ĐẶNG XUÂN",
      "userId": "00956941829870484129"
     },
     "user_tz": -420
    },
    "id": "QFYA8TBgzjJX",
    "outputId": "6e618f78-262a-4210-fd11-a86e0f642bf7"
   },
   "outputs": [],
   "source": [
    "# Không gian tìm kiếm\n",
    "param_grid = {\n",
    "    \"damping\": np.linspace(0.5, 0.9, 5),\n",
    "    \"preference\": np.linspace(-300, 0, 150),\n",
    "}\n",
    "\n",
    "\n",
    "grid = ParameterGrid(param_grid)\n",
    "\n",
    "# Lưu trữ kết quả tốt nhất\n",
    "top_results = []\n",
    "\n",
    "for params in grid:\n",
    "    model = AffinityPropagation(\n",
    "        damping=params[\"damping\"], preference=params[\"preference\"], random_state=42\n",
    "    )\n",
    "    labels = model.fit_predict(X)\n",
    "    n_clusters = len(set(labels))\n",
    "\n",
    "    if n_clusters <= 1 or n_clusters >= len(X):\n",
    "        continue\n",
    "\n",
    "    score = silhouette_score(X, labels)\n",
    "\n",
    "    top_results.append(\n",
    "        {\n",
    "            \"params\": params,\n",
    "            \"score\": score,\n",
    "            \"n_clusters\": n_clusters,\n",
    "            \"labels\": labels,\n",
    "            \"model\": model,\n",
    "        }\n",
    "    )"
   ]
  },
  {
   "cell_type": "code",
   "execution_count": 156,
   "metadata": {},
   "outputs": [
    {
     "name": "stdout",
     "output_type": "stream",
     "text": [
      "+------------------------------------+\n",
      "| Top 1                              |\n",
      "+------------------------------------+\n",
      "| Silhouette: 0.371                  |\n",
      "| Số cụm (k): 26                     |\n",
      "| Tham số tối ưu:                    |\n",
      "|   + Damping: 0.700                 |\n",
      "|   + Preference: -2.013             |\n",
      "+------------------------------------+\n",
      "\n",
      "+------------------------------------+\n",
      "| Top 2                              |\n",
      "+------------------------------------+\n",
      "| Silhouette: 0.371                  |\n",
      "| Số cụm (k): 26                     |\n",
      "| Tham số tối ưu:                    |\n",
      "|   + Damping: 0.800                 |\n",
      "|   + Preference: -2.013             |\n",
      "+------------------------------------+\n",
      "\n",
      "+------------------------------------+\n",
      "| Top 3                              |\n",
      "+------------------------------------+\n",
      "| Silhouette: 0.371                  |\n",
      "| Số cụm (k): 26                     |\n",
      "| Tham số tối ưu:                    |\n",
      "|   + Damping: 0.900                 |\n",
      "|   + Preference: -2.013             |\n",
      "+------------------------------------+\n",
      "\n",
      "+------------------------------------+\n",
      "| Top 4                              |\n",
      "+------------------------------------+\n",
      "| Silhouette: 0.367                  |\n",
      "| Số cụm (k): 28                     |\n",
      "| Tham số tối ưu:                    |\n",
      "|   + Damping: 0.500                 |\n",
      "|   + Preference: -2.013             |\n",
      "+------------------------------------+\n",
      "\n",
      "+------------------------------------+\n",
      "| Top 5                              |\n",
      "+------------------------------------+\n",
      "| Silhouette: 0.367                  |\n",
      "| Số cụm (k): 28                     |\n",
      "| Tham số tối ưu:                    |\n",
      "|   + Damping: 0.600                 |\n",
      "|   + Preference: -2.013             |\n",
      "+------------------------------------+\n",
      "\n"
     ]
    }
   ],
   "source": [
    "top_results = sorted(top_results, key=lambda x: x[\"score\"], reverse=True)[:5] # Lấy kết quả tốt nhất\n",
    "for i, res in enumerate(top_results):\n",
    "    print(\"+\" + \"-\" * 36 + \"+\")\n",
    "    print(f\"| Top {i+1:<31}|\") \n",
    "    print(\"+\" + \"-\" * 36 + \"+\")\n",
    "    print(f\"| Silhouette: {res['score']:<23.3f}|\")\n",
    "    print(f\"| Số cụm (k): {res['n_clusters']:<23}|\")\n",
    "    print(f\"| {'Tham số tối ưu: ':<35}|\")\n",
    "    print(f\"|   + Damping: {res['params']['damping']:<22.3f}|\")\n",
    "    print(f\"|   + Preference: {res['params']['preference']:<18.3f} |\")\n",
    "    print(\"+\" + \"-\" * 36 + \"+\\n\")"
   ]
  },
  {
   "cell_type": "markdown",
   "metadata": {
    "id": "fNOqiNK_sk3E"
   },
   "source": [
    "### 2. Optuna"
   ]
  },
  {
   "cell_type": "markdown",
   "metadata": {},
   "source": [
    "|Tính năng | Ý nghĩa |\n",
    "|---|---|\n",
    "|Sơ đồ dòng tối ưu hóa | Hiểu tổng quan quá trình|\n",
    "|Early Stopping (Pruning) | Tiết kiệm thời gian|\n",
    "|Visualization | Nhìn thấy quá trình tối ưu trực quan|"
   ]
  },
  {
   "cell_type": "code",
   "execution_count": 157,
   "metadata": {
    "id": "BLmX7QcWsn0j"
   },
   "outputs": [],
   "source": [
    "# Không gian tìm kiếm\n",
    "damping_values = np.linspace(0.5, 0.9, 5)\n",
    "preference_values = np.linspace(-300, 0, 150)\n",
    "\n",
    "# Lưu kết quả tốt nhất\n",
    "top_results = []\n",
    "\n",
    "\n",
    "def objective(trial):\n",
    "    damping = trial.suggest_categorical(\"damping\", damping_values.tolist())\n",
    "    preference = trial.suggest_categorical(\"preference\", preference_values.tolist())\n",
    "\n",
    "    model = AffinityPropagation(damping=damping, preference=preference, random_state=42)\n",
    "    labels = model.fit_predict(X)\n",
    "    n_clusters = len(set(labels))\n",
    "\n",
    "    if n_clusters <= 1 or n_clusters >= len(X):\n",
    "        trial.report(0.0, step=0)\n",
    "        raise optuna.exceptions.TrialPruned()\n",
    "\n",
    "    score = silhouette_score(X, labels)\n",
    "\n",
    "    trial.report(score, step=0)\n",
    "\n",
    "    if trial.should_prune():\n",
    "        raise optuna.exceptions.TrialPruned()\n",
    "\n",
    "    top_results.append(\n",
    "        {\n",
    "            \"score\": score,\n",
    "            \"params\": {\"damping\": damping, \"preference\": preference},\n",
    "            \"n_clusters\": n_clusters,\n",
    "            \"labels\": labels,\n",
    "        }\n",
    "    )\n",
    "\n",
    "    return score"
   ]
  },
  {
   "cell_type": "code",
   "execution_count": 158,
   "metadata": {},
   "outputs": [
    {
     "name": "stderr",
     "output_type": "stream",
     "text": [
      "[I 2025-05-07 18:26:20,062] A new study created in memory with name: no-name-63ff200b-7cb3-4ca8-90c0-b9d7d200e4f4\n",
      "[I 2025-05-07 18:26:20,087] Trial 0 pruned. \n",
      "[I 2025-05-07 18:26:20,110] Trial 1 finished with value: 0.34106192503535016 and parameters: {'damping': 0.8, 'preference': -78.5234899328859}. Best is trial 1 with value: 0.34106192503535016.\n",
      "[I 2025-05-07 18:26:20,135] Trial 2 pruned. \n",
      "[I 2025-05-07 18:26:20,146] Trial 3 pruned. \n",
      "[I 2025-05-07 18:26:20,158] Trial 4 finished with value: 0.2943708379712696 and parameters: {'damping': 0.9, 'preference': -167.11409395973152}. Best is trial 4 with value: 0.2943708379712696.\n",
      "[I 2025-05-07 18:26:20,169] Trial 5 finished with value: 0.2943708379712696 and parameters: {'damping': 0.9, 'preference': -153.0201342281879}. Best is trial 4 with value: 0.2943708379712696.\n",
      "[I 2025-05-07 18:26:20,180] Trial 6 finished with value: 0.3098387560207553 and parameters: {'damping': 0.8, 'preference': -38.25503355704694}. Best is trial 4 with value: 0.2943708379712696.\n",
      "[I 2025-05-07 18:26:20,193] Trial 7 finished with value: 0.2886141300621668 and parameters: {'damping': 0.6, 'preference': -155.03355704697987}. Best is trial 7 with value: 0.2886141300621668.\n",
      "[I 2025-05-07 18:26:20,202] Trial 8 pruned. \n",
      "[I 2025-05-07 18:26:20,213] Trial 9 finished with value: 0.2886141300621668 and parameters: {'damping': 0.6, 'preference': -148.993288590604}. Best is trial 7 with value: 0.2886141300621668.\n",
      "[I 2025-05-07 18:26:20,223] Trial 10 pruned. \n",
      "[I 2025-05-07 18:26:20,235] Trial 11 finished with value: 0.2777959417023568 and parameters: {'damping': 0.6, 'preference': -106.71140939597313}. Best is trial 11 with value: 0.2777959417023568.\n",
      "[I 2025-05-07 18:26:20,247] Trial 12 finished with value: 0.2633555102427336 and parameters: {'damping': 0.6, 'preference': -100.67114093959731}. Best is trial 12 with value: 0.2633555102427336.\n",
      "[I 2025-05-07 18:26:20,260] Trial 13 finished with value: 0.28557942363015815 and parameters: {'damping': 0.6, 'preference': -126.8456375838926}. Best is trial 12 with value: 0.2633555102427336.\n",
      "[I 2025-05-07 18:26:20,270] Trial 14 finished with value: 0.34644581038126887 and parameters: {'damping': 0.7, 'preference': -68.45637583892616}. Best is trial 12 with value: 0.2633555102427336.\n",
      "[I 2025-05-07 18:26:20,286] Trial 15 pruned. \n",
      "[I 2025-05-07 18:26:20,303] Trial 16 pruned. \n",
      "[I 2025-05-07 18:26:20,317] Trial 17 pruned. \n",
      "[I 2025-05-07 18:26:20,329] Trial 18 finished with value: 0.2777959417023568 and parameters: {'damping': 0.6, 'preference': -106.71140939597313}. Best is trial 12 with value: 0.2633555102427336.\n",
      "[I 2025-05-07 18:26:20,341] Trial 19 pruned. \n",
      "[I 2025-05-07 18:26:20,358] Trial 20 pruned. \n",
      "[I 2025-05-07 18:26:20,368] Trial 21 pruned. \n",
      "[I 2025-05-07 18:26:20,380] Trial 22 pruned. \n",
      "[I 2025-05-07 18:26:20,392] Trial 23 finished with value: 0.2633555102427336 and parameters: {'damping': 0.6, 'preference': -100.67114093959731}. Best is trial 12 with value: 0.2633555102427336.\n",
      "[I 2025-05-07 18:26:20,404] Trial 24 finished with value: 0.2886141300621668 and parameters: {'damping': 0.6, 'preference': -181.20805369127515}. Best is trial 12 with value: 0.2633555102427336.\n",
      "[I 2025-05-07 18:26:20,414] Trial 25 pruned. \n",
      "[I 2025-05-07 18:26:20,426] Trial 26 pruned. \n",
      "[I 2025-05-07 18:26:20,438] Trial 27 pruned. \n",
      "[I 2025-05-07 18:26:20,448] Trial 28 pruned. \n",
      "[I 2025-05-07 18:26:20,461] Trial 29 finished with value: 0.2633555102427336 and parameters: {'damping': 0.6, 'preference': -100.67114093959731}. Best is trial 12 with value: 0.2633555102427336.\n",
      "[I 2025-05-07 18:26:20,472] Trial 30 pruned. \n",
      "[I 2025-05-07 18:26:20,485] Trial 31 pruned. \n",
      "[I 2025-05-07 18:26:20,498] Trial 32 finished with value: 0.2633555102427336 and parameters: {'damping': 0.6, 'preference': -100.67114093959731}. Best is trial 12 with value: 0.2633555102427336.\n",
      "[I 2025-05-07 18:26:20,509] Trial 33 finished with value: 0.28557942363015815 and parameters: {'damping': 0.8, 'preference': -151.00671140939596}. Best is trial 12 with value: 0.2633555102427336.\n",
      "[I 2025-05-07 18:26:20,518] Trial 34 pruned. \n",
      "[I 2025-05-07 18:26:20,530] Trial 35 pruned. \n",
      "[I 2025-05-07 18:26:20,544] Trial 36 pruned. \n",
      "[I 2025-05-07 18:26:20,558] Trial 37 pruned. \n",
      "[I 2025-05-07 18:26:20,571] Trial 38 finished with value: 0.2633555102427336 and parameters: {'damping': 0.6, 'preference': -100.67114093959731}. Best is trial 12 with value: 0.2633555102427336.\n",
      "[I 2025-05-07 18:26:20,585] Trial 39 pruned. \n",
      "[I 2025-05-07 18:26:20,596] Trial 40 pruned. \n",
      "[I 2025-05-07 18:26:20,609] Trial 41 finished with value: 0.2633555102427336 and parameters: {'damping': 0.6, 'preference': -100.67114093959731}. Best is trial 12 with value: 0.2633555102427336.\n",
      "[I 2025-05-07 18:26:20,621] Trial 42 finished with value: 0.2633555102427336 and parameters: {'damping': 0.6, 'preference': -100.67114093959731}. Best is trial 12 with value: 0.2633555102427336.\n",
      "[I 2025-05-07 18:26:20,633] Trial 43 pruned. \n",
      "[I 2025-05-07 18:26:20,646] Trial 44 finished with value: 0.25741307944135905 and parameters: {'damping': 0.6, 'preference': -191.27516778523488}. Best is trial 44 with value: 0.25741307944135905.\n",
      "[I 2025-05-07 18:26:20,659] Trial 45 pruned. \n",
      "[I 2025-05-07 18:26:20,672] Trial 46 finished with value: 0.25741307944135905 and parameters: {'damping': 0.6, 'preference': -191.27516778523488}. Best is trial 44 with value: 0.25741307944135905.\n",
      "[I 2025-05-07 18:26:20,685] Trial 47 pruned. \n",
      "[I 2025-05-07 18:26:20,696] Trial 48 pruned. \n",
      "[I 2025-05-07 18:26:20,709] Trial 49 pruned. \n",
      "[I 2025-05-07 18:26:20,721] Trial 50 pruned. \n",
      "[I 2025-05-07 18:26:20,735] Trial 51 pruned. \n",
      "[I 2025-05-07 18:26:20,749] Trial 52 finished with value: 0.25741307944135905 and parameters: {'damping': 0.6, 'preference': -191.27516778523488}. Best is trial 44 with value: 0.25741307944135905.\n",
      "[I 2025-05-07 18:26:20,763] Trial 53 finished with value: 0.25741307944135905 and parameters: {'damping': 0.6, 'preference': -191.27516778523488}. Best is trial 44 with value: 0.25741307944135905.\n",
      "[I 2025-05-07 18:26:20,774] Trial 54 pruned. \n",
      "[I 2025-05-07 18:26:20,789] Trial 55 finished with value: 0.25741307944135905 and parameters: {'damping': 0.6, 'preference': -191.27516778523488}. Best is trial 44 with value: 0.25741307944135905.\n",
      "[I 2025-05-07 18:26:20,804] Trial 56 finished with value: 0.25741307944135905 and parameters: {'damping': 0.6, 'preference': -191.27516778523488}. Best is trial 44 with value: 0.25741307944135905.\n",
      "[I 2025-05-07 18:26:20,817] Trial 57 pruned. \n",
      "[I 2025-05-07 18:26:20,831] Trial 58 finished with value: 0.25741307944135905 and parameters: {'damping': 0.6, 'preference': -191.27516778523488}. Best is trial 44 with value: 0.25741307944135905.\n",
      "[I 2025-05-07 18:26:20,846] Trial 59 finished with value: 0.25741307944135905 and parameters: {'damping': 0.6, 'preference': -191.27516778523488}. Best is trial 44 with value: 0.25741307944135905.\n",
      "[I 2025-05-07 18:26:20,857] Trial 60 pruned. \n",
      "[I 2025-05-07 18:26:20,871] Trial 61 finished with value: 0.25741307944135905 and parameters: {'damping': 0.6, 'preference': -191.27516778523488}. Best is trial 44 with value: 0.25741307944135905.\n",
      "[I 2025-05-07 18:26:20,885] Trial 62 finished with value: 0.25741307944135905 and parameters: {'damping': 0.6, 'preference': -175.16778523489933}. Best is trial 44 with value: 0.25741307944135905.\n",
      "[I 2025-05-07 18:26:20,899] Trial 63 finished with value: 0.25741307944135905 and parameters: {'damping': 0.6, 'preference': -191.27516778523488}. Best is trial 44 with value: 0.25741307944135905.\n",
      "[I 2025-05-07 18:26:20,913] Trial 64 pruned. \n",
      "[I 2025-05-07 18:26:20,926] Trial 65 finished with value: 0.25741307944135905 and parameters: {'damping': 0.6, 'preference': -191.27516778523488}. Best is trial 44 with value: 0.25741307944135905.\n",
      "[I 2025-05-07 18:26:20,938] Trial 66 pruned. \n",
      "[I 2025-05-07 18:26:20,950] Trial 67 pruned. \n",
      "[I 2025-05-07 18:26:20,961] Trial 68 pruned. \n",
      "[I 2025-05-07 18:26:20,972] Trial 69 pruned. \n",
      "[I 2025-05-07 18:26:20,984] Trial 70 pruned. \n",
      "[I 2025-05-07 18:26:20,998] Trial 71 finished with value: 0.25741307944135905 and parameters: {'damping': 0.6, 'preference': -191.27516778523488}. Best is trial 44 with value: 0.25741307944135905.\n",
      "[I 2025-05-07 18:26:21,012] Trial 72 pruned. \n",
      "[I 2025-05-07 18:26:21,023] Trial 73 pruned. \n",
      "[I 2025-05-07 18:26:21,039] Trial 74 pruned. \n",
      "[I 2025-05-07 18:26:21,053] Trial 75 pruned. \n",
      "[I 2025-05-07 18:26:21,070] Trial 76 pruned. \n",
      "[I 2025-05-07 18:26:21,083] Trial 77 pruned. \n",
      "[I 2025-05-07 18:26:21,096] Trial 78 pruned. \n",
      "[I 2025-05-07 18:26:21,110] Trial 79 pruned. \n",
      "[I 2025-05-07 18:26:21,137] Trial 80 pruned. \n",
      "[I 2025-05-07 18:26:21,155] Trial 81 finished with value: 0.25741307944135905 and parameters: {'damping': 0.6, 'preference': -191.27516778523488}. Best is trial 44 with value: 0.25741307944135905.\n",
      "[I 2025-05-07 18:26:21,173] Trial 82 pruned. \n",
      "[I 2025-05-07 18:26:21,188] Trial 83 finished with value: 0.25741307944135905 and parameters: {'damping': 0.6, 'preference': -191.27516778523488}. Best is trial 44 with value: 0.25741307944135905.\n",
      "[I 2025-05-07 18:26:21,203] Trial 84 pruned. \n",
      "[I 2025-05-07 18:26:21,216] Trial 85 pruned. \n",
      "[I 2025-05-07 18:26:21,230] Trial 86 pruned. \n",
      "[I 2025-05-07 18:26:21,248] Trial 87 pruned. \n",
      "[I 2025-05-07 18:26:21,268] Trial 88 pruned. \n",
      "[I 2025-05-07 18:26:21,290] Trial 89 pruned. \n",
      "[I 2025-05-07 18:26:21,310] Trial 90 pruned. \n",
      "[I 2025-05-07 18:26:21,325] Trial 91 pruned. \n",
      "[I 2025-05-07 18:26:21,339] Trial 92 pruned. \n",
      "[I 2025-05-07 18:26:21,350] Trial 93 pruned. \n",
      "[I 2025-05-07 18:26:21,361] Trial 94 pruned. \n",
      "[I 2025-05-07 18:26:21,374] Trial 95 pruned. \n",
      "[I 2025-05-07 18:26:21,386] Trial 96 pruned. \n",
      "[I 2025-05-07 18:26:21,401] Trial 97 pruned. \n",
      "[I 2025-05-07 18:26:21,413] Trial 98 pruned. \n",
      "[I 2025-05-07 18:26:21,431] Trial 99 pruned. \n"
     ]
    }
   ],
   "source": [
    "# Tạo Study có pruner\n",
    "pruner = MedianPruner(n_startup_trials=10, n_warmup_steps=0)\n",
    "study = optuna.create_study(direction='minimize', pruner=pruner)\n",
    "study.optimize(objective, n_trials=100)"
   ]
  },
  {
   "cell_type": "code",
   "execution_count": 159,
   "metadata": {},
   "outputs": [
    {
     "data": {
      "application/vnd.plotly.v1+json": {
       "config": {
        "plotlyServerURL": "https://plot.ly"
       },
       "data": [
        {
         "mode": "markers",
         "name": "Objective Value",
         "type": "scatter",
         "x": [
          1,
          4,
          5,
          6,
          7,
          9,
          11,
          12,
          13,
          14,
          18,
          23,
          24,
          29,
          32,
          33,
          38,
          41,
          42,
          44,
          46,
          52,
          53,
          55,
          56,
          58,
          59,
          61,
          62,
          63,
          65,
          71,
          81,
          83
         ],
         "y": [
          0.34106192503535016,
          0.2943708379712696,
          0.2943708379712696,
          0.3098387560207553,
          0.2886141300621668,
          0.2886141300621668,
          0.2777959417023568,
          0.2633555102427336,
          0.28557942363015815,
          0.34644581038126887,
          0.2777959417023568,
          0.2633555102427336,
          0.2886141300621668,
          0.2633555102427336,
          0.2633555102427336,
          0.28557942363015815,
          0.2633555102427336,
          0.2633555102427336,
          0.2633555102427336,
          0.25741307944135905,
          0.25741307944135905,
          0.25741307944135905,
          0.25741307944135905,
          0.25741307944135905,
          0.25741307944135905,
          0.25741307944135905,
          0.25741307944135905,
          0.25741307944135905,
          0.25741307944135905,
          0.25741307944135905,
          0.25741307944135905,
          0.25741307944135905,
          0.25741307944135905,
          0.25741307944135905
         ]
        },
        {
         "mode": "lines",
         "name": "Best Value",
         "type": "scatter",
         "x": [
          0,
          1,
          2,
          3,
          4,
          5,
          6,
          7,
          8,
          9,
          10,
          11,
          12,
          13,
          14,
          15,
          16,
          17,
          18,
          19,
          20,
          21,
          22,
          23,
          24,
          25,
          26,
          27,
          28,
          29,
          30,
          31,
          32,
          33,
          34,
          35,
          36,
          37,
          38,
          39,
          40,
          41,
          42,
          43,
          44,
          45,
          46,
          47,
          48,
          49,
          50,
          51,
          52,
          53,
          54,
          55,
          56,
          57,
          58,
          59,
          60,
          61,
          62,
          63,
          64,
          65,
          66,
          67,
          68,
          69,
          70,
          71,
          72,
          73,
          74,
          75,
          76,
          77,
          78,
          79,
          80,
          81,
          82,
          83,
          84,
          85,
          86,
          87,
          88,
          89,
          90,
          91,
          92,
          93,
          94,
          95,
          96,
          97,
          98,
          99
         ],
         "y": [
          null,
          0.34106192503535016,
          0.34106192503535016,
          0.34106192503535016,
          0.2943708379712696,
          0.2943708379712696,
          0.2943708379712696,
          0.2886141300621668,
          0.2886141300621668,
          0.2886141300621668,
          0.2886141300621668,
          0.2777959417023568,
          0.2633555102427336,
          0.2633555102427336,
          0.2633555102427336,
          0.2633555102427336,
          0.2633555102427336,
          0.2633555102427336,
          0.2633555102427336,
          0.2633555102427336,
          0.2633555102427336,
          0.2633555102427336,
          0.2633555102427336,
          0.2633555102427336,
          0.2633555102427336,
          0.2633555102427336,
          0.2633555102427336,
          0.2633555102427336,
          0.2633555102427336,
          0.2633555102427336,
          0.2633555102427336,
          0.2633555102427336,
          0.2633555102427336,
          0.2633555102427336,
          0.2633555102427336,
          0.2633555102427336,
          0.2633555102427336,
          0.2633555102427336,
          0.2633555102427336,
          0.2633555102427336,
          0.2633555102427336,
          0.2633555102427336,
          0.2633555102427336,
          0.2633555102427336,
          0.25741307944135905,
          0.25741307944135905,
          0.25741307944135905,
          0.25741307944135905,
          0.25741307944135905,
          0.25741307944135905,
          0.25741307944135905,
          0.25741307944135905,
          0.25741307944135905,
          0.25741307944135905,
          0.25741307944135905,
          0.25741307944135905,
          0.25741307944135905,
          0.25741307944135905,
          0.25741307944135905,
          0.25741307944135905,
          0.25741307944135905,
          0.25741307944135905,
          0.25741307944135905,
          0.25741307944135905,
          0.25741307944135905,
          0.25741307944135905,
          0.25741307944135905,
          0.25741307944135905,
          0.25741307944135905,
          0.25741307944135905,
          0.25741307944135905,
          0.25741307944135905,
          0.25741307944135905,
          0.25741307944135905,
          0.25741307944135905,
          0.25741307944135905,
          0.25741307944135905,
          0.25741307944135905,
          0.25741307944135905,
          0.25741307944135905,
          0.25741307944135905,
          0.25741307944135905,
          0.25741307944135905,
          0.25741307944135905,
          0.25741307944135905,
          0.25741307944135905,
          0.25741307944135905,
          0.25741307944135905,
          0.25741307944135905,
          0.25741307944135905,
          0.25741307944135905,
          0.25741307944135905,
          0.25741307944135905,
          0.25741307944135905,
          0.25741307944135905,
          0.25741307944135905,
          0.25741307944135905,
          0.25741307944135905,
          0.25741307944135905,
          0.25741307944135905
         ]
        },
        {
         "marker": {
          "color": "#cccccc"
         },
         "mode": "markers",
         "name": "Infeasible Trial",
         "showlegend": false,
         "type": "scatter",
         "x": [],
         "y": []
        }
       ],
       "layout": {
        "template": {
         "data": {
          "bar": [
           {
            "error_x": {
             "color": "#2a3f5f"
            },
            "error_y": {
             "color": "#2a3f5f"
            },
            "marker": {
             "line": {
              "color": "#E5ECF6",
              "width": 0.5
             },
             "pattern": {
              "fillmode": "overlay",
              "size": 10,
              "solidity": 0.2
             }
            },
            "type": "bar"
           }
          ],
          "barpolar": [
           {
            "marker": {
             "line": {
              "color": "#E5ECF6",
              "width": 0.5
             },
             "pattern": {
              "fillmode": "overlay",
              "size": 10,
              "solidity": 0.2
             }
            },
            "type": "barpolar"
           }
          ],
          "carpet": [
           {
            "aaxis": {
             "endlinecolor": "#2a3f5f",
             "gridcolor": "white",
             "linecolor": "white",
             "minorgridcolor": "white",
             "startlinecolor": "#2a3f5f"
            },
            "baxis": {
             "endlinecolor": "#2a3f5f",
             "gridcolor": "white",
             "linecolor": "white",
             "minorgridcolor": "white",
             "startlinecolor": "#2a3f5f"
            },
            "type": "carpet"
           }
          ],
          "choropleth": [
           {
            "colorbar": {
             "outlinewidth": 0,
             "ticks": ""
            },
            "type": "choropleth"
           }
          ],
          "contour": [
           {
            "colorbar": {
             "outlinewidth": 0,
             "ticks": ""
            },
            "colorscale": [
             [
              0,
              "#0d0887"
             ],
             [
              0.1111111111111111,
              "#46039f"
             ],
             [
              0.2222222222222222,
              "#7201a8"
             ],
             [
              0.3333333333333333,
              "#9c179e"
             ],
             [
              0.4444444444444444,
              "#bd3786"
             ],
             [
              0.5555555555555556,
              "#d8576b"
             ],
             [
              0.6666666666666666,
              "#ed7953"
             ],
             [
              0.7777777777777778,
              "#fb9f3a"
             ],
             [
              0.8888888888888888,
              "#fdca26"
             ],
             [
              1,
              "#f0f921"
             ]
            ],
            "type": "contour"
           }
          ],
          "contourcarpet": [
           {
            "colorbar": {
             "outlinewidth": 0,
             "ticks": ""
            },
            "type": "contourcarpet"
           }
          ],
          "heatmap": [
           {
            "colorbar": {
             "outlinewidth": 0,
             "ticks": ""
            },
            "colorscale": [
             [
              0,
              "#0d0887"
             ],
             [
              0.1111111111111111,
              "#46039f"
             ],
             [
              0.2222222222222222,
              "#7201a8"
             ],
             [
              0.3333333333333333,
              "#9c179e"
             ],
             [
              0.4444444444444444,
              "#bd3786"
             ],
             [
              0.5555555555555556,
              "#d8576b"
             ],
             [
              0.6666666666666666,
              "#ed7953"
             ],
             [
              0.7777777777777778,
              "#fb9f3a"
             ],
             [
              0.8888888888888888,
              "#fdca26"
             ],
             [
              1,
              "#f0f921"
             ]
            ],
            "type": "heatmap"
           }
          ],
          "histogram": [
           {
            "marker": {
             "pattern": {
              "fillmode": "overlay",
              "size": 10,
              "solidity": 0.2
             }
            },
            "type": "histogram"
           }
          ],
          "histogram2d": [
           {
            "colorbar": {
             "outlinewidth": 0,
             "ticks": ""
            },
            "colorscale": [
             [
              0,
              "#0d0887"
             ],
             [
              0.1111111111111111,
              "#46039f"
             ],
             [
              0.2222222222222222,
              "#7201a8"
             ],
             [
              0.3333333333333333,
              "#9c179e"
             ],
             [
              0.4444444444444444,
              "#bd3786"
             ],
             [
              0.5555555555555556,
              "#d8576b"
             ],
             [
              0.6666666666666666,
              "#ed7953"
             ],
             [
              0.7777777777777778,
              "#fb9f3a"
             ],
             [
              0.8888888888888888,
              "#fdca26"
             ],
             [
              1,
              "#f0f921"
             ]
            ],
            "type": "histogram2d"
           }
          ],
          "histogram2dcontour": [
           {
            "colorbar": {
             "outlinewidth": 0,
             "ticks": ""
            },
            "colorscale": [
             [
              0,
              "#0d0887"
             ],
             [
              0.1111111111111111,
              "#46039f"
             ],
             [
              0.2222222222222222,
              "#7201a8"
             ],
             [
              0.3333333333333333,
              "#9c179e"
             ],
             [
              0.4444444444444444,
              "#bd3786"
             ],
             [
              0.5555555555555556,
              "#d8576b"
             ],
             [
              0.6666666666666666,
              "#ed7953"
             ],
             [
              0.7777777777777778,
              "#fb9f3a"
             ],
             [
              0.8888888888888888,
              "#fdca26"
             ],
             [
              1,
              "#f0f921"
             ]
            ],
            "type": "histogram2dcontour"
           }
          ],
          "mesh3d": [
           {
            "colorbar": {
             "outlinewidth": 0,
             "ticks": ""
            },
            "type": "mesh3d"
           }
          ],
          "parcoords": [
           {
            "line": {
             "colorbar": {
              "outlinewidth": 0,
              "ticks": ""
             }
            },
            "type": "parcoords"
           }
          ],
          "pie": [
           {
            "automargin": true,
            "type": "pie"
           }
          ],
          "scatter": [
           {
            "fillpattern": {
             "fillmode": "overlay",
             "size": 10,
             "solidity": 0.2
            },
            "type": "scatter"
           }
          ],
          "scatter3d": [
           {
            "line": {
             "colorbar": {
              "outlinewidth": 0,
              "ticks": ""
             }
            },
            "marker": {
             "colorbar": {
              "outlinewidth": 0,
              "ticks": ""
             }
            },
            "type": "scatter3d"
           }
          ],
          "scattercarpet": [
           {
            "marker": {
             "colorbar": {
              "outlinewidth": 0,
              "ticks": ""
             }
            },
            "type": "scattercarpet"
           }
          ],
          "scattergeo": [
           {
            "marker": {
             "colorbar": {
              "outlinewidth": 0,
              "ticks": ""
             }
            },
            "type": "scattergeo"
           }
          ],
          "scattergl": [
           {
            "marker": {
             "colorbar": {
              "outlinewidth": 0,
              "ticks": ""
             }
            },
            "type": "scattergl"
           }
          ],
          "scattermap": [
           {
            "marker": {
             "colorbar": {
              "outlinewidth": 0,
              "ticks": ""
             }
            },
            "type": "scattermap"
           }
          ],
          "scattermapbox": [
           {
            "marker": {
             "colorbar": {
              "outlinewidth": 0,
              "ticks": ""
             }
            },
            "type": "scattermapbox"
           }
          ],
          "scatterpolar": [
           {
            "marker": {
             "colorbar": {
              "outlinewidth": 0,
              "ticks": ""
             }
            },
            "type": "scatterpolar"
           }
          ],
          "scatterpolargl": [
           {
            "marker": {
             "colorbar": {
              "outlinewidth": 0,
              "ticks": ""
             }
            },
            "type": "scatterpolargl"
           }
          ],
          "scatterternary": [
           {
            "marker": {
             "colorbar": {
              "outlinewidth": 0,
              "ticks": ""
             }
            },
            "type": "scatterternary"
           }
          ],
          "surface": [
           {
            "colorbar": {
             "outlinewidth": 0,
             "ticks": ""
            },
            "colorscale": [
             [
              0,
              "#0d0887"
             ],
             [
              0.1111111111111111,
              "#46039f"
             ],
             [
              0.2222222222222222,
              "#7201a8"
             ],
             [
              0.3333333333333333,
              "#9c179e"
             ],
             [
              0.4444444444444444,
              "#bd3786"
             ],
             [
              0.5555555555555556,
              "#d8576b"
             ],
             [
              0.6666666666666666,
              "#ed7953"
             ],
             [
              0.7777777777777778,
              "#fb9f3a"
             ],
             [
              0.8888888888888888,
              "#fdca26"
             ],
             [
              1,
              "#f0f921"
             ]
            ],
            "type": "surface"
           }
          ],
          "table": [
           {
            "cells": {
             "fill": {
              "color": "#EBF0F8"
             },
             "line": {
              "color": "white"
             }
            },
            "header": {
             "fill": {
              "color": "#C8D4E3"
             },
             "line": {
              "color": "white"
             }
            },
            "type": "table"
           }
          ]
         },
         "layout": {
          "annotationdefaults": {
           "arrowcolor": "#2a3f5f",
           "arrowhead": 0,
           "arrowwidth": 1
          },
          "autotypenumbers": "strict",
          "coloraxis": {
           "colorbar": {
            "outlinewidth": 0,
            "ticks": ""
           }
          },
          "colorscale": {
           "diverging": [
            [
             0,
             "#8e0152"
            ],
            [
             0.1,
             "#c51b7d"
            ],
            [
             0.2,
             "#de77ae"
            ],
            [
             0.3,
             "#f1b6da"
            ],
            [
             0.4,
             "#fde0ef"
            ],
            [
             0.5,
             "#f7f7f7"
            ],
            [
             0.6,
             "#e6f5d0"
            ],
            [
             0.7,
             "#b8e186"
            ],
            [
             0.8,
             "#7fbc41"
            ],
            [
             0.9,
             "#4d9221"
            ],
            [
             1,
             "#276419"
            ]
           ],
           "sequential": [
            [
             0,
             "#0d0887"
            ],
            [
             0.1111111111111111,
             "#46039f"
            ],
            [
             0.2222222222222222,
             "#7201a8"
            ],
            [
             0.3333333333333333,
             "#9c179e"
            ],
            [
             0.4444444444444444,
             "#bd3786"
            ],
            [
             0.5555555555555556,
             "#d8576b"
            ],
            [
             0.6666666666666666,
             "#ed7953"
            ],
            [
             0.7777777777777778,
             "#fb9f3a"
            ],
            [
             0.8888888888888888,
             "#fdca26"
            ],
            [
             1,
             "#f0f921"
            ]
           ],
           "sequentialminus": [
            [
             0,
             "#0d0887"
            ],
            [
             0.1111111111111111,
             "#46039f"
            ],
            [
             0.2222222222222222,
             "#7201a8"
            ],
            [
             0.3333333333333333,
             "#9c179e"
            ],
            [
             0.4444444444444444,
             "#bd3786"
            ],
            [
             0.5555555555555556,
             "#d8576b"
            ],
            [
             0.6666666666666666,
             "#ed7953"
            ],
            [
             0.7777777777777778,
             "#fb9f3a"
            ],
            [
             0.8888888888888888,
             "#fdca26"
            ],
            [
             1,
             "#f0f921"
            ]
           ]
          },
          "colorway": [
           "#636efa",
           "#EF553B",
           "#00cc96",
           "#ab63fa",
           "#FFA15A",
           "#19d3f3",
           "#FF6692",
           "#B6E880",
           "#FF97FF",
           "#FECB52"
          ],
          "font": {
           "color": "#2a3f5f"
          },
          "geo": {
           "bgcolor": "white",
           "lakecolor": "white",
           "landcolor": "#E5ECF6",
           "showlakes": true,
           "showland": true,
           "subunitcolor": "white"
          },
          "hoverlabel": {
           "align": "left"
          },
          "hovermode": "closest",
          "mapbox": {
           "style": "light"
          },
          "paper_bgcolor": "white",
          "plot_bgcolor": "#E5ECF6",
          "polar": {
           "angularaxis": {
            "gridcolor": "white",
            "linecolor": "white",
            "ticks": ""
           },
           "bgcolor": "#E5ECF6",
           "radialaxis": {
            "gridcolor": "white",
            "linecolor": "white",
            "ticks": ""
           }
          },
          "scene": {
           "xaxis": {
            "backgroundcolor": "#E5ECF6",
            "gridcolor": "white",
            "gridwidth": 2,
            "linecolor": "white",
            "showbackground": true,
            "ticks": "",
            "zerolinecolor": "white"
           },
           "yaxis": {
            "backgroundcolor": "#E5ECF6",
            "gridcolor": "white",
            "gridwidth": 2,
            "linecolor": "white",
            "showbackground": true,
            "ticks": "",
            "zerolinecolor": "white"
           },
           "zaxis": {
            "backgroundcolor": "#E5ECF6",
            "gridcolor": "white",
            "gridwidth": 2,
            "linecolor": "white",
            "showbackground": true,
            "ticks": "",
            "zerolinecolor": "white"
           }
          },
          "shapedefaults": {
           "line": {
            "color": "#2a3f5f"
           }
          },
          "ternary": {
           "aaxis": {
            "gridcolor": "white",
            "linecolor": "white",
            "ticks": ""
           },
           "baxis": {
            "gridcolor": "white",
            "linecolor": "white",
            "ticks": ""
           },
           "bgcolor": "#E5ECF6",
           "caxis": {
            "gridcolor": "white",
            "linecolor": "white",
            "ticks": ""
           }
          },
          "title": {
           "x": 0.05
          },
          "xaxis": {
           "automargin": true,
           "gridcolor": "white",
           "linecolor": "white",
           "ticks": "",
           "title": {
            "standoff": 15
           },
           "zerolinecolor": "white",
           "zerolinewidth": 2
          },
          "yaxis": {
           "automargin": true,
           "gridcolor": "white",
           "linecolor": "white",
           "ticks": "",
           "title": {
            "standoff": 15
           },
           "zerolinecolor": "white",
           "zerolinewidth": 2
          }
         }
        },
        "title": {
         "text": "Optimization History Plot"
        },
        "xaxis": {
         "title": {
          "text": "Trial"
         }
        },
        "yaxis": {
         "title": {
          "text": "Objective Value"
         }
        }
       }
      }
     },
     "metadata": {},
     "output_type": "display_data"
    }
   ],
   "source": [
    "# Vẽ lịch sử tối ưu (Optimization History)\n",
    "optuna.visualization.plot_optimization_history(study).show()"
   ]
  },
  {
   "cell_type": "code",
   "execution_count": 160,
   "metadata": {},
   "outputs": [
    {
     "data": {
      "application/vnd.plotly.v1+json": {
       "config": {
        "plotlyServerURL": "https://plot.ly"
       },
       "data": [
        {
         "cliponaxis": false,
         "hovertemplate": [
          "preference (CategoricalDistribution): 0.2972480559830838<extra></extra>",
          "damping (CategoricalDistribution): 0.7027519440169162<extra></extra>"
         ],
         "name": "Objective Value",
         "orientation": "h",
         "text": [
          "0.30",
          "0.70"
         ],
         "textposition": "outside",
         "type": "bar",
         "x": [
          0.2972480559830838,
          0.7027519440169162
         ],
         "y": [
          "preference",
          "damping"
         ]
        }
       ],
       "layout": {
        "template": {
         "data": {
          "bar": [
           {
            "error_x": {
             "color": "#2a3f5f"
            },
            "error_y": {
             "color": "#2a3f5f"
            },
            "marker": {
             "line": {
              "color": "#E5ECF6",
              "width": 0.5
             },
             "pattern": {
              "fillmode": "overlay",
              "size": 10,
              "solidity": 0.2
             }
            },
            "type": "bar"
           }
          ],
          "barpolar": [
           {
            "marker": {
             "line": {
              "color": "#E5ECF6",
              "width": 0.5
             },
             "pattern": {
              "fillmode": "overlay",
              "size": 10,
              "solidity": 0.2
             }
            },
            "type": "barpolar"
           }
          ],
          "carpet": [
           {
            "aaxis": {
             "endlinecolor": "#2a3f5f",
             "gridcolor": "white",
             "linecolor": "white",
             "minorgridcolor": "white",
             "startlinecolor": "#2a3f5f"
            },
            "baxis": {
             "endlinecolor": "#2a3f5f",
             "gridcolor": "white",
             "linecolor": "white",
             "minorgridcolor": "white",
             "startlinecolor": "#2a3f5f"
            },
            "type": "carpet"
           }
          ],
          "choropleth": [
           {
            "colorbar": {
             "outlinewidth": 0,
             "ticks": ""
            },
            "type": "choropleth"
           }
          ],
          "contour": [
           {
            "colorbar": {
             "outlinewidth": 0,
             "ticks": ""
            },
            "colorscale": [
             [
              0,
              "#0d0887"
             ],
             [
              0.1111111111111111,
              "#46039f"
             ],
             [
              0.2222222222222222,
              "#7201a8"
             ],
             [
              0.3333333333333333,
              "#9c179e"
             ],
             [
              0.4444444444444444,
              "#bd3786"
             ],
             [
              0.5555555555555556,
              "#d8576b"
             ],
             [
              0.6666666666666666,
              "#ed7953"
             ],
             [
              0.7777777777777778,
              "#fb9f3a"
             ],
             [
              0.8888888888888888,
              "#fdca26"
             ],
             [
              1,
              "#f0f921"
             ]
            ],
            "type": "contour"
           }
          ],
          "contourcarpet": [
           {
            "colorbar": {
             "outlinewidth": 0,
             "ticks": ""
            },
            "type": "contourcarpet"
           }
          ],
          "heatmap": [
           {
            "colorbar": {
             "outlinewidth": 0,
             "ticks": ""
            },
            "colorscale": [
             [
              0,
              "#0d0887"
             ],
             [
              0.1111111111111111,
              "#46039f"
             ],
             [
              0.2222222222222222,
              "#7201a8"
             ],
             [
              0.3333333333333333,
              "#9c179e"
             ],
             [
              0.4444444444444444,
              "#bd3786"
             ],
             [
              0.5555555555555556,
              "#d8576b"
             ],
             [
              0.6666666666666666,
              "#ed7953"
             ],
             [
              0.7777777777777778,
              "#fb9f3a"
             ],
             [
              0.8888888888888888,
              "#fdca26"
             ],
             [
              1,
              "#f0f921"
             ]
            ],
            "type": "heatmap"
           }
          ],
          "histogram": [
           {
            "marker": {
             "pattern": {
              "fillmode": "overlay",
              "size": 10,
              "solidity": 0.2
             }
            },
            "type": "histogram"
           }
          ],
          "histogram2d": [
           {
            "colorbar": {
             "outlinewidth": 0,
             "ticks": ""
            },
            "colorscale": [
             [
              0,
              "#0d0887"
             ],
             [
              0.1111111111111111,
              "#46039f"
             ],
             [
              0.2222222222222222,
              "#7201a8"
             ],
             [
              0.3333333333333333,
              "#9c179e"
             ],
             [
              0.4444444444444444,
              "#bd3786"
             ],
             [
              0.5555555555555556,
              "#d8576b"
             ],
             [
              0.6666666666666666,
              "#ed7953"
             ],
             [
              0.7777777777777778,
              "#fb9f3a"
             ],
             [
              0.8888888888888888,
              "#fdca26"
             ],
             [
              1,
              "#f0f921"
             ]
            ],
            "type": "histogram2d"
           }
          ],
          "histogram2dcontour": [
           {
            "colorbar": {
             "outlinewidth": 0,
             "ticks": ""
            },
            "colorscale": [
             [
              0,
              "#0d0887"
             ],
             [
              0.1111111111111111,
              "#46039f"
             ],
             [
              0.2222222222222222,
              "#7201a8"
             ],
             [
              0.3333333333333333,
              "#9c179e"
             ],
             [
              0.4444444444444444,
              "#bd3786"
             ],
             [
              0.5555555555555556,
              "#d8576b"
             ],
             [
              0.6666666666666666,
              "#ed7953"
             ],
             [
              0.7777777777777778,
              "#fb9f3a"
             ],
             [
              0.8888888888888888,
              "#fdca26"
             ],
             [
              1,
              "#f0f921"
             ]
            ],
            "type": "histogram2dcontour"
           }
          ],
          "mesh3d": [
           {
            "colorbar": {
             "outlinewidth": 0,
             "ticks": ""
            },
            "type": "mesh3d"
           }
          ],
          "parcoords": [
           {
            "line": {
             "colorbar": {
              "outlinewidth": 0,
              "ticks": ""
             }
            },
            "type": "parcoords"
           }
          ],
          "pie": [
           {
            "automargin": true,
            "type": "pie"
           }
          ],
          "scatter": [
           {
            "fillpattern": {
             "fillmode": "overlay",
             "size": 10,
             "solidity": 0.2
            },
            "type": "scatter"
           }
          ],
          "scatter3d": [
           {
            "line": {
             "colorbar": {
              "outlinewidth": 0,
              "ticks": ""
             }
            },
            "marker": {
             "colorbar": {
              "outlinewidth": 0,
              "ticks": ""
             }
            },
            "type": "scatter3d"
           }
          ],
          "scattercarpet": [
           {
            "marker": {
             "colorbar": {
              "outlinewidth": 0,
              "ticks": ""
             }
            },
            "type": "scattercarpet"
           }
          ],
          "scattergeo": [
           {
            "marker": {
             "colorbar": {
              "outlinewidth": 0,
              "ticks": ""
             }
            },
            "type": "scattergeo"
           }
          ],
          "scattergl": [
           {
            "marker": {
             "colorbar": {
              "outlinewidth": 0,
              "ticks": ""
             }
            },
            "type": "scattergl"
           }
          ],
          "scattermap": [
           {
            "marker": {
             "colorbar": {
              "outlinewidth": 0,
              "ticks": ""
             }
            },
            "type": "scattermap"
           }
          ],
          "scattermapbox": [
           {
            "marker": {
             "colorbar": {
              "outlinewidth": 0,
              "ticks": ""
             }
            },
            "type": "scattermapbox"
           }
          ],
          "scatterpolar": [
           {
            "marker": {
             "colorbar": {
              "outlinewidth": 0,
              "ticks": ""
             }
            },
            "type": "scatterpolar"
           }
          ],
          "scatterpolargl": [
           {
            "marker": {
             "colorbar": {
              "outlinewidth": 0,
              "ticks": ""
             }
            },
            "type": "scatterpolargl"
           }
          ],
          "scatterternary": [
           {
            "marker": {
             "colorbar": {
              "outlinewidth": 0,
              "ticks": ""
             }
            },
            "type": "scatterternary"
           }
          ],
          "surface": [
           {
            "colorbar": {
             "outlinewidth": 0,
             "ticks": ""
            },
            "colorscale": [
             [
              0,
              "#0d0887"
             ],
             [
              0.1111111111111111,
              "#46039f"
             ],
             [
              0.2222222222222222,
              "#7201a8"
             ],
             [
              0.3333333333333333,
              "#9c179e"
             ],
             [
              0.4444444444444444,
              "#bd3786"
             ],
             [
              0.5555555555555556,
              "#d8576b"
             ],
             [
              0.6666666666666666,
              "#ed7953"
             ],
             [
              0.7777777777777778,
              "#fb9f3a"
             ],
             [
              0.8888888888888888,
              "#fdca26"
             ],
             [
              1,
              "#f0f921"
             ]
            ],
            "type": "surface"
           }
          ],
          "table": [
           {
            "cells": {
             "fill": {
              "color": "#EBF0F8"
             },
             "line": {
              "color": "white"
             }
            },
            "header": {
             "fill": {
              "color": "#C8D4E3"
             },
             "line": {
              "color": "white"
             }
            },
            "type": "table"
           }
          ]
         },
         "layout": {
          "annotationdefaults": {
           "arrowcolor": "#2a3f5f",
           "arrowhead": 0,
           "arrowwidth": 1
          },
          "autotypenumbers": "strict",
          "coloraxis": {
           "colorbar": {
            "outlinewidth": 0,
            "ticks": ""
           }
          },
          "colorscale": {
           "diverging": [
            [
             0,
             "#8e0152"
            ],
            [
             0.1,
             "#c51b7d"
            ],
            [
             0.2,
             "#de77ae"
            ],
            [
             0.3,
             "#f1b6da"
            ],
            [
             0.4,
             "#fde0ef"
            ],
            [
             0.5,
             "#f7f7f7"
            ],
            [
             0.6,
             "#e6f5d0"
            ],
            [
             0.7,
             "#b8e186"
            ],
            [
             0.8,
             "#7fbc41"
            ],
            [
             0.9,
             "#4d9221"
            ],
            [
             1,
             "#276419"
            ]
           ],
           "sequential": [
            [
             0,
             "#0d0887"
            ],
            [
             0.1111111111111111,
             "#46039f"
            ],
            [
             0.2222222222222222,
             "#7201a8"
            ],
            [
             0.3333333333333333,
             "#9c179e"
            ],
            [
             0.4444444444444444,
             "#bd3786"
            ],
            [
             0.5555555555555556,
             "#d8576b"
            ],
            [
             0.6666666666666666,
             "#ed7953"
            ],
            [
             0.7777777777777778,
             "#fb9f3a"
            ],
            [
             0.8888888888888888,
             "#fdca26"
            ],
            [
             1,
             "#f0f921"
            ]
           ],
           "sequentialminus": [
            [
             0,
             "#0d0887"
            ],
            [
             0.1111111111111111,
             "#46039f"
            ],
            [
             0.2222222222222222,
             "#7201a8"
            ],
            [
             0.3333333333333333,
             "#9c179e"
            ],
            [
             0.4444444444444444,
             "#bd3786"
            ],
            [
             0.5555555555555556,
             "#d8576b"
            ],
            [
             0.6666666666666666,
             "#ed7953"
            ],
            [
             0.7777777777777778,
             "#fb9f3a"
            ],
            [
             0.8888888888888888,
             "#fdca26"
            ],
            [
             1,
             "#f0f921"
            ]
           ]
          },
          "colorway": [
           "#636efa",
           "#EF553B",
           "#00cc96",
           "#ab63fa",
           "#FFA15A",
           "#19d3f3",
           "#FF6692",
           "#B6E880",
           "#FF97FF",
           "#FECB52"
          ],
          "font": {
           "color": "#2a3f5f"
          },
          "geo": {
           "bgcolor": "white",
           "lakecolor": "white",
           "landcolor": "#E5ECF6",
           "showlakes": true,
           "showland": true,
           "subunitcolor": "white"
          },
          "hoverlabel": {
           "align": "left"
          },
          "hovermode": "closest",
          "mapbox": {
           "style": "light"
          },
          "paper_bgcolor": "white",
          "plot_bgcolor": "#E5ECF6",
          "polar": {
           "angularaxis": {
            "gridcolor": "white",
            "linecolor": "white",
            "ticks": ""
           },
           "bgcolor": "#E5ECF6",
           "radialaxis": {
            "gridcolor": "white",
            "linecolor": "white",
            "ticks": ""
           }
          },
          "scene": {
           "xaxis": {
            "backgroundcolor": "#E5ECF6",
            "gridcolor": "white",
            "gridwidth": 2,
            "linecolor": "white",
            "showbackground": true,
            "ticks": "",
            "zerolinecolor": "white"
           },
           "yaxis": {
            "backgroundcolor": "#E5ECF6",
            "gridcolor": "white",
            "gridwidth": 2,
            "linecolor": "white",
            "showbackground": true,
            "ticks": "",
            "zerolinecolor": "white"
           },
           "zaxis": {
            "backgroundcolor": "#E5ECF6",
            "gridcolor": "white",
            "gridwidth": 2,
            "linecolor": "white",
            "showbackground": true,
            "ticks": "",
            "zerolinecolor": "white"
           }
          },
          "shapedefaults": {
           "line": {
            "color": "#2a3f5f"
           }
          },
          "ternary": {
           "aaxis": {
            "gridcolor": "white",
            "linecolor": "white",
            "ticks": ""
           },
           "baxis": {
            "gridcolor": "white",
            "linecolor": "white",
            "ticks": ""
           },
           "bgcolor": "#E5ECF6",
           "caxis": {
            "gridcolor": "white",
            "linecolor": "white",
            "ticks": ""
           }
          },
          "title": {
           "x": 0.05
          },
          "xaxis": {
           "automargin": true,
           "gridcolor": "white",
           "linecolor": "white",
           "ticks": "",
           "title": {
            "standoff": 15
           },
           "zerolinecolor": "white",
           "zerolinewidth": 2
          },
          "yaxis": {
           "automargin": true,
           "gridcolor": "white",
           "linecolor": "white",
           "ticks": "",
           "title": {
            "standoff": 15
           },
           "zerolinecolor": "white",
           "zerolinewidth": 2
          }
         }
        },
        "title": {
         "text": "Hyperparameter Importances"
        },
        "xaxis": {
         "title": {
          "text": "Hyperparameter Importance"
         }
        },
        "yaxis": {
         "title": {
          "text": "Hyperparameter"
         }
        }
       }
      }
     },
     "metadata": {},
     "output_type": "display_data"
    }
   ],
   "source": [
    "# Vẽ tầm quan trọng của các tham số\n",
    "optuna.visualization.plot_param_importances(study).show()"
   ]
  },
  {
   "cell_type": "code",
   "execution_count": 161,
   "metadata": {},
   "outputs": [
    {
     "name": "stdout",
     "output_type": "stream",
     "text": [
      "+------------------------------------+\n",
      "| Top 1                              |\n",
      "+------------------------------------+\n",
      "| Silhouette: 0.346                  |\n",
      "| Số cụm (k): 4                      |\n",
      "| Tham số tối ưu:                    |\n",
      "|   + Damping: 0.700                 |\n",
      "|   + Preference: -68.456            |\n",
      "+------------------------------------+\n",
      "\n",
      "+------------------------------------+\n",
      "| Top 2                              |\n",
      "+------------------------------------+\n",
      "| Silhouette: 0.341                  |\n",
      "| Số cụm (k): 4                      |\n",
      "| Tham số tối ưu:                    |\n",
      "|   + Damping: 0.800                 |\n",
      "|   + Preference: -78.523            |\n",
      "+------------------------------------+\n",
      "\n",
      "+------------------------------------+\n",
      "| Top 3                              |\n",
      "+------------------------------------+\n",
      "| Silhouette: 0.310                  |\n",
      "| Số cụm (k): 5                      |\n",
      "| Tham số tối ưu:                    |\n",
      "|   + Damping: 0.800                 |\n",
      "|   + Preference: -38.255            |\n",
      "+------------------------------------+\n",
      "\n",
      "+------------------------------------+\n",
      "| Top 4                              |\n",
      "+------------------------------------+\n",
      "| Silhouette: 0.294                  |\n",
      "| Số cụm (k): 2                      |\n",
      "| Tham số tối ưu:                    |\n",
      "|   + Damping: 0.900                 |\n",
      "|   + Preference: -167.114           |\n",
      "+------------------------------------+\n",
      "\n",
      "+------------------------------------+\n",
      "| Top 5                              |\n",
      "+------------------------------------+\n",
      "| Silhouette: 0.294                  |\n",
      "| Số cụm (k): 2                      |\n",
      "| Tham số tối ưu:                    |\n",
      "|   + Damping: 0.900                 |\n",
      "|   + Preference: -153.020           |\n",
      "+------------------------------------+\n",
      "\n"
     ]
    }
   ],
   "source": [
    "top_results = sorted(top_results, key=lambda x: x[\"score\"], reverse=True)[:5] # Lấy kết quả tốt nhất\n",
    "for i, res in enumerate(top_results):\n",
    "    print(\"+\" + \"-\" * 36 + \"+\")\n",
    "    print(f\"| Top {i+1:<31}|\") \n",
    "    print(\"+\" + \"-\" * 36 + \"+\")\n",
    "    print(f\"| Silhouette: {res['score']:<23.3f}|\")\n",
    "    print(f\"| Số cụm (k): {res['n_clusters']:<23}|\")\n",
    "    print(f\"| {'Tham số tối ưu: ':<35}|\")\n",
    "    print(f\"|   + Damping: {res['params']['damping']:<22.3f}|\")\n",
    "    print(f\"|   + Preference: {res['params']['preference']:<18.3f} |\")\n",
    "    print(\"+\" + \"-\" * 36 + \"+\\n\")"
   ]
  },
  {
   "cell_type": "markdown",
   "metadata": {},
   "source": [
    "### 3. Hyperopt"
   ]
  },
  {
   "cell_type": "code",
   "execution_count": 162,
   "metadata": {},
   "outputs": [],
   "source": [
    "# Không gian tìm kiếm\n",
    "damping_values = np.linspace(0.5, 0.9, 5)\n",
    "preference_values = np.linspace(-300, 0, 150)\n",
    "\n",
    "space = {\n",
    "    \"index\": hp.choice(\"index\", list(range(len(damping_values) * len(preference_values))))\n",
    "}\n",
    "\n",
    "# Hàm mục tiêu\n",
    "def objective(params):\n",
    "    index = params[\"index\"]\n",
    "    damping_index = index // len(preference_values)\n",
    "    preference_index = index % len(preference_values)\n",
    "\n",
    "    damping = damping_values[damping_index]\n",
    "    preference = preference_values[preference_index]\n",
    "\n",
    "    model = AffinityPropagation(damping=damping, preference=preference, random_state=42)\n",
    "    labels = model.fit_predict(X)\n",
    "    n_clusters = len(set(labels))\n",
    "\n",
    "    if n_clusters <= 1 or n_clusters >= len(X):\n",
    "        return {\"loss\": 1, \"status\": STATUS_OK}  # Trường hợp không hợp lệ\n",
    "\n",
    "    score = silhouette_score(X, labels)\n",
    "\n",
    "    return {\n",
    "        \"loss\": -score,\n",
    "        \"status\": STATUS_OK,\n",
    "        \"params\": {\"damping\": damping, \"preference\": preference},\n",
    "        \"score\": score,\n",
    "        \"n_clusters\": n_clusters,\n",
    "        \"labels\": labels.tolist(),\n",
    "    }"
   ]
  },
  {
   "cell_type": "code",
   "execution_count": 163,
   "metadata": {},
   "outputs": [
    {
     "name": "stdout",
     "output_type": "stream",
     "text": [
      "100%|██████████| 200/200 [00:05<00:00, 33.62trial/s, best loss: -0.3708617942108482]\n"
     ]
    }
   ],
   "source": [
    "trials = Trials()\n",
    "best = fmin(fn=objective, space=space, algo=tpe.suggest, max_evals=200, trials=trials)"
   ]
  },
  {
   "cell_type": "code",
   "execution_count": 164,
   "metadata": {},
   "outputs": [],
   "source": [
    "top_result = [\n",
    "    {\n",
    "        \"score\": trial[\"result\"][\"score\"],\n",
    "        \"n_clusters\": trial[\"result\"][\"n_clusters\"],\n",
    "        \"params\": trial[\"result\"][\"params\"],\n",
    "    }\n",
    "    for trial in trials.trials\n",
    "    if trial[\"result\"][\"status\"] == STATUS_OK and \"score\" in trial[\"result\"]\n",
    "]\n",
    "top_results = sorted(top_results, key=lambda x: x[\"score\"], reverse=True)[:5]  # Lấy kết quả tốt nhất"
   ]
  },
  {
   "cell_type": "code",
   "execution_count": 165,
   "metadata": {},
   "outputs": [
    {
     "name": "stdout",
     "output_type": "stream",
     "text": [
      "+------------------------------------+\n",
      "| Top 1                              |\n",
      "+------------------------------------+\n",
      "| Silhouette: 0.346                  |\n",
      "| Số cụm (k): 4                      |\n",
      "| Tham số tối ưu:                    |\n",
      "|   + Damping: 0.700                 |\n",
      "|   + Preference: -68.456            |\n",
      "+------------------------------------+\n",
      "\n",
      "+------------------------------------+\n",
      "| Top 2                              |\n",
      "+------------------------------------+\n",
      "| Silhouette: 0.341                  |\n",
      "| Số cụm (k): 4                      |\n",
      "| Tham số tối ưu:                    |\n",
      "|   + Damping: 0.800                 |\n",
      "|   + Preference: -78.523            |\n",
      "+------------------------------------+\n",
      "\n",
      "+------------------------------------+\n",
      "| Top 3                              |\n",
      "+------------------------------------+\n",
      "| Silhouette: 0.310                  |\n",
      "| Số cụm (k): 5                      |\n",
      "| Tham số tối ưu:                    |\n",
      "|   + Damping: 0.800                 |\n",
      "|   + Preference: -38.255            |\n",
      "+------------------------------------+\n",
      "\n",
      "+------------------------------------+\n",
      "| Top 4                              |\n",
      "+------------------------------------+\n",
      "| Silhouette: 0.294                  |\n",
      "| Số cụm (k): 2                      |\n",
      "| Tham số tối ưu:                    |\n",
      "|   + Damping: 0.900                 |\n",
      "|   + Preference: -167.114           |\n",
      "+------------------------------------+\n",
      "\n",
      "+------------------------------------+\n",
      "| Top 5                              |\n",
      "+------------------------------------+\n",
      "| Silhouette: 0.294                  |\n",
      "| Số cụm (k): 2                      |\n",
      "| Tham số tối ưu:                    |\n",
      "|   + Damping: 0.900                 |\n",
      "|   + Preference: -153.020           |\n",
      "+------------------------------------+\n",
      "\n"
     ]
    }
   ],
   "source": [
    "for i, res in enumerate(top_results):\n",
    "    print(\"+\" + \"-\" * 36 + \"+\")\n",
    "    print(f\"| Top {i+1:<31}|\") \n",
    "    print(\"+\" + \"-\" * 36 + \"+\")\n",
    "    print(f\"| Silhouette: {res['score']:<23.3f}|\")\n",
    "    print(f\"| Số cụm (k): {res['n_clusters']:<23}|\")\n",
    "    print(f\"| {'Tham số tối ưu: ':<35}|\")\n",
    "    print(f\"|   + Damping: {res['params']['damping']:<22.3f}|\")\n",
    "    print(f\"|   + Preference: {res['params']['preference']:<18.3f} |\")\n",
    "    print(\"+\" + \"-\" * 36 + \"+\\n\")"
   ]
  },
  {
   "cell_type": "markdown",
   "metadata": {},
   "source": [
    "# Một số kết luận"
   ]
  },
  {
   "cell_type": "markdown",
   "metadata": {},
   "source": [
    "Tiêu chí | Grid Search | Hyperopt / Optuna\n",
    "---|---|---\n",
    "Cách tìm kiếm | Quét toàn bộ (mọi tổ hợp parameter có thể) | Tối ưu hóa thông minh dựa trên mẫu ngẫu nhiên + học từ kết quả trước\n",
    "Phủ không gian tham số | Đảm bảo mọi vùng đều được quét qua | Không đảm bảo quét hết — ưu tiên vùng thấy \"ngon\" sớm\n",
    "Phụ thuộc random | Không | Có\n",
    "Độ tin cậy khi mẫu nhỏ | Cao (vì bao phủ đều) | Thấp (dễ mắc kẹt vào vùng xấu)\n",
    "\n",
    "<p>\n",
    "\n",
    "Grid Search | Hyperopt / Optuna\n",
    "---|---\n",
    "Tin cậy hơn khi số lượng trial nhỏ | Cần nhiều trial mới hiệu quả\n",
    "Tìm chắc chắn preference tốt | Dễ tìm nhầm preference xấu\n",
    "Độ ổn định cao | Độ dao động lớn\n",
    "\n",
    "**Vì vậy**:\n",
    "- Grid Search: Khi ít mẫu và không gian nhỏ, nó rất hiệu quả vì đi hết từng ngóc ngách.\n",
    "- Hyperopt / Optuna: Cần nhiều lượt thử mới \"học\" được vùng tốt vì khi ít trial thì hay bị chọn nhầm vùng xấu."
   ]
  }
 ],
 "metadata": {
  "colab": {
   "provenance": [],
   "toc_visible": true
  },
  "kernelspec": {
   "display_name": "Python 3",
   "name": "python3"
  },
  "language_info": {
   "codemirror_mode": {
    "name": "ipython",
    "version": 3
   },
   "file_extension": ".py",
   "mimetype": "text/x-python",
   "name": "python",
   "nbconvert_exporter": "python",
   "pygments_lexer": "ipython3",
   "version": "3.13.2"
  }
 },
 "nbformat": 4,
 "nbformat_minor": 0
}

{
 "cells": [
  {
   "cell_type": "markdown",
   "metadata": {},
   "source": [
    "# Có thể đánh giá như sau\n",
    "|Thành phần|\n",
    "|---|\n",
    "Đánh giá từng chỉ số\n",
    "Phân tích ưu/nhược điểm\n",
    "Nguyên nhân lý giải\n",
    "Kết luận mạch lạc\n",
    "Gợi ý cải tiến"
   ]
  },
  {
   "cell_type": "markdown",
   "metadata": {},
   "source": [
    "Chỉ số | Ý nghĩa | Khi nào dùng | Ghi chú\n",
    "---|---|---|---\n",
    "Silhouette Score | Đánh giá độ \"gọn cụm\" và \"xa cụm khác\" | Luôn dùng | Cao hơn thì tốt\n",
    "Davies-Bouldin Index (DBI) | Đánh giá độ \"chồng lấn\" giữa các cụm | Khi muốn kiểm tra tính phân cách | Thấp hơn thì tốt\n",
    "Calinski-Harabasz Index (CHI) | Tỉ lệ giữa độ phân tán giữa cụm và trong cụm | Khi muốn tối ưu về hiệu quả phân tách | Cao hơn thì tốt\n",
    "Number of Clusters | Số lượng cụm được tạo ra | Luôn theo dõi |"
   ]
  },
  {
   "cell_type": "markdown",
   "metadata": {
    "id": "cPV1cyIVlvYu"
   },
   "source": [
    "# Khai báo thư viện"
   ]
  },
  {
   "cell_type": "code",
   "execution_count": 17,
   "metadata": {
    "id": "cU072qD6hRuP"
   },
   "outputs": [],
   "source": [
    "import numpy as np\n",
    "import pandas as pd\n",
    "import matplotlib.pyplot as plt\n",
    "import seaborn as sns\n",
    "import warnings\n",
    "warnings.filterwarnings(\"ignore\")\n",
    "# ------------------------------------------------------------------\n",
    "from sklearn import preprocessing\n",
    "from sklearn.decomposition import PCA\n",
    "from sklearn.manifold import TSNE\n",
    "# ------------------------------------------------------------------\n",
    "from scipy.stats import uniform\n",
    "# ------------------------------------------------------------------\n",
    "from sklearn.model_selection import train_test_split\n",
    "from sklearn.model_selection import cross_val_score\n",
    "from sklearn.model_selection import ParameterGrid\n",
    "from sklearn.model_selection import GridSearchCV\n",
    "from sklearn.model_selection import RandomizedSearchCV\n",
    "# ------------------------------------------------------------------\n",
    "from sklearn.cluster import KMeans\n",
    "from sklearn.cluster import AffinityPropagation\n",
    "# ------------------------------------------------------------------\n",
    "from sklearn.metrics import silhouette_score, calinski_harabasz_score,davies_bouldin_score\n",
    "from sklearn.metrics import make_scorer, silhouette_samples"
   ]
  },
  {
   "cell_type": "markdown",
   "metadata": {
    "id": "nK9kf3FJhl-x"
   },
   "source": [
    "# Data"
   ]
  },
  {
   "cell_type": "code",
   "execution_count": 18,
   "metadata": {
    "id": "e7T60koUhdYB"
   },
   "outputs": [],
   "source": [
    "df = pd.read_csv(\n",
    "    \"D:\\_Dev\\_Group Project\\Affinity-Propagation-ML-By-Myself\\Shopping Mall Customer Segmentation Data preprocessed.csv\"\n",
    ")"
   ]
  },
  {
   "cell_type": "code",
   "execution_count": 19,
   "metadata": {
    "colab": {
     "base_uri": "https://localhost:8080/",
     "height": 206
    },
    "executionInfo": {
     "elapsed": 48,
     "status": "ok",
     "timestamp": 1745739497516,
     "user": {
      "displayName": "CƯỜNG ĐẶNG XUÂN",
      "userId": "00956941829870484129"
     },
     "user_tz": -420
    },
    "id": "PO2y0vMBhhWQ",
    "outputId": "5a28e44b-032c-452b-8d67-1d3b0664c906"
   },
   "outputs": [
    {
     "data": {
      "text/html": [
       "<div>\n",
       "<style scoped>\n",
       "    .dataframe tbody tr th:only-of-type {\n",
       "        vertical-align: middle;\n",
       "    }\n",
       "\n",
       "    .dataframe tbody tr th {\n",
       "        vertical-align: top;\n",
       "    }\n",
       "\n",
       "    .dataframe thead th {\n",
       "        text-align: right;\n",
       "    }\n",
       "</style>\n",
       "<table border=\"1\" class=\"dataframe\">\n",
       "  <thead>\n",
       "    <tr style=\"text-align: right;\">\n",
       "      <th></th>\n",
       "      <th>customer_id</th>\n",
       "      <th>age</th>\n",
       "      <th>annual_income</th>\n",
       "      <th>spending_score</th>\n",
       "      <th>gender_Female</th>\n",
       "    </tr>\n",
       "  </thead>\n",
       "  <tbody>\n",
       "    <tr>\n",
       "      <th>0</th>\n",
       "      <td>d410ea53-6661-42a9-ad3a-f554b05fd2a7</td>\n",
       "      <td>-1.145516</td>\n",
       "      <td>0.798813</td>\n",
       "      <td>1.337059</td>\n",
       "      <td>0.0</td>\n",
       "    </tr>\n",
       "    <tr>\n",
       "      <th>1</th>\n",
       "      <td>1770b26f-493f-46b6-837f-4237fb5a314e</td>\n",
       "      <td>0.180335</td>\n",
       "      <td>1.442076</td>\n",
       "      <td>1.545929</td>\n",
       "      <td>1.0</td>\n",
       "    </tr>\n",
       "    <tr>\n",
       "      <th>2</th>\n",
       "      <td>e81aa8eb-1767-4b77-87ce-1620dc732c5e</td>\n",
       "      <td>0.369742</td>\n",
       "      <td>-0.743208</td>\n",
       "      <td>0.884507</td>\n",
       "      <td>1.0</td>\n",
       "    </tr>\n",
       "    <tr>\n",
       "      <th>3</th>\n",
       "      <td>9795712a-ad19-47bf-8886-4f997d6046e3</td>\n",
       "      <td>-1.476979</td>\n",
       "      <td>-1.038953</td>\n",
       "      <td>0.223086</td>\n",
       "      <td>0.0</td>\n",
       "    </tr>\n",
       "    <tr>\n",
       "      <th>4</th>\n",
       "      <td>64139426-2226-4cd6-bf09-91bce4b4db5e</td>\n",
       "      <td>-1.429627</td>\n",
       "      <td>0.842317</td>\n",
       "      <td>0.884507</td>\n",
       "      <td>0.0</td>\n",
       "    </tr>\n",
       "  </tbody>\n",
       "</table>\n",
       "</div>"
      ],
      "text/plain": [
       "                            customer_id       age  annual_income  \\\n",
       "0  d410ea53-6661-42a9-ad3a-f554b05fd2a7 -1.145516       0.798813   \n",
       "1  1770b26f-493f-46b6-837f-4237fb5a314e  0.180335       1.442076   \n",
       "2  e81aa8eb-1767-4b77-87ce-1620dc732c5e  0.369742      -0.743208   \n",
       "3  9795712a-ad19-47bf-8886-4f997d6046e3 -1.476979      -1.038953   \n",
       "4  64139426-2226-4cd6-bf09-91bce4b4db5e -1.429627       0.842317   \n",
       "\n",
       "   spending_score  gender_Female  \n",
       "0        1.337059            0.0  \n",
       "1        1.545929            1.0  \n",
       "2        0.884507            1.0  \n",
       "3        0.223086            0.0  \n",
       "4        0.884507            0.0  "
      ]
     },
     "execution_count": 19,
     "metadata": {},
     "output_type": "execute_result"
    }
   ],
   "source": [
    "df.head()"
   ]
  },
  {
   "cell_type": "markdown",
   "metadata": {
    "id": "ZX1J-fC5aFLJ"
   },
   "source": [
    "# Lấy Mẫu"
   ]
  },
  {
   "cell_type": "code",
   "execution_count": 20,
   "metadata": {
    "id": "N8HPocM8lejm"
   },
   "outputs": [],
   "source": [
    "data = df.drop(columns=[\"customer_id\"], axis=1)"
   ]
  },
  {
   "cell_type": "code",
   "execution_count": 21,
   "metadata": {
    "colab": {
     "base_uri": "https://localhost:8080/",
     "height": 206
    },
    "executionInfo": {
     "elapsed": 54,
     "status": "ok",
     "timestamp": 1745739497579,
     "user": {
      "displayName": "CƯỜNG ĐẶNG XUÂN",
      "userId": "00956941829870484129"
     },
     "user_tz": -420
    },
    "id": "x0DV6aEHlhhV",
    "outputId": "032fe341-4e6d-4479-ea1b-204e038e8c00"
   },
   "outputs": [
    {
     "data": {
      "text/html": [
       "<div>\n",
       "<style scoped>\n",
       "    .dataframe tbody tr th:only-of-type {\n",
       "        vertical-align: middle;\n",
       "    }\n",
       "\n",
       "    .dataframe tbody tr th {\n",
       "        vertical-align: top;\n",
       "    }\n",
       "\n",
       "    .dataframe thead th {\n",
       "        text-align: right;\n",
       "    }\n",
       "</style>\n",
       "<table border=\"1\" class=\"dataframe\">\n",
       "  <thead>\n",
       "    <tr style=\"text-align: right;\">\n",
       "      <th></th>\n",
       "      <th>age</th>\n",
       "      <th>annual_income</th>\n",
       "      <th>spending_score</th>\n",
       "      <th>gender_Female</th>\n",
       "    </tr>\n",
       "  </thead>\n",
       "  <tbody>\n",
       "    <tr>\n",
       "      <th>0</th>\n",
       "      <td>-1.145516</td>\n",
       "      <td>0.798813</td>\n",
       "      <td>1.337059</td>\n",
       "      <td>0.0</td>\n",
       "    </tr>\n",
       "    <tr>\n",
       "      <th>1</th>\n",
       "      <td>0.180335</td>\n",
       "      <td>1.442076</td>\n",
       "      <td>1.545929</td>\n",
       "      <td>1.0</td>\n",
       "    </tr>\n",
       "    <tr>\n",
       "      <th>2</th>\n",
       "      <td>0.369742</td>\n",
       "      <td>-0.743208</td>\n",
       "      <td>0.884507</td>\n",
       "      <td>1.0</td>\n",
       "    </tr>\n",
       "    <tr>\n",
       "      <th>3</th>\n",
       "      <td>-1.476979</td>\n",
       "      <td>-1.038953</td>\n",
       "      <td>0.223086</td>\n",
       "      <td>0.0</td>\n",
       "    </tr>\n",
       "    <tr>\n",
       "      <th>4</th>\n",
       "      <td>-1.429627</td>\n",
       "      <td>0.842317</td>\n",
       "      <td>0.884507</td>\n",
       "      <td>0.0</td>\n",
       "    </tr>\n",
       "  </tbody>\n",
       "</table>\n",
       "</div>"
      ],
      "text/plain": [
       "        age  annual_income  spending_score  gender_Female\n",
       "0 -1.145516       0.798813        1.337059            0.0\n",
       "1  0.180335       1.442076        1.545929            1.0\n",
       "2  0.369742      -0.743208        0.884507            1.0\n",
       "3 -1.476979      -1.038953        0.223086            0.0\n",
       "4 -1.429627       0.842317        0.884507            0.0"
      ]
     },
     "execution_count": 21,
     "metadata": {},
     "output_type": "execute_result"
    }
   ],
   "source": [
    "data.head()"
   ]
  },
  {
   "cell_type": "code",
   "execution_count": 22,
   "metadata": {
    "id": "8besrod7aFLM"
   },
   "outputs": [],
   "source": [
    "X = data[:499].copy()"
   ]
  },
  {
   "cell_type": "markdown",
   "metadata": {
    "id": "ukDHFXC3lckO"
   },
   "source": [
    "# Áp Dụng"
   ]
  },
  {
   "cell_type": "markdown",
   "metadata": {
    "id": "N2n74qbit-DY"
   },
   "source": [
    "## AP"
   ]
  },
  {
   "cell_type": "markdown",
   "metadata": {
    "id": "-DOdCbg-mKZ5"
   },
   "source": [
    "### 1. Tham số thuật toán\n",
    "\n",
    "```\n",
    "preference\n",
    "damping\n",
    "```\n",
    "=> Tập trung tối ưu vào damping và preference"
   ]
  },
  {
   "cell_type": "code",
   "execution_count": 33,
   "metadata": {
    "colab": {
     "base_uri": "https://localhost:8080/",
     "height": 80
    },
    "executionInfo": {
     "elapsed": 744,
     "status": "ok",
     "timestamp": 1745741341851,
     "user": {
      "displayName": "CƯỜNG ĐẶNG XUÂN",
      "userId": "00956941829870484129"
     },
     "user_tz": -420
    },
    "id": "6VtYNF2-jyKi",
    "outputId": "d0082a92-7562-45f9-bc6a-9b386d1d8b6a"
   },
   "outputs": [
    {
     "data": {
      "text/html": [
       "<style>#sk-container-id-3 {\n",
       "  /* Definition of color scheme common for light and dark mode */\n",
       "  --sklearn-color-text: #000;\n",
       "  --sklearn-color-text-muted: #666;\n",
       "  --sklearn-color-line: gray;\n",
       "  /* Definition of color scheme for unfitted estimators */\n",
       "  --sklearn-color-unfitted-level-0: #fff5e6;\n",
       "  --sklearn-color-unfitted-level-1: #f6e4d2;\n",
       "  --sklearn-color-unfitted-level-2: #ffe0b3;\n",
       "  --sklearn-color-unfitted-level-3: chocolate;\n",
       "  /* Definition of color scheme for fitted estimators */\n",
       "  --sklearn-color-fitted-level-0: #f0f8ff;\n",
       "  --sklearn-color-fitted-level-1: #d4ebff;\n",
       "  --sklearn-color-fitted-level-2: #b3dbfd;\n",
       "  --sklearn-color-fitted-level-3: cornflowerblue;\n",
       "\n",
       "  /* Specific color for light theme */\n",
       "  --sklearn-color-text-on-default-background: var(--sg-text-color, var(--theme-code-foreground, var(--jp-content-font-color1, black)));\n",
       "  --sklearn-color-background: var(--sg-background-color, var(--theme-background, var(--jp-layout-color0, white)));\n",
       "  --sklearn-color-border-box: var(--sg-text-color, var(--theme-code-foreground, var(--jp-content-font-color1, black)));\n",
       "  --sklearn-color-icon: #696969;\n",
       "\n",
       "  @media (prefers-color-scheme: dark) {\n",
       "    /* Redefinition of color scheme for dark theme */\n",
       "    --sklearn-color-text-on-default-background: var(--sg-text-color, var(--theme-code-foreground, var(--jp-content-font-color1, white)));\n",
       "    --sklearn-color-background: var(--sg-background-color, var(--theme-background, var(--jp-layout-color0, #111)));\n",
       "    --sklearn-color-border-box: var(--sg-text-color, var(--theme-code-foreground, var(--jp-content-font-color1, white)));\n",
       "    --sklearn-color-icon: #878787;\n",
       "  }\n",
       "}\n",
       "\n",
       "#sk-container-id-3 {\n",
       "  color: var(--sklearn-color-text);\n",
       "}\n",
       "\n",
       "#sk-container-id-3 pre {\n",
       "  padding: 0;\n",
       "}\n",
       "\n",
       "#sk-container-id-3 input.sk-hidden--visually {\n",
       "  border: 0;\n",
       "  clip: rect(1px 1px 1px 1px);\n",
       "  clip: rect(1px, 1px, 1px, 1px);\n",
       "  height: 1px;\n",
       "  margin: -1px;\n",
       "  overflow: hidden;\n",
       "  padding: 0;\n",
       "  position: absolute;\n",
       "  width: 1px;\n",
       "}\n",
       "\n",
       "#sk-container-id-3 div.sk-dashed-wrapped {\n",
       "  border: 1px dashed var(--sklearn-color-line);\n",
       "  margin: 0 0.4em 0.5em 0.4em;\n",
       "  box-sizing: border-box;\n",
       "  padding-bottom: 0.4em;\n",
       "  background-color: var(--sklearn-color-background);\n",
       "}\n",
       "\n",
       "#sk-container-id-3 div.sk-container {\n",
       "  /* jupyter's `normalize.less` sets `[hidden] { display: none; }`\n",
       "     but bootstrap.min.css set `[hidden] { display: none !important; }`\n",
       "     so we also need the `!important` here to be able to override the\n",
       "     default hidden behavior on the sphinx rendered scikit-learn.org.\n",
       "     See: https://github.com/scikit-learn/scikit-learn/issues/21755 */\n",
       "  display: inline-block !important;\n",
       "  position: relative;\n",
       "}\n",
       "\n",
       "#sk-container-id-3 div.sk-text-repr-fallback {\n",
       "  display: none;\n",
       "}\n",
       "\n",
       "div.sk-parallel-item,\n",
       "div.sk-serial,\n",
       "div.sk-item {\n",
       "  /* draw centered vertical line to link estimators */\n",
       "  background-image: linear-gradient(var(--sklearn-color-text-on-default-background), var(--sklearn-color-text-on-default-background));\n",
       "  background-size: 2px 100%;\n",
       "  background-repeat: no-repeat;\n",
       "  background-position: center center;\n",
       "}\n",
       "\n",
       "/* Parallel-specific style estimator block */\n",
       "\n",
       "#sk-container-id-3 div.sk-parallel-item::after {\n",
       "  content: \"\";\n",
       "  width: 100%;\n",
       "  border-bottom: 2px solid var(--sklearn-color-text-on-default-background);\n",
       "  flex-grow: 1;\n",
       "}\n",
       "\n",
       "#sk-container-id-3 div.sk-parallel {\n",
       "  display: flex;\n",
       "  align-items: stretch;\n",
       "  justify-content: center;\n",
       "  background-color: var(--sklearn-color-background);\n",
       "  position: relative;\n",
       "}\n",
       "\n",
       "#sk-container-id-3 div.sk-parallel-item {\n",
       "  display: flex;\n",
       "  flex-direction: column;\n",
       "}\n",
       "\n",
       "#sk-container-id-3 div.sk-parallel-item:first-child::after {\n",
       "  align-self: flex-end;\n",
       "  width: 50%;\n",
       "}\n",
       "\n",
       "#sk-container-id-3 div.sk-parallel-item:last-child::after {\n",
       "  align-self: flex-start;\n",
       "  width: 50%;\n",
       "}\n",
       "\n",
       "#sk-container-id-3 div.sk-parallel-item:only-child::after {\n",
       "  width: 0;\n",
       "}\n",
       "\n",
       "/* Serial-specific style estimator block */\n",
       "\n",
       "#sk-container-id-3 div.sk-serial {\n",
       "  display: flex;\n",
       "  flex-direction: column;\n",
       "  align-items: center;\n",
       "  background-color: var(--sklearn-color-background);\n",
       "  padding-right: 1em;\n",
       "  padding-left: 1em;\n",
       "}\n",
       "\n",
       "\n",
       "/* Toggleable style: style used for estimator/Pipeline/ColumnTransformer box that is\n",
       "clickable and can be expanded/collapsed.\n",
       "- Pipeline and ColumnTransformer use this feature and define the default style\n",
       "- Estimators will overwrite some part of the style using the `sk-estimator` class\n",
       "*/\n",
       "\n",
       "/* Pipeline and ColumnTransformer style (default) */\n",
       "\n",
       "#sk-container-id-3 div.sk-toggleable {\n",
       "  /* Default theme specific background. It is overwritten whether we have a\n",
       "  specific estimator or a Pipeline/ColumnTransformer */\n",
       "  background-color: var(--sklearn-color-background);\n",
       "}\n",
       "\n",
       "/* Toggleable label */\n",
       "#sk-container-id-3 label.sk-toggleable__label {\n",
       "  cursor: pointer;\n",
       "  display: flex;\n",
       "  width: 100%;\n",
       "  margin-bottom: 0;\n",
       "  padding: 0.5em;\n",
       "  box-sizing: border-box;\n",
       "  text-align: center;\n",
       "  align-items: start;\n",
       "  justify-content: space-between;\n",
       "  gap: 0.5em;\n",
       "}\n",
       "\n",
       "#sk-container-id-3 label.sk-toggleable__label .caption {\n",
       "  font-size: 0.6rem;\n",
       "  font-weight: lighter;\n",
       "  color: var(--sklearn-color-text-muted);\n",
       "}\n",
       "\n",
       "#sk-container-id-3 label.sk-toggleable__label-arrow:before {\n",
       "  /* Arrow on the left of the label */\n",
       "  content: \"▸\";\n",
       "  float: left;\n",
       "  margin-right: 0.25em;\n",
       "  color: var(--sklearn-color-icon);\n",
       "}\n",
       "\n",
       "#sk-container-id-3 label.sk-toggleable__label-arrow:hover:before {\n",
       "  color: var(--sklearn-color-text);\n",
       "}\n",
       "\n",
       "/* Toggleable content - dropdown */\n",
       "\n",
       "#sk-container-id-3 div.sk-toggleable__content {\n",
       "  max-height: 0;\n",
       "  max-width: 0;\n",
       "  overflow: hidden;\n",
       "  text-align: left;\n",
       "  /* unfitted */\n",
       "  background-color: var(--sklearn-color-unfitted-level-0);\n",
       "}\n",
       "\n",
       "#sk-container-id-3 div.sk-toggleable__content.fitted {\n",
       "  /* fitted */\n",
       "  background-color: var(--sklearn-color-fitted-level-0);\n",
       "}\n",
       "\n",
       "#sk-container-id-3 div.sk-toggleable__content pre {\n",
       "  margin: 0.2em;\n",
       "  border-radius: 0.25em;\n",
       "  color: var(--sklearn-color-text);\n",
       "  /* unfitted */\n",
       "  background-color: var(--sklearn-color-unfitted-level-0);\n",
       "}\n",
       "\n",
       "#sk-container-id-3 div.sk-toggleable__content.fitted pre {\n",
       "  /* unfitted */\n",
       "  background-color: var(--sklearn-color-fitted-level-0);\n",
       "}\n",
       "\n",
       "#sk-container-id-3 input.sk-toggleable__control:checked~div.sk-toggleable__content {\n",
       "  /* Expand drop-down */\n",
       "  max-height: 200px;\n",
       "  max-width: 100%;\n",
       "  overflow: auto;\n",
       "}\n",
       "\n",
       "#sk-container-id-3 input.sk-toggleable__control:checked~label.sk-toggleable__label-arrow:before {\n",
       "  content: \"▾\";\n",
       "}\n",
       "\n",
       "/* Pipeline/ColumnTransformer-specific style */\n",
       "\n",
       "#sk-container-id-3 div.sk-label input.sk-toggleable__control:checked~label.sk-toggleable__label {\n",
       "  color: var(--sklearn-color-text);\n",
       "  background-color: var(--sklearn-color-unfitted-level-2);\n",
       "}\n",
       "\n",
       "#sk-container-id-3 div.sk-label.fitted input.sk-toggleable__control:checked~label.sk-toggleable__label {\n",
       "  background-color: var(--sklearn-color-fitted-level-2);\n",
       "}\n",
       "\n",
       "/* Estimator-specific style */\n",
       "\n",
       "/* Colorize estimator box */\n",
       "#sk-container-id-3 div.sk-estimator input.sk-toggleable__control:checked~label.sk-toggleable__label {\n",
       "  /* unfitted */\n",
       "  background-color: var(--sklearn-color-unfitted-level-2);\n",
       "}\n",
       "\n",
       "#sk-container-id-3 div.sk-estimator.fitted input.sk-toggleable__control:checked~label.sk-toggleable__label {\n",
       "  /* fitted */\n",
       "  background-color: var(--sklearn-color-fitted-level-2);\n",
       "}\n",
       "\n",
       "#sk-container-id-3 div.sk-label label.sk-toggleable__label,\n",
       "#sk-container-id-3 div.sk-label label {\n",
       "  /* The background is the default theme color */\n",
       "  color: var(--sklearn-color-text-on-default-background);\n",
       "}\n",
       "\n",
       "/* On hover, darken the color of the background */\n",
       "#sk-container-id-3 div.sk-label:hover label.sk-toggleable__label {\n",
       "  color: var(--sklearn-color-text);\n",
       "  background-color: var(--sklearn-color-unfitted-level-2);\n",
       "}\n",
       "\n",
       "/* Label box, darken color on hover, fitted */\n",
       "#sk-container-id-3 div.sk-label.fitted:hover label.sk-toggleable__label.fitted {\n",
       "  color: var(--sklearn-color-text);\n",
       "  background-color: var(--sklearn-color-fitted-level-2);\n",
       "}\n",
       "\n",
       "/* Estimator label */\n",
       "\n",
       "#sk-container-id-3 div.sk-label label {\n",
       "  font-family: monospace;\n",
       "  font-weight: bold;\n",
       "  display: inline-block;\n",
       "  line-height: 1.2em;\n",
       "}\n",
       "\n",
       "#sk-container-id-3 div.sk-label-container {\n",
       "  text-align: center;\n",
       "}\n",
       "\n",
       "/* Estimator-specific */\n",
       "#sk-container-id-3 div.sk-estimator {\n",
       "  font-family: monospace;\n",
       "  border: 1px dotted var(--sklearn-color-border-box);\n",
       "  border-radius: 0.25em;\n",
       "  box-sizing: border-box;\n",
       "  margin-bottom: 0.5em;\n",
       "  /* unfitted */\n",
       "  background-color: var(--sklearn-color-unfitted-level-0);\n",
       "}\n",
       "\n",
       "#sk-container-id-3 div.sk-estimator.fitted {\n",
       "  /* fitted */\n",
       "  background-color: var(--sklearn-color-fitted-level-0);\n",
       "}\n",
       "\n",
       "/* on hover */\n",
       "#sk-container-id-3 div.sk-estimator:hover {\n",
       "  /* unfitted */\n",
       "  background-color: var(--sklearn-color-unfitted-level-2);\n",
       "}\n",
       "\n",
       "#sk-container-id-3 div.sk-estimator.fitted:hover {\n",
       "  /* fitted */\n",
       "  background-color: var(--sklearn-color-fitted-level-2);\n",
       "}\n",
       "\n",
       "/* Specification for estimator info (e.g. \"i\" and \"?\") */\n",
       "\n",
       "/* Common style for \"i\" and \"?\" */\n",
       "\n",
       ".sk-estimator-doc-link,\n",
       "a:link.sk-estimator-doc-link,\n",
       "a:visited.sk-estimator-doc-link {\n",
       "  float: right;\n",
       "  font-size: smaller;\n",
       "  line-height: 1em;\n",
       "  font-family: monospace;\n",
       "  background-color: var(--sklearn-color-background);\n",
       "  border-radius: 1em;\n",
       "  height: 1em;\n",
       "  width: 1em;\n",
       "  text-decoration: none !important;\n",
       "  margin-left: 0.5em;\n",
       "  text-align: center;\n",
       "  /* unfitted */\n",
       "  border: var(--sklearn-color-unfitted-level-1) 1pt solid;\n",
       "  color: var(--sklearn-color-unfitted-level-1);\n",
       "}\n",
       "\n",
       ".sk-estimator-doc-link.fitted,\n",
       "a:link.sk-estimator-doc-link.fitted,\n",
       "a:visited.sk-estimator-doc-link.fitted {\n",
       "  /* fitted */\n",
       "  border: var(--sklearn-color-fitted-level-1) 1pt solid;\n",
       "  color: var(--sklearn-color-fitted-level-1);\n",
       "}\n",
       "\n",
       "/* On hover */\n",
       "div.sk-estimator:hover .sk-estimator-doc-link:hover,\n",
       ".sk-estimator-doc-link:hover,\n",
       "div.sk-label-container:hover .sk-estimator-doc-link:hover,\n",
       ".sk-estimator-doc-link:hover {\n",
       "  /* unfitted */\n",
       "  background-color: var(--sklearn-color-unfitted-level-3);\n",
       "  color: var(--sklearn-color-background);\n",
       "  text-decoration: none;\n",
       "}\n",
       "\n",
       "div.sk-estimator.fitted:hover .sk-estimator-doc-link.fitted:hover,\n",
       ".sk-estimator-doc-link.fitted:hover,\n",
       "div.sk-label-container:hover .sk-estimator-doc-link.fitted:hover,\n",
       ".sk-estimator-doc-link.fitted:hover {\n",
       "  /* fitted */\n",
       "  background-color: var(--sklearn-color-fitted-level-3);\n",
       "  color: var(--sklearn-color-background);\n",
       "  text-decoration: none;\n",
       "}\n",
       "\n",
       "/* Span, style for the box shown on hovering the info icon */\n",
       ".sk-estimator-doc-link span {\n",
       "  display: none;\n",
       "  z-index: 9999;\n",
       "  position: relative;\n",
       "  font-weight: normal;\n",
       "  right: .2ex;\n",
       "  padding: .5ex;\n",
       "  margin: .5ex;\n",
       "  width: min-content;\n",
       "  min-width: 20ex;\n",
       "  max-width: 50ex;\n",
       "  color: var(--sklearn-color-text);\n",
       "  box-shadow: 2pt 2pt 4pt #999;\n",
       "  /* unfitted */\n",
       "  background: var(--sklearn-color-unfitted-level-0);\n",
       "  border: .5pt solid var(--sklearn-color-unfitted-level-3);\n",
       "}\n",
       "\n",
       ".sk-estimator-doc-link.fitted span {\n",
       "  /* fitted */\n",
       "  background: var(--sklearn-color-fitted-level-0);\n",
       "  border: var(--sklearn-color-fitted-level-3);\n",
       "}\n",
       "\n",
       ".sk-estimator-doc-link:hover span {\n",
       "  display: block;\n",
       "}\n",
       "\n",
       "/* \"?\"-specific style due to the `<a>` HTML tag */\n",
       "\n",
       "#sk-container-id-3 a.estimator_doc_link {\n",
       "  float: right;\n",
       "  font-size: 1rem;\n",
       "  line-height: 1em;\n",
       "  font-family: monospace;\n",
       "  background-color: var(--sklearn-color-background);\n",
       "  border-radius: 1rem;\n",
       "  height: 1rem;\n",
       "  width: 1rem;\n",
       "  text-decoration: none;\n",
       "  /* unfitted */\n",
       "  color: var(--sklearn-color-unfitted-level-1);\n",
       "  border: var(--sklearn-color-unfitted-level-1) 1pt solid;\n",
       "}\n",
       "\n",
       "#sk-container-id-3 a.estimator_doc_link.fitted {\n",
       "  /* fitted */\n",
       "  border: var(--sklearn-color-fitted-level-1) 1pt solid;\n",
       "  color: var(--sklearn-color-fitted-level-1);\n",
       "}\n",
       "\n",
       "/* On hover */\n",
       "#sk-container-id-3 a.estimator_doc_link:hover {\n",
       "  /* unfitted */\n",
       "  background-color: var(--sklearn-color-unfitted-level-3);\n",
       "  color: var(--sklearn-color-background);\n",
       "  text-decoration: none;\n",
       "}\n",
       "\n",
       "#sk-container-id-3 a.estimator_doc_link.fitted:hover {\n",
       "  /* fitted */\n",
       "  background-color: var(--sklearn-color-fitted-level-3);\n",
       "}\n",
       "</style><div id=\"sk-container-id-3\" class=\"sk-top-container\"><div class=\"sk-text-repr-fallback\"><pre>AffinityPropagation(damping=0.8, preference=-6.122, random_state=42)</pre><b>In a Jupyter environment, please rerun this cell to show the HTML representation or trust the notebook. <br />On GitHub, the HTML representation is unable to render, please try loading this page with nbviewer.org.</b></div><div class=\"sk-container\" hidden><div class=\"sk-item\"><div class=\"sk-estimator fitted sk-toggleable\"><input class=\"sk-toggleable__control sk-hidden--visually\" id=\"sk-estimator-id-3\" type=\"checkbox\" checked><label for=\"sk-estimator-id-3\" class=\"sk-toggleable__label fitted sk-toggleable__label-arrow\"><div><div>AffinityPropagation</div></div><div><a class=\"sk-estimator-doc-link fitted\" rel=\"noreferrer\" target=\"_blank\" href=\"https://scikit-learn.org/1.6/modules/generated/sklearn.cluster.AffinityPropagation.html\">?<span>Documentation for AffinityPropagation</span></a><span class=\"sk-estimator-doc-link fitted\">i<span>Fitted</span></span></div></label><div class=\"sk-toggleable__content fitted\"><pre>AffinityPropagation(damping=0.8, preference=-6.122, random_state=42)</pre></div> </div></div></div></div>"
      ],
      "text/plain": [
       "AffinityPropagation(damping=0.8, preference=-6.122, random_state=42)"
      ]
     },
     "execution_count": 33,
     "metadata": {},
     "output_type": "execute_result"
    }
   ],
   "source": [
    "ap = AffinityPropagation(random_state=42, damping=0.8, preference=-6.122)\n",
    "ap.fit(X)"
   ]
  },
  {
   "cell_type": "markdown",
   "metadata": {
    "id": "zlPbVHTzneHk"
   },
   "source": [
    "### 2. Biểu diễn phân cụm"
   ]
  },
  {
   "cell_type": "code",
   "execution_count": 34,
   "metadata": {
    "colab": {
     "base_uri": "https://localhost:8080/",
     "height": 686
    },
    "executionInfo": {
     "elapsed": 341,
     "status": "ok",
     "timestamp": 1745741087041,
     "user": {
      "displayName": "CƯỜNG ĐẶNG XUÂN",
      "userId": "00956941829870484129"
     },
     "user_tz": -420
    },
    "id": "NUs2757XmCzT",
    "outputId": "e6cde68c-8dc9-4dee-c8d1-36b0f1d83dcf"
   },
   "outputs": [
    {
     "data": {
      "image/png": "[encoded data removed]",
      "text/plain": [
       "<Figure size 1600x600 with 1 Axes>"
      ]
     },
     "metadata": {},
     "output_type": "display_data"
    }
   ],
   "source": [
    "# Giảm số chiều về 2\n",
    "X_2d = PCA(n_components=2).fit_transform(X)\n",
    "\n",
    "labels = ap.labels_\n",
    "exemplars = ap.cluster_centers_indices_\n",
    "\n",
    "plt.figure(figsize=(16, 6))\n",
    "for cluster in set(labels):\n",
    "    plt.scatter(\n",
    "        X_2d[labels == cluster, 0],\n",
    "        X_2d[labels == cluster, 1],\n",
    "        label=f\"Cluster {cluster}\",\n",
    "    )\n",
    "plt.scatter(\n",
    "    X_2d[exemplars, 0],\n",
    "    X_2d[exemplars, 1],\n",
    "    c=\"black\",\n",
    "    marker=\"x\",\n",
    "    s=250,\n",
    "    label=\"Exemplars\",\n",
    "    edgecolors=\"white\",\n",
    ")\n",
    "plt.legend()\n",
    "plt.title(\"Affinity Propagation Clustering\")\n",
    "plt.show()"
   ]
  },
  {
   "cell_type": "markdown",
   "metadata": {
    "id": "PptI1DAZFj1j"
   },
   "source": [
    "# Hyperparameter Optimization"
   ]
  },
  {
   "cell_type": "markdown",
   "metadata": {
    "id": "C37aWFLyovxS"
   },
   "source": [
    "### 1. Grid Search"
   ]
  },
  {
   "cell_type": "code",
   "execution_count": 25,
   "metadata": {
    "colab": {
     "base_uri": "https://localhost:8080/"
    },
    "executionInfo": {
     "elapsed": 156383,
     "status": "ok",
     "timestamp": 1745740217788,
     "user": {
      "displayName": "CƯỜNG ĐẶNG XUÂN",
      "userId": "00956941829870484129"
     },
     "user_tz": -420
    },
    "id": "QFYA8TBgzjJX",
    "outputId": "6e618f78-262a-4210-fd11-a86e0f642bf7"
   },
   "outputs": [],
   "source": [
    "# Grid Search Space\n",
    "param_grid = {\n",
    "    \"damping\": np.linspace(0.5, 0.9, 5),\n",
    "    \"preference\": np.linspace(-300, 0, 50),\n",
    "}\n",
    "grid = ParameterGrid(param_grid)\n",
    "\n",
    "# Khởi tạo biến lưu trữ kết quả tốt nhất\n",
    "best_score = -1\n",
    "best_params = None\n",
    "best_model = None\n",
    "best_labels = None\n",
    "best_n_clusters = None\n",
    "\n",
    "# Thực hiện Grid Search\n",
    "for params in grid:\n",
    "    model = AffinityPropagation(\n",
    "        damping=params[\"damping\"], preference=params[\"preference\"], random_state=42\n",
    "    )\n",
    "    labels = model.fit_predict(X)\n",
    "\n",
    "    n_clusters = len(set(labels))\n",
    "    if n_clusters <= 1 or n_clusters >= len(X):\n",
    "        continue  # Bỏ qua các trường hợp không hợp lệ\n",
    "\n",
    "    score = silhouette_score(X, labels)\n",
    "\n",
    "    if score > best_score:\n",
    "        best_score = score\n",
    "        best_params = params\n",
    "        best_model = model\n",
    "        best_labels = labels\n",
    "        best_n_clusters = n_clusters\n",
    "\n",
    "# Tính các chỉ số đánh giá\n",
    "silhouette_ap = silhouette_score(X, best_labels)\n",
    "davies_bouldin_ap = davies_bouldin_score(X, best_labels)\n",
    "calinski_harabasz_ap = calinski_harabasz_score(X, best_labels)"
   ]
  },
  {
   "cell_type": "code",
   "execution_count": 26,
   "metadata": {},
   "outputs": [
    {
     "name": "stdout",
     "output_type": "stream",
     "text": [
      "[Grid Search] Affinity Propagation:\n",
      "- Số lượng cụm: 30\n",
      "- Silhouette Score: 0.265\n",
      "- Davies Bouldin Score: 1.085\n",
      "- Calinski Harabasz Score: 102.046\n",
      "- Tham số tối ưu:\n",
      "\t+ Damping: 0.800\n",
      "\t+ Preference: -6.122\n"
     ]
    }
   ],
   "source": [
    "# In kết quả\n",
    "print(\"[Grid Search] Affinity Propagation:\")\n",
    "print(f\"- Số lượng cụm: {best_n_clusters}\")\n",
    "print(f\"- Silhouette Score: {silhouette_ap:.3f}\")\n",
    "print(f\"- Davies Bouldin Score: {davies_bouldin_ap:.3f}\")\n",
    "print(f\"- Calinski Harabasz Score: {calinski_harabasz_ap:.3f}\")\n",
    "print(f\"- Tham số tối ưu:\")\n",
    "print(f\"\\t+ Damping: {best_params['damping']:.3f}\")\n",
    "print(f\"\\t+ Preference: {best_params['preference']:.3f}\")"
   ]
  },
  {
   "cell_type": "markdown",
   "metadata": {
    "id": "fNOqiNK_sk3E"
   },
   "source": [
    "### 2. Hyperopt"
   ]
  },
  {
   "cell_type": "code",
   "execution_count": 27,
   "metadata": {
    "id": "BLmX7QcWsn0j"
   },
   "outputs": [
    {
     "name": "stdout",
     "output_type": "stream",
     "text": [
      "100%|██████████| 100/100 [00:15<00:00,  6.35trial/s, best loss: -0.3193338711328395]\n"
     ]
    }
   ],
   "source": [
    "from hyperopt import fmin, tpe, hp, STATUS_OK, Trials\n",
    "\n",
    "# Xây dựng không gian tìm kiếm\n",
    "space = {\n",
    "    \"damping\": hp.uniform(\"damping\", 0.5, 0.9),\n",
    "    \"preference\": hp.uniform(\"preference\", -300, 0),\n",
    "}\n",
    "\n",
    "\n",
    "# Hàm mục tiêu cần tối ưu\n",
    "def objective(params):\n",
    "    model = AffinityPropagation(\n",
    "        damping=params[\"damping\"], preference=params[\"preference\"], random_state=42\n",
    "    )\n",
    "    labels = model.fit_predict(X)\n",
    "\n",
    "    n_clusters = len(set(labels))\n",
    "    if n_clusters <= 1 or n_clusters >= len(X):\n",
    "        return {\"loss\": 1, \"status\": STATUS_OK}  # Loss cao nếu cụm không hợp lệ\n",
    "\n",
    "    score = silhouette_score(X, labels)\n",
    "    return {\n",
    "        \"loss\": -score,\n",
    "        \"status\": STATUS_OK,\n",
    "        \"params\": params,\n",
    "        \"n_clusters\": n_clusters,\n",
    "    }\n",
    "\n",
    "\n",
    "# Thực hiện tối ưu\n",
    "trials = Trials()\n",
    "best = fmin(fn=objective, space=space, algo=tpe.suggest, max_evals=100, trials=trials)\n",
    "\n",
    "# Thực hiện mô hình với tham số tốt nhất\n",
    "best_model = AffinityPropagation(\n",
    "    damping=best[\"damping\"], preference=best[\"preference\"], random_state=42\n",
    ")\n",
    "best_labels = best_model.fit_predict(X)\n",
    "best_n_clusters = len(set(best_labels))\n",
    "\n",
    "# Tính các chỉ số\n",
    "silhouette_ap = silhouette_score(X, best_labels)\n",
    "davies_bouldin_ap = davies_bouldin_score(X, best_labels)\n",
    "calinski_harabasz_ap = calinski_harabasz_score(X, best_labels)"
   ]
  },
  {
   "cell_type": "code",
   "execution_count": 28,
   "metadata": {},
   "outputs": [
    {
     "name": "stdout",
     "output_type": "stream",
     "text": [
      "[Hyperopt] Affinity Propagation:\n",
      "- Số lượng cụm: 106\n",
      "- Silhouette Score: 0.319\n",
      "- Davies Bouldin Score: 0.813\n",
      "- Calinski Harabasz Score: 95.011\n",
      "- Tham số tối ưu:\n",
      "\t+ Damping: 0.666\n",
      "\t+ Preference: -0.758\n"
     ]
    }
   ],
   "source": [
    "print(\"[Hyperopt] Affinity Propagation:\")\n",
    "print(f\"- Số lượng cụm: {best_n_clusters}\")\n",
    "print(f\"- Silhouette Score: {silhouette_ap:.3f}\")\n",
    "print(f\"- Davies Bouldin Score: {davies_bouldin_ap:.3f}\")\n",
    "print(f\"- Calinski Harabasz Score: {calinski_harabasz_ap:.3f}\")\n",
    "print(f\"- Tham số tối ưu:\")\n",
    "print(f\"\\t+ Damping: {best['damping']:.3f}\")\n",
    "print(f\"\\t+ Preference: {best['preference']:.3f}\")"
   ]
  },
  {
   "cell_type": "markdown",
   "metadata": {},
   "source": [
    "### 3. Optuna"
   ]
  },
  {
   "cell_type": "markdown",
   "metadata": {},
   "source": [
    "Tính năng | Ý nghĩa |\n",
    "---|---\n",
    "Sơ đồ dòng tối ưu hóa | Hiểu tổng quan quá trình\n",
    "Early Stopping (Pruning) | Tiết kiệm thời gian\n",
    "Visualization | Nhìn thấy quá trình tối ưu trực quan"
   ]
  },
  {
   "cell_type": "code",
   "execution_count": 29,
   "metadata": {},
   "outputs": [
    {
     "name": "stderr",
     "output_type": "stream",
     "text": [
      "[I 2025-04-28 21:40:19,682] A new study created in memory with name: no-name-7594843d-8424-4125-8b82-74b856ee17f4\n",
      "[I 2025-04-28 21:40:19,828] Trial 0 finished with value: -0.20868038237075417 and parameters: {'damping': 0.6780527807470607, 'preference': -204.78856621991747}. Best is trial 0 with value: -0.20868038237075417.\n",
      "[I 2025-04-28 21:40:19,952] Trial 1 finished with value: -0.2109895496515771 and parameters: {'damping': 0.7241565253365984, 'preference': -103.97699063087944}. Best is trial 1 with value: -0.2109895496515771.\n",
      "[I 2025-04-28 21:40:20,126] Trial 2 finished with value: -0.19878412913444987 and parameters: {'damping': 0.7751614211161943, 'preference': -281.69045467913605}. Best is trial 1 with value: -0.2109895496515771.\n",
      "[I 2025-04-28 21:40:20,364] Trial 3 finished with value: -0.1957755685454801 and parameters: {'damping': 0.6052277159466264, 'preference': -160.93670585051194}. Best is trial 1 with value: -0.2109895496515771.\n",
      "[I 2025-04-28 21:40:20,777] Trial 4 finished with value: 1.0 and parameters: {'damping': 0.5404876535450606, 'preference': -292.99107614112296}. Best is trial 1 with value: -0.2109895496515771.\n",
      "[I 2025-04-28 21:40:20,853] Trial 5 finished with value: -0.22383854023441513 and parameters: {'damping': 0.6181886844346307, 'preference': -54.40499531022763}. Best is trial 5 with value: -0.22383854023441513.\n",
      "[I 2025-04-28 21:40:20,969] Trial 6 finished with value: -0.21476629786776322 and parameters: {'damping': 0.8748902845017545, 'preference': -205.93327544177941}. Best is trial 5 with value: -0.22383854023441513.\n",
      "[I 2025-04-28 21:40:21,081] Trial 7 finished with value: -0.214817059313357 and parameters: {'damping': 0.7257824189769009, 'preference': -225.8709715615688}. Best is trial 5 with value: -0.22383854023441513.\n",
      "[I 2025-04-28 21:40:21,178] Trial 8 finished with value: -0.20434498286050512 and parameters: {'damping': 0.8786625082497768, 'preference': -98.17058099049902}. Best is trial 5 with value: -0.22383854023441513.\n",
      "[I 2025-04-28 21:40:21,308] Trial 9 finished with value: -0.20041399686475886 and parameters: {'damping': 0.6865095955997333, 'preference': -136.12676510058697}. Best is trial 5 with value: -0.22383854023441513.\n",
      "[I 2025-04-28 21:40:21,430] Trial 10 finished with value: -0.24504334349094084 and parameters: {'damping': 0.5147761400141028, 'preference': -8.19991385215512}. Best is trial 10 with value: -0.24504334349094084.\n",
      "[I 2025-04-28 21:40:21,548] Trial 11 finished with value: -0.25282393494397976 and parameters: {'damping': 0.5018194189166258, 'preference': -6.567044013985317}. Best is trial 11 with value: -0.25282393494397976.\n",
      "[I 2025-04-28 21:40:21,629] Trial 12 finished with value: -0.278441708566299 and parameters: {'damping': 0.5018119560966022, 'preference': -3.1990581844402954}. Best is trial 12 with value: -0.278441708566299.\n",
      "[I 2025-04-28 21:40:21,735] Trial 13 finished with value: -0.2641545345201217 and parameters: {'damping': 0.5623620284202167, 'preference': -4.939949456510547}. Best is trial 12 with value: -0.278441708566299.\n",
      "[I 2025-04-28 21:40:21,882] Trial 14 finished with value: -0.21642577506239935 and parameters: {'damping': 0.5726911481626078, 'preference': -44.273690544974215}. Best is trial 12 with value: -0.278441708566299.\n",
      "[I 2025-04-28 21:40:22,012] Trial 15 pruned. \n",
      "[I 2025-04-28 21:40:22,109] Trial 16 finished with value: -0.2704394088884971 and parameters: {'damping': 0.5641324158712461, 'preference': -3.615804750788805}. Best is trial 12 with value: -0.278441708566299.\n",
      "[I 2025-04-28 21:40:22,248] Trial 17 finished with value: -0.2283468764597484 and parameters: {'damping': 0.7922988017685104, 'preference': -78.9262416099668}. Best is trial 12 with value: -0.278441708566299.\n",
      "[I 2025-04-28 21:40:22,371] Trial 18 pruned. \n",
      "[I 2025-04-28 21:40:22,516] Trial 19 finished with value: -0.22181665057270952 and parameters: {'damping': 0.6480490048634135, 'preference': -137.16963879378903}. Best is trial 12 with value: -0.278441708566299.\n",
      "[I 2025-04-28 21:40:22,665] Trial 20 finished with value: -0.22294582392870702 and parameters: {'damping': 0.535158110858955, 'preference': -85.277215045896}. Best is trial 12 with value: -0.278441708566299.\n",
      "[I 2025-04-28 21:40:22,773] Trial 21 finished with value: -0.26617255078703994 and parameters: {'damping': 0.5597961291157488, 'preference': -6.048249644273243}. Best is trial 12 with value: -0.278441708566299.\n",
      "[I 2025-04-28 21:40:22,873] Trial 22 pruned. \n",
      "[I 2025-04-28 21:40:23,054] Trial 23 finished with value: -0.24360154696590963 and parameters: {'damping': 0.5013508620030844, 'preference': -65.75396820046568}. Best is trial 12 with value: -0.278441708566299.\n",
      "[I 2025-04-28 21:40:23,263] Trial 24 finished with value: -0.313122724638604 and parameters: {'damping': 0.5775298992862347, 'preference': -0.5245556270827629}. Best is trial 24 with value: -0.313122724638604.\n",
      "[I 2025-04-28 21:40:23,452] Trial 25 pruned. \n",
      "[I 2025-04-28 21:40:23,574] Trial 26 pruned. \n",
      "[I 2025-04-28 21:40:23,824] Trial 27 pruned. \n",
      "[I 2025-04-28 21:40:24,010] Trial 28 finished with value: -0.24525475462916616 and parameters: {'damping': 0.5929610081935497, 'preference': -72.20152100224875}. Best is trial 24 with value: -0.313122724638604.\n",
      "[I 2025-04-28 21:40:24,141] Trial 29 pruned. \n",
      "[I 2025-04-28 21:40:24,231] Trial 30 finished with value: -0.23264450754524088 and parameters: {'damping': 0.7138385205377817, 'preference': -21.874097470243893}. Best is trial 24 with value: -0.313122724638604.\n",
      "[I 2025-04-28 21:40:24,332] Trial 31 finished with value: -0.28942798899505434 and parameters: {'damping': 0.5576551002536021, 'preference': -2.1225976607092036}. Best is trial 24 with value: -0.313122724638604.\n",
      "[I 2025-04-28 21:40:24,661] Trial 32 finished with value: -0.2537475804098026 and parameters: {'damping': 0.5580652273808873, 'preference': -0.14449246387611803}. Best is trial 24 with value: -0.313122724638604.\n",
      "[I 2025-04-28 21:40:24,785] Trial 33 pruned. \n",
      "[I 2025-04-28 21:40:24,896] Trial 34 pruned. \n",
      "[I 2025-04-28 21:40:25,026] Trial 35 pruned. \n",
      "[I 2025-04-28 21:40:25,190] Trial 36 pruned. \n",
      "[I 2025-04-28 21:40:25,275] Trial 37 pruned. \n",
      "[I 2025-04-28 21:40:25,371] Trial 38 finished with value: -0.25685301134316435 and parameters: {'damping': 0.8129004739987487, 'preference': -60.89414724352049}. Best is trial 24 with value: -0.313122724638604.\n",
      "[I 2025-04-28 21:40:25,532] Trial 39 pruned. \n",
      "[I 2025-04-28 21:40:25,665] Trial 40 pruned. \n",
      "[I 2025-04-28 21:40:25,731] Trial 41 finished with value: -0.2472842629661813 and parameters: {'damping': 0.5560558420279623, 'preference': -13.653407462135847}. Best is trial 24 with value: -0.313122724638604.\n",
      "[I 2025-04-28 21:40:25,874] Trial 42 finished with value: -0.3119639314704241 and parameters: {'damping': 0.6132434004644013, 'preference': -0.5532902109085676}. Best is trial 24 with value: -0.313122724638604.\n",
      "[I 2025-04-28 21:40:25,950] Trial 43 pruned. \n",
      "[I 2025-04-28 21:40:26,088] Trial 44 finished with value: -0.3116602127412685 and parameters: {'damping': 0.6423042466879347, 'preference': -0.5945202946599815}. Best is trial 24 with value: -0.313122724638604.\n",
      "[I 2025-04-28 21:40:26,247] Trial 45 pruned. \n",
      "[I 2025-04-28 21:40:26,368] Trial 46 pruned. \n",
      "[I 2025-04-28 21:40:26,463] Trial 47 pruned. \n",
      "[I 2025-04-28 21:40:26,610] Trial 48 pruned. \n",
      "[I 2025-04-28 21:40:26,704] Trial 49 pruned. \n",
      "[I 2025-04-28 21:40:26,838] Trial 50 finished with value: -0.31428808748673553 and parameters: {'damping': 0.6353966928615405, 'preference': -0.6339912401274244}. Best is trial 50 with value: -0.31428808748673553.\n",
      "[I 2025-04-28 21:40:27,012] Trial 51 finished with value: -0.26770255227749246 and parameters: {'damping': 0.6332068965292263, 'preference': -3.4382173328798498}. Best is trial 50 with value: -0.31428808748673553.\n",
      "[I 2025-04-28 21:40:27,114] Trial 52 finished with value: -0.29806693789441885 and parameters: {'damping': 0.5784571581535627, 'preference': -1.6715065078810436}. Best is trial 50 with value: -0.31428808748673553.\n",
      "[I 2025-04-28 21:40:27,257] Trial 53 pruned. \n",
      "[I 2025-04-28 21:40:27,355] Trial 54 pruned. \n",
      "[I 2025-04-28 21:40:27,423] Trial 55 pruned. \n",
      "[I 2025-04-28 21:40:27,586] Trial 56 pruned. \n",
      "[I 2025-04-28 21:40:27,664] Trial 57 finished with value: -0.2735236660514505 and parameters: {'damping': 0.6332546660106171, 'preference': -3.132749610110174}. Best is trial 50 with value: -0.31428808748673553.\n",
      "[I 2025-04-28 21:40:27,756] Trial 58 pruned. \n",
      "[I 2025-04-28 21:40:27,879] Trial 59 pruned. \n",
      "[I 2025-04-28 21:40:27,954] Trial 60 pruned. \n",
      "[I 2025-04-28 21:40:28,026] Trial 61 finished with value: -0.28337231722803663 and parameters: {'damping': 0.5067827516813477, 'preference': -2.533899331490306}. Best is trial 50 with value: -0.31428808748673553.\n",
      "[I 2025-04-28 21:40:28,415] Trial 62 pruned. \n",
      "[I 2025-04-28 21:40:28,548] Trial 63 pruned. \n",
      "[I 2025-04-28 21:40:28,757] Trial 64 pruned. \n",
      "[I 2025-04-28 21:40:28,882] Trial 65 pruned. \n",
      "[I 2025-04-28 21:40:29,035] Trial 66 pruned. \n",
      "[I 2025-04-28 21:40:29,221] Trial 67 pruned. \n",
      "[I 2025-04-28 21:40:29,369] Trial 68 pruned. \n",
      "[I 2025-04-28 21:40:29,545] Trial 69 pruned. \n",
      "[I 2025-04-28 21:40:29,658] Trial 70 pruned. \n",
      "[I 2025-04-28 21:40:29,723] Trial 71 finished with value: -0.2928504923031119 and parameters: {'damping': 0.5193537041778034, 'preference': -2.021906642045318}. Best is trial 50 with value: -0.31428808748673553.\n",
      "[I 2025-04-28 21:40:29,846] Trial 72 pruned. \n",
      "[I 2025-04-28 21:40:29,957] Trial 73 finished with value: -0.30137155122149484 and parameters: {'damping': 0.5244795170690304, 'preference': -1.2691342533615018}. Best is trial 50 with value: -0.31428808748673553.\n",
      "[I 2025-04-28 21:40:30,084] Trial 74 pruned. \n",
      "[I 2025-04-28 21:40:30,220] Trial 75 finished with value: -0.31630600634406003 and parameters: {'damping': 0.5520814128378906, 'preference': -0.6776276477589299}. Best is trial 75 with value: -0.31630600634406003.\n",
      "[I 2025-04-28 21:40:30,325] Trial 76 pruned. \n",
      "[I 2025-04-28 21:40:30,466] Trial 77 pruned. \n",
      "[I 2025-04-28 21:40:30,573] Trial 78 pruned. \n",
      "[I 2025-04-28 21:40:30,727] Trial 79 finished with value: -0.3116602127412685 and parameters: {'damping': 0.563595629844819, 'preference': -0.5911465640921941}. Best is trial 75 with value: -0.31630600634406003.\n",
      "[I 2025-04-28 21:40:30,908] Trial 80 pruned. \n",
      "[I 2025-04-28 21:40:31,042] Trial 81 finished with value: -0.3116602127412685 and parameters: {'damping': 0.5645524823255478, 'preference': -0.5991940503283976}. Best is trial 75 with value: -0.31630600634406003.\n",
      "[I 2025-04-28 21:40:31,171] Trial 82 pruned. \n",
      "[I 2025-04-28 21:40:31,305] Trial 83 pruned. \n",
      "[I 2025-04-28 21:40:31,410] Trial 84 pruned. \n",
      "[I 2025-04-28 21:40:31,589] Trial 85 finished with value: -0.286207719406789 and parameters: {'damping': 0.5830615344554518, 'preference': -0.19630019105683089}. Best is trial 75 with value: -0.31630600634406003.\n",
      "[I 2025-04-28 21:40:31,726] Trial 86 pruned. \n",
      "[I 2025-04-28 21:40:31,865] Trial 87 pruned. \n",
      "[I 2025-04-28 21:40:32,319] Trial 88 pruned. \n",
      "[I 2025-04-28 21:40:32,418] Trial 89 pruned. \n",
      "[I 2025-04-28 21:40:32,560] Trial 90 pruned. \n",
      "[I 2025-04-28 21:40:32,674] Trial 91 pruned. \n",
      "[I 2025-04-28 21:40:32,807] Trial 92 finished with value: -0.31844436049243713 and parameters: {'damping': 0.512055802089605, 'preference': -0.7775052671450059}. Best is trial 92 with value: -0.31844436049243713.\n",
      "[I 2025-04-28 21:40:32,929] Trial 93 pruned. \n",
      "[I 2025-04-28 21:40:33,082] Trial 94 pruned. \n",
      "[I 2025-04-28 21:40:33,329] Trial 95 finished with value: -0.3021393686307737 and parameters: {'damping': 0.5102152352930825, 'preference': -0.2606673259775794}. Best is trial 92 with value: -0.31844436049243713.\n",
      "[I 2025-04-28 21:40:33,498] Trial 96 pruned. \n",
      "[I 2025-04-28 21:40:33,699] Trial 97 pruned. \n",
      "[I 2025-04-28 21:40:33,931] Trial 98 finished with value: -0.3027852349328228 and parameters: {'damping': 0.5103819306172422, 'preference': -0.24242139998905804}. Best is trial 92 with value: -0.31844436049243713.\n",
      "[I 2025-04-28 21:40:34,042] Trial 99 pruned. \n"
     ]
    }
   ],
   "source": [
    "import optuna\n",
    "from optuna.pruners import MedianPruner\n",
    "\n",
    "# Hàm objective với pruning\n",
    "def objective(trial):\n",
    "    damping = trial.suggest_float('damping', 0.5, 0.9)\n",
    "    preference = trial.suggest_float('preference', -300, 0)\n",
    "    \n",
    "    model = AffinityPropagation(\n",
    "        damping=damping,\n",
    "        preference=preference,\n",
    "        random_state=42\n",
    "    )\n",
    "    labels = model.fit_predict(X)\n",
    "    \n",
    "    n_clusters = len(set(labels))\n",
    "    if n_clusters <= 1 or n_clusters >= len(X):\n",
    "        return 1.0  # Trả về loss cao ngay\n",
    "\n",
    "    score = silhouette_score(X, labels)\n",
    "\n",
    "    # Gửi signal cho Optuna pruning\n",
    "    trial.report(-score, step=0)\n",
    "    if trial.should_prune():\n",
    "        raise optuna.TrialPruned()\n",
    "\n",
    "    return -score  # Vì Optuna minimize\n",
    "\n",
    "# Tạo Study có pruner\n",
    "pruner = MedianPruner(n_startup_trials=10, n_warmup_steps=0)\n",
    "study = optuna.create_study(direction='minimize', pruner=pruner)\n",
    "study.optimize(objective, n_trials=100)\n",
    "\n",
    "# Sau khi tìm xong, build lại mô hình tốt nhất\n",
    "best = study.best_params\n",
    "\n",
    "best_model = AffinityPropagation(\n",
    "    damping=best['damping'],\n",
    "    preference=best['preference'],\n",
    "    random_state=42\n",
    ")\n",
    "best_labels = best_model.fit_predict(X)\n",
    "best_n_clusters = len(set(best_labels))\n",
    "\n",
    "# Tính các chỉ số đánh giá\n",
    "silhouette_ap = silhouette_score(X, best_labels)\n",
    "davies_bouldin_ap = davies_bouldin_score(X, best_labels)\n",
    "calinski_harabasz_ap = calinski_harabasz_score(X, best_labels)\n"
   ]
  },
  {
   "cell_type": "code",
   "execution_count": 30,
   "metadata": {},
   "outputs": [
    {
     "name": "stdout",
     "output_type": "stream",
     "text": [
      "[Optuna] Affinity Propagation:\n",
      "- Số lượng cụm: 104\n",
      "- Silhouette Score: 0.318\n",
      "- Davies Bouldin Score: 0.816\n",
      "- Calinski Harabasz Score: 95.127\n",
      "- Tham số tối ưu:\n",
      "\t+ Damping: 0.512\n",
      "\t+ Preference: -0.778\n"
     ]
    }
   ],
   "source": [
    "print(\"[Optuna] Affinity Propagation:\")\n",
    "print(f\"- Số lượng cụm: {best_n_clusters}\")\n",
    "print(f\"- Silhouette Score: {silhouette_ap:.3f}\")\n",
    "print(f\"- Davies Bouldin Score: {davies_bouldin_ap:.3f}\")\n",
    "print(f\"- Calinski Harabasz Score: {calinski_harabasz_ap:.3f}\")\n",
    "print(f\"- Tham số tối ưu:\")\n",
    "print(f\"\\t+ Damping: {best['damping']:.3f}\")\n",
    "print(f\"\\t+ Preference: {best['preference']:.3f}\")"
   ]
  },
  {
   "cell_type": "code",
   "execution_count": 31,
   "metadata": {},
   "outputs": [
    {
     "data": {
      "application/vnd.plotly.v1+json": {
       "config": {
        "plotlyServerURL": "https://plot.ly"
       },
       "data": [
        {
         "mode": "markers",
         "name": "Objective Value",
         "type": "scatter",
         "x": [
          0,
          1,
          2,
          3,
          4,
          5,
          6,
          7,
          8,
          9,
          10,
          11,
          12,
          13,
          14,
          16,
          17,
          19,
          20,
          21,
          23,
          24,
          28,
          30,
          31,
          32,
          38,
          41,
          42,
          44,
          50,
          51,
          52,
          57,
          61,
          71,
          73,
          75,
          79,
          81,
          85,
          92,
          95,
          98
         ],
         "y": [
          -0.20868038237075417,
          -0.2109895496515771,
          -0.19878412913444987,
          -0.1957755685454801,
          1,
          -0.22383854023441513,
          -0.21476629786776322,
          -0.214817059313357,
          -0.20434498286050512,
          -0.20041399686475886,
          -0.24504334349094084,
          -0.25282393494397976,
          -0.278441708566299,
          -0.2641545345201217,
          -0.21642577506239935,
          -0.2704394088884971,
          -0.2283468764597484,
          -0.22181665057270952,
          -0.22294582392870702,
          -0.26617255078703994,
          -0.24360154696590963,
          -0.313122724638604,
          -0.24525475462916616,
          -0.23264450754524088,
          -0.28942798899505434,
          -0.2537475804098026,
          -0.25685301134316435,
          -0.2472842629661813,
          -0.3119639314704241,
          -0.3116602127412685,
          -0.31428808748673553,
          -0.26770255227749246,
          -0.29806693789441885,
          -0.2735236660514505,
          -0.28337231722803663,
          -0.2928504923031119,
          -0.30137155122149484,
          -0.31630600634406003,
          -0.3116602127412685,
          -0.3116602127412685,
          -0.286207719406789,
          -0.31844436049243713,
          -0.3021393686307737,
          -0.3027852349328228
         ]
        },
        {
         "mode": "lines",
         "name": "Best Value",
         "type": "scatter",
         "x": [
          0,
          1,
          2,
          3,
          4,
          5,
          6,
          7,
          8,
          9,
          10,
          11,
          12,
          13,
          14,
          15,
          16,
          17,
          18,
          19,
          20,
          21,
          22,
          23,
          24,
          25,
          26,
          27,
          28,
          29,
          30,
          31,
          32,
          33,
          34,
          35,
          36,
          37,
          38,
          39,
          40,
          41,
          42,
          43,
          44,
          45,
          46,
          47,
          48,
          49,
          50,
          51,
          52,
          53,
          54,
          55,
          56,
          57,
          58,
          59,
          60,
          61,
          62,
          63,
          64,
          65,
          66,
          67,
          68,
          69,
          70,
          71,
          72,
          73,
          74,
          75,
          76,
          77,
          78,
          79,
          80,
          81,
          82,
          83,
          84,
          85,
          86,
          87,
          88,
          89,
          90,
          91,
          92,
          93,
          94,
          95,
          96,
          97,
          98,
          99
         ],
         "y": [
          -0.20868038237075417,
          -0.2109895496515771,
          -0.2109895496515771,
          -0.2109895496515771,
          -0.2109895496515771,
          -0.22383854023441513,
          -0.22383854023441513,
          -0.22383854023441513,
          -0.22383854023441513,
          -0.22383854023441513,
          -0.24504334349094084,
          -0.25282393494397976,
          -0.278441708566299,
          -0.278441708566299,
          -0.278441708566299,
          -0.278441708566299,
          -0.278441708566299,
          -0.278441708566299,
          -0.278441708566299,
          -0.278441708566299,
          -0.278441708566299,
          -0.278441708566299,
          -0.278441708566299,
          -0.278441708566299,
          -0.313122724638604,
          -0.313122724638604,
          -0.313122724638604,
          -0.313122724638604,
          -0.313122724638604,
          -0.313122724638604,
          -0.313122724638604,
          -0.313122724638604,
          -0.313122724638604,
          -0.313122724638604,
          -0.313122724638604,
          -0.313122724638604,
          -0.313122724638604,
          -0.313122724638604,
          -0.313122724638604,
          -0.313122724638604,
          -0.313122724638604,
          -0.313122724638604,
          -0.313122724638604,
          -0.313122724638604,
          -0.313122724638604,
          -0.313122724638604,
          -0.313122724638604,
          -0.313122724638604,
          -0.313122724638604,
          -0.313122724638604,
          -0.31428808748673553,
          -0.31428808748673553,
          -0.31428808748673553,
          -0.31428808748673553,
          -0.31428808748673553,
          -0.31428808748673553,
          -0.31428808748673553,
          -0.31428808748673553,
          -0.31428808748673553,
          -0.31428808748673553,
          -0.31428808748673553,
          -0.31428808748673553,
          -0.31428808748673553,
          -0.31428808748673553,
          -0.31428808748673553,
          -0.31428808748673553,
          -0.31428808748673553,
          -0.31428808748673553,
          -0.31428808748673553,
          -0.31428808748673553,
          -0.31428808748673553,
          -0.31428808748673553,
          -0.31428808748673553,
          -0.31428808748673553,
          -0.31428808748673553,
          -0.31630600634406003,
          -0.31630600634406003,
          -0.31630600634406003,
          -0.31630600634406003,
          -0.31630600634406003,
          -0.31630600634406003,
          -0.31630600634406003,
          -0.31630600634406003,
          -0.31630600634406003,
          -0.31630600634406003,
          -0.31630600634406003,
          -0.31630600634406003,
          -0.31630600634406003,
          -0.31630600634406003,
          -0.31630600634406003,
          -0.31630600634406003,
          -0.31630600634406003,
          -0.31844436049243713,
          -0.31844436049243713,
          -0.31844436049243713,
          -0.31844436049243713,
          -0.31844436049243713,
          -0.31844436049243713,
          -0.31844436049243713,
          -0.31844436049243713
         ]
        },
        {
         "marker": {
          "color": "#cccccc"
         },
         "mode": "markers",
         "name": "Infeasible Trial",
         "showlegend": false,
         "type": "scatter",
         "x": [],
         "y": []
        }
       ],
       "layout": {
        "template": {
         "data": {
          "bar": [
           {
            "error_x": {
             "color": "#2a3f5f"
            },
            "error_y": {
             "color": "#2a3f5f"
            },
            "marker": {
             "line": {
              "color": "#E5ECF6",
              "width": 0.5
             },
             "pattern": {
              "fillmode": "overlay",
              "size": 10,
              "solidity": 0.2
             }
            },
            "type": "bar"
           }
          ],
          "barpolar": [
           {
            "marker": {
             "line": {
              "color": "#E5ECF6",
              "width": 0.5
             },
             "pattern": {
              "fillmode": "overlay",
              "size": 10,
              "solidity": 0.2
             }
            },
            "type": "barpolar"
           }
          ],
          "carpet": [
           {
            "aaxis": {
             "endlinecolor": "#2a3f5f",
             "gridcolor": "white",
             "linecolor": "white",
             "minorgridcolor": "white",
             "startlinecolor": "#2a3f5f"
            },
            "baxis": {
             "endlinecolor": "#2a3f5f",
             "gridcolor": "white",
             "linecolor": "white",
             "minorgridcolor": "white",
             "startlinecolor": "#2a3f5f"
            },
            "type": "carpet"
           }
          ],
          "choropleth": [
           {
            "colorbar": {
             "outlinewidth": 0,
             "ticks": ""
            },
            "type": "choropleth"
           }
          ],
          "contour": [
           {
            "colorbar": {
             "outlinewidth": 0,
             "ticks": ""
            },
            "colorscale": [
             [
              0,
              "#0d0887"
             ],
             [
              0.1111111111111111,
              "#46039f"
             ],
             [
              0.2222222222222222,
              "#7201a8"
             ],
             [
              0.3333333333333333,
              "#9c179e"
             ],
             [
              0.4444444444444444,
              "#bd3786"
             ],
             [
              0.5555555555555556,
              "#d8576b"
             ],
             [
              0.6666666666666666,
              "#ed7953"
             ],
             [
              0.7777777777777778,
              "#fb9f3a"
             ],
             [
              0.8888888888888888,
              "#fdca26"
             ],
             [
              1,
              "#f0f921"
             ]
            ],
            "type": "contour"
           }
          ],
          "contourcarpet": [
           {
            "colorbar": {
             "outlinewidth": 0,
             "ticks": ""
            },
            "type": "contourcarpet"
           }
          ],
          "heatmap": [
           {
            "colorbar": {
             "outlinewidth": 0,
             "ticks": ""
            },
            "colorscale": [
             [
              0,
              "#0d0887"
             ],
             [
              0.1111111111111111,
              "#46039f"
             ],
             [
              0.2222222222222222,
              "#7201a8"
             ],
             [
              0.3333333333333333,
              "#9c179e"
             ],
             [
              0.4444444444444444,
              "#bd3786"
             ],
             [
              0.5555555555555556,
              "#d8576b"
             ],
             [
              0.6666666666666666,
              "#ed7953"
             ],
             [
              0.7777777777777778,
              "#fb9f3a"
             ],
             [
              0.8888888888888888,
              "#fdca26"
             ],
             [
              1,
              "#f0f921"
             ]
            ],
            "type": "heatmap"
           }
          ],
          "histogram": [
           {
            "marker": {
             "pattern": {
              "fillmode": "overlay",
              "size": 10,
              "solidity": 0.2
             }
            },
            "type": "histogram"
           }
          ],
          "histogram2d": [
           {
            "colorbar": {
             "outlinewidth": 0,
             "ticks": ""
            },
            "colorscale": [
             [
              0,
              "#0d0887"
             ],
             [
              0.1111111111111111,
              "#46039f"
             ],
             [
              0.2222222222222222,
              "#7201a8"
             ],
             [
              0.3333333333333333,
              "#9c179e"
             ],
             [
              0.4444444444444444,
              "#bd3786"
             ],
             [
              0.5555555555555556,
              "#d8576b"
             ],
             [
              0.6666666666666666,
              "#ed7953"
             ],
             [
              0.7777777777777778,
              "#fb9f3a"
             ],
             [
              0.8888888888888888,
              "#fdca26"
             ],
             [
              1,
              "#f0f921"
             ]
            ],
            "type": "histogram2d"
           }
          ],
          "histogram2dcontour": [
           {
            "colorbar": {
             "outlinewidth": 0,
             "ticks": ""
            },
            "colorscale": [
             [
              0,
              "#0d0887"
             ],
             [
              0.1111111111111111,
              "#46039f"
             ],
             [
              0.2222222222222222,
              "#7201a8"
             ],
             [
              0.3333333333333333,
              "#9c179e"
             ],
             [
              0.4444444444444444,
              "#bd3786"
             ],
             [
              0.5555555555555556,
              "#d8576b"
             ],
             [
              0.6666666666666666,
              "#ed7953"
             ],
             [
              0.7777777777777778,
              "#fb9f3a"
             ],
             [
              0.8888888888888888,
              "#fdca26"
             ],
             [
              1,
              "#f0f921"
             ]
            ],
            "type": "histogram2dcontour"
           }
          ],
          "mesh3d": [
           {
            "colorbar": {
             "outlinewidth": 0,
             "ticks": ""
            },
            "type": "mesh3d"
           }
          ],
          "parcoords": [
           {
            "line": {
             "colorbar": {
              "outlinewidth": 0,
              "ticks": ""
             }
            },
            "type": "parcoords"
           }
          ],
          "pie": [
           {
            "automargin": true,
            "type": "pie"
           }
          ],
          "scatter": [
           {
            "fillpattern": {
             "fillmode": "overlay",
             "size": 10,
             "solidity": 0.2
            },
            "type": "scatter"
           }
          ],
          "scatter3d": [
           {
            "line": {
             "colorbar": {
              "outlinewidth": 0,
              "ticks": ""
             }
            },
            "marker": {
             "colorbar": {
              "outlinewidth": 0,
              "ticks": ""
             }
            },
            "type": "scatter3d"
           }
          ],
          "scattercarpet": [
           {
            "marker": {
             "colorbar": {
              "outlinewidth": 0,
              "ticks": ""
             }
            },
            "type": "scattercarpet"
           }
          ],
          "scattergeo": [
           {
            "marker": {
             "colorbar": {
              "outlinewidth": 0,
              "ticks": ""
             }
            },
            "type": "scattergeo"
           }
          ],
          "scattergl": [
           {
            "marker": {
             "colorbar": {
              "outlinewidth": 0,
              "ticks": ""
             }
            },
            "type": "scattergl"
           }
          ],
          "scattermap": [
           {
            "marker": {
             "colorbar": {
              "outlinewidth": 0,
              "ticks": ""
             }
            },
            "type": "scattermap"
           }
          ],
          "scattermapbox": [
           {
            "marker": {
             "colorbar": {
              "outlinewidth": 0,
              "ticks": ""
             }
            },
            "type": "scattermapbox"
           }
          ],
          "scatterpolar": [
           {
            "marker": {
             "colorbar": {
              "outlinewidth": 0,
              "ticks": ""
             }
            },
            "type": "scatterpolar"
           }
          ],
          "scatterpolargl": [
           {
            "marker": {
             "colorbar": {
              "outlinewidth": 0,
              "ticks": ""
             }
            },
            "type": "scatterpolargl"
           }
          ],
          "scatterternary": [
           {
            "marker": {
             "colorbar": {
              "outlinewidth": 0,
              "ticks": ""
             }
            },
            "type": "scatterternary"
           }
          ],
          "surface": [
           {
            "colorbar": {
             "outlinewidth": 0,
             "ticks": ""
            },
            "colorscale": [
             [
              0,
              "#0d0887"
             ],
             [
              0.1111111111111111,
              "#46039f"
             ],
             [
              0.2222222222222222,
              "#7201a8"
             ],
             [
              0.3333333333333333,
              "#9c179e"
             ],
             [
              0.4444444444444444,
              "#bd3786"
             ],
             [
              0.5555555555555556,
              "#d8576b"
             ],
             [
              0.6666666666666666,
              "#ed7953"
             ],
             [
              0.7777777777777778,
              "#fb9f3a"
             ],
             [
              0.8888888888888888,
              "#fdca26"
             ],
             [
              1,
              "#f0f921"
             ]
            ],
            "type": "surface"
           }
          ],
          "table": [
           {
            "cells": {
             "fill": {
              "color": "#EBF0F8"
             },
             "line": {
              "color": "white"
             }
            },
            "header": {
             "fill": {
              "color": "#C8D4E3"
             },
             "line": {
              "color": "white"
             }
            },
            "type": "table"
           }
          ]
         },
         "layout": {
          "annotationdefaults": {
           "arrowcolor": "#2a3f5f",
           "arrowhead": 0,
           "arrowwidth": 1
          },
          "autotypenumbers": "strict",
          "coloraxis": {
           "colorbar": {
            "outlinewidth": 0,
            "ticks": ""
           }
          },
          "colorscale": {
           "diverging": [
            [
             0,
             "#8e0152"
            ],
            [
             0.1,
             "#c51b7d"
            ],
            [
             0.2,
             "#de77ae"
            ],
            [
             0.3,
             "#f1b6da"
            ],
            [
             0.4,
             "#fde0ef"
            ],
            [
             0.5,
             "#f7f7f7"
            ],
            [
             0.6,
             "#e6f5d0"
            ],
            [
             0.7,
             "#b8e186"
            ],
            [
             0.8,
             "#7fbc41"
            ],
            [
             0.9,
             "#4d9221"
            ],
            [
             1,
             "#276419"
            ]
           ],
           "sequential": [
            [
             0,
             "#0d0887"
            ],
            [
             0.1111111111111111,
             "#46039f"
            ],
            [
             0.2222222222222222,
             "#7201a8"
            ],
            [
             0.3333333333333333,
             "#9c179e"
            ],
            [
             0.4444444444444444,
             "#bd3786"
            ],
            [
             0.5555555555555556,
             "#d8576b"
            ],
            [
             0.6666666666666666,
             "#ed7953"
            ],
            [
             0.7777777777777778,
             "#fb9f3a"
            ],
            [
             0.8888888888888888,
             "#fdca26"
            ],
            [
             1,
             "#f0f921"
            ]
           ],
           "sequentialminus": [
            [
             0,
             "#0d0887"
            ],
            [
             0.1111111111111111,
             "#46039f"
            ],
            [
             0.2222222222222222,
             "#7201a8"
            ],
            [
             0.3333333333333333,
             "#9c179e"
            ],
            [
             0.4444444444444444,
             "#bd3786"
            ],
            [
             0.5555555555555556,
             "#d8576b"
            ],
            [
             0.6666666666666666,
             "#ed7953"
            ],
            [
             0.7777777777777778,
             "#fb9f3a"
            ],
            [
             0.8888888888888888,
             "#fdca26"
            ],
            [
             1,
             "#f0f921"
            ]
           ]
          },
          "colorway": [
           "#636efa",
           "#EF553B",
           "#00cc96",
           "#ab63fa",
           "#FFA15A",
           "#19d3f3",
           "#FF6692",
           "#B6E880",
           "#FF97FF",
           "#FECB52"
          ],
          "font": {
           "color": "#2a3f5f"
          },
          "geo": {
           "bgcolor": "white",
           "lakecolor": "white",
           "landcolor": "#E5ECF6",
           "showlakes": true,
           "showland": true,
           "subunitcolor": "white"
          },
          "hoverlabel": {
           "align": "left"
          },
          "hovermode": "closest",
          "mapbox": {
           "style": "light"
          },
          "paper_bgcolor": "white",
          "plot_bgcolor": "#E5ECF6",
          "polar": {
           "angularaxis": {
            "gridcolor": "white",
            "linecolor": "white",
            "ticks": ""
           },
           "bgcolor": "#E5ECF6",
           "radialaxis": {
            "gridcolor": "white",
            "linecolor": "white",
            "ticks": ""
           }
          },
          "scene": {
           "xaxis": {
            "backgroundcolor": "#E5ECF6",
            "gridcolor": "white",
            "gridwidth": 2,
            "linecolor": "white",
            "showbackground": true,
            "ticks": "",
            "zerolinecolor": "white"
           },
           "yaxis": {
            "backgroundcolor": "#E5ECF6",
            "gridcolor": "white",
            "gridwidth": 2,
            "linecolor": "white",
            "showbackground": true,
            "ticks": "",
            "zerolinecolor": "white"
           },
           "zaxis": {
            "backgroundcolor": "#E5ECF6",
            "gridcolor": "white",
            "gridwidth": 2,
            "linecolor": "white",
            "showbackground": true,
            "ticks": "",
            "zerolinecolor": "white"
           }
          },
          "shapedefaults": {
           "line": {
            "color": "#2a3f5f"
           }
          },
          "ternary": {
           "aaxis": {
            "gridcolor": "white",
            "linecolor": "white",
            "ticks": ""
           },
           "baxis": {
            "gridcolor": "white",
            "linecolor": "white",
            "ticks": ""
           },
           "bgcolor": "#E5ECF6",
           "caxis": {
            "gridcolor": "white",
            "linecolor": "white",
            "ticks": ""
           }
          },
          "title": {
           "x": 0.05
          },
          "xaxis": {
           "automargin": true,
           "gridcolor": "white",
           "linecolor": "white",
           "ticks": "",
           "title": {
            "standoff": 15
           },
           "zerolinecolor": "white",
           "zerolinewidth": 2
          },
          "yaxis": {
           "automargin": true,
           "gridcolor": "white",
           "linecolor": "white",
           "ticks": "",
           "title": {
            "standoff": 15
           },
           "zerolinecolor": "white",
           "zerolinewidth": 2
          }
         }
        },
        "title": {
         "text": "Optimization History Plot"
        },
        "xaxis": {
         "title": {
          "text": "Trial"
         }
        },
        "yaxis": {
         "title": {
          "text": "Objective Value"
         }
        }
       }
      }
     },
     "metadata": {},
     "output_type": "display_data"
    }
   ],
   "source": [
    "# Vẽ lịch sử tối ưu (Optimization History)\n",
    "optuna.visualization.plot_optimization_history(study).show()"
   ]
  },
  {
   "cell_type": "code",
   "execution_count": 32,
   "metadata": {},
   "outputs": [
    {
     "data": {
      "application/vnd.plotly.v1+json": {
       "config": {
        "plotlyServerURL": "https://plot.ly"
       },
       "data": [
        {
         "cliponaxis": false,
         "hovertemplate": [
          "damping (FloatDistribution): 0.05139024603268163<extra></extra>",
          "preference (FloatDistribution): 0.9486097539673184<extra></extra>"
         ],
         "name": "Objective Value",
         "orientation": "h",
         "text": [
          "0.05",
          "0.95"
         ],
         "textposition": "outside",
         "type": "bar",
         "x": [
          0.05139024603268163,
          0.9486097539673184
         ],
         "y": [
          "damping",
          "preference"
         ]
        }
       ],
       "layout": {
        "template": {
         "data": {
          "bar": [
           {
            "error_x": {
             "color": "#2a3f5f"
            },
            "error_y": {
             "color": "#2a3f5f"
            },
            "marker": {
             "line": {
              "color": "#E5ECF6",
              "width": 0.5
             },
             "pattern": {
              "fillmode": "overlay",
              "size": 10,
              "solidity": 0.2
             }
            },
            "type": "bar"
           }
          ],
          "barpolar": [
           {
            "marker": {
             "line": {
              "color": "#E5ECF6",
              "width": 0.5
             },
             "pattern": {
              "fillmode": "overlay",
              "size": 10,
              "solidity": 0.2
             }
            },
            "type": "barpolar"
           }
          ],
          "carpet": [
           {
            "aaxis": {
             "endlinecolor": "#2a3f5f",
             "gridcolor": "white",
             "linecolor": "white",
             "minorgridcolor": "white",
             "startlinecolor": "#2a3f5f"
            },
            "baxis": {
             "endlinecolor": "#2a3f5f",
             "gridcolor": "white",
             "linecolor": "white",
             "minorgridcolor": "white",
             "startlinecolor": "#2a3f5f"
            },
            "type": "carpet"
           }
          ],
          "choropleth": [
           {
            "colorbar": {
             "outlinewidth": 0,
             "ticks": ""
            },
            "type": "choropleth"
           }
          ],
          "contour": [
           {
            "colorbar": {
             "outlinewidth": 0,
             "ticks": ""
            },
            "colorscale": [
             [
              0,
              "#0d0887"
             ],
             [
              0.1111111111111111,
              "#46039f"
             ],
             [
              0.2222222222222222,
              "#7201a8"
             ],
             [
              0.3333333333333333,
              "#9c179e"
             ],
             [
              0.4444444444444444,
              "#bd3786"
             ],
             [
              0.5555555555555556,
              "#d8576b"
             ],
             [
              0.6666666666666666,
              "#ed7953"
             ],
             [
              0.7777777777777778,
              "#fb9f3a"
             ],
             [
              0.8888888888888888,
              "#fdca26"
             ],
             [
              1,
              "#f0f921"
             ]
            ],
            "type": "contour"
           }
          ],
          "contourcarpet": [
           {
            "colorbar": {
             "outlinewidth": 0,
             "ticks": ""
            },
            "type": "contourcarpet"
           }
          ],
          "heatmap": [
           {
            "colorbar": {
             "outlinewidth": 0,
             "ticks": ""
            },
            "colorscale": [
             [
              0,
              "#0d0887"
             ],
             [
              0.1111111111111111,
              "#46039f"
             ],
             [
              0.2222222222222222,
              "#7201a8"
             ],
             [
              0.3333333333333333,
              "#9c179e"
             ],
             [
              0.4444444444444444,
              "#bd3786"
             ],
             [
              0.5555555555555556,
              "#d8576b"
             ],
             [
              0.6666666666666666,
              "#ed7953"
             ],
             [
              0.7777777777777778,
              "#fb9f3a"
             ],
             [
              0.8888888888888888,
              "#fdca26"
             ],
             [
              1,
              "#f0f921"
             ]
            ],
            "type": "heatmap"
           }
          ],
          "histogram": [
           {
            "marker": {
             "pattern": {
              "fillmode": "overlay",
              "size": 10,
              "solidity": 0.2
             }
            },
            "type": "histogram"
           }
          ],
          "histogram2d": [
           {
            "colorbar": {
             "outlinewidth": 0,
             "ticks": ""
            },
            "colorscale": [
             [
              0,
              "#0d0887"
             ],
             [
              0.1111111111111111,
              "#46039f"
             ],
             [
              0.2222222222222222,
              "#7201a8"
             ],
             [
              0.3333333333333333,
              "#9c179e"
             ],
             [
              0.4444444444444444,
              "#bd3786"
             ],
             [
              0.5555555555555556,
              "#d8576b"
             ],
             [
              0.6666666666666666,
              "#ed7953"
             ],
             [
              0.7777777777777778,
              "#fb9f3a"
             ],
             [
              0.8888888888888888,
              "#fdca26"
             ],
             [
              1,
              "#f0f921"
             ]
            ],
            "type": "histogram2d"
           }
          ],
          "histogram2dcontour": [
           {
            "colorbar": {
             "outlinewidth": 0,
             "ticks": ""
            },
            "colorscale": [
             [
              0,
              "#0d0887"
             ],
             [
              0.1111111111111111,
              "#46039f"
             ],
             [
              0.2222222222222222,
              "#7201a8"
             ],
             [
              0.3333333333333333,
              "#9c179e"
             ],
             [
              0.4444444444444444,
              "#bd3786"
             ],
             [
              0.5555555555555556,
              "#d8576b"
             ],
             [
              0.6666666666666666,
              "#ed7953"
             ],
             [
              0.7777777777777778,
              "#fb9f3a"
             ],
             [
              0.8888888888888888,
              "#fdca26"
             ],
             [
              1,
              "#f0f921"
             ]
            ],
            "type": "histogram2dcontour"
           }
          ],
          "mesh3d": [
           {
            "colorbar": {
             "outlinewidth": 0,
             "ticks": ""
            },
            "type": "mesh3d"
           }
          ],
          "parcoords": [
           {
            "line": {
             "colorbar": {
              "outlinewidth": 0,
              "ticks": ""
             }
            },
            "type": "parcoords"
           }
          ],
          "pie": [
           {
            "automargin": true,
            "type": "pie"
           }
          ],
          "scatter": [
           {
            "fillpattern": {
             "fillmode": "overlay",
             "size": 10,
             "solidity": 0.2
            },
            "type": "scatter"
           }
          ],
          "scatter3d": [
           {
            "line": {
             "colorbar": {
              "outlinewidth": 0,
              "ticks": ""
             }
            },
            "marker": {
             "colorbar": {
              "outlinewidth": 0,
              "ticks": ""
             }
            },
            "type": "scatter3d"
           }
          ],
          "scattercarpet": [
           {
            "marker": {
             "colorbar": {
              "outlinewidth": 0,
              "ticks": ""
             }
            },
            "type": "scattercarpet"
           }
          ],
          "scattergeo": [
           {
            "marker": {
             "colorbar": {
              "outlinewidth": 0,
              "ticks": ""
             }
            },
            "type": "scattergeo"
           }
          ],
          "scattergl": [
           {
            "marker": {
             "colorbar": {
              "outlinewidth": 0,
              "ticks": ""
             }
            },
            "type": "scattergl"
           }
          ],
          "scattermap": [
           {
            "marker": {
             "colorbar": {
              "outlinewidth": 0,
              "ticks": ""
             }
            },
            "type": "scattermap"
           }
          ],
          "scattermapbox": [
           {
            "marker": {
             "colorbar": {
              "outlinewidth": 0,
              "ticks": ""
             }
            },
            "type": "scattermapbox"
           }
          ],
          "scatterpolar": [
           {
            "marker": {
             "colorbar": {
              "outlinewidth": 0,
              "ticks": ""
             }
            },
            "type": "scatterpolar"
           }
          ],
          "scatterpolargl": [
           {
            "marker": {
             "colorbar": {
              "outlinewidth": 0,
              "ticks": ""
             }
            },
            "type": "scatterpolargl"
           }
          ],
          "scatterternary": [
           {
            "marker": {
             "colorbar": {
              "outlinewidth": 0,
              "ticks": ""
             }
            },
            "type": "scatterternary"
           }
          ],
          "surface": [
           {
            "colorbar": {
             "outlinewidth": 0,
             "ticks": ""
            },
            "colorscale": [
             [
              0,
              "#0d0887"
             ],
             [
              0.1111111111111111,
              "#46039f"
             ],
             [
              0.2222222222222222,
              "#7201a8"
             ],
             [
              0.3333333333333333,
              "#9c179e"
             ],
             [
              0.4444444444444444,
              "#bd3786"
             ],
             [
              0.5555555555555556,
              "#d8576b"
             ],
             [
              0.6666666666666666,
              "#ed7953"
             ],
             [
              0.7777777777777778,
              "#fb9f3a"
             ],
             [
              0.8888888888888888,
              "#fdca26"
             ],
             [
              1,
              "#f0f921"
             ]
            ],
            "type": "surface"
           }
          ],
          "table": [
           {
            "cells": {
             "fill": {
              "color": "#EBF0F8"
             },
             "line": {
              "color": "white"
             }
            },
            "header": {
             "fill": {
              "color": "#C8D4E3"
             },
             "line": {
              "color": "white"
             }
            },
            "type": "table"
           }
          ]
         },
         "layout": {
          "annotationdefaults": {
           "arrowcolor": "#2a3f5f",
           "arrowhead": 0,
           "arrowwidth": 1
          },
          "autotypenumbers": "strict",
          "coloraxis": {
           "colorbar": {
            "outlinewidth": 0,
            "ticks": ""
           }
          },
          "colorscale": {
           "diverging": [
            [
             0,
             "#8e0152"
            ],
            [
             0.1,
             "#c51b7d"
            ],
            [
             0.2,
             "#de77ae"
            ],
            [
             0.3,
             "#f1b6da"
            ],
            [
             0.4,
             "#fde0ef"
            ],
            [
             0.5,
             "#f7f7f7"
            ],
            [
             0.6,
             "#e6f5d0"
            ],
            [
             0.7,
             "#b8e186"
            ],
            [
             0.8,
             "#7fbc41"
            ],
            [
             0.9,
             "#4d9221"
            ],
            [
             1,
             "#276419"
            ]
           ],
           "sequential": [
            [
             0,
             "#0d0887"
            ],
            [
             0.1111111111111111,
             "#46039f"
            ],
            [
             0.2222222222222222,
             "#7201a8"
            ],
            [
             0.3333333333333333,
             "#9c179e"
            ],
            [
             0.4444444444444444,
             "#bd3786"
            ],
            [
             0.5555555555555556,
             "#d8576b"
            ],
            [
             0.6666666666666666,
             "#ed7953"
            ],
            [
             0.7777777777777778,
             "#fb9f3a"
            ],
            [
             0.8888888888888888,
             "#fdca26"
            ],
            [
             1,
             "#f0f921"
            ]
           ],
           "sequentialminus": [
            [
             0,
             "#0d0887"
            ],
            [
             0.1111111111111111,
             "#46039f"
            ],
            [
             0.2222222222222222,
             "#7201a8"
            ],
            [
             0.3333333333333333,
             "#9c179e"
            ],
            [
             0.4444444444444444,
             "#bd3786"
            ],
            [
             0.5555555555555556,
             "#d8576b"
            ],
            [
             0.6666666666666666,
             "#ed7953"
            ],
            [
             0.7777777777777778,
             "#fb9f3a"
            ],
            [
             0.8888888888888888,
             "#fdca26"
            ],
            [
             1,
             "#f0f921"
            ]
           ]
          },
          "colorway": [
           "#636efa",
           "#EF553B",
           "#00cc96",
           "#ab63fa",
           "#FFA15A",
           "#19d3f3",
           "#FF6692",
           "#B6E880",
           "#FF97FF",
           "#FECB52"
          ],
          "font": {
           "color": "#2a3f5f"
          },
          "geo": {
           "bgcolor": "white",
           "lakecolor": "white",
           "landcolor": "#E5ECF6",
           "showlakes": true,
           "showland": true,
           "subunitcolor": "white"
          },
          "hoverlabel": {
           "align": "left"
          },
          "hovermode": "closest",
          "mapbox": {
           "style": "light"
          },
          "paper_bgcolor": "white",
          "plot_bgcolor": "#E5ECF6",
          "polar": {
           "angularaxis": {
            "gridcolor": "white",
            "linecolor": "white",
            "ticks": ""
           },
           "bgcolor": "#E5ECF6",
           "radialaxis": {
            "gridcolor": "white",
            "linecolor": "white",
            "ticks": ""
           }
          },
          "scene": {
           "xaxis": {
            "backgroundcolor": "#E5ECF6",
            "gridcolor": "white",
            "gridwidth": 2,
            "linecolor": "white",
            "showbackground": true,
            "ticks": "",
            "zerolinecolor": "white"
           },
           "yaxis": {
            "backgroundcolor": "#E5ECF6",
            "gridcolor": "white",
            "gridwidth": 2,
            "linecolor": "white",
            "showbackground": true,
            "ticks": "",
            "zerolinecolor": "white"
           },
           "zaxis": {
            "backgroundcolor": "#E5ECF6",
            "gridcolor": "white",
            "gridwidth": 2,
            "linecolor": "white",
            "showbackground": true,
            "ticks": "",
            "zerolinecolor": "white"
           }
          },
          "shapedefaults": {
           "line": {
            "color": "#2a3f5f"
           }
          },
          "ternary": {
           "aaxis": {
            "gridcolor": "white",
            "linecolor": "white",
            "ticks": ""
           },
           "baxis": {
            "gridcolor": "white",
            "linecolor": "white",
            "ticks": ""
           },
           "bgcolor": "#E5ECF6",
           "caxis": {
            "gridcolor": "white",
            "linecolor": "white",
            "ticks": ""
           }
          },
          "title": {
           "x": 0.05
          },
          "xaxis": {
           "automargin": true,
           "gridcolor": "white",
           "linecolor": "white",
           "ticks": "",
           "title": {
            "standoff": 15
           },
           "zerolinecolor": "white",
           "zerolinewidth": 2
          },
          "yaxis": {
           "automargin": true,
           "gridcolor": "white",
           "linecolor": "white",
           "ticks": "",
           "title": {
            "standoff": 15
           },
           "zerolinecolor": "white",
           "zerolinewidth": 2
          }
         }
        },
        "title": {
         "text": "Hyperparameter Importances"
        },
        "xaxis": {
         "title": {
          "text": "Hyperparameter Importance"
         }
        },
        "yaxis": {
         "title": {
          "text": "Hyperparameter"
         }
        }
       }
      }
     },
     "metadata": {},
     "output_type": "display_data"
    }
   ],
   "source": [
    "# Vẽ tầm quan trọng các tham số (Hyperparameter Importance)\n",
    "optuna.visualization.plot_param_importances(study).show()"
   ]
  },
  {
   "cell_type": "markdown",
   "metadata": {},
   "source": [
    "# Ghi lại kết quả (Not Done)\n",
    "\n",
    "Phương pháp | Số cụm | Silhouette Score | Calinski-Harabasz | Davies-Bouldin\n",
    "---|---|---|---|---\n",
    "GridSearch | | | | \n",
    "Hyperopt | | | |\n",
    "Optuna | |  | | "
   ]
  },
  {
   "cell_type": "code",
   "execution_count": null,
   "metadata": {},
   "outputs": [],
   "source": []
  },
  {
   "cell_type": "markdown",
   "metadata": {},
   "source": [
    "# Một số kết luận"
   ]
  },
  {
   "cell_type": "markdown",
   "metadata": {},
   "source": [
    "## 1. Hyperopt/Optuna\n",
    "\n",
    "Công cụ | Ưu điểm\n",
    "---|---\n",
    "Hyperopt | Dễ code, nhanh, tối ưu tốt với bài toán đơn giản\n",
    "Optuna | Giao diện đẹp, logging mạnh, hỗ trợ visualization trực quan"
   ]
  },
  {
   "cell_type": "markdown",
   "metadata": {},
   "source": [
    "## 2. Lựa chọn kỹ thuật\n",
    "\n",
    "Tiêu chí | Grid Search | Hyperopt / Optuna\n",
    "---|---|---\n",
    "Cách tìm kiếm | Quét toàn bộ (mọi tổ hợp parameter có thể) | Tối ưu hóa thông minh dựa trên mẫu ngẫu nhiên + học từ kết quả trước\n",
    "Phủ không gian tham số | Đảm bảo mọi vùng đều được quét qua | Không đảm bảo quét hết — ưu tiên vùng thấy \"ngon\" sớm\n",
    "Phụ thuộc random | Không (deterministic) | Có (stochastic)\n",
    "Độ tin cậy khi mẫu nhỏ | Cao (vì bao phủ đều) | Thấp (dễ mắc kẹt vào vùng xấu)\n",
    "\n",
    "<p>\n",
    "\n",
    "Grid Search | Hyperopt / Optuna\n",
    "---|---\n",
    "Tin cậy hơn khi số lượng trial nhỏ | Cần nhiều trial mới hiệu quả\n",
    "Tìm chắc chắn preference tốt | Dễ tìm nhầm preference xấu\n",
    "Độ ổn định cao | Độ dao động lớn\n",
    "\n",
    "**Vì vậy**:\n",
    "- Grid Search: Dù hơi \"cục súc\", nhưng khi ít mẫu và không gian nhỏ, nó rất hiệu quả vì đi hết từng ngóc ngách.\n",
    "- Hyperopt / Optuna: Cần nhiều lượt thử mới \"học\" được vùng tốt → khi ít trial thì hay bị chọn nhầm vùng xấu."
   ]
  },
  {
   "cell_type": "markdown",
   "metadata": {},
   "source": []
  }
 ],
 "metadata": {
  "colab": {
   "provenance": [],
   "toc_visible": true
  },
  "kernelspec": {
   "display_name": "Python 3",
   "name": "python3"
  },
  "language_info": {
   "codemirror_mode": {
    "name": "ipython",
    "version": 3
   },
   "file_extension": ".py",
   "mimetype": "text/x-python",
   "name": "python",
   "nbconvert_exporter": "python",
   "pygments_lexer": "ipython3",
   "version": "3.13.2"
  }
 },
 "nbformat": 4,
 "nbformat_minor": 0
}

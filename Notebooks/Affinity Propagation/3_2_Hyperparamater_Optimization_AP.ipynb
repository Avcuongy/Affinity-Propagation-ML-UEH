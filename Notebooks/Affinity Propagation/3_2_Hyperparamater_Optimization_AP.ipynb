{
 "cells": [
  {
   "cell_type": "markdown",
   "metadata": {},
   "source": [
    "| Chỉ số                  | Ý nghĩa                                                                 | Khi nào dùng                              | Ghi chú                              |\n",
    "|-------------------------|-------------------------------------------------------------------------|-------------------------------------------|--------------------------------------|\n",
    "| **Silhouette Score**    | Đo mức độ gần gũi của điểm với cụm của nó so với cụm gần nhất khác       | Luôn dùng để đánh giá chất lượng phân cụm  | Giá trị [-1, 1], cao hơn thì tốt     |\n",
    "| **Number of Clusters**  | Số lượng cụm được tạo ra bởi thuật toán                                 | Luôn theo dõi để đảm bảo phù hợp bài toán  | Kiểm tra dựa trên kiến thức miền     |\n",
    "| **Calinski-Harabasz Score** | Đo tỷ lệ giữa độ phân tán giữa các cụm và trong cụm                  | Dùng khi cần đánh giá sự tách biệt cụm     | Giá trị cao hơn thì tốt              |\n",
    "| **Davies-Bouldin Score** | Đo mức độ tương đồng giữa các cụm dựa trên khoảng cách và kích thước   | Dùng khi cần đánh giá tính đồng đều cụm    | Giá trị thấp hơn thì tốt             |"
   ]
  },
  {
   "cell_type": "markdown",
   "metadata": {},
   "source": [
    "# Khai báo thư viện"
   ]
  },
  {
   "cell_type": "code",
   "execution_count": 42,
   "metadata": {
    "id": "cU072qD6hRuP"
   },
   "outputs": [],
   "source": [
    "import numpy as np\n",
    "import pandas as pd\n",
    "import matplotlib.pyplot as plt\n",
    "import seaborn as sns\n",
    "import warnings\n",
    "warnings.filterwarnings(\"ignore\")\n",
    "# ------------------------------------------------------------------\n",
    "from sklearn import preprocessing\n",
    "from sklearn.decomposition import PCA\n",
    "from sklearn.manifold import TSNE\n",
    "# ------------------------------------------------------------------\n",
    "from scipy.stats import uniform\n",
    "# ------------------------------------------------------------------\n",
    "from sklearn.model_selection import train_test_split\n",
    "from sklearn.model_selection import cross_val_score\n",
    "from sklearn.model_selection import ParameterGrid\n",
    "from sklearn.model_selection import GridSearchCV\n",
    "from sklearn.model_selection import RandomizedSearchCV\n",
    "# ------------------------------------------------------------------\n",
    "from sklearn.cluster import KMeans\n",
    "from sklearn.cluster import AffinityPropagation\n",
    "# ------------------------------------------------------------------\n",
    "from sklearn.metrics import silhouette_score, calinski_harabasz_score,davies_bouldin_score\n",
    "from sklearn.metrics import make_scorer, silhouette_samples\n",
    "# ------------------------------------------------------------------\n",
    "from hyperopt import fmin, hp, tpe, Trials, STATUS_OK\n",
    "from joblib import Parallel, delayed\n",
    "import optuna\n",
    "from optuna.pruners import MedianPruner"
   ]
  },
  {
   "cell_type": "markdown",
   "metadata": {
    "id": "nK9kf3FJhl-x"
   },
   "source": [
    "# Data"
   ]
  },
  {
   "cell_type": "code",
   "execution_count": 43,
   "metadata": {
    "id": "e7T60koUhdYB"
   },
   "outputs": [],
   "source": [
    "df = pd.read_csv(\"D:\\_Dev\\_Group Project\\Affinity-Propagation-ML-UEH\\Data\\Mall Customers\\Mall_Customers_preprocessed.csv\")"
   ]
  },
  {
   "cell_type": "code",
   "execution_count": 44,
   "metadata": {
    "colab": {
     "base_uri": "https://localhost:8080/",
     "height": 206
    },
    "executionInfo": {
     "elapsed": 48,
     "status": "ok",
     "timestamp": 1745739497516,
     "user": {
      "displayName": "CƯỜNG ĐẶNG XUÂN",
      "userId": "00956941829870484129"
     },
     "user_tz": -420
    },
    "id": "PO2y0vMBhhWQ",
    "outputId": "5a28e44b-032c-452b-8d67-1d3b0664c906"
   },
   "outputs": [
    {
     "data": {
      "text/html": [
       "<div>\n",
       "<style scoped>\n",
       "    .dataframe tbody tr th:only-of-type {\n",
       "        vertical-align: middle;\n",
       "    }\n",
       "\n",
       "    .dataframe tbody tr th {\n",
       "        vertical-align: top;\n",
       "    }\n",
       "\n",
       "    .dataframe thead th {\n",
       "        text-align: right;\n",
       "    }\n",
       "</style>\n",
       "<table border=\"1\" class=\"dataframe\">\n",
       "  <thead>\n",
       "    <tr style=\"text-align: right;\">\n",
       "      <th></th>\n",
       "      <th>customerid</th>\n",
       "      <th>age</th>\n",
       "      <th>annual_income</th>\n",
       "      <th>spending_score</th>\n",
       "      <th>genre_Female</th>\n",
       "    </tr>\n",
       "  </thead>\n",
       "  <tbody>\n",
       "    <tr>\n",
       "      <th>0</th>\n",
       "      <td>1</td>\n",
       "      <td>-1.424569</td>\n",
       "      <td>-1.738999</td>\n",
       "      <td>-0.434801</td>\n",
       "      <td>0.0</td>\n",
       "    </tr>\n",
       "    <tr>\n",
       "      <th>1</th>\n",
       "      <td>2</td>\n",
       "      <td>-1.281035</td>\n",
       "      <td>-1.738999</td>\n",
       "      <td>1.195704</td>\n",
       "      <td>0.0</td>\n",
       "    </tr>\n",
       "    <tr>\n",
       "      <th>2</th>\n",
       "      <td>3</td>\n",
       "      <td>-1.352802</td>\n",
       "      <td>-1.700830</td>\n",
       "      <td>-1.715913</td>\n",
       "      <td>1.0</td>\n",
       "    </tr>\n",
       "    <tr>\n",
       "      <th>3</th>\n",
       "      <td>4</td>\n",
       "      <td>-1.137502</td>\n",
       "      <td>-1.700830</td>\n",
       "      <td>1.040418</td>\n",
       "      <td>1.0</td>\n",
       "    </tr>\n",
       "    <tr>\n",
       "      <th>4</th>\n",
       "      <td>5</td>\n",
       "      <td>-0.563369</td>\n",
       "      <td>-1.662660</td>\n",
       "      <td>-0.395980</td>\n",
       "      <td>1.0</td>\n",
       "    </tr>\n",
       "  </tbody>\n",
       "</table>\n",
       "</div>"
      ],
      "text/plain": [
       "   customerid       age  annual_income  spending_score  genre_Female\n",
       "0           1 -1.424569      -1.738999       -0.434801           0.0\n",
       "1           2 -1.281035      -1.738999        1.195704           0.0\n",
       "2           3 -1.352802      -1.700830       -1.715913           1.0\n",
       "3           4 -1.137502      -1.700830        1.040418           1.0\n",
       "4           5 -0.563369      -1.662660       -0.395980           1.0"
      ]
     },
     "execution_count": 44,
     "metadata": {},
     "output_type": "execute_result"
    }
   ],
   "source": [
    "df.head()"
   ]
  },
  {
   "cell_type": "code",
   "execution_count": 45,
   "metadata": {},
   "outputs": [],
   "source": [
    "data = df.drop(columns=[\"customerid\"],axis=1,)"
   ]
  },
  {
   "cell_type": "code",
   "execution_count": 46,
   "metadata": {
    "id": "8besrod7aFLM"
   },
   "outputs": [
    {
     "data": {
      "text/html": [
       "<div>\n",
       "<style scoped>\n",
       "    .dataframe tbody tr th:only-of-type {\n",
       "        vertical-align: middle;\n",
       "    }\n",
       "\n",
       "    .dataframe tbody tr th {\n",
       "        vertical-align: top;\n",
       "    }\n",
       "\n",
       "    .dataframe thead th {\n",
       "        text-align: right;\n",
       "    }\n",
       "</style>\n",
       "<table border=\"1\" class=\"dataframe\">\n",
       "  <thead>\n",
       "    <tr style=\"text-align: right;\">\n",
       "      <th></th>\n",
       "      <th>age</th>\n",
       "      <th>annual_income</th>\n",
       "      <th>spending_score</th>\n",
       "      <th>genre_Female</th>\n",
       "    </tr>\n",
       "  </thead>\n",
       "  <tbody>\n",
       "    <tr>\n",
       "      <th>0</th>\n",
       "      <td>-1.424569</td>\n",
       "      <td>-1.738999</td>\n",
       "      <td>-0.434801</td>\n",
       "      <td>0.0</td>\n",
       "    </tr>\n",
       "    <tr>\n",
       "      <th>1</th>\n",
       "      <td>-1.281035</td>\n",
       "      <td>-1.738999</td>\n",
       "      <td>1.195704</td>\n",
       "      <td>0.0</td>\n",
       "    </tr>\n",
       "    <tr>\n",
       "      <th>2</th>\n",
       "      <td>-1.352802</td>\n",
       "      <td>-1.700830</td>\n",
       "      <td>-1.715913</td>\n",
       "      <td>1.0</td>\n",
       "    </tr>\n",
       "    <tr>\n",
       "      <th>3</th>\n",
       "      <td>-1.137502</td>\n",
       "      <td>-1.700830</td>\n",
       "      <td>1.040418</td>\n",
       "      <td>1.0</td>\n",
       "    </tr>\n",
       "    <tr>\n",
       "      <th>4</th>\n",
       "      <td>-0.563369</td>\n",
       "      <td>-1.662660</td>\n",
       "      <td>-0.395980</td>\n",
       "      <td>1.0</td>\n",
       "    </tr>\n",
       "  </tbody>\n",
       "</table>\n",
       "</div>"
      ],
      "text/plain": [
       "        age  annual_income  spending_score  genre_Female\n",
       "0 -1.424569      -1.738999       -0.434801           0.0\n",
       "1 -1.281035      -1.738999        1.195704           0.0\n",
       "2 -1.352802      -1.700830       -1.715913           1.0\n",
       "3 -1.137502      -1.700830        1.040418           1.0\n",
       "4 -0.563369      -1.662660       -0.395980           1.0"
      ]
     },
     "execution_count": 46,
     "metadata": {},
     "output_type": "execute_result"
    }
   ],
   "source": [
    "X = data.copy()\n",
    "X.head()"
   ]
  },
  {
   "cell_type": "markdown",
   "metadata": {
    "id": "ukDHFXC3lckO"
   },
   "source": [
    "# Áp Dụng"
   ]
  },
  {
   "cell_type": "markdown",
   "metadata": {
    "id": "N2n74qbit-DY"
   },
   "source": [
    "## AP"
   ]
  },
  {
   "cell_type": "markdown",
   "metadata": {
    "id": "-DOdCbg-mKZ5"
   },
   "source": [
    "### 1. Tham số thuật toán\n",
    "\n",
    "```\n",
    "preference\n",
    "damping\n",
    "```\n",
    "=> Tập trung tối ưu vào damping và preference"
   ]
  },
  {
   "cell_type": "code",
   "execution_count": 47,
   "metadata": {
    "colab": {
     "base_uri": "https://localhost:8080/",
     "height": 80
    },
    "executionInfo": {
     "elapsed": 744,
     "status": "ok",
     "timestamp": 1745741341851,
     "user": {
      "displayName": "CƯỜNG ĐẶNG XUÂN",
      "userId": "00956941829870484129"
     },
     "user_tz": -420
    },
    "id": "6VtYNF2-jyKi",
    "outputId": "d0082a92-7562-45f9-bc6a-9b386d1d8b6a"
   },
   "outputs": [
    {
     "data": {
      "text/html": [
       "<style>#sk-container-id-3 {\n",
       "  /* Definition of color scheme common for light and dark mode */\n",
       "  --sklearn-color-text: #000;\n",
       "  --sklearn-color-text-muted: #666;\n",
       "  --sklearn-color-line: gray;\n",
       "  /* Definition of color scheme for unfitted estimators */\n",
       "  --sklearn-color-unfitted-level-0: #fff5e6;\n",
       "  --sklearn-color-unfitted-level-1: #f6e4d2;\n",
       "  --sklearn-color-unfitted-level-2: #ffe0b3;\n",
       "  --sklearn-color-unfitted-level-3: chocolate;\n",
       "  /* Definition of color scheme for fitted estimators */\n",
       "  --sklearn-color-fitted-level-0: #f0f8ff;\n",
       "  --sklearn-color-fitted-level-1: #d4ebff;\n",
       "  --sklearn-color-fitted-level-2: #b3dbfd;\n",
       "  --sklearn-color-fitted-level-3: cornflowerblue;\n",
       "\n",
       "  /* Specific color for light theme */\n",
       "  --sklearn-color-text-on-default-background: var(--sg-text-color, var(--theme-code-foreground, var(--jp-content-font-color1, black)));\n",
       "  --sklearn-color-background: var(--sg-background-color, var(--theme-background, var(--jp-layout-color0, white)));\n",
       "  --sklearn-color-border-box: var(--sg-text-color, var(--theme-code-foreground, var(--jp-content-font-color1, black)));\n",
       "  --sklearn-color-icon: #696969;\n",
       "\n",
       "  @media (prefers-color-scheme: dark) {\n",
       "    /* Redefinition of color scheme for dark theme */\n",
       "    --sklearn-color-text-on-default-background: var(--sg-text-color, var(--theme-code-foreground, var(--jp-content-font-color1, white)));\n",
       "    --sklearn-color-background: var(--sg-background-color, var(--theme-background, var(--jp-layout-color0, #111)));\n",
       "    --sklearn-color-border-box: var(--sg-text-color, var(--theme-code-foreground, var(--jp-content-font-color1, white)));\n",
       "    --sklearn-color-icon: #878787;\n",
       "  }\n",
       "}\n",
       "\n",
       "#sk-container-id-3 {\n",
       "  color: var(--sklearn-color-text);\n",
       "}\n",
       "\n",
       "#sk-container-id-3 pre {\n",
       "  padding: 0;\n",
       "}\n",
       "\n",
       "#sk-container-id-3 input.sk-hidden--visually {\n",
       "  border: 0;\n",
       "  clip: rect(1px 1px 1px 1px);\n",
       "  clip: rect(1px, 1px, 1px, 1px);\n",
       "  height: 1px;\n",
       "  margin: -1px;\n",
       "  overflow: hidden;\n",
       "  padding: 0;\n",
       "  position: absolute;\n",
       "  width: 1px;\n",
       "}\n",
       "\n",
       "#sk-container-id-3 div.sk-dashed-wrapped {\n",
       "  border: 1px dashed var(--sklearn-color-line);\n",
       "  margin: 0 0.4em 0.5em 0.4em;\n",
       "  box-sizing: border-box;\n",
       "  padding-bottom: 0.4em;\n",
       "  background-color: var(--sklearn-color-background);\n",
       "}\n",
       "\n",
       "#sk-container-id-3 div.sk-container {\n",
       "  /* jupyter's `normalize.less` sets `[hidden] { display: none; }`\n",
       "     but bootstrap.min.css set `[hidden] { display: none !important; }`\n",
       "     so we also need the `!important` here to be able to override the\n",
       "     default hidden behavior on the sphinx rendered scikit-learn.org.\n",
       "     See: https://github.com/scikit-learn/scikit-learn/issues/21755 */\n",
       "  display: inline-block !important;\n",
       "  position: relative;\n",
       "}\n",
       "\n",
       "#sk-container-id-3 div.sk-text-repr-fallback {\n",
       "  display: none;\n",
       "}\n",
       "\n",
       "div.sk-parallel-item,\n",
       "div.sk-serial,\n",
       "div.sk-item {\n",
       "  /* draw centered vertical line to link estimators */\n",
       "  background-image: linear-gradient(var(--sklearn-color-text-on-default-background), var(--sklearn-color-text-on-default-background));\n",
       "  background-size: 2px 100%;\n",
       "  background-repeat: no-repeat;\n",
       "  background-position: center center;\n",
       "}\n",
       "\n",
       "/* Parallel-specific style estimator block */\n",
       "\n",
       "#sk-container-id-3 div.sk-parallel-item::after {\n",
       "  content: \"\";\n",
       "  width: 100%;\n",
       "  border-bottom: 2px solid var(--sklearn-color-text-on-default-background);\n",
       "  flex-grow: 1;\n",
       "}\n",
       "\n",
       "#sk-container-id-3 div.sk-parallel {\n",
       "  display: flex;\n",
       "  align-items: stretch;\n",
       "  justify-content: center;\n",
       "  background-color: var(--sklearn-color-background);\n",
       "  position: relative;\n",
       "}\n",
       "\n",
       "#sk-container-id-3 div.sk-parallel-item {\n",
       "  display: flex;\n",
       "  flex-direction: column;\n",
       "}\n",
       "\n",
       "#sk-container-id-3 div.sk-parallel-item:first-child::after {\n",
       "  align-self: flex-end;\n",
       "  width: 50%;\n",
       "}\n",
       "\n",
       "#sk-container-id-3 div.sk-parallel-item:last-child::after {\n",
       "  align-self: flex-start;\n",
       "  width: 50%;\n",
       "}\n",
       "\n",
       "#sk-container-id-3 div.sk-parallel-item:only-child::after {\n",
       "  width: 0;\n",
       "}\n",
       "\n",
       "/* Serial-specific style estimator block */\n",
       "\n",
       "#sk-container-id-3 div.sk-serial {\n",
       "  display: flex;\n",
       "  flex-direction: column;\n",
       "  align-items: center;\n",
       "  background-color: var(--sklearn-color-background);\n",
       "  padding-right: 1em;\n",
       "  padding-left: 1em;\n",
       "}\n",
       "\n",
       "\n",
       "/* Toggleable style: style used for estimator/Pipeline/ColumnTransformer box that is\n",
       "clickable and can be expanded/collapsed.\n",
       "- Pipeline and ColumnTransformer use this feature and define the default style\n",
       "- Estimators will overwrite some part of the style using the `sk-estimator` class\n",
       "*/\n",
       "\n",
       "/* Pipeline and ColumnTransformer style (default) */\n",
       "\n",
       "#sk-container-id-3 div.sk-toggleable {\n",
       "  /* Default theme specific background. It is overwritten whether we have a\n",
       "  specific estimator or a Pipeline/ColumnTransformer */\n",
       "  background-color: var(--sklearn-color-background);\n",
       "}\n",
       "\n",
       "/* Toggleable label */\n",
       "#sk-container-id-3 label.sk-toggleable__label {\n",
       "  cursor: pointer;\n",
       "  display: flex;\n",
       "  width: 100%;\n",
       "  margin-bottom: 0;\n",
       "  padding: 0.5em;\n",
       "  box-sizing: border-box;\n",
       "  text-align: center;\n",
       "  align-items: start;\n",
       "  justify-content: space-between;\n",
       "  gap: 0.5em;\n",
       "}\n",
       "\n",
       "#sk-container-id-3 label.sk-toggleable__label .caption {\n",
       "  font-size: 0.6rem;\n",
       "  font-weight: lighter;\n",
       "  color: var(--sklearn-color-text-muted);\n",
       "}\n",
       "\n",
       "#sk-container-id-3 label.sk-toggleable__label-arrow:before {\n",
       "  /* Arrow on the left of the label */\n",
       "  content: \"▸\";\n",
       "  float: left;\n",
       "  margin-right: 0.25em;\n",
       "  color: var(--sklearn-color-icon);\n",
       "}\n",
       "\n",
       "#sk-container-id-3 label.sk-toggleable__label-arrow:hover:before {\n",
       "  color: var(--sklearn-color-text);\n",
       "}\n",
       "\n",
       "/* Toggleable content - dropdown */\n",
       "\n",
       "#sk-container-id-3 div.sk-toggleable__content {\n",
       "  max-height: 0;\n",
       "  max-width: 0;\n",
       "  overflow: hidden;\n",
       "  text-align: left;\n",
       "  /* unfitted */\n",
       "  background-color: var(--sklearn-color-unfitted-level-0);\n",
       "}\n",
       "\n",
       "#sk-container-id-3 div.sk-toggleable__content.fitted {\n",
       "  /* fitted */\n",
       "  background-color: var(--sklearn-color-fitted-level-0);\n",
       "}\n",
       "\n",
       "#sk-container-id-3 div.sk-toggleable__content pre {\n",
       "  margin: 0.2em;\n",
       "  border-radius: 0.25em;\n",
       "  color: var(--sklearn-color-text);\n",
       "  /* unfitted */\n",
       "  background-color: var(--sklearn-color-unfitted-level-0);\n",
       "}\n",
       "\n",
       "#sk-container-id-3 div.sk-toggleable__content.fitted pre {\n",
       "  /* unfitted */\n",
       "  background-color: var(--sklearn-color-fitted-level-0);\n",
       "}\n",
       "\n",
       "#sk-container-id-3 input.sk-toggleable__control:checked~div.sk-toggleable__content {\n",
       "  /* Expand drop-down */\n",
       "  max-height: 200px;\n",
       "  max-width: 100%;\n",
       "  overflow: auto;\n",
       "}\n",
       "\n",
       "#sk-container-id-3 input.sk-toggleable__control:checked~label.sk-toggleable__label-arrow:before {\n",
       "  content: \"▾\";\n",
       "}\n",
       "\n",
       "/* Pipeline/ColumnTransformer-specific style */\n",
       "\n",
       "#sk-container-id-3 div.sk-label input.sk-toggleable__control:checked~label.sk-toggleable__label {\n",
       "  color: var(--sklearn-color-text);\n",
       "  background-color: var(--sklearn-color-unfitted-level-2);\n",
       "}\n",
       "\n",
       "#sk-container-id-3 div.sk-label.fitted input.sk-toggleable__control:checked~label.sk-toggleable__label {\n",
       "  background-color: var(--sklearn-color-fitted-level-2);\n",
       "}\n",
       "\n",
       "/* Estimator-specific style */\n",
       "\n",
       "/* Colorize estimator box */\n",
       "#sk-container-id-3 div.sk-estimator input.sk-toggleable__control:checked~label.sk-toggleable__label {\n",
       "  /* unfitted */\n",
       "  background-color: var(--sklearn-color-unfitted-level-2);\n",
       "}\n",
       "\n",
       "#sk-container-id-3 div.sk-estimator.fitted input.sk-toggleable__control:checked~label.sk-toggleable__label {\n",
       "  /* fitted */\n",
       "  background-color: var(--sklearn-color-fitted-level-2);\n",
       "}\n",
       "\n",
       "#sk-container-id-3 div.sk-label label.sk-toggleable__label,\n",
       "#sk-container-id-3 div.sk-label label {\n",
       "  /* The background is the default theme color */\n",
       "  color: var(--sklearn-color-text-on-default-background);\n",
       "}\n",
       "\n",
       "/* On hover, darken the color of the background */\n",
       "#sk-container-id-3 div.sk-label:hover label.sk-toggleable__label {\n",
       "  color: var(--sklearn-color-text);\n",
       "  background-color: var(--sklearn-color-unfitted-level-2);\n",
       "}\n",
       "\n",
       "/* Label box, darken color on hover, fitted */\n",
       "#sk-container-id-3 div.sk-label.fitted:hover label.sk-toggleable__label.fitted {\n",
       "  color: var(--sklearn-color-text);\n",
       "  background-color: var(--sklearn-color-fitted-level-2);\n",
       "}\n",
       "\n",
       "/* Estimator label */\n",
       "\n",
       "#sk-container-id-3 div.sk-label label {\n",
       "  font-family: monospace;\n",
       "  font-weight: bold;\n",
       "  display: inline-block;\n",
       "  line-height: 1.2em;\n",
       "}\n",
       "\n",
       "#sk-container-id-3 div.sk-label-container {\n",
       "  text-align: center;\n",
       "}\n",
       "\n",
       "/* Estimator-specific */\n",
       "#sk-container-id-3 div.sk-estimator {\n",
       "  font-family: monospace;\n",
       "  border: 1px dotted var(--sklearn-color-border-box);\n",
       "  border-radius: 0.25em;\n",
       "  box-sizing: border-box;\n",
       "  margin-bottom: 0.5em;\n",
       "  /* unfitted */\n",
       "  background-color: var(--sklearn-color-unfitted-level-0);\n",
       "}\n",
       "\n",
       "#sk-container-id-3 div.sk-estimator.fitted {\n",
       "  /* fitted */\n",
       "  background-color: var(--sklearn-color-fitted-level-0);\n",
       "}\n",
       "\n",
       "/* on hover */\n",
       "#sk-container-id-3 div.sk-estimator:hover {\n",
       "  /* unfitted */\n",
       "  background-color: var(--sklearn-color-unfitted-level-2);\n",
       "}\n",
       "\n",
       "#sk-container-id-3 div.sk-estimator.fitted:hover {\n",
       "  /* fitted */\n",
       "  background-color: var(--sklearn-color-fitted-level-2);\n",
       "}\n",
       "\n",
       "/* Specification for estimator info (e.g. \"i\" and \"?\") */\n",
       "\n",
       "/* Common style for \"i\" and \"?\" */\n",
       "\n",
       ".sk-estimator-doc-link,\n",
       "a:link.sk-estimator-doc-link,\n",
       "a:visited.sk-estimator-doc-link {\n",
       "  float: right;\n",
       "  font-size: smaller;\n",
       "  line-height: 1em;\n",
       "  font-family: monospace;\n",
       "  background-color: var(--sklearn-color-background);\n",
       "  border-radius: 1em;\n",
       "  height: 1em;\n",
       "  width: 1em;\n",
       "  text-decoration: none !important;\n",
       "  margin-left: 0.5em;\n",
       "  text-align: center;\n",
       "  /* unfitted */\n",
       "  border: var(--sklearn-color-unfitted-level-1) 1pt solid;\n",
       "  color: var(--sklearn-color-unfitted-level-1);\n",
       "}\n",
       "\n",
       ".sk-estimator-doc-link.fitted,\n",
       "a:link.sk-estimator-doc-link.fitted,\n",
       "a:visited.sk-estimator-doc-link.fitted {\n",
       "  /* fitted */\n",
       "  border: var(--sklearn-color-fitted-level-1) 1pt solid;\n",
       "  color: var(--sklearn-color-fitted-level-1);\n",
       "}\n",
       "\n",
       "/* On hover */\n",
       "div.sk-estimator:hover .sk-estimator-doc-link:hover,\n",
       ".sk-estimator-doc-link:hover,\n",
       "div.sk-label-container:hover .sk-estimator-doc-link:hover,\n",
       ".sk-estimator-doc-link:hover {\n",
       "  /* unfitted */\n",
       "  background-color: var(--sklearn-color-unfitted-level-3);\n",
       "  color: var(--sklearn-color-background);\n",
       "  text-decoration: none;\n",
       "}\n",
       "\n",
       "div.sk-estimator.fitted:hover .sk-estimator-doc-link.fitted:hover,\n",
       ".sk-estimator-doc-link.fitted:hover,\n",
       "div.sk-label-container:hover .sk-estimator-doc-link.fitted:hover,\n",
       ".sk-estimator-doc-link.fitted:hover {\n",
       "  /* fitted */\n",
       "  background-color: var(--sklearn-color-fitted-level-3);\n",
       "  color: var(--sklearn-color-background);\n",
       "  text-decoration: none;\n",
       "}\n",
       "\n",
       "/* Span, style for the box shown on hovering the info icon */\n",
       ".sk-estimator-doc-link span {\n",
       "  display: none;\n",
       "  z-index: 9999;\n",
       "  position: relative;\n",
       "  font-weight: normal;\n",
       "  right: .2ex;\n",
       "  padding: .5ex;\n",
       "  margin: .5ex;\n",
       "  width: min-content;\n",
       "  min-width: 20ex;\n",
       "  max-width: 50ex;\n",
       "  color: var(--sklearn-color-text);\n",
       "  box-shadow: 2pt 2pt 4pt #999;\n",
       "  /* unfitted */\n",
       "  background: var(--sklearn-color-unfitted-level-0);\n",
       "  border: .5pt solid var(--sklearn-color-unfitted-level-3);\n",
       "}\n",
       "\n",
       ".sk-estimator-doc-link.fitted span {\n",
       "  /* fitted */\n",
       "  background: var(--sklearn-color-fitted-level-0);\n",
       "  border: var(--sklearn-color-fitted-level-3);\n",
       "}\n",
       "\n",
       ".sk-estimator-doc-link:hover span {\n",
       "  display: block;\n",
       "}\n",
       "\n",
       "/* \"?\"-specific style due to the `<a>` HTML tag */\n",
       "\n",
       "#sk-container-id-3 a.estimator_doc_link {\n",
       "  float: right;\n",
       "  font-size: 1rem;\n",
       "  line-height: 1em;\n",
       "  font-family: monospace;\n",
       "  background-color: var(--sklearn-color-background);\n",
       "  border-radius: 1rem;\n",
       "  height: 1rem;\n",
       "  width: 1rem;\n",
       "  text-decoration: none;\n",
       "  /* unfitted */\n",
       "  color: var(--sklearn-color-unfitted-level-1);\n",
       "  border: var(--sklearn-color-unfitted-level-1) 1pt solid;\n",
       "}\n",
       "\n",
       "#sk-container-id-3 a.estimator_doc_link.fitted {\n",
       "  /* fitted */\n",
       "  border: var(--sklearn-color-fitted-level-1) 1pt solid;\n",
       "  color: var(--sklearn-color-fitted-level-1);\n",
       "}\n",
       "\n",
       "/* On hover */\n",
       "#sk-container-id-3 a.estimator_doc_link:hover {\n",
       "  /* unfitted */\n",
       "  background-color: var(--sklearn-color-unfitted-level-3);\n",
       "  color: var(--sklearn-color-background);\n",
       "  text-decoration: none;\n",
       "}\n",
       "\n",
       "#sk-container-id-3 a.estimator_doc_link.fitted:hover {\n",
       "  /* fitted */\n",
       "  background-color: var(--sklearn-color-fitted-level-3);\n",
       "}\n",
       "</style><div id=\"sk-container-id-3\" class=\"sk-top-container\"><div class=\"sk-text-repr-fallback\"><pre>AffinityPropagation(damping=0.9, preference=-58.389, random_state=42)</pre><b>In a Jupyter environment, please rerun this cell to show the HTML representation or trust the notebook. <br />On GitHub, the HTML representation is unable to render, please try loading this page with nbviewer.org.</b></div><div class=\"sk-container\" hidden><div class=\"sk-item\"><div class=\"sk-estimator fitted sk-toggleable\"><input class=\"sk-toggleable__control sk-hidden--visually\" id=\"sk-estimator-id-3\" type=\"checkbox\" checked><label for=\"sk-estimator-id-3\" class=\"sk-toggleable__label fitted sk-toggleable__label-arrow\"><div><div>AffinityPropagation</div></div><div><a class=\"sk-estimator-doc-link fitted\" rel=\"noreferrer\" target=\"_blank\" href=\"https://scikit-learn.org/1.6/modules/generated/sklearn.cluster.AffinityPropagation.html\">?<span>Documentation for AffinityPropagation</span></a><span class=\"sk-estimator-doc-link fitted\">i<span>Fitted</span></span></div></label><div class=\"sk-toggleable__content fitted\"><pre>AffinityPropagation(damping=0.9, preference=-58.389, random_state=42)</pre></div> </div></div></div></div>"
      ],
      "text/plain": [
       "AffinityPropagation(damping=0.9, preference=-58.389, random_state=42)"
      ]
     },
     "execution_count": 47,
     "metadata": {},
     "output_type": "execute_result"
    }
   ],
   "source": [
    "ap = AffinityPropagation(random_state=42, damping=0.9, preference=-58.389)\n",
    "ap.fit(X)"
   ]
  },
  {
   "cell_type": "markdown",
   "metadata": {
    "id": "zlPbVHTzneHk"
   },
   "source": [
    "### 2. Biểu diễn phân cụm"
   ]
  },
  {
   "cell_type": "code",
   "execution_count": 48,
   "metadata": {
    "colab": {
     "base_uri": "https://localhost:8080/",
     "height": 686
    },
    "executionInfo": {
     "elapsed": 341,
     "status": "ok",
     "timestamp": 1745741087041,
     "user": {
      "displayName": "CƯỜNG ĐẶNG XUÂN",
      "userId": "00956941829870484129"
     },
     "user_tz": -420
    },
    "id": "NUs2757XmCzT",
    "outputId": "e6cde68c-8dc9-4dee-c8d1-36b0f1d83dcf"
   },
   "outputs": [
    {
     "data": {
      "image/png": "[encoded data removed]",
      "text/plain": [
       "<Figure size 1600x600 with 1 Axes>"
      ]
     },
     "metadata": {},
     "output_type": "display_data"
    }
   ],
   "source": [
    "# Giảm số chiều về 2\n",
    "X_2d = PCA(n_components=2).fit_transform(X)\n",
    "\n",
    "labels = ap.labels_\n",
    "exemplars = ap.cluster_centers_indices_\n",
    "\n",
    "plt.figure(figsize=(16, 6))\n",
    "for cluster in set(labels):\n",
    "    plt.scatter(\n",
    "        X_2d[labels == cluster, 0],\n",
    "        X_2d[labels == cluster, 1],\n",
    "        label=f\"Cluster {cluster}\",\n",
    "    )\n",
    "plt.scatter(\n",
    "    X_2d[exemplars, 0],\n",
    "    X_2d[exemplars, 1],\n",
    "    c=\"black\",\n",
    "    marker=\"x\",\n",
    "    s=250,\n",
    "    label=\"Exemplars\",\n",
    "    edgecolors=\"white\",\n",
    ")\n",
    "plt.legend()\n",
    "plt.title(\"Affinity Propagation Clustering\")\n",
    "plt.show()"
   ]
  },
  {
   "cell_type": "markdown",
   "metadata": {
    "id": "PptI1DAZFj1j"
   },
   "source": [
    "# Hyperparameter Optimization"
   ]
  },
  {
   "cell_type": "markdown",
   "metadata": {
    "id": "C37aWFLyovxS"
   },
   "source": [
    "### 1. Grid Search"
   ]
  },
  {
   "cell_type": "code",
   "execution_count": 49,
   "metadata": {
    "colab": {
     "base_uri": "https://localhost:8080/"
    },
    "executionInfo": {
     "elapsed": 156383,
     "status": "ok",
     "timestamp": 1745740217788,
     "user": {
      "displayName": "CƯỜNG ĐẶNG XUÂN",
      "userId": "00956941829870484129"
     },
     "user_tz": -420
    },
    "id": "QFYA8TBgzjJX",
    "outputId": "6e618f78-262a-4210-fd11-a86e0f642bf7"
   },
   "outputs": [],
   "source": [
    "# Không gian tìm kiếm\n",
    "param_grid = {\n",
    "    \"damping\": np.linspace(0.5, 0.9, 5),\n",
    "    \"preference\": np.linspace(-300, 0, 150),\n",
    "}\n",
    "\n",
    "grid = ParameterGrid(param_grid)\n",
    "top_results = []\n",
    "\n",
    "for params in grid:\n",
    "    model = AffinityPropagation(\n",
    "        damping=params[\"damping\"],\n",
    "        preference=params[\"preference\"],\n",
    "        random_state=42\n",
    "    )\n",
    "    \n",
    "    labels = model.fit_predict(X)\n",
    "    n_clusters = len(set(labels))\n",
    "\n",
    "    if n_clusters <= 1 or n_clusters >= len(X):\n",
    "        continue\n",
    "\n",
    "    sil_score = silhouette_score(X, labels)\n",
    "    db_score = davies_bouldin_score(X, labels)\n",
    "    ch_score = calinski_harabasz_score(X, labels)\n",
    "\n",
    "    top_results.append({\n",
    "        \"params\": params,\n",
    "        \"sil_score\": sil_score,\n",
    "        \"dbi\": db_score,\n",
    "        \"chi\": ch_score,\n",
    "        \"n_clusters\": n_clusters,\n",
    "        \"labels\": labels,\n",
    "        \"model\": model\n",
    "    })"
   ]
  },
  {
   "cell_type": "code",
   "execution_count": 50,
   "metadata": {},
   "outputs": [
    {
     "data": {
      "text/html": [
       "<div>\n",
       "<style scoped>\n",
       "    .dataframe tbody tr th:only-of-type {\n",
       "        vertical-align: middle;\n",
       "    }\n",
       "\n",
       "    .dataframe tbody tr th {\n",
       "        vertical-align: top;\n",
       "    }\n",
       "\n",
       "    .dataframe thead th {\n",
       "        text-align: right;\n",
       "    }\n",
       "</style>\n",
       "<table border=\"1\" class=\"dataframe\">\n",
       "  <thead>\n",
       "    <tr style=\"text-align: right;\">\n",
       "      <th></th>\n",
       "      <th>Top</th>\n",
       "      <th>Silhouette</th>\n",
       "      <th>Davies-Bouldin</th>\n",
       "      <th>Calinski-Harabaz</th>\n",
       "      <th>Số cụm</th>\n",
       "      <th>Damping</th>\n",
       "      <th>Preference</th>\n",
       "    </tr>\n",
       "  </thead>\n",
       "  <tbody>\n",
       "    <tr>\n",
       "      <th>0</th>\n",
       "      <td>1.0</td>\n",
       "      <td>0.371</td>\n",
       "      <td>0.882</td>\n",
       "      <td>76.514</td>\n",
       "      <td>26.0</td>\n",
       "      <td>0.7</td>\n",
       "      <td>-2.013</td>\n",
       "    </tr>\n",
       "    <tr>\n",
       "      <th>1</th>\n",
       "      <td>2.0</td>\n",
       "      <td>0.371</td>\n",
       "      <td>0.882</td>\n",
       "      <td>76.514</td>\n",
       "      <td>26.0</td>\n",
       "      <td>0.8</td>\n",
       "      <td>-2.013</td>\n",
       "    </tr>\n",
       "    <tr>\n",
       "      <th>2</th>\n",
       "      <td>3.0</td>\n",
       "      <td>0.371</td>\n",
       "      <td>0.882</td>\n",
       "      <td>76.514</td>\n",
       "      <td>26.0</td>\n",
       "      <td>0.9</td>\n",
       "      <td>-2.013</td>\n",
       "    </tr>\n",
       "    <tr>\n",
       "      <th>3</th>\n",
       "      <td>4.0</td>\n",
       "      <td>0.367</td>\n",
       "      <td>0.871</td>\n",
       "      <td>76.916</td>\n",
       "      <td>28.0</td>\n",
       "      <td>0.5</td>\n",
       "      <td>-2.013</td>\n",
       "    </tr>\n",
       "    <tr>\n",
       "      <th>4</th>\n",
       "      <td>5.0</td>\n",
       "      <td>0.367</td>\n",
       "      <td>0.871</td>\n",
       "      <td>76.916</td>\n",
       "      <td>28.0</td>\n",
       "      <td>0.6</td>\n",
       "      <td>-2.013</td>\n",
       "    </tr>\n",
       "  </tbody>\n",
       "</table>\n",
       "</div>"
      ],
      "text/plain": [
       "   Top  Silhouette  Davies-Bouldin  Calinski-Harabaz  Số cụm  Damping  \\\n",
       "0  1.0       0.371           0.882            76.514    26.0      0.7   \n",
       "1  2.0       0.371           0.882            76.514    26.0      0.8   \n",
       "2  3.0       0.371           0.882            76.514    26.0      0.9   \n",
       "3  4.0       0.367           0.871            76.916    28.0      0.5   \n",
       "4  5.0       0.367           0.871            76.916    28.0      0.6   \n",
       "\n",
       "   Preference  \n",
       "0      -2.013  \n",
       "1      -2.013  \n",
       "2      -2.013  \n",
       "3      -2.013  \n",
       "4      -2.013  "
      ]
     },
     "execution_count": 50,
     "metadata": {},
     "output_type": "execute_result"
    }
   ],
   "source": [
    "top_results = sorted(top_results, key=lambda x: x[\"sil_score\"], reverse=True)[:5]  # Lấy kết quả tốt nhất\n",
    "show_results = pd.DataFrame(columns=[\"Top\",\"Silhouette\",\"Davies-Bouldin\",\"Calinski-Harabaz\",\"Số cụm\",\"Damping\",\"Preference\",])\n",
    "for i, res in enumerate(top_results):\n",
    "    show_results.loc[len(show_results)] = [\n",
    "        i + 1,\n",
    "        round(res[\"sil_score\"],3),\n",
    "        round(res[\"dbi\"],3),\n",
    "        round(res[\"chi\"],3),\n",
    "        round(res[\"n_clusters\"],3),\n",
    "        round(res[\"params\"][\"damping\"],3),\n",
    "        round(res[\"params\"][\"preference\"],3),\n",
    "    ]\n",
    "show_results"
   ]
  },
  {
   "cell_type": "markdown",
   "metadata": {
    "id": "fNOqiNK_sk3E"
   },
   "source": [
    "### 2. Optuna"
   ]
  },
  {
   "cell_type": "markdown",
   "metadata": {},
   "source": [
    "|Tính năng | Ý nghĩa |\n",
    "|---|---|\n",
    "|Sơ đồ dòng tối ưu hóa | Hiểu tổng quan quá trình|\n",
    "|Early Stopping (Pruning) | Tiết kiệm thời gian|\n",
    "|Visualization | Nhìn thấy quá trình tối ưu trực quan|"
   ]
  },
  {
   "cell_type": "code",
   "execution_count": 51,
   "metadata": {
    "id": "BLmX7QcWsn0j"
   },
   "outputs": [],
   "source": [
    "# Không gian tìm kiếm\n",
    "damping_values = np.linspace(0.5, 0.9, 5)\n",
    "preference_values = np.linspace(-300, 0, 150)\n",
    "\n",
    "# Lưu kết quả tốt nhất\n",
    "top_results = []\n",
    "\n",
    "\n",
    "def objective(trial):\n",
    "    damping = trial.suggest_categorical(\"damping\", damping_values.tolist())\n",
    "    preference = trial.suggest_categorical(\"preference\", preference_values.tolist())\n",
    "\n",
    "    model = AffinityPropagation(damping=damping, preference=preference, random_state=42)\n",
    "    labels = model.fit_predict(X)\n",
    "    n_clusters = len(set(labels))\n",
    "\n",
    "    if n_clusters <= 1 or n_clusters >= len(X):\n",
    "        trial.report(0.0, step=0)\n",
    "        raise optuna.exceptions.TrialPruned()\n",
    "\n",
    "    sil_score = silhouette_score(X, labels)\n",
    "    db_score = davies_bouldin_score(X, labels)\n",
    "    ch_score = calinski_harabasz_score(X, labels)\n",
    "\n",
    "    trial.report(sil_score, step=0)\n",
    "\n",
    "    if trial.should_prune():\n",
    "        raise optuna.exceptions.TrialPruned()\n",
    "\n",
    "    top_results.append(\n",
    "        {\n",
    "            \"params\": {\"damping\": damping, \"preference\": preference},\n",
    "            \"sil_score\": sil_score,\n",
    "            \"dbi\": db_score,\n",
    "            \"chi\": ch_score,\n",
    "            \"n_clusters\": n_clusters,\n",
    "            \"labels\": labels,\n",
    "            \"model\": model,\n",
    "        }\n",
    "    )\n",
    "\n",
    "    return sil_score"
   ]
  },
  {
   "cell_type": "code",
   "execution_count": 52,
   "metadata": {},
   "outputs": [
    {
     "name": "stderr",
     "output_type": "stream",
     "text": [
      "[I 2025-05-07 19:51:37,395] A new study created in memory with name: no-name-0ae368d6-7953-4d60-8566-2c13708f823a\n",
      "[I 2025-05-07 19:51:37,414] Trial 0 finished with value: 0.3027851137444233 and parameters: {'damping': 0.5, 'preference': -44.2953020134228}. Best is trial 0 with value: 0.3027851137444233.\n",
      "[I 2025-05-07 19:51:37,426] Trial 1 finished with value: 0.31138752942367165 and parameters: {'damping': 0.7, 'preference': -20.13422818791946}. Best is trial 0 with value: 0.3027851137444233.\n",
      "[I 2025-05-07 19:51:37,436] Trial 2 pruned. \n",
      "[I 2025-05-07 19:51:37,449] Trial 3 finished with value: 0.32233760674119255 and parameters: {'damping': 0.5, 'preference': -22.147651006711385}. Best is trial 0 with value: 0.3027851137444233.\n",
      "[I 2025-05-07 19:51:37,459] Trial 4 pruned. \n",
      "[I 2025-05-07 19:51:37,471] Trial 5 finished with value: 0.30281598368318474 and parameters: {'damping': 0.8, 'preference': -104.69798657718118}. Best is trial 0 with value: 0.3027851137444233.\n",
      "[I 2025-05-07 19:51:37,486] Trial 6 finished with value: 0.27654356234103133 and parameters: {'damping': 0.5, 'preference': -112.75167785234896}. Best is trial 6 with value: 0.27654356234103133.\n",
      "[I 2025-05-07 19:51:37,497] Trial 7 finished with value: 0.33610642014617764 and parameters: {'damping': 0.7, 'preference': -70.46979865771809}. Best is trial 6 with value: 0.27654356234103133.\n",
      "[I 2025-05-07 19:51:37,515] Trial 8 finished with value: 0.3301895147133313 and parameters: {'damping': 0.9, 'preference': -6.040268456375827}. Best is trial 6 with value: 0.27654356234103133.\n",
      "[I 2025-05-07 19:51:37,528] Trial 9 finished with value: 0.2943708379712696 and parameters: {'damping': 0.9, 'preference': -134.89932885906038}. Best is trial 6 with value: 0.27654356234103133.\n",
      "[I 2025-05-07 19:51:37,543] Trial 10 finished with value: 0.3268396469221812 and parameters: {'damping': 0.6, 'preference': -92.6174496644295}. Best is trial 6 with value: 0.27654356234103133.\n",
      "[I 2025-05-07 19:51:37,569] Trial 11 pruned. \n",
      "[I 2025-05-07 19:51:37,581] Trial 12 pruned. \n",
      "[I 2025-05-07 19:51:37,597] Trial 13 finished with value: 0.3080152998568323 and parameters: {'damping': 0.6, 'preference': -112.75167785234896}. Best is trial 6 with value: 0.27654356234103133.\n",
      "[I 2025-05-07 19:51:37,611] Trial 14 finished with value: 0.23854280875771203 and parameters: {'damping': 0.5, 'preference': -134.89932885906038}. Best is trial 14 with value: 0.23854280875771203.\n",
      "[I 2025-05-07 19:51:37,629] Trial 15 pruned. \n",
      "[I 2025-05-07 19:51:37,650] Trial 16 pruned. \n",
      "[I 2025-05-07 19:51:37,666] Trial 17 finished with value: 0.27654356234103133 and parameters: {'damping': 0.5, 'preference': -112.75167785234896}. Best is trial 14 with value: 0.23854280875771203.\n",
      "[I 2025-05-07 19:51:37,696] Trial 18 finished with value: 0.28709970258611256 and parameters: {'damping': 0.5, 'preference': -175.16778523489933}. Best is trial 14 with value: 0.23854280875771203.\n",
      "[I 2025-05-07 19:51:37,711] Trial 19 finished with value: 0.23854280875771203 and parameters: {'damping': 0.5, 'preference': -134.89932885906038}. Best is trial 14 with value: 0.23854280875771203.\n",
      "[I 2025-05-07 19:51:37,722] Trial 20 finished with value: 0.2943708379712696 and parameters: {'damping': 0.8, 'preference': -134.89932885906038}. Best is trial 14 with value: 0.23854280875771203.\n",
      "[I 2025-05-07 19:51:37,748] Trial 21 finished with value: 0.2813081038683538 and parameters: {'damping': 0.5, 'preference': -16.107382550335558}. Best is trial 14 with value: 0.23854280875771203.\n",
      "[I 2025-05-07 19:51:37,766] Trial 22 pruned. \n",
      "[I 2025-05-07 19:51:37,781] Trial 23 finished with value: 0.23854280875771203 and parameters: {'damping': 0.5, 'preference': -134.89932885906038}. Best is trial 14 with value: 0.23854280875771203.\n",
      "[I 2025-05-07 19:51:37,798] Trial 24 pruned. \n",
      "[I 2025-05-07 19:51:37,810] Trial 25 finished with value: 0.2886141300621668 and parameters: {'damping': 0.6, 'preference': -134.89932885906038}. Best is trial 14 with value: 0.23854280875771203.\n",
      "[I 2025-05-07 19:51:37,820] Trial 26 pruned. \n",
      "[I 2025-05-07 19:51:37,846] Trial 27 pruned. \n",
      "[I 2025-05-07 19:51:37,862] Trial 28 pruned. \n",
      "[I 2025-05-07 19:51:37,880] Trial 29 pruned. \n",
      "[I 2025-05-07 19:51:37,907] Trial 30 finished with value: 0.23854280875771203 and parameters: {'damping': 0.5, 'preference': -193.28859060402684}. Best is trial 14 with value: 0.23854280875771203.\n",
      "[I 2025-05-07 19:51:37,924] Trial 31 pruned. \n",
      "[I 2025-05-07 19:51:37,939] Trial 32 pruned. \n",
      "[I 2025-05-07 19:51:37,950] Trial 33 pruned. \n",
      "[I 2025-05-07 19:51:37,960] Trial 34 pruned. \n",
      "[I 2025-05-07 19:51:37,978] Trial 35 finished with value: 0.28551812210876804 and parameters: {'damping': 0.5, 'preference': -165.1006711409396}. Best is trial 14 with value: 0.23854280875771203.\n",
      "[I 2025-05-07 19:51:38,000] Trial 36 pruned. \n",
      "[I 2025-05-07 19:51:38,018] Trial 37 pruned. \n",
      "[I 2025-05-07 19:51:38,030] Trial 38 pruned. \n",
      "[I 2025-05-07 19:51:38,041] Trial 39 pruned. \n",
      "[I 2025-05-07 19:51:38,051] Trial 40 pruned. \n",
      "[I 2025-05-07 19:51:38,092] Trial 41 finished with value: 0.27363321468618784 and parameters: {'damping': 0.5, 'preference': -159.06040268456374}. Best is trial 14 with value: 0.23854280875771203.\n",
      "[I 2025-05-07 19:51:38,133] Trial 42 finished with value: 0.27363321468618784 and parameters: {'damping': 0.5, 'preference': -159.06040268456374}. Best is trial 14 with value: 0.23854280875771203.\n",
      "[I 2025-05-07 19:51:38,148] Trial 43 pruned. \n",
      "[I 2025-05-07 19:51:38,160] Trial 44 pruned. \n",
      "[I 2025-05-07 19:51:38,174] Trial 45 pruned. \n",
      "[I 2025-05-07 19:51:38,216] Trial 46 pruned. \n",
      "[I 2025-05-07 19:51:38,256] Trial 47 pruned. \n",
      "[I 2025-05-07 19:51:38,270] Trial 48 pruned. \n",
      "[I 2025-05-07 19:51:38,284] Trial 49 pruned. \n",
      "[I 2025-05-07 19:51:38,295] Trial 50 pruned. \n",
      "[I 2025-05-07 19:51:38,321] Trial 51 finished with value: 0.28557942363015815 and parameters: {'damping': 0.5, 'preference': -227.51677852348993}. Best is trial 14 with value: 0.23854280875771203.\n",
      "[I 2025-05-07 19:51:38,362] Trial 52 finished with value: 0.27363321468618784 and parameters: {'damping': 0.5, 'preference': -159.06040268456374}. Best is trial 14 with value: 0.23854280875771203.\n",
      "[I 2025-05-07 19:51:38,384] Trial 53 finished with value: 0.23854280875771203 and parameters: {'damping': 0.5, 'preference': -201.34228187919462}. Best is trial 14 with value: 0.23854280875771203.\n",
      "[I 2025-05-07 19:51:38,399] Trial 54 finished with value: 0.23854280875771203 and parameters: {'damping': 0.5, 'preference': -134.89932885906038}. Best is trial 14 with value: 0.23854280875771203.\n",
      "[I 2025-05-07 19:51:38,420] Trial 55 finished with value: 0.23854280875771203 and parameters: {'damping': 0.5, 'preference': -201.34228187919462}. Best is trial 14 with value: 0.23854280875771203.\n",
      "[I 2025-05-07 19:51:38,440] Trial 56 pruned. \n",
      "[I 2025-05-07 19:51:38,451] Trial 57 pruned. \n",
      "[I 2025-05-07 19:51:38,462] Trial 58 finished with value: 0.27363321468618784 and parameters: {'damping': 0.7, 'preference': -134.89932885906038}. Best is trial 14 with value: 0.23854280875771203.\n",
      "[I 2025-05-07 19:51:38,477] Trial 59 pruned. \n",
      "[I 2025-05-07 19:51:38,496] Trial 60 pruned. \n",
      "[I 2025-05-07 19:51:38,518] Trial 61 finished with value: 0.23854280875771203 and parameters: {'damping': 0.5, 'preference': -201.34228187919462}. Best is trial 14 with value: 0.23854280875771203.\n",
      "[I 2025-05-07 19:51:38,532] Trial 62 pruned. \n",
      "[I 2025-05-07 19:51:38,553] Trial 63 finished with value: 0.23854280875771203 and parameters: {'damping': 0.5, 'preference': -201.34228187919462}. Best is trial 14 with value: 0.23854280875771203.\n",
      "[I 2025-05-07 19:51:38,568] Trial 64 pruned. \n",
      "[I 2025-05-07 19:51:38,583] Trial 65 pruned. \n",
      "[I 2025-05-07 19:51:38,605] Trial 66 pruned. \n",
      "[I 2025-05-07 19:51:38,618] Trial 67 pruned. \n",
      "[I 2025-05-07 19:51:38,632] Trial 68 pruned. \n",
      "[I 2025-05-07 19:51:38,645] Trial 69 finished with value: 0.2787729143432304 and parameters: {'damping': 0.5, 'preference': -50.335570469798625}. Best is trial 14 with value: 0.23854280875771203.\n",
      "[I 2025-05-07 19:51:38,658] Trial 70 pruned. \n",
      "[I 2025-05-07 19:51:38,679] Trial 71 finished with value: 0.23854280875771203 and parameters: {'damping': 0.5, 'preference': -201.34228187919462}. Best is trial 14 with value: 0.23854280875771203.\n",
      "[I 2025-05-07 19:51:38,702] Trial 72 pruned. \n",
      "[I 2025-05-07 19:51:38,723] Trial 73 finished with value: 0.23854280875771203 and parameters: {'damping': 0.5, 'preference': -201.34228187919462}. Best is trial 14 with value: 0.23854280875771203.\n",
      "[I 2025-05-07 19:51:38,741] Trial 74 pruned. \n",
      "[I 2025-05-07 19:51:38,766] Trial 75 pruned. \n",
      "[I 2025-05-07 19:51:38,782] Trial 76 pruned. \n",
      "[I 2025-05-07 19:51:38,798] Trial 77 pruned. \n",
      "[I 2025-05-07 19:51:38,818] Trial 78 pruned. \n",
      "[I 2025-05-07 19:51:38,832] Trial 79 pruned. \n",
      "[I 2025-05-07 19:51:38,857] Trial 80 finished with value: 0.23854280875771203 and parameters: {'damping': 0.5, 'preference': -193.28859060402684}. Best is trial 14 with value: 0.23854280875771203.\n",
      "[I 2025-05-07 19:51:38,871] Trial 81 pruned. \n",
      "[I 2025-05-07 19:51:38,893] Trial 82 finished with value: 0.23854280875771203 and parameters: {'damping': 0.5, 'preference': -201.34228187919462}. Best is trial 14 with value: 0.23854280875771203.\n",
      "[I 2025-05-07 19:51:38,912] Trial 83 pruned. \n",
      "[I 2025-05-07 19:51:38,928] Trial 84 pruned. \n",
      "[I 2025-05-07 19:51:38,941] Trial 85 pruned. \n",
      "[I 2025-05-07 19:51:38,970] Trial 86 pruned. \n",
      "[I 2025-05-07 19:51:38,986] Trial 87 pruned. \n",
      "[I 2025-05-07 19:51:39,027] Trial 88 pruned. \n",
      "[I 2025-05-07 19:51:39,041] Trial 89 pruned. \n",
      "[I 2025-05-07 19:51:39,055] Trial 90 pruned. \n",
      "[I 2025-05-07 19:51:39,077] Trial 91 finished with value: 0.23854280875771203 and parameters: {'damping': 0.5, 'preference': -201.34228187919462}. Best is trial 14 with value: 0.23854280875771203.\n",
      "[I 2025-05-07 19:51:39,097] Trial 92 finished with value: 0.26139236806675337 and parameters: {'damping': 0.5, 'preference': -132.88590604026845}. Best is trial 14 with value: 0.23854280875771203.\n",
      "[I 2025-05-07 19:51:39,126] Trial 93 finished with value: 0.23854280875771203 and parameters: {'damping': 0.5, 'preference': -201.34228187919462}. Best is trial 14 with value: 0.23854280875771203.\n",
      "[I 2025-05-07 19:51:39,143] Trial 94 pruned. \n",
      "[I 2025-05-07 19:51:39,159] Trial 95 finished with value: 0.2614599572340534 and parameters: {'damping': 0.5, 'preference': -126.8456375838926}. Best is trial 14 with value: 0.23854280875771203.\n",
      "[I 2025-05-07 19:51:39,170] Trial 96 finished with value: 0.27363321468618784 and parameters: {'damping': 0.7, 'preference': -134.89932885906038}. Best is trial 14 with value: 0.23854280875771203.\n",
      "[I 2025-05-07 19:51:39,193] Trial 97 pruned. \n",
      "[I 2025-05-07 19:51:39,202] Trial 98 pruned. \n",
      "[I 2025-05-07 19:51:39,214] Trial 99 pruned. \n"
     ]
    }
   ],
   "source": [
    "# Tạo Study có pruner\n",
    "pruner = MedianPruner(n_startup_trials=10, n_warmup_steps=0)\n",
    "study = optuna.create_study(direction='minimize', pruner=pruner)\n",
    "study.optimize(objective, n_trials=100)"
   ]
  },
  {
   "cell_type": "code",
   "execution_count": 53,
   "metadata": {},
   "outputs": [
    {
     "data": {
      "application/vnd.plotly.v1+json": {
       "config": {
        "plotlyServerURL": "https://plot.ly"
       },
       "data": [
        {
         "mode": "markers",
         "name": "Objective Value",
         "type": "scatter",
         "x": [
          0,
          1,
          3,
          5,
          6,
          7,
          8,
          9,
          10,
          13,
          14,
          17,
          18,
          19,
          20,
          21,
          23,
          25,
          30,
          35,
          41,
          42,
          51,
          52,
          53,
          54,
          55,
          58,
          61,
          63,
          69,
          71,
          73,
          80,
          82,
          91,
          92,
          93,
          95,
          96
         ],
         "y": [
          0.3027851137444233,
          0.31138752942367165,
          0.32233760674119255,
          0.30281598368318474,
          0.27654356234103133,
          0.33610642014617764,
          0.3301895147133313,
          0.2943708379712696,
          0.3268396469221812,
          0.3080152998568323,
          0.23854280875771203,
          0.27654356234103133,
          0.28709970258611256,
          0.23854280875771203,
          0.2943708379712696,
          0.2813081038683538,
          0.23854280875771203,
          0.2886141300621668,
          0.23854280875771203,
          0.28551812210876804,
          0.27363321468618784,
          0.27363321468618784,
          0.28557942363015815,
          0.27363321468618784,
          0.23854280875771203,
          0.23854280875771203,
          0.23854280875771203,
          0.27363321468618784,
          0.23854280875771203,
          0.23854280875771203,
          0.2787729143432304,
          0.23854280875771203,
          0.23854280875771203,
          0.23854280875771203,
          0.23854280875771203,
          0.23854280875771203,
          0.26139236806675337,
          0.23854280875771203,
          0.2614599572340534,
          0.27363321468618784
         ]
        },
        {
         "mode": "lines",
         "name": "Best Value",
         "type": "scatter",
         "x": [
          0,
          1,
          2,
          3,
          4,
          5,
          6,
          7,
          8,
          9,
          10,
          11,
          12,
          13,
          14,
          15,
          16,
          17,
          18,
          19,
          20,
          21,
          22,
          23,
          24,
          25,
          26,
          27,
          28,
          29,
          30,
          31,
          32,
          33,
          34,
          35,
          36,
          37,
          38,
          39,
          40,
          41,
          42,
          43,
          44,
          45,
          46,
          47,
          48,
          49,
          50,
          51,
          52,
          53,
          54,
          55,
          56,
          57,
          58,
          59,
          60,
          61,
          62,
          63,
          64,
          65,
          66,
          67,
          68,
          69,
          70,
          71,
          72,
          73,
          74,
          75,
          76,
          77,
          78,
          79,
          80,
          81,
          82,
          83,
          84,
          85,
          86,
          87,
          88,
          89,
          90,
          91,
          92,
          93,
          94,
          95,
          96,
          97,
          98,
          99
         ],
         "y": [
          0.3027851137444233,
          0.3027851137444233,
          0.3027851137444233,
          0.3027851137444233,
          0.3027851137444233,
          0.3027851137444233,
          0.27654356234103133,
          0.27654356234103133,
          0.27654356234103133,
          0.27654356234103133,
          0.27654356234103133,
          0.27654356234103133,
          0.27654356234103133,
          0.27654356234103133,
          0.23854280875771203,
          0.23854280875771203,
          0.23854280875771203,
          0.23854280875771203,
          0.23854280875771203,
          0.23854280875771203,
          0.23854280875771203,
          0.23854280875771203,
          0.23854280875771203,
          0.23854280875771203,
          0.23854280875771203,
          0.23854280875771203,
          0.23854280875771203,
          0.23854280875771203,
          0.23854280875771203,
          0.23854280875771203,
          0.23854280875771203,
          0.23854280875771203,
          0.23854280875771203,
          0.23854280875771203,
          0.23854280875771203,
          0.23854280875771203,
          0.23854280875771203,
          0.23854280875771203,
          0.23854280875771203,
          0.23854280875771203,
          0.23854280875771203,
          0.23854280875771203,
          0.23854280875771203,
          0.23854280875771203,
          0.23854280875771203,
          0.23854280875771203,
          0.23854280875771203,
          0.23854280875771203,
          0.23854280875771203,
          0.23854280875771203,
          0.23854280875771203,
          0.23854280875771203,
          0.23854280875771203,
          0.23854280875771203,
          0.23854280875771203,
          0.23854280875771203,
          0.23854280875771203,
          0.23854280875771203,
          0.23854280875771203,
          0.23854280875771203,
          0.23854280875771203,
          0.23854280875771203,
          0.23854280875771203,
          0.23854280875771203,
          0.23854280875771203,
          0.23854280875771203,
          0.23854280875771203,
          0.23854280875771203,
          0.23854280875771203,
          0.23854280875771203,
          0.23854280875771203,
          0.23854280875771203,
          0.23854280875771203,
          0.23854280875771203,
          0.23854280875771203,
          0.23854280875771203,
          0.23854280875771203,
          0.23854280875771203,
          0.23854280875771203,
          0.23854280875771203,
          0.23854280875771203,
          0.23854280875771203,
          0.23854280875771203,
          0.23854280875771203,
          0.23854280875771203,
          0.23854280875771203,
          0.23854280875771203,
          0.23854280875771203,
          0.23854280875771203,
          0.23854280875771203,
          0.23854280875771203,
          0.23854280875771203,
          0.23854280875771203,
          0.23854280875771203,
          0.23854280875771203,
          0.23854280875771203,
          0.23854280875771203,
          0.23854280875771203,
          0.23854280875771203,
          0.23854280875771203
         ]
        },
        {
         "marker": {
          "color": "#cccccc"
         },
         "mode": "markers",
         "name": "Infeasible Trial",
         "showlegend": false,
         "type": "scatter",
         "x": [],
         "y": []
        }
       ],
       "layout": {
        "template": {
         "data": {
          "bar": [
           {
            "error_x": {
             "color": "#2a3f5f"
            },
            "error_y": {
             "color": "#2a3f5f"
            },
            "marker": {
             "line": {
              "color": "#E5ECF6",
              "width": 0.5
             },
             "pattern": {
              "fillmode": "overlay",
              "size": 10,
              "solidity": 0.2
             }
            },
            "type": "bar"
           }
          ],
          "barpolar": [
           {
            "marker": {
             "line": {
              "color": "#E5ECF6",
              "width": 0.5
             },
             "pattern": {
              "fillmode": "overlay",
              "size": 10,
              "solidity": 0.2
             }
            },
            "type": "barpolar"
           }
          ],
          "carpet": [
           {
            "aaxis": {
             "endlinecolor": "#2a3f5f",
             "gridcolor": "white",
             "linecolor": "white",
             "minorgridcolor": "white",
             "startlinecolor": "#2a3f5f"
            },
            "baxis": {
             "endlinecolor": "#2a3f5f",
             "gridcolor": "white",
             "linecolor": "white",
             "minorgridcolor": "white",
             "startlinecolor": "#2a3f5f"
            },
            "type": "carpet"
           }
          ],
          "choropleth": [
           {
            "colorbar": {
             "outlinewidth": 0,
             "ticks": ""
            },
            "type": "choropleth"
           }
          ],
          "contour": [
           {
            "colorbar": {
             "outlinewidth": 0,
             "ticks": ""
            },
            "colorscale": [
             [
              0,
              "#0d0887"
             ],
             [
              0.1111111111111111,
              "#46039f"
             ],
             [
              0.2222222222222222,
              "#7201a8"
             ],
             [
              0.3333333333333333,
              "#9c179e"
             ],
             [
              0.4444444444444444,
              "#bd3786"
             ],
             [
              0.5555555555555556,
              "#d8576b"
             ],
             [
              0.6666666666666666,
              "#ed7953"
             ],
             [
              0.7777777777777778,
              "#fb9f3a"
             ],
             [
              0.8888888888888888,
              "#fdca26"
             ],
             [
              1,
              "#f0f921"
             ]
            ],
            "type": "contour"
           }
          ],
          "contourcarpet": [
           {
            "colorbar": {
             "outlinewidth": 0,
             "ticks": ""
            },
            "type": "contourcarpet"
           }
          ],
          "heatmap": [
           {
            "colorbar": {
             "outlinewidth": 0,
             "ticks": ""
            },
            "colorscale": [
             [
              0,
              "#0d0887"
             ],
             [
              0.1111111111111111,
              "#46039f"
             ],
             [
              0.2222222222222222,
              "#7201a8"
             ],
             [
              0.3333333333333333,
              "#9c179e"
             ],
             [
              0.4444444444444444,
              "#bd3786"
             ],
             [
              0.5555555555555556,
              "#d8576b"
             ],
             [
              0.6666666666666666,
              "#ed7953"
             ],
             [
              0.7777777777777778,
              "#fb9f3a"
             ],
             [
              0.8888888888888888,
              "#fdca26"
             ],
             [
              1,
              "#f0f921"
             ]
            ],
            "type": "heatmap"
           }
          ],
          "histogram": [
           {
            "marker": {
             "pattern": {
              "fillmode": "overlay",
              "size": 10,
              "solidity": 0.2
             }
            },
            "type": "histogram"
           }
          ],
          "histogram2d": [
           {
            "colorbar": {
             "outlinewidth": 0,
             "ticks": ""
            },
            "colorscale": [
             [
              0,
              "#0d0887"
             ],
             [
              0.1111111111111111,
              "#46039f"
             ],
             [
              0.2222222222222222,
              "#7201a8"
             ],
             [
              0.3333333333333333,
              "#9c179e"
             ],
             [
              0.4444444444444444,
              "#bd3786"
             ],
             [
              0.5555555555555556,
              "#d8576b"
             ],
             [
              0.6666666666666666,
              "#ed7953"
             ],
             [
              0.7777777777777778,
              "#fb9f3a"
             ],
             [
              0.8888888888888888,
              "#fdca26"
             ],
             [
              1,
              "#f0f921"
             ]
            ],
            "type": "histogram2d"
           }
          ],
          "histogram2dcontour": [
           {
            "colorbar": {
             "outlinewidth": 0,
             "ticks": ""
            },
            "colorscale": [
             [
              0,
              "#0d0887"
             ],
             [
              0.1111111111111111,
              "#46039f"
             ],
             [
              0.2222222222222222,
              "#7201a8"
             ],
             [
              0.3333333333333333,
              "#9c179e"
             ],
             [
              0.4444444444444444,
              "#bd3786"
             ],
             [
              0.5555555555555556,
              "#d8576b"
             ],
             [
              0.6666666666666666,
              "#ed7953"
             ],
             [
              0.7777777777777778,
              "#fb9f3a"
             ],
             [
              0.8888888888888888,
              "#fdca26"
             ],
             [
              1,
              "#f0f921"
             ]
            ],
            "type": "histogram2dcontour"
           }
          ],
          "mesh3d": [
           {
            "colorbar": {
             "outlinewidth": 0,
             "ticks": ""
            },
            "type": "mesh3d"
           }
          ],
          "parcoords": [
           {
            "line": {
             "colorbar": {
              "outlinewidth": 0,
              "ticks": ""
             }
            },
            "type": "parcoords"
           }
          ],
          "pie": [
           {
            "automargin": true,
            "type": "pie"
           }
          ],
          "scatter": [
           {
            "fillpattern": {
             "fillmode": "overlay",
             "size": 10,
             "solidity": 0.2
            },
            "type": "scatter"
           }
          ],
          "scatter3d": [
           {
            "line": {
             "colorbar": {
              "outlinewidth": 0,
              "ticks": ""
             }
            },
            "marker": {
             "colorbar": {
              "outlinewidth": 0,
              "ticks": ""
             }
            },
            "type": "scatter3d"
           }
          ],
          "scattercarpet": [
           {
            "marker": {
             "colorbar": {
              "outlinewidth": 0,
              "ticks": ""
             }
            },
            "type": "scattercarpet"
           }
          ],
          "scattergeo": [
           {
            "marker": {
             "colorbar": {
              "outlinewidth": 0,
              "ticks": ""
             }
            },
            "type": "scattergeo"
           }
          ],
          "scattergl": [
           {
            "marker": {
             "colorbar": {
              "outlinewidth": 0,
              "ticks": ""
             }
            },
            "type": "scattergl"
           }
          ],
          "scattermap": [
           {
            "marker": {
             "colorbar": {
              "outlinewidth": 0,
              "ticks": ""
             }
            },
            "type": "scattermap"
           }
          ],
          "scattermapbox": [
           {
            "marker": {
             "colorbar": {
              "outlinewidth": 0,
              "ticks": ""
             }
            },
            "type": "scattermapbox"
           }
          ],
          "scatterpolar": [
           {
            "marker": {
             "colorbar": {
              "outlinewidth": 0,
              "ticks": ""
             }
            },
            "type": "scatterpolar"
           }
          ],
          "scatterpolargl": [
           {
            "marker": {
             "colorbar": {
              "outlinewidth": 0,
              "ticks": ""
             }
            },
            "type": "scatterpolargl"
           }
          ],
          "scatterternary": [
           {
            "marker": {
             "colorbar": {
              "outlinewidth": 0,
              "ticks": ""
             }
            },
            "type": "scatterternary"
           }
          ],
          "surface": [
           {
            "colorbar": {
             "outlinewidth": 0,
             "ticks": ""
            },
            "colorscale": [
             [
              0,
              "#0d0887"
             ],
             [
              0.1111111111111111,
              "#46039f"
             ],
             [
              0.2222222222222222,
              "#7201a8"
             ],
             [
              0.3333333333333333,
              "#9c179e"
             ],
             [
              0.4444444444444444,
              "#bd3786"
             ],
             [
              0.5555555555555556,
              "#d8576b"
             ],
             [
              0.6666666666666666,
              "#ed7953"
             ],
             [
              0.7777777777777778,
              "#fb9f3a"
             ],
             [
              0.8888888888888888,
              "#fdca26"
             ],
             [
              1,
              "#f0f921"
             ]
            ],
            "type": "surface"
           }
          ],
          "table": [
           {
            "cells": {
             "fill": {
              "color": "#EBF0F8"
             },
             "line": {
              "color": "white"
             }
            },
            "header": {
             "fill": {
              "color": "#C8D4E3"
             },
             "line": {
              "color": "white"
             }
            },
            "type": "table"
           }
          ]
         },
         "layout": {
          "annotationdefaults": {
           "arrowcolor": "#2a3f5f",
           "arrowhead": 0,
           "arrowwidth": 1
          },
          "autotypenumbers": "strict",
          "coloraxis": {
           "colorbar": {
            "outlinewidth": 0,
            "ticks": ""
           }
          },
          "colorscale": {
           "diverging": [
            [
             0,
             "#8e0152"
            ],
            [
             0.1,
             "#c51b7d"
            ],
            [
             0.2,
             "#de77ae"
            ],
            [
             0.3,
             "#f1b6da"
            ],
            [
             0.4,
             "#fde0ef"
            ],
            [
             0.5,
             "#f7f7f7"
            ],
            [
             0.6,
             "#e6f5d0"
            ],
            [
             0.7,
             "#b8e186"
            ],
            [
             0.8,
             "#7fbc41"
            ],
            [
             0.9,
             "#4d9221"
            ],
            [
             1,
             "#276419"
            ]
           ],
           "sequential": [
            [
             0,
             "#0d0887"
            ],
            [
             0.1111111111111111,
             "#46039f"
            ],
            [
             0.2222222222222222,
             "#7201a8"
            ],
            [
             0.3333333333333333,
             "#9c179e"
            ],
            [
             0.4444444444444444,
             "#bd3786"
            ],
            [
             0.5555555555555556,
             "#d8576b"
            ],
            [
             0.6666666666666666,
             "#ed7953"
            ],
            [
             0.7777777777777778,
             "#fb9f3a"
            ],
            [
             0.8888888888888888,
             "#fdca26"
            ],
            [
             1,
             "#f0f921"
            ]
           ],
           "sequentialminus": [
            [
             0,
             "#0d0887"
            ],
            [
             0.1111111111111111,
             "#46039f"
            ],
            [
             0.2222222222222222,
             "#7201a8"
            ],
            [
             0.3333333333333333,
             "#9c179e"
            ],
            [
             0.4444444444444444,
             "#bd3786"
            ],
            [
             0.5555555555555556,
             "#d8576b"
            ],
            [
             0.6666666666666666,
             "#ed7953"
            ],
            [
             0.7777777777777778,
             "#fb9f3a"
            ],
            [
             0.8888888888888888,
             "#fdca26"
            ],
            [
             1,
             "#f0f921"
            ]
           ]
          },
          "colorway": [
           "#636efa",
           "#EF553B",
           "#00cc96",
           "#ab63fa",
           "#FFA15A",
           "#19d3f3",
           "#FF6692",
           "#B6E880",
           "#FF97FF",
           "#FECB52"
          ],
          "font": {
           "color": "#2a3f5f"
          },
          "geo": {
           "bgcolor": "white",
           "lakecolor": "white",
           "landcolor": "#E5ECF6",
           "showlakes": true,
           "showland": true,
           "subunitcolor": "white"
          },
          "hoverlabel": {
           "align": "left"
          },
          "hovermode": "closest",
          "mapbox": {
           "style": "light"
          },
          "paper_bgcolor": "white",
          "plot_bgcolor": "#E5ECF6",
          "polar": {
           "angularaxis": {
            "gridcolor": "white",
            "linecolor": "white",
            "ticks": ""
           },
           "bgcolor": "#E5ECF6",
           "radialaxis": {
            "gridcolor": "white",
            "linecolor": "white",
            "ticks": ""
           }
          },
          "scene": {
           "xaxis": {
            "backgroundcolor": "#E5ECF6",
            "gridcolor": "white",
            "gridwidth": 2,
            "linecolor": "white",
            "showbackground": true,
            "ticks": "",
            "zerolinecolor": "white"
           },
           "yaxis": {
            "backgroundcolor": "#E5ECF6",
            "gridcolor": "white",
            "gridwidth": 2,
            "linecolor": "white",
            "showbackground": true,
            "ticks": "",
            "zerolinecolor": "white"
           },
           "zaxis": {
            "backgroundcolor": "#E5ECF6",
            "gridcolor": "white",
            "gridwidth": 2,
            "linecolor": "white",
            "showbackground": true,
            "ticks": "",
            "zerolinecolor": "white"
           }
          },
          "shapedefaults": {
           "line": {
            "color": "#2a3f5f"
           }
          },
          "ternary": {
           "aaxis": {
            "gridcolor": "white",
            "linecolor": "white",
            "ticks": ""
           },
           "baxis": {
            "gridcolor": "white",
            "linecolor": "white",
            "ticks": ""
           },
           "bgcolor": "#E5ECF6",
           "caxis": {
            "gridcolor": "white",
            "linecolor": "white",
            "ticks": ""
           }
          },
          "title": {
           "x": 0.05
          },
          "xaxis": {
           "automargin": true,
           "gridcolor": "white",
           "linecolor": "white",
           "ticks": "",
           "title": {
            "standoff": 15
           },
           "zerolinecolor": "white",
           "zerolinewidth": 2
          },
          "yaxis": {
           "automargin": true,
           "gridcolor": "white",
           "linecolor": "white",
           "ticks": "",
           "title": {
            "standoff": 15
           },
           "zerolinecolor": "white",
           "zerolinewidth": 2
          }
         }
        },
        "title": {
         "text": "Optimization History Plot"
        },
        "xaxis": {
         "title": {
          "text": "Trial"
         }
        },
        "yaxis": {
         "title": {
          "text": "Objective Value"
         }
        }
       }
      }
     },
     "metadata": {},
     "output_type": "display_data"
    }
   ],
   "source": [
    "# Vẽ lịch sử tối ưu (Optimization History)\n",
    "optuna.visualization.plot_optimization_history(study).show()"
   ]
  },
  {
   "cell_type": "code",
   "execution_count": 54,
   "metadata": {},
   "outputs": [
    {
     "data": {
      "application/vnd.plotly.v1+json": {
       "config": {
        "plotlyServerURL": "https://plot.ly"
       },
       "data": [
        {
         "cliponaxis": false,
         "hovertemplate": [
          "damping (CategoricalDistribution): 0.4197928292722648<extra></extra>",
          "preference (CategoricalDistribution): 0.5802071707277352<extra></extra>"
         ],
         "name": "Objective Value",
         "orientation": "h",
         "text": [
          "0.42",
          "0.58"
         ],
         "textposition": "outside",
         "type": "bar",
         "x": [
          0.4197928292722648,
          0.5802071707277352
         ],
         "y": [
          "damping",
          "preference"
         ]
        }
       ],
       "layout": {
        "template": {
         "data": {
          "bar": [
           {
            "error_x": {
             "color": "#2a3f5f"
            },
            "error_y": {
             "color": "#2a3f5f"
            },
            "marker": {
             "line": {
              "color": "#E5ECF6",
              "width": 0.5
             },
             "pattern": {
              "fillmode": "overlay",
              "size": 10,
              "solidity": 0.2
             }
            },
            "type": "bar"
           }
          ],
          "barpolar": [
           {
            "marker": {
             "line": {
              "color": "#E5ECF6",
              "width": 0.5
             },
             "pattern": {
              "fillmode": "overlay",
              "size": 10,
              "solidity": 0.2
             }
            },
            "type": "barpolar"
           }
          ],
          "carpet": [
           {
            "aaxis": {
             "endlinecolor": "#2a3f5f",
             "gridcolor": "white",
             "linecolor": "white",
             "minorgridcolor": "white",
             "startlinecolor": "#2a3f5f"
            },
            "baxis": {
             "endlinecolor": "#2a3f5f",
             "gridcolor": "white",
             "linecolor": "white",
             "minorgridcolor": "white",
             "startlinecolor": "#2a3f5f"
            },
            "type": "carpet"
           }
          ],
          "choropleth": [
           {
            "colorbar": {
             "outlinewidth": 0,
             "ticks": ""
            },
            "type": "choropleth"
           }
          ],
          "contour": [
           {
            "colorbar": {
             "outlinewidth": 0,
             "ticks": ""
            },
            "colorscale": [
             [
              0,
              "#0d0887"
             ],
             [
              0.1111111111111111,
              "#46039f"
             ],
             [
              0.2222222222222222,
              "#7201a8"
             ],
             [
              0.3333333333333333,
              "#9c179e"
             ],
             [
              0.4444444444444444,
              "#bd3786"
             ],
             [
              0.5555555555555556,
              "#d8576b"
             ],
             [
              0.6666666666666666,
              "#ed7953"
             ],
             [
              0.7777777777777778,
              "#fb9f3a"
             ],
             [
              0.8888888888888888,
              "#fdca26"
             ],
             [
              1,
              "#f0f921"
             ]
            ],
            "type": "contour"
           }
          ],
          "contourcarpet": [
           {
            "colorbar": {
             "outlinewidth": 0,
             "ticks": ""
            },
            "type": "contourcarpet"
           }
          ],
          "heatmap": [
           {
            "colorbar": {
             "outlinewidth": 0,
             "ticks": ""
            },
            "colorscale": [
             [
              0,
              "#0d0887"
             ],
             [
              0.1111111111111111,
              "#46039f"
             ],
             [
              0.2222222222222222,
              "#7201a8"
             ],
             [
              0.3333333333333333,
              "#9c179e"
             ],
             [
              0.4444444444444444,
              "#bd3786"
             ],
             [
              0.5555555555555556,
              "#d8576b"
             ],
             [
              0.6666666666666666,
              "#ed7953"
             ],
             [
              0.7777777777777778,
              "#fb9f3a"
             ],
             [
              0.8888888888888888,
              "#fdca26"
             ],
             [
              1,
              "#f0f921"
             ]
            ],
            "type": "heatmap"
           }
          ],
          "histogram": [
           {
            "marker": {
             "pattern": {
              "fillmode": "overlay",
              "size": 10,
              "solidity": 0.2
             }
            },
            "type": "histogram"
           }
          ],
          "histogram2d": [
           {
            "colorbar": {
             "outlinewidth": 0,
             "ticks": ""
            },
            "colorscale": [
             [
              0,
              "#0d0887"
             ],
             [
              0.1111111111111111,
              "#46039f"
             ],
             [
              0.2222222222222222,
              "#7201a8"
             ],
             [
              0.3333333333333333,
              "#9c179e"
             ],
             [
              0.4444444444444444,
              "#bd3786"
             ],
             [
              0.5555555555555556,
              "#d8576b"
             ],
             [
              0.6666666666666666,
              "#ed7953"
             ],
             [
              0.7777777777777778,
              "#fb9f3a"
             ],
             [
              0.8888888888888888,
              "#fdca26"
             ],
             [
              1,
              "#f0f921"
             ]
            ],
            "type": "histogram2d"
           }
          ],
          "histogram2dcontour": [
           {
            "colorbar": {
             "outlinewidth": 0,
             "ticks": ""
            },
            "colorscale": [
             [
              0,
              "#0d0887"
             ],
             [
              0.1111111111111111,
              "#46039f"
             ],
             [
              0.2222222222222222,
              "#7201a8"
             ],
             [
              0.3333333333333333,
              "#9c179e"
             ],
             [
              0.4444444444444444,
              "#bd3786"
             ],
             [
              0.5555555555555556,
              "#d8576b"
             ],
             [
              0.6666666666666666,
              "#ed7953"
             ],
             [
              0.7777777777777778,
              "#fb9f3a"
             ],
             [
              0.8888888888888888,
              "#fdca26"
             ],
             [
              1,
              "#f0f921"
             ]
            ],
            "type": "histogram2dcontour"
           }
          ],
          "mesh3d": [
           {
            "colorbar": {
             "outlinewidth": 0,
             "ticks": ""
            },
            "type": "mesh3d"
           }
          ],
          "parcoords": [
           {
            "line": {
             "colorbar": {
              "outlinewidth": 0,
              "ticks": ""
             }
            },
            "type": "parcoords"
           }
          ],
          "pie": [
           {
            "automargin": true,
            "type": "pie"
           }
          ],
          "scatter": [
           {
            "fillpattern": {
             "fillmode": "overlay",
             "size": 10,
             "solidity": 0.2
            },
            "type": "scatter"
           }
          ],
          "scatter3d": [
           {
            "line": {
             "colorbar": {
              "outlinewidth": 0,
              "ticks": ""
             }
            },
            "marker": {
             "colorbar": {
              "outlinewidth": 0,
              "ticks": ""
             }
            },
            "type": "scatter3d"
           }
          ],
          "scattercarpet": [
           {
            "marker": {
             "colorbar": {
              "outlinewidth": 0,
              "ticks": ""
             }
            },
            "type": "scattercarpet"
           }
          ],
          "scattergeo": [
           {
            "marker": {
             "colorbar": {
              "outlinewidth": 0,
              "ticks": ""
             }
            },
            "type": "scattergeo"
           }
          ],
          "scattergl": [
           {
            "marker": {
             "colorbar": {
              "outlinewidth": 0,
              "ticks": ""
             }
            },
            "type": "scattergl"
           }
          ],
          "scattermap": [
           {
            "marker": {
             "colorbar": {
              "outlinewidth": 0,
              "ticks": ""
             }
            },
            "type": "scattermap"
           }
          ],
          "scattermapbox": [
           {
            "marker": {
             "colorbar": {
              "outlinewidth": 0,
              "ticks": ""
             }
            },
            "type": "scattermapbox"
           }
          ],
          "scatterpolar": [
           {
            "marker": {
             "colorbar": {
              "outlinewidth": 0,
              "ticks": ""
             }
            },
            "type": "scatterpolar"
           }
          ],
          "scatterpolargl": [
           {
            "marker": {
             "colorbar": {
              "outlinewidth": 0,
              "ticks": ""
             }
            },
            "type": "scatterpolargl"
           }
          ],
          "scatterternary": [
           {
            "marker": {
             "colorbar": {
              "outlinewidth": 0,
              "ticks": ""
             }
            },
            "type": "scatterternary"
           }
          ],
          "surface": [
           {
            "colorbar": {
             "outlinewidth": 0,
             "ticks": ""
            },
            "colorscale": [
             [
              0,
              "#0d0887"
             ],
             [
              0.1111111111111111,
              "#46039f"
             ],
             [
              0.2222222222222222,
              "#7201a8"
             ],
             [
              0.3333333333333333,
              "#9c179e"
             ],
             [
              0.4444444444444444,
              "#bd3786"
             ],
             [
              0.5555555555555556,
              "#d8576b"
             ],
             [
              0.6666666666666666,
              "#ed7953"
             ],
             [
              0.7777777777777778,
              "#fb9f3a"
             ],
             [
              0.8888888888888888,
              "#fdca26"
             ],
             [
              1,
              "#f0f921"
             ]
            ],
            "type": "surface"
           }
          ],
          "table": [
           {
            "cells": {
             "fill": {
              "color": "#EBF0F8"
             },
             "line": {
              "color": "white"
             }
            },
            "header": {
             "fill": {
              "color": "#C8D4E3"
             },
             "line": {
              "color": "white"
             }
            },
            "type": "table"
           }
          ]
         },
         "layout": {
          "annotationdefaults": {
           "arrowcolor": "#2a3f5f",
           "arrowhead": 0,
           "arrowwidth": 1
          },
          "autotypenumbers": "strict",
          "coloraxis": {
           "colorbar": {
            "outlinewidth": 0,
            "ticks": ""
           }
          },
          "colorscale": {
           "diverging": [
            [
             0,
             "#8e0152"
            ],
            [
             0.1,
             "#c51b7d"
            ],
            [
             0.2,
             "#de77ae"
            ],
            [
             0.3,
             "#f1b6da"
            ],
            [
             0.4,
             "#fde0ef"
            ],
            [
             0.5,
             "#f7f7f7"
            ],
            [
             0.6,
             "#e6f5d0"
            ],
            [
             0.7,
             "#b8e186"
            ],
            [
             0.8,
             "#7fbc41"
            ],
            [
             0.9,
             "#4d9221"
            ],
            [
             1,
             "#276419"
            ]
           ],
           "sequential": [
            [
             0,
             "#0d0887"
            ],
            [
             0.1111111111111111,
             "#46039f"
            ],
            [
             0.2222222222222222,
             "#7201a8"
            ],
            [
             0.3333333333333333,
             "#9c179e"
            ],
            [
             0.4444444444444444,
             "#bd3786"
            ],
            [
             0.5555555555555556,
             "#d8576b"
            ],
            [
             0.6666666666666666,
             "#ed7953"
            ],
            [
             0.7777777777777778,
             "#fb9f3a"
            ],
            [
             0.8888888888888888,
             "#fdca26"
            ],
            [
             1,
             "#f0f921"
            ]
           ],
           "sequentialminus": [
            [
             0,
             "#0d0887"
            ],
            [
             0.1111111111111111,
             "#46039f"
            ],
            [
             0.2222222222222222,
             "#7201a8"
            ],
            [
             0.3333333333333333,
             "#9c179e"
            ],
            [
             0.4444444444444444,
             "#bd3786"
            ],
            [
             0.5555555555555556,
             "#d8576b"
            ],
            [
             0.6666666666666666,
             "#ed7953"
            ],
            [
             0.7777777777777778,
             "#fb9f3a"
            ],
            [
             0.8888888888888888,
             "#fdca26"
            ],
            [
             1,
             "#f0f921"
            ]
           ]
          },
          "colorway": [
           "#636efa",
           "#EF553B",
           "#00cc96",
           "#ab63fa",
           "#FFA15A",
           "#19d3f3",
           "#FF6692",
           "#B6E880",
           "#FF97FF",
           "#FECB52"
          ],
          "font": {
           "color": "#2a3f5f"
          },
          "geo": {
           "bgcolor": "white",
           "lakecolor": "white",
           "landcolor": "#E5ECF6",
           "showlakes": true,
           "showland": true,
           "subunitcolor": "white"
          },
          "hoverlabel": {
           "align": "left"
          },
          "hovermode": "closest",
          "mapbox": {
           "style": "light"
          },
          "paper_bgcolor": "white",
          "plot_bgcolor": "#E5ECF6",
          "polar": {
           "angularaxis": {
            "gridcolor": "white",
            "linecolor": "white",
            "ticks": ""
           },
           "bgcolor": "#E5ECF6",
           "radialaxis": {
            "gridcolor": "white",
            "linecolor": "white",
            "ticks": ""
           }
          },
          "scene": {
           "xaxis": {
            "backgroundcolor": "#E5ECF6",
            "gridcolor": "white",
            "gridwidth": 2,
            "linecolor": "white",
            "showbackground": true,
            "ticks": "",
            "zerolinecolor": "white"
           },
           "yaxis": {
            "backgroundcolor": "#E5ECF6",
            "gridcolor": "white",
            "gridwidth": 2,
            "linecolor": "white",
            "showbackground": true,
            "ticks": "",
            "zerolinecolor": "white"
           },
           "zaxis": {
            "backgroundcolor": "#E5ECF6",
            "gridcolor": "white",
            "gridwidth": 2,
            "linecolor": "white",
            "showbackground": true,
            "ticks": "",
            "zerolinecolor": "white"
           }
          },
          "shapedefaults": {
           "line": {
            "color": "#2a3f5f"
           }
          },
          "ternary": {
           "aaxis": {
            "gridcolor": "white",
            "linecolor": "white",
            "ticks": ""
           },
           "baxis": {
            "gridcolor": "white",
            "linecolor": "white",
            "ticks": ""
           },
           "bgcolor": "#E5ECF6",
           "caxis": {
            "gridcolor": "white",
            "linecolor": "white",
            "ticks": ""
           }
          },
          "title": {
           "x": 0.05
          },
          "xaxis": {
           "automargin": true,
           "gridcolor": "white",
           "linecolor": "white",
           "ticks": "",
           "title": {
            "standoff": 15
           },
           "zerolinecolor": "white",
           "zerolinewidth": 2
          },
          "yaxis": {
           "automargin": true,
           "gridcolor": "white",
           "linecolor": "white",
           "ticks": "",
           "title": {
            "standoff": 15
           },
           "zerolinecolor": "white",
           "zerolinewidth": 2
          }
         }
        },
        "title": {
         "text": "Hyperparameter Importances"
        },
        "xaxis": {
         "title": {
          "text": "Hyperparameter Importance"
         }
        },
        "yaxis": {
         "title": {
          "text": "Hyperparameter"
         }
        }
       }
      }
     },
     "metadata": {},
     "output_type": "display_data"
    }
   ],
   "source": [
    "# Vẽ tầm quan trọng của các tham số\n",
    "optuna.visualization.plot_param_importances(study).show()"
   ]
  },
  {
   "cell_type": "code",
   "execution_count": 55,
   "metadata": {},
   "outputs": [
    {
     "data": {
      "text/html": [
       "<div>\n",
       "<style scoped>\n",
       "    .dataframe tbody tr th:only-of-type {\n",
       "        vertical-align: middle;\n",
       "    }\n",
       "\n",
       "    .dataframe tbody tr th {\n",
       "        vertical-align: top;\n",
       "    }\n",
       "\n",
       "    .dataframe thead th {\n",
       "        text-align: right;\n",
       "    }\n",
       "</style>\n",
       "<table border=\"1\" class=\"dataframe\">\n",
       "  <thead>\n",
       "    <tr style=\"text-align: right;\">\n",
       "      <th></th>\n",
       "      <th>Top</th>\n",
       "      <th>Silhouette</th>\n",
       "      <th>Davies-Bouldin</th>\n",
       "      <th>Calinski-Harabaz</th>\n",
       "      <th>Số cụm</th>\n",
       "      <th>Damping</th>\n",
       "      <th>Preference</th>\n",
       "    </tr>\n",
       "  </thead>\n",
       "  <tbody>\n",
       "    <tr>\n",
       "      <th>0</th>\n",
       "      <td>1.0</td>\n",
       "      <td>0.336</td>\n",
       "      <td>1.100</td>\n",
       "      <td>96.557</td>\n",
       "      <td>4.0</td>\n",
       "      <td>0.7</td>\n",
       "      <td>-70.470</td>\n",
       "    </tr>\n",
       "    <tr>\n",
       "      <th>1</th>\n",
       "      <td>2.0</td>\n",
       "      <td>0.330</td>\n",
       "      <td>1.034</td>\n",
       "      <td>77.528</td>\n",
       "      <td>17.0</td>\n",
       "      <td>0.9</td>\n",
       "      <td>-6.040</td>\n",
       "    </tr>\n",
       "    <tr>\n",
       "      <th>2</th>\n",
       "      <td>3.0</td>\n",
       "      <td>0.327</td>\n",
       "      <td>1.154</td>\n",
       "      <td>92.980</td>\n",
       "      <td>4.0</td>\n",
       "      <td>0.6</td>\n",
       "      <td>-92.617</td>\n",
       "    </tr>\n",
       "    <tr>\n",
       "      <th>3</th>\n",
       "      <td>4.0</td>\n",
       "      <td>0.322</td>\n",
       "      <td>1.036</td>\n",
       "      <td>91.765</td>\n",
       "      <td>7.0</td>\n",
       "      <td>0.5</td>\n",
       "      <td>-22.148</td>\n",
       "    </tr>\n",
       "    <tr>\n",
       "      <th>4</th>\n",
       "      <td>5.0</td>\n",
       "      <td>0.311</td>\n",
       "      <td>1.205</td>\n",
       "      <td>84.555</td>\n",
       "      <td>8.0</td>\n",
       "      <td>0.7</td>\n",
       "      <td>-20.134</td>\n",
       "    </tr>\n",
       "  </tbody>\n",
       "</table>\n",
       "</div>"
      ],
      "text/plain": [
       "   Top  Silhouette  Davies-Bouldin  Calinski-Harabaz  Số cụm  Damping  \\\n",
       "0  1.0       0.336           1.100            96.557     4.0      0.7   \n",
       "1  2.0       0.330           1.034            77.528    17.0      0.9   \n",
       "2  3.0       0.327           1.154            92.980     4.0      0.6   \n",
       "3  4.0       0.322           1.036            91.765     7.0      0.5   \n",
       "4  5.0       0.311           1.205            84.555     8.0      0.7   \n",
       "\n",
       "   Preference  \n",
       "0     -70.470  \n",
       "1      -6.040  \n",
       "2     -92.617  \n",
       "3     -22.148  \n",
       "4     -20.134  "
      ]
     },
     "execution_count": 55,
     "metadata": {},
     "output_type": "execute_result"
    }
   ],
   "source": [
    "top_results = sorted(top_results, key=lambda x: x[\"sil_score\"], reverse=True)[:5]  # Lấy kết quả tốt nhất\n",
    "show_results = pd.DataFrame(columns=[\"Top\",\"Silhouette\",\"Davies-Bouldin\",\"Calinski-Harabaz\",\"Số cụm\",\"Damping\",\"Preference\",])\n",
    "for i, res in enumerate(top_results):\n",
    "    show_results.loc[len(show_results)] = [\n",
    "        i + 1,\n",
    "        round(res[\"sil_score\"],3),\n",
    "        round(res[\"dbi\"],3),\n",
    "        round(res[\"chi\"],3),\n",
    "        round(res[\"n_clusters\"],3),\n",
    "        round(res[\"params\"][\"damping\"],3),\n",
    "        round(res[\"params\"][\"preference\"],3),\n",
    "    ]\n",
    "show_results"
   ]
  },
  {
   "cell_type": "markdown",
   "metadata": {},
   "source": [
    "### 3. Hyperopt"
   ]
  },
  {
   "cell_type": "code",
   "execution_count": 56,
   "metadata": {},
   "outputs": [],
   "source": [
    "# Không gian tìm kiếm\n",
    "damping_values = np.linspace(0.5, 0.9, 5)\n",
    "preference_values = np.linspace(-300, 0, 150)\n",
    "\n",
    "space = {\n",
    "    \"index\": hp.choice(\n",
    "        \"index\", list(range(len(damping_values) * len(preference_values)))\n",
    "    )\n",
    "}\n",
    "\n",
    "\n",
    "# Hàm mục tiêu\n",
    "def objective(params):\n",
    "    index = params[\"index\"]\n",
    "    damping_index = index // len(preference_values)\n",
    "    preference_index = index % len(preference_values)\n",
    "\n",
    "    damping = damping_values[damping_index]\n",
    "    preference = preference_values[preference_index]\n",
    "\n",
    "    model = AffinityPropagation(damping=damping, preference=preference, random_state=42)\n",
    "    labels = model.fit_predict(X)\n",
    "    n_clusters = len(set(labels))\n",
    "\n",
    "    if n_clusters <= 1 or n_clusters >= len(X):\n",
    "        return {\"loss\": 1, \"status\": STATUS_OK}  # Trường hợp không hợp lệ\n",
    "\n",
    "    # Tính các chỉ số đánh giá\n",
    "    sil_score = silhouette_score(X, labels)\n",
    "    db_score = davies_bouldin_score(X, labels)\n",
    "    ch_score = calinski_harabasz_score(X, labels)\n",
    "\n",
    "    return {\n",
    "        \"loss\": -sil_score,\n",
    "        \"status\": STATUS_OK,\n",
    "        \"params\": {\"damping\": damping, \"preference\": preference},\n",
    "        \"score\": sil_score,\n",
    "        \"dbi\": db_score,\n",
    "        \"chi\": ch_score,\n",
    "        \"n_clusters\": n_clusters,\n",
    "        \"labels\": labels.tolist(),\n",
    "    }"
   ]
  },
  {
   "cell_type": "code",
   "execution_count": 57,
   "metadata": {},
   "outputs": [
    {
     "name": "stdout",
     "output_type": "stream",
     "text": [
      "100%|██████████| 200/200 [00:06<00:00, 31.39trial/s, best loss: -0.3708617942108482]\n"
     ]
    }
   ],
   "source": [
    "trials = Trials()\n",
    "best = fmin(fn=objective, space=space, algo=tpe.suggest, max_evals=200, trials=trials)"
   ]
  },
  {
   "cell_type": "code",
   "execution_count": 58,
   "metadata": {},
   "outputs": [
    {
     "data": {
      "text/html": [
       "<div>\n",
       "<style scoped>\n",
       "    .dataframe tbody tr th:only-of-type {\n",
       "        vertical-align: middle;\n",
       "    }\n",
       "\n",
       "    .dataframe tbody tr th {\n",
       "        vertical-align: top;\n",
       "    }\n",
       "\n",
       "    .dataframe thead th {\n",
       "        text-align: right;\n",
       "    }\n",
       "</style>\n",
       "<table border=\"1\" class=\"dataframe\">\n",
       "  <thead>\n",
       "    <tr style=\"text-align: right;\">\n",
       "      <th></th>\n",
       "      <th>Top</th>\n",
       "      <th>Silhouette</th>\n",
       "      <th>Davies-Bouldin</th>\n",
       "      <th>Calinski-Harabaz</th>\n",
       "      <th>Số cụm</th>\n",
       "      <th>Damping</th>\n",
       "      <th>Preference</th>\n",
       "    </tr>\n",
       "  </thead>\n",
       "  <tbody>\n",
       "    <tr>\n",
       "      <th>0</th>\n",
       "      <td>1.0</td>\n",
       "      <td>0.336</td>\n",
       "      <td>1.100</td>\n",
       "      <td>96.557</td>\n",
       "      <td>4.0</td>\n",
       "      <td>0.7</td>\n",
       "      <td>-70.470</td>\n",
       "    </tr>\n",
       "    <tr>\n",
       "      <th>1</th>\n",
       "      <td>2.0</td>\n",
       "      <td>0.330</td>\n",
       "      <td>1.034</td>\n",
       "      <td>77.528</td>\n",
       "      <td>17.0</td>\n",
       "      <td>0.9</td>\n",
       "      <td>-6.040</td>\n",
       "    </tr>\n",
       "    <tr>\n",
       "      <th>2</th>\n",
       "      <td>3.0</td>\n",
       "      <td>0.327</td>\n",
       "      <td>1.154</td>\n",
       "      <td>92.980</td>\n",
       "      <td>4.0</td>\n",
       "      <td>0.6</td>\n",
       "      <td>-92.617</td>\n",
       "    </tr>\n",
       "    <tr>\n",
       "      <th>3</th>\n",
       "      <td>4.0</td>\n",
       "      <td>0.322</td>\n",
       "      <td>1.036</td>\n",
       "      <td>91.765</td>\n",
       "      <td>7.0</td>\n",
       "      <td>0.5</td>\n",
       "      <td>-22.148</td>\n",
       "    </tr>\n",
       "    <tr>\n",
       "      <th>4</th>\n",
       "      <td>5.0</td>\n",
       "      <td>0.311</td>\n",
       "      <td>1.205</td>\n",
       "      <td>84.555</td>\n",
       "      <td>8.0</td>\n",
       "      <td>0.7</td>\n",
       "      <td>-20.134</td>\n",
       "    </tr>\n",
       "  </tbody>\n",
       "</table>\n",
       "</div>"
      ],
      "text/plain": [
       "   Top  Silhouette  Davies-Bouldin  Calinski-Harabaz  Số cụm  Damping  \\\n",
       "0  1.0       0.336           1.100            96.557     4.0      0.7   \n",
       "1  2.0       0.330           1.034            77.528    17.0      0.9   \n",
       "2  3.0       0.327           1.154            92.980     4.0      0.6   \n",
       "3  4.0       0.322           1.036            91.765     7.0      0.5   \n",
       "4  5.0       0.311           1.205            84.555     8.0      0.7   \n",
       "\n",
       "   Preference  \n",
       "0     -70.470  \n",
       "1      -6.040  \n",
       "2     -92.617  \n",
       "3     -22.148  \n",
       "4     -20.134  "
      ]
     },
     "execution_count": 58,
     "metadata": {},
     "output_type": "execute_result"
    }
   ],
   "source": [
    "top_results = sorted(top_results, key=lambda x: x[\"sil_score\"], reverse=True)[:5]  # Lấy kết quả tốt nhất\n",
    "show_results = pd.DataFrame(columns=[\"Top\",\"Silhouette\",\"Davies-Bouldin\",\"Calinski-Harabaz\",\"Số cụm\",\"Damping\",\"Preference\",])\n",
    "for i, res in enumerate(top_results):\n",
    "    show_results.loc[len(show_results)] = [\n",
    "        i + 1,\n",
    "        round(res[\"sil_score\"],3),\n",
    "        round(res[\"dbi\"],3),\n",
    "        round(res[\"chi\"],3),\n",
    "        round(res[\"n_clusters\"],3),\n",
    "        round(res[\"params\"][\"damping\"],3),\n",
    "        round(res[\"params\"][\"preference\"],3),\n",
    "    ]\n",
    "show_results"
   ]
  },
  {
   "cell_type": "markdown",
   "metadata": {},
   "source": [
    "# Một số kết luận"
   ]
  },
  {
   "cell_type": "markdown",
   "metadata": {},
   "source": [
    "Tiêu chí | Grid Search | Hyperopt / Optuna\n",
    "---|---|---\n",
    "Cách tìm kiếm | Quét toàn bộ (mọi tổ hợp parameter có thể) | Tối ưu hóa thông minh dựa trên mẫu ngẫu nhiên + học từ kết quả trước\n",
    "Phủ không gian tham số | Đảm bảo mọi vùng đều được quét qua | Không đảm bảo quét hết — ưu tiên vùng thấy \"ngon\" sớm\n",
    "Phụ thuộc random | Không | Có\n",
    "Độ tin cậy khi mẫu nhỏ | Cao (vì bao phủ đều) | Thấp (dễ mắc kẹt vào vùng xấu)\n",
    "\n",
    "<p>\n",
    "\n",
    "Grid Search | Hyperopt / Optuna\n",
    "---|---\n",
    "Tin cậy hơn khi số lượng trial nhỏ | Cần nhiều trial mới hiệu quả\n",
    "Tìm chắc chắn preference tốt | Dễ tìm nhầm preference xấu\n",
    "Độ ổn định cao | Độ dao động lớn\n",
    "\n",
    "**Vì vậy**:\n",
    "- Grid Search: Khi ít mẫu và không gian nhỏ, nó rất hiệu quả vì đi hết từng ngóc ngách.\n",
    "- Hyperopt / Optuna: Cần nhiều lượt thử mới \"học\" được vùng tốt vì khi ít trial thì hay bị chọn nhầm vùng xấu."
   ]
  }
 ],
 "metadata": {
  "colab": {
   "provenance": [],
   "toc_visible": true
  },
  "kernelspec": {
   "display_name": "Python 3",
   "name": "python3"
  },
  "language_info": {
   "codemirror_mode": {
    "name": "ipython",
    "version": 3
   },
   "file_extension": ".py",
   "mimetype": "text/x-python",
   "name": "python",
   "nbconvert_exporter": "python",
   "pygments_lexer": "ipython3",
   "version": "3.13.2"
  }
 },
 "nbformat": 4,
 "nbformat_minor": 0
}

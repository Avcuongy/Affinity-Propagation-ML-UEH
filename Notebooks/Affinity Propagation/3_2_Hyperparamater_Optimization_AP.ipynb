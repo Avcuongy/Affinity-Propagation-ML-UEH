{
 "cells": [
  {
   "cell_type": "markdown",
   "metadata": {},
   "source": [
    "Chỉ số | Ý nghĩa | Khi nào dùng | Ghi chú\n",
    "---|---|---|---\n",
    "Silhouette Score | Đánh giá độ \"gọn cụm\" và \"xa cụm khác\" | Luôn dùng | Cao hơn thì tốt\n",
    "Davies-Bouldin Index (DBI) | Đánh giá độ \"chồng lấn\" giữa các cụm | Khi muốn kiểm tra tính phân cách | Thấp hơn thì tốt\n",
    "Calinski-Harabasz Index (CHI) | Tỉ lệ giữa độ phân tán giữa cụm và trong cụm | Khi muốn tối ưu về hiệu quả phân tách | Cao hơn thì tốt\n",
    "Number of Clusters | Số lượng cụm được tạo ra | Luôn theo dõi |"
   ]
  },
  {
   "cell_type": "markdown",
   "metadata": {},
   "source": [
    "# Khai báo thư viện"
   ]
  },
  {
   "cell_type": "code",
   "execution_count": 45,
   "metadata": {
    "id": "cU072qD6hRuP"
   },
   "outputs": [],
   "source": [
    "import numpy as np\n",
    "import pandas as pd\n",
    "import matplotlib.pyplot as plt\n",
    "import seaborn as sns\n",
    "import warnings\n",
    "warnings.filterwarnings(\"ignore\")\n",
    "from mpl_toolkits.mplot3d import Axes3D\n",
    "from hyperopt import fmin, tpe, hp, STATUS_OK, Trials\n",
    "\n",
    "# ------------------------------------------------------------------\n",
    "from sklearn import preprocessing\n",
    "from sklearn.decomposition import PCA\n",
    "from sklearn.manifold import TSNE\n",
    "# ------------------------------------------------------------------\n",
    "from scipy.stats import uniform\n",
    "# ------------------------------------------------------------------\n",
    "from sklearn.model_selection import train_test_split\n",
    "from sklearn.model_selection import cross_val_score\n",
    "from sklearn.model_selection import ParameterGrid\n",
    "from sklearn.model_selection import GridSearchCV\n",
    "from sklearn.model_selection import RandomizedSearchCV\n",
    "# ------------------------------------------------------------------\n",
    "from sklearn.cluster import KMeans\n",
    "from sklearn.cluster import AffinityPropagation\n",
    "# ------------------------------------------------------------------\n",
    "from sklearn.metrics import silhouette_score, calinski_harabasz_score,davies_bouldin_score\n",
    "from sklearn.metrics import make_scorer, silhouette_samples"
   ]
  },
  {
   "cell_type": "markdown",
   "metadata": {
    "id": "nK9kf3FJhl-x"
   },
   "source": [
    "# Data"
   ]
  },
  {
   "cell_type": "code",
   "execution_count": 46,
   "metadata": {
    "id": "e7T60koUhdYB"
   },
   "outputs": [],
   "source": [
    "df = pd.read_csv(\"D:\\_Dev\\_Group Project\\Affinity-Propagation-ML-UEH\\Data\\Shopping Mall Customer Segmentation Data (Base)\\data_preprocessed.csv\")"
   ]
  },
  {
   "cell_type": "code",
   "execution_count": 47,
   "metadata": {
    "colab": {
     "base_uri": "https://localhost:8080/",
     "height": 206
    },
    "executionInfo": {
     "elapsed": 48,
     "status": "ok",
     "timestamp": 1745739497516,
     "user": {
      "displayName": "CƯỜNG ĐẶNG XUÂN",
      "userId": "00956941829870484129"
     },
     "user_tz": -420
    },
    "id": "PO2y0vMBhhWQ",
    "outputId": "5a28e44b-032c-452b-8d67-1d3b0664c906"
   },
   "outputs": [
    {
     "data": {
      "text/html": [
       "<div>\n",
       "<style scoped>\n",
       "    .dataframe tbody tr th:only-of-type {\n",
       "        vertical-align: middle;\n",
       "    }\n",
       "\n",
       "    .dataframe tbody tr th {\n",
       "        vertical-align: top;\n",
       "    }\n",
       "\n",
       "    .dataframe thead th {\n",
       "        text-align: right;\n",
       "    }\n",
       "</style>\n",
       "<table border=\"1\" class=\"dataframe\">\n",
       "  <thead>\n",
       "    <tr style=\"text-align: right;\">\n",
       "      <th></th>\n",
       "      <th>Unnamed: 0</th>\n",
       "      <th>customer_id</th>\n",
       "      <th>age</th>\n",
       "      <th>annual_income</th>\n",
       "      <th>spending_score</th>\n",
       "      <th>gender_Female</th>\n",
       "    </tr>\n",
       "  </thead>\n",
       "  <tbody>\n",
       "    <tr>\n",
       "      <th>0</th>\n",
       "      <td>0</td>\n",
       "      <td>d410ea53-6661-42a9-ad3a-f554b05fd2a7</td>\n",
       "      <td>-1.145516</td>\n",
       "      <td>0.798813</td>\n",
       "      <td>1.337059</td>\n",
       "      <td>0.0</td>\n",
       "    </tr>\n",
       "    <tr>\n",
       "      <th>1</th>\n",
       "      <td>1</td>\n",
       "      <td>1770b26f-493f-46b6-837f-4237fb5a314e</td>\n",
       "      <td>0.180335</td>\n",
       "      <td>1.442076</td>\n",
       "      <td>1.545929</td>\n",
       "      <td>1.0</td>\n",
       "    </tr>\n",
       "    <tr>\n",
       "      <th>2</th>\n",
       "      <td>2</td>\n",
       "      <td>e81aa8eb-1767-4b77-87ce-1620dc732c5e</td>\n",
       "      <td>0.369742</td>\n",
       "      <td>-0.743208</td>\n",
       "      <td>0.884507</td>\n",
       "      <td>1.0</td>\n",
       "    </tr>\n",
       "    <tr>\n",
       "      <th>3</th>\n",
       "      <td>3</td>\n",
       "      <td>9795712a-ad19-47bf-8886-4f997d6046e3</td>\n",
       "      <td>-1.476979</td>\n",
       "      <td>-1.038953</td>\n",
       "      <td>0.223086</td>\n",
       "      <td>0.0</td>\n",
       "    </tr>\n",
       "    <tr>\n",
       "      <th>4</th>\n",
       "      <td>4</td>\n",
       "      <td>64139426-2226-4cd6-bf09-91bce4b4db5e</td>\n",
       "      <td>-1.429627</td>\n",
       "      <td>0.842317</td>\n",
       "      <td>0.884507</td>\n",
       "      <td>0.0</td>\n",
       "    </tr>\n",
       "  </tbody>\n",
       "</table>\n",
       "</div>"
      ],
      "text/plain": [
       "   Unnamed: 0                           customer_id       age  annual_income  \\\n",
       "0           0  d410ea53-6661-42a9-ad3a-f554b05fd2a7 -1.145516       0.798813   \n",
       "1           1  1770b26f-493f-46b6-837f-4237fb5a314e  0.180335       1.442076   \n",
       "2           2  e81aa8eb-1767-4b77-87ce-1620dc732c5e  0.369742      -0.743208   \n",
       "3           3  9795712a-ad19-47bf-8886-4f997d6046e3 -1.476979      -1.038953   \n",
       "4           4  64139426-2226-4cd6-bf09-91bce4b4db5e -1.429627       0.842317   \n",
       "\n",
       "   spending_score  gender_Female  \n",
       "0        1.337059            0.0  \n",
       "1        1.545929            1.0  \n",
       "2        0.884507            1.0  \n",
       "3        0.223086            0.0  \n",
       "4        0.884507            0.0  "
      ]
     },
     "execution_count": 47,
     "metadata": {},
     "output_type": "execute_result"
    }
   ],
   "source": [
    "df.head()"
   ]
  },
  {
   "cell_type": "code",
   "execution_count": 48,
   "metadata": {},
   "outputs": [],
   "source": [
    "data = df.drop(columns=[\"customer_id\",],axis=1,)"
   ]
  },
  {
   "cell_type": "code",
   "execution_count": 49,
   "metadata": {
    "id": "8besrod7aFLM"
   },
   "outputs": [
    {
     "data": {
      "text/html": [
       "<div>\n",
       "<style scoped>\n",
       "    .dataframe tbody tr th:only-of-type {\n",
       "        vertical-align: middle;\n",
       "    }\n",
       "\n",
       "    .dataframe tbody tr th {\n",
       "        vertical-align: top;\n",
       "    }\n",
       "\n",
       "    .dataframe thead th {\n",
       "        text-align: right;\n",
       "    }\n",
       "</style>\n",
       "<table border=\"1\" class=\"dataframe\">\n",
       "  <thead>\n",
       "    <tr style=\"text-align: right;\">\n",
       "      <th></th>\n",
       "      <th>Unnamed: 0</th>\n",
       "      <th>age</th>\n",
       "      <th>annual_income</th>\n",
       "      <th>spending_score</th>\n",
       "      <th>gender_Female</th>\n",
       "    </tr>\n",
       "  </thead>\n",
       "  <tbody>\n",
       "    <tr>\n",
       "      <th>0</th>\n",
       "      <td>0</td>\n",
       "      <td>-1.145516</td>\n",
       "      <td>0.798813</td>\n",
       "      <td>1.337059</td>\n",
       "      <td>0.0</td>\n",
       "    </tr>\n",
       "    <tr>\n",
       "      <th>1</th>\n",
       "      <td>1</td>\n",
       "      <td>0.180335</td>\n",
       "      <td>1.442076</td>\n",
       "      <td>1.545929</td>\n",
       "      <td>1.0</td>\n",
       "    </tr>\n",
       "    <tr>\n",
       "      <th>2</th>\n",
       "      <td>2</td>\n",
       "      <td>0.369742</td>\n",
       "      <td>-0.743208</td>\n",
       "      <td>0.884507</td>\n",
       "      <td>1.0</td>\n",
       "    </tr>\n",
       "    <tr>\n",
       "      <th>3</th>\n",
       "      <td>3</td>\n",
       "      <td>-1.476979</td>\n",
       "      <td>-1.038953</td>\n",
       "      <td>0.223086</td>\n",
       "      <td>0.0</td>\n",
       "    </tr>\n",
       "    <tr>\n",
       "      <th>4</th>\n",
       "      <td>4</td>\n",
       "      <td>-1.429627</td>\n",
       "      <td>0.842317</td>\n",
       "      <td>0.884507</td>\n",
       "      <td>0.0</td>\n",
       "    </tr>\n",
       "  </tbody>\n",
       "</table>\n",
       "</div>"
      ],
      "text/plain": [
       "   Unnamed: 0       age  annual_income  spending_score  gender_Female\n",
       "0           0 -1.145516       0.798813        1.337059            0.0\n",
       "1           1  0.180335       1.442076        1.545929            1.0\n",
       "2           2  0.369742      -0.743208        0.884507            1.0\n",
       "3           3 -1.476979      -1.038953        0.223086            0.0\n",
       "4           4 -1.429627       0.842317        0.884507            0.0"
      ]
     },
     "execution_count": 49,
     "metadata": {},
     "output_type": "execute_result"
    }
   ],
   "source": [
    "X = data.copy()\n",
    "X.head()"
   ]
  },
  {
   "cell_type": "markdown",
   "metadata": {
    "id": "ukDHFXC3lckO"
   },
   "source": [
    "# Áp Dụng"
   ]
  },
  {
   "cell_type": "markdown",
   "metadata": {
    "id": "N2n74qbit-DY"
   },
   "source": [
    "## AP"
   ]
  },
  {
   "cell_type": "markdown",
   "metadata": {
    "id": "-DOdCbg-mKZ5"
   },
   "source": [
    "### 1. Tham số thuật toán\n",
    "\n",
    "```\n",
    "preference\n",
    "damping\n",
    "```\n",
    "=> Tập trung tối ưu vào damping và preference"
   ]
  },
  {
   "cell_type": "code",
   "execution_count": 60,
   "metadata": {
    "colab": {
     "base_uri": "https://localhost:8080/",
     "height": 80
    },
    "executionInfo": {
     "elapsed": 744,
     "status": "ok",
     "timestamp": 1745741341851,
     "user": {
      "displayName": "CƯỜNG ĐẶNG XUÂN",
      "userId": "00956941829870484129"
     },
     "user_tz": -420
    },
    "id": "6VtYNF2-jyKi",
    "outputId": "d0082a92-7562-45f9-bc6a-9b386d1d8b6a"
   },
   "outputs": [
    {
     "data": {
      "text/html": [
       "<style>#sk-container-id-4 {\n",
       "  /* Definition of color scheme common for light and dark mode */\n",
       "  --sklearn-color-text: #000;\n",
       "  --sklearn-color-text-muted: #666;\n",
       "  --sklearn-color-line: gray;\n",
       "  /* Definition of color scheme for unfitted estimators */\n",
       "  --sklearn-color-unfitted-level-0: #fff5e6;\n",
       "  --sklearn-color-unfitted-level-1: #f6e4d2;\n",
       "  --sklearn-color-unfitted-level-2: #ffe0b3;\n",
       "  --sklearn-color-unfitted-level-3: chocolate;\n",
       "  /* Definition of color scheme for fitted estimators */\n",
       "  --sklearn-color-fitted-level-0: #f0f8ff;\n",
       "  --sklearn-color-fitted-level-1: #d4ebff;\n",
       "  --sklearn-color-fitted-level-2: #b3dbfd;\n",
       "  --sklearn-color-fitted-level-3: cornflowerblue;\n",
       "\n",
       "  /* Specific color for light theme */\n",
       "  --sklearn-color-text-on-default-background: var(--sg-text-color, var(--theme-code-foreground, var(--jp-content-font-color1, black)));\n",
       "  --sklearn-color-background: var(--sg-background-color, var(--theme-background, var(--jp-layout-color0, white)));\n",
       "  --sklearn-color-border-box: var(--sg-text-color, var(--theme-code-foreground, var(--jp-content-font-color1, black)));\n",
       "  --sklearn-color-icon: #696969;\n",
       "\n",
       "  @media (prefers-color-scheme: dark) {\n",
       "    /* Redefinition of color scheme for dark theme */\n",
       "    --sklearn-color-text-on-default-background: var(--sg-text-color, var(--theme-code-foreground, var(--jp-content-font-color1, white)));\n",
       "    --sklearn-color-background: var(--sg-background-color, var(--theme-background, var(--jp-layout-color0, #111)));\n",
       "    --sklearn-color-border-box: var(--sg-text-color, var(--theme-code-foreground, var(--jp-content-font-color1, white)));\n",
       "    --sklearn-color-icon: #878787;\n",
       "  }\n",
       "}\n",
       "\n",
       "#sk-container-id-4 {\n",
       "  color: var(--sklearn-color-text);\n",
       "}\n",
       "\n",
       "#sk-container-id-4 pre {\n",
       "  padding: 0;\n",
       "}\n",
       "\n",
       "#sk-container-id-4 input.sk-hidden--visually {\n",
       "  border: 0;\n",
       "  clip: rect(1px 1px 1px 1px);\n",
       "  clip: rect(1px, 1px, 1px, 1px);\n",
       "  height: 1px;\n",
       "  margin: -1px;\n",
       "  overflow: hidden;\n",
       "  padding: 0;\n",
       "  position: absolute;\n",
       "  width: 1px;\n",
       "}\n",
       "\n",
       "#sk-container-id-4 div.sk-dashed-wrapped {\n",
       "  border: 1px dashed var(--sklearn-color-line);\n",
       "  margin: 0 0.4em 0.5em 0.4em;\n",
       "  box-sizing: border-box;\n",
       "  padding-bottom: 0.4em;\n",
       "  background-color: var(--sklearn-color-background);\n",
       "}\n",
       "\n",
       "#sk-container-id-4 div.sk-container {\n",
       "  /* jupyter's `normalize.less` sets `[hidden] { display: none; }`\n",
       "     but bootstrap.min.css set `[hidden] { display: none !important; }`\n",
       "     so we also need the `!important` here to be able to override the\n",
       "     default hidden behavior on the sphinx rendered scikit-learn.org.\n",
       "     See: https://github.com/scikit-learn/scikit-learn/issues/21755 */\n",
       "  display: inline-block !important;\n",
       "  position: relative;\n",
       "}\n",
       "\n",
       "#sk-container-id-4 div.sk-text-repr-fallback {\n",
       "  display: none;\n",
       "}\n",
       "\n",
       "div.sk-parallel-item,\n",
       "div.sk-serial,\n",
       "div.sk-item {\n",
       "  /* draw centered vertical line to link estimators */\n",
       "  background-image: linear-gradient(var(--sklearn-color-text-on-default-background), var(--sklearn-color-text-on-default-background));\n",
       "  background-size: 2px 100%;\n",
       "  background-repeat: no-repeat;\n",
       "  background-position: center center;\n",
       "}\n",
       "\n",
       "/* Parallel-specific style estimator block */\n",
       "\n",
       "#sk-container-id-4 div.sk-parallel-item::after {\n",
       "  content: \"\";\n",
       "  width: 100%;\n",
       "  border-bottom: 2px solid var(--sklearn-color-text-on-default-background);\n",
       "  flex-grow: 1;\n",
       "}\n",
       "\n",
       "#sk-container-id-4 div.sk-parallel {\n",
       "  display: flex;\n",
       "  align-items: stretch;\n",
       "  justify-content: center;\n",
       "  background-color: var(--sklearn-color-background);\n",
       "  position: relative;\n",
       "}\n",
       "\n",
       "#sk-container-id-4 div.sk-parallel-item {\n",
       "  display: flex;\n",
       "  flex-direction: column;\n",
       "}\n",
       "\n",
       "#sk-container-id-4 div.sk-parallel-item:first-child::after {\n",
       "  align-self: flex-end;\n",
       "  width: 50%;\n",
       "}\n",
       "\n",
       "#sk-container-id-4 div.sk-parallel-item:last-child::after {\n",
       "  align-self: flex-start;\n",
       "  width: 50%;\n",
       "}\n",
       "\n",
       "#sk-container-id-4 div.sk-parallel-item:only-child::after {\n",
       "  width: 0;\n",
       "}\n",
       "\n",
       "/* Serial-specific style estimator block */\n",
       "\n",
       "#sk-container-id-4 div.sk-serial {\n",
       "  display: flex;\n",
       "  flex-direction: column;\n",
       "  align-items: center;\n",
       "  background-color: var(--sklearn-color-background);\n",
       "  padding-right: 1em;\n",
       "  padding-left: 1em;\n",
       "}\n",
       "\n",
       "\n",
       "/* Toggleable style: style used for estimator/Pipeline/ColumnTransformer box that is\n",
       "clickable and can be expanded/collapsed.\n",
       "- Pipeline and ColumnTransformer use this feature and define the default style\n",
       "- Estimators will overwrite some part of the style using the `sk-estimator` class\n",
       "*/\n",
       "\n",
       "/* Pipeline and ColumnTransformer style (default) */\n",
       "\n",
       "#sk-container-id-4 div.sk-toggleable {\n",
       "  /* Default theme specific background. It is overwritten whether we have a\n",
       "  specific estimator or a Pipeline/ColumnTransformer */\n",
       "  background-color: var(--sklearn-color-background);\n",
       "}\n",
       "\n",
       "/* Toggleable label */\n",
       "#sk-container-id-4 label.sk-toggleable__label {\n",
       "  cursor: pointer;\n",
       "  display: flex;\n",
       "  width: 100%;\n",
       "  margin-bottom: 0;\n",
       "  padding: 0.5em;\n",
       "  box-sizing: border-box;\n",
       "  text-align: center;\n",
       "  align-items: start;\n",
       "  justify-content: space-between;\n",
       "  gap: 0.5em;\n",
       "}\n",
       "\n",
       "#sk-container-id-4 label.sk-toggleable__label .caption {\n",
       "  font-size: 0.6rem;\n",
       "  font-weight: lighter;\n",
       "  color: var(--sklearn-color-text-muted);\n",
       "}\n",
       "\n",
       "#sk-container-id-4 label.sk-toggleable__label-arrow:before {\n",
       "  /* Arrow on the left of the label */\n",
       "  content: \"▸\";\n",
       "  float: left;\n",
       "  margin-right: 0.25em;\n",
       "  color: var(--sklearn-color-icon);\n",
       "}\n",
       "\n",
       "#sk-container-id-4 label.sk-toggleable__label-arrow:hover:before {\n",
       "  color: var(--sklearn-color-text);\n",
       "}\n",
       "\n",
       "/* Toggleable content - dropdown */\n",
       "\n",
       "#sk-container-id-4 div.sk-toggleable__content {\n",
       "  max-height: 0;\n",
       "  max-width: 0;\n",
       "  overflow: hidden;\n",
       "  text-align: left;\n",
       "  /* unfitted */\n",
       "  background-color: var(--sklearn-color-unfitted-level-0);\n",
       "}\n",
       "\n",
       "#sk-container-id-4 div.sk-toggleable__content.fitted {\n",
       "  /* fitted */\n",
       "  background-color: var(--sklearn-color-fitted-level-0);\n",
       "}\n",
       "\n",
       "#sk-container-id-4 div.sk-toggleable__content pre {\n",
       "  margin: 0.2em;\n",
       "  border-radius: 0.25em;\n",
       "  color: var(--sklearn-color-text);\n",
       "  /* unfitted */\n",
       "  background-color: var(--sklearn-color-unfitted-level-0);\n",
       "}\n",
       "\n",
       "#sk-container-id-4 div.sk-toggleable__content.fitted pre {\n",
       "  /* unfitted */\n",
       "  background-color: var(--sklearn-color-fitted-level-0);\n",
       "}\n",
       "\n",
       "#sk-container-id-4 input.sk-toggleable__control:checked~div.sk-toggleable__content {\n",
       "  /* Expand drop-down */\n",
       "  max-height: 200px;\n",
       "  max-width: 100%;\n",
       "  overflow: auto;\n",
       "}\n",
       "\n",
       "#sk-container-id-4 input.sk-toggleable__control:checked~label.sk-toggleable__label-arrow:before {\n",
       "  content: \"▾\";\n",
       "}\n",
       "\n",
       "/* Pipeline/ColumnTransformer-specific style */\n",
       "\n",
       "#sk-container-id-4 div.sk-label input.sk-toggleable__control:checked~label.sk-toggleable__label {\n",
       "  color: var(--sklearn-color-text);\n",
       "  background-color: var(--sklearn-color-unfitted-level-2);\n",
       "}\n",
       "\n",
       "#sk-container-id-4 div.sk-label.fitted input.sk-toggleable__control:checked~label.sk-toggleable__label {\n",
       "  background-color: var(--sklearn-color-fitted-level-2);\n",
       "}\n",
       "\n",
       "/* Estimator-specific style */\n",
       "\n",
       "/* Colorize estimator box */\n",
       "#sk-container-id-4 div.sk-estimator input.sk-toggleable__control:checked~label.sk-toggleable__label {\n",
       "  /* unfitted */\n",
       "  background-color: var(--sklearn-color-unfitted-level-2);\n",
       "}\n",
       "\n",
       "#sk-container-id-4 div.sk-estimator.fitted input.sk-toggleable__control:checked~label.sk-toggleable__label {\n",
       "  /* fitted */\n",
       "  background-color: var(--sklearn-color-fitted-level-2);\n",
       "}\n",
       "\n",
       "#sk-container-id-4 div.sk-label label.sk-toggleable__label,\n",
       "#sk-container-id-4 div.sk-label label {\n",
       "  /* The background is the default theme color */\n",
       "  color: var(--sklearn-color-text-on-default-background);\n",
       "}\n",
       "\n",
       "/* On hover, darken the color of the background */\n",
       "#sk-container-id-4 div.sk-label:hover label.sk-toggleable__label {\n",
       "  color: var(--sklearn-color-text);\n",
       "  background-color: var(--sklearn-color-unfitted-level-2);\n",
       "}\n",
       "\n",
       "/* Label box, darken color on hover, fitted */\n",
       "#sk-container-id-4 div.sk-label.fitted:hover label.sk-toggleable__label.fitted {\n",
       "  color: var(--sklearn-color-text);\n",
       "  background-color: var(--sklearn-color-fitted-level-2);\n",
       "}\n",
       "\n",
       "/* Estimator label */\n",
       "\n",
       "#sk-container-id-4 div.sk-label label {\n",
       "  font-family: monospace;\n",
       "  font-weight: bold;\n",
       "  display: inline-block;\n",
       "  line-height: 1.2em;\n",
       "}\n",
       "\n",
       "#sk-container-id-4 div.sk-label-container {\n",
       "  text-align: center;\n",
       "}\n",
       "\n",
       "/* Estimator-specific */\n",
       "#sk-container-id-4 div.sk-estimator {\n",
       "  font-family: monospace;\n",
       "  border: 1px dotted var(--sklearn-color-border-box);\n",
       "  border-radius: 0.25em;\n",
       "  box-sizing: border-box;\n",
       "  margin-bottom: 0.5em;\n",
       "  /* unfitted */\n",
       "  background-color: var(--sklearn-color-unfitted-level-0);\n",
       "}\n",
       "\n",
       "#sk-container-id-4 div.sk-estimator.fitted {\n",
       "  /* fitted */\n",
       "  background-color: var(--sklearn-color-fitted-level-0);\n",
       "}\n",
       "\n",
       "/* on hover */\n",
       "#sk-container-id-4 div.sk-estimator:hover {\n",
       "  /* unfitted */\n",
       "  background-color: var(--sklearn-color-unfitted-level-2);\n",
       "}\n",
       "\n",
       "#sk-container-id-4 div.sk-estimator.fitted:hover {\n",
       "  /* fitted */\n",
       "  background-color: var(--sklearn-color-fitted-level-2);\n",
       "}\n",
       "\n",
       "/* Specification for estimator info (e.g. \"i\" and \"?\") */\n",
       "\n",
       "/* Common style for \"i\" and \"?\" */\n",
       "\n",
       ".sk-estimator-doc-link,\n",
       "a:link.sk-estimator-doc-link,\n",
       "a:visited.sk-estimator-doc-link {\n",
       "  float: right;\n",
       "  font-size: smaller;\n",
       "  line-height: 1em;\n",
       "  font-family: monospace;\n",
       "  background-color: var(--sklearn-color-background);\n",
       "  border-radius: 1em;\n",
       "  height: 1em;\n",
       "  width: 1em;\n",
       "  text-decoration: none !important;\n",
       "  margin-left: 0.5em;\n",
       "  text-align: center;\n",
       "  /* unfitted */\n",
       "  border: var(--sklearn-color-unfitted-level-1) 1pt solid;\n",
       "  color: var(--sklearn-color-unfitted-level-1);\n",
       "}\n",
       "\n",
       ".sk-estimator-doc-link.fitted,\n",
       "a:link.sk-estimator-doc-link.fitted,\n",
       "a:visited.sk-estimator-doc-link.fitted {\n",
       "  /* fitted */\n",
       "  border: var(--sklearn-color-fitted-level-1) 1pt solid;\n",
       "  color: var(--sklearn-color-fitted-level-1);\n",
       "}\n",
       "\n",
       "/* On hover */\n",
       "div.sk-estimator:hover .sk-estimator-doc-link:hover,\n",
       ".sk-estimator-doc-link:hover,\n",
       "div.sk-label-container:hover .sk-estimator-doc-link:hover,\n",
       ".sk-estimator-doc-link:hover {\n",
       "  /* unfitted */\n",
       "  background-color: var(--sklearn-color-unfitted-level-3);\n",
       "  color: var(--sklearn-color-background);\n",
       "  text-decoration: none;\n",
       "}\n",
       "\n",
       "div.sk-estimator.fitted:hover .sk-estimator-doc-link.fitted:hover,\n",
       ".sk-estimator-doc-link.fitted:hover,\n",
       "div.sk-label-container:hover .sk-estimator-doc-link.fitted:hover,\n",
       ".sk-estimator-doc-link.fitted:hover {\n",
       "  /* fitted */\n",
       "  background-color: var(--sklearn-color-fitted-level-3);\n",
       "  color: var(--sklearn-color-background);\n",
       "  text-decoration: none;\n",
       "}\n",
       "\n",
       "/* Span, style for the box shown on hovering the info icon */\n",
       ".sk-estimator-doc-link span {\n",
       "  display: none;\n",
       "  z-index: 9999;\n",
       "  position: relative;\n",
       "  font-weight: normal;\n",
       "  right: .2ex;\n",
       "  padding: .5ex;\n",
       "  margin: .5ex;\n",
       "  width: min-content;\n",
       "  min-width: 20ex;\n",
       "  max-width: 50ex;\n",
       "  color: var(--sklearn-color-text);\n",
       "  box-shadow: 2pt 2pt 4pt #999;\n",
       "  /* unfitted */\n",
       "  background: var(--sklearn-color-unfitted-level-0);\n",
       "  border: .5pt solid var(--sklearn-color-unfitted-level-3);\n",
       "}\n",
       "\n",
       ".sk-estimator-doc-link.fitted span {\n",
       "  /* fitted */\n",
       "  background: var(--sklearn-color-fitted-level-0);\n",
       "  border: var(--sklearn-color-fitted-level-3);\n",
       "}\n",
       "\n",
       ".sk-estimator-doc-link:hover span {\n",
       "  display: block;\n",
       "}\n",
       "\n",
       "/* \"?\"-specific style due to the `<a>` HTML tag */\n",
       "\n",
       "#sk-container-id-4 a.estimator_doc_link {\n",
       "  float: right;\n",
       "  font-size: 1rem;\n",
       "  line-height: 1em;\n",
       "  font-family: monospace;\n",
       "  background-color: var(--sklearn-color-background);\n",
       "  border-radius: 1rem;\n",
       "  height: 1rem;\n",
       "  width: 1rem;\n",
       "  text-decoration: none;\n",
       "  /* unfitted */\n",
       "  color: var(--sklearn-color-unfitted-level-1);\n",
       "  border: var(--sklearn-color-unfitted-level-1) 1pt solid;\n",
       "}\n",
       "\n",
       "#sk-container-id-4 a.estimator_doc_link.fitted {\n",
       "  /* fitted */\n",
       "  border: var(--sklearn-color-fitted-level-1) 1pt solid;\n",
       "  color: var(--sklearn-color-fitted-level-1);\n",
       "}\n",
       "\n",
       "/* On hover */\n",
       "#sk-container-id-4 a.estimator_doc_link:hover {\n",
       "  /* unfitted */\n",
       "  background-color: var(--sklearn-color-unfitted-level-3);\n",
       "  color: var(--sklearn-color-background);\n",
       "  text-decoration: none;\n",
       "}\n",
       "\n",
       "#sk-container-id-4 a.estimator_doc_link.fitted:hover {\n",
       "  /* fitted */\n",
       "  background-color: var(--sklearn-color-fitted-level-3);\n",
       "}\n",
       "</style><div id=\"sk-container-id-4\" class=\"sk-top-container\"><div class=\"sk-text-repr-fallback\"><pre>AffinityPropagation(preference=-300.0, random_state=42)</pre><b>In a Jupyter environment, please rerun this cell to show the HTML representation or trust the notebook. <br />On GitHub, the HTML representation is unable to render, please try loading this page with nbviewer.org.</b></div><div class=\"sk-container\" hidden><div class=\"sk-item\"><div class=\"sk-estimator fitted sk-toggleable\"><input class=\"sk-toggleable__control sk-hidden--visually\" id=\"sk-estimator-id-4\" type=\"checkbox\" checked><label for=\"sk-estimator-id-4\" class=\"sk-toggleable__label fitted sk-toggleable__label-arrow\"><div><div>AffinityPropagation</div></div><div><a class=\"sk-estimator-doc-link fitted\" rel=\"noreferrer\" target=\"_blank\" href=\"https://scikit-learn.org/1.6/modules/generated/sklearn.cluster.AffinityPropagation.html\">?<span>Documentation for AffinityPropagation</span></a><span class=\"sk-estimator-doc-link fitted\">i<span>Fitted</span></span></div></label><div class=\"sk-toggleable__content fitted\"><pre>AffinityPropagation(preference=-300.0, random_state=42)</pre></div> </div></div></div></div>"
      ],
      "text/plain": [
       "AffinityPropagation(preference=-300.0, random_state=42)"
      ]
     },
     "execution_count": 60,
     "metadata": {},
     "output_type": "execute_result"
    }
   ],
   "source": [
    "ap = AffinityPropagation(random_state=42, damping=0.5, preference=-300.000)\n",
    "ap.fit(X)"
   ]
  },
  {
   "cell_type": "markdown",
   "metadata": {
    "id": "zlPbVHTzneHk"
   },
   "source": [
    "### 2. Biểu diễn phân cụm"
   ]
  },
  {
   "cell_type": "code",
   "execution_count": 61,
   "metadata": {
    "colab": {
     "base_uri": "https://localhost:8080/",
     "height": 686
    },
    "executionInfo": {
     "elapsed": 341,
     "status": "ok",
     "timestamp": 1745741087041,
     "user": {
      "displayName": "CƯỜNG ĐẶNG XUÂN",
      "userId": "00956941829870484129"
     },
     "user_tz": -420
    },
    "id": "NUs2757XmCzT",
    "outputId": "e6cde68c-8dc9-4dee-c8d1-36b0f1d83dcf"
   },
   "outputs": [
    {
     "data": {
      "image/png": "[encoded data removed]",
      "text/plain": [
       "<Figure size 1600x600 with 1 Axes>"
      ]
     },
     "metadata": {},
     "output_type": "display_data"
    }
   ],
   "source": [
    "# Giảm số chiều về 2\n",
    "X_2d = PCA(n_components=2).fit_transform(X)\n",
    "\n",
    "labels = ap.labels_\n",
    "exemplars = ap.cluster_centers_indices_\n",
    "\n",
    "plt.figure(figsize=(16, 6))\n",
    "for cluster in set(labels):\n",
    "    plt.scatter(\n",
    "        X_2d[labels == cluster, 0],\n",
    "        X_2d[labels == cluster, 1],\n",
    "        label=f\"Cluster {cluster}\",\n",
    "    )\n",
    "plt.scatter(\n",
    "    X_2d[exemplars, 0],\n",
    "    X_2d[exemplars, 1],\n",
    "    c=\"black\",\n",
    "    marker=\"x\",\n",
    "    s=250,\n",
    "    label=\"Exemplars\",\n",
    "    edgecolors=\"white\",\n",
    ")\n",
    "plt.legend()\n",
    "plt.title(\"Affinity Propagation Clustering\")\n",
    "plt.show()"
   ]
  },
  {
   "cell_type": "markdown",
   "metadata": {
    "id": "PptI1DAZFj1j"
   },
   "source": [
    "# Hyperparameter Optimization"
   ]
  },
  {
   "cell_type": "markdown",
   "metadata": {
    "id": "C37aWFLyovxS"
   },
   "source": [
    "### 1. Grid Search"
   ]
  },
  {
   "cell_type": "code",
   "execution_count": 52,
   "metadata": {
    "colab": {
     "base_uri": "https://localhost:8080/"
    },
    "executionInfo": {
     "elapsed": 156383,
     "status": "ok",
     "timestamp": 1745740217788,
     "user": {
      "displayName": "CƯỜNG ĐẶNG XUÂN",
      "userId": "00956941829870484129"
     },
     "user_tz": -420
    },
    "id": "QFYA8TBgzjJX",
    "outputId": "6e618f78-262a-4210-fd11-a86e0f642bf7"
   },
   "outputs": [],
   "source": [
    "# Grid Search Space\n",
    "param_grid = {\n",
    "    \"damping\": np.linspace(0.5, 0.9, 5),\n",
    "    \"preference\": np.linspace(-300, 0, 50),\n",
    "}\n",
    "grid = ParameterGrid(param_grid)\n",
    "\n",
    "# Khởi tạo biến lưu trữ kết quả tốt nhất\n",
    "best_score = -1\n",
    "best_params = None\n",
    "best_model = None\n",
    "best_labels = None\n",
    "best_n_clusters = None\n",
    "\n",
    "# Thực hiện Grid Search\n",
    "for params in grid:\n",
    "    model = AffinityPropagation(\n",
    "        damping=params[\"damping\"], preference=params[\"preference\"], random_state=42\n",
    "    )\n",
    "    labels = model.fit_predict(X)\n",
    "\n",
    "    n_clusters = len(set(labels))\n",
    "    if n_clusters <= 1 or n_clusters >= len(X):\n",
    "        continue  # Bỏ qua các trường hợp không hợp lệ\n",
    "\n",
    "    score = silhouette_score(X, labels)\n",
    "\n",
    "    if score > best_score:\n",
    "        best_score = score\n",
    "        best_params = params\n",
    "        best_model = model\n",
    "        best_labels = labels\n",
    "        best_n_clusters = n_clusters\n",
    "\n",
    "# Tính các chỉ số đánh giá\n",
    "silhouette_ap = silhouette_score(X, best_labels)\n",
    "davies_bouldin_ap = davies_bouldin_score(X, best_labels)\n",
    "calinski_harabasz_ap = calinski_harabasz_score(X, best_labels)"
   ]
  },
  {
   "cell_type": "code",
   "execution_count": 53,
   "metadata": {},
   "outputs": [
    {
     "name": "stdout",
     "output_type": "stream",
     "text": [
      "[Grid Search] Affinity Propagation:\n",
      "- Số lượng cụm: 89\n",
      "- Silhouette Score: 0.409\n",
      "- Davies Bouldin Score: 0.612\n",
      "- Calinski Harabasz Score: 61713.188\n",
      "- Tham số tối ưu:\n",
      "\t+ Damping: 0.500\n",
      "\t+ Preference: -300.000\n"
     ]
    }
   ],
   "source": [
    "print(\"[Grid Search] Affinity Propagation:\")\n",
    "print(f\"- Số lượng cụm: {best_n_clusters}\")\n",
    "print(f\"- Silhouette Score: {silhouette_ap:.3f}\")\n",
    "print(f\"- Davies Bouldin Score: {davies_bouldin_ap:.3f}\")\n",
    "print(f\"- Calinski Harabasz Score: {calinski_harabasz_ap:.3f}\")\n",
    "print(f\"- Tham số tối ưu:\")\n",
    "print(f\"\\t+ Damping: {best_params['damping']:.3f}\")\n",
    "print(f\"\\t+ Preference: {best_params['preference']:.3f}\")"
   ]
  },
  {
   "cell_type": "markdown",
   "metadata": {
    "id": "fNOqiNK_sk3E"
   },
   "source": [
    "### 2. Hyperopt"
   ]
  },
  {
   "cell_type": "code",
   "execution_count": 54,
   "metadata": {
    "id": "BLmX7QcWsn0j"
   },
   "outputs": [
    {
     "name": "stdout",
     "output_type": "stream",
     "text": [
      "100%|██████████| 100/100 [00:52<00:00,  1.90trial/s, best loss: -0.40889341953257224]\n"
     ]
    }
   ],
   "source": [
    "# Xây dựng không gian tìm kiếm\n",
    "space = {\n",
    "    \"damping\": hp.uniform(\"damping\", 0.5, 0.9),\n",
    "    \"preference\": hp.uniform(\"preference\", -300, 0),\n",
    "}\n",
    "\n",
    "\n",
    "# Hàm mục tiêu cần tối ưu\n",
    "def objective(params):\n",
    "    model = AffinityPropagation(\n",
    "        damping=params[\"damping\"], preference=params[\"preference\"], random_state=42\n",
    "    )\n",
    "    labels = model.fit_predict(X)\n",
    "\n",
    "    n_clusters = len(set(labels))\n",
    "    if n_clusters <= 1 or n_clusters >= len(X):\n",
    "        return {\"loss\": 1, \"status\": STATUS_OK}  # Loss cao nếu cụm không hợp lệ\n",
    "\n",
    "    score = silhouette_score(X, labels)\n",
    "    return {\n",
    "        \"loss\": -score,\n",
    "        \"status\": STATUS_OK,\n",
    "        \"params\": params,\n",
    "        \"n_clusters\": n_clusters,\n",
    "    }\n",
    "\n",
    "\n",
    "# Thực hiện tối ưu\n",
    "trials = Trials()\n",
    "best = fmin(fn=objective, space=space, algo=tpe.suggest, max_evals=100, trials=trials)\n",
    "\n",
    "# Thực hiện mô hình với tham số tốt nhất\n",
    "best_model = AffinityPropagation(\n",
    "    damping=best[\"damping\"], preference=best[\"preference\"], random_state=42\n",
    ")\n",
    "best_labels = best_model.fit_predict(X)\n",
    "best_n_clusters = len(set(best_labels))\n",
    "\n",
    "# Tính các chỉ số\n",
    "silhouette_ap = silhouette_score(X, best_labels)\n",
    "davies_bouldin_ap = davies_bouldin_score(X, best_labels)\n",
    "calinski_harabasz_ap = calinski_harabasz_score(X, best_labels)"
   ]
  },
  {
   "cell_type": "code",
   "execution_count": 55,
   "metadata": {},
   "outputs": [
    {
     "name": "stdout",
     "output_type": "stream",
     "text": [
      "[Hyperopt] Affinity Propagation:\n",
      "- Số lượng cụm: 89\n",
      "- Silhouette Score: 0.409\n",
      "- Davies Bouldin Score: 0.611\n",
      "- Calinski Harabasz Score: 61949.222\n",
      "- Tham số tối ưu:\n",
      "\t+ Damping: 0.721\n",
      "\t+ Preference: -294.168\n"
     ]
    }
   ],
   "source": [
    "print(\"[Hyperopt] Affinity Propagation:\")\n",
    "print(f\"- Số lượng cụm: {best_n_clusters}\")\n",
    "print(f\"- Silhouette Score: {silhouette_ap:.3f}\")\n",
    "print(f\"- Davies Bouldin Score: {davies_bouldin_ap:.3f}\")\n",
    "print(f\"- Calinski Harabasz Score: {calinski_harabasz_ap:.3f}\")\n",
    "print(f\"- Tham số tối ưu:\")\n",
    "print(f\"\\t+ Damping: {best['damping']:.3f}\")\n",
    "print(f\"\\t+ Preference: {best['preference']:.3f}\")"
   ]
  },
  {
   "cell_type": "markdown",
   "metadata": {},
   "source": [
    "### 3. Optuna"
   ]
  },
  {
   "cell_type": "markdown",
   "metadata": {},
   "source": [
    "|Tính năng | Ý nghĩa |\n",
    "|---|---|\n",
    "|Sơ đồ dòng tối ưu hóa | Hiểu tổng quan quá trình|\n",
    "|Early Stopping (Pruning) | Tiết kiệm thời gian|\n",
    "|Visualization | Nhìn thấy quá trình tối ưu trực quan|"
   ]
  },
  {
   "cell_type": "code",
   "execution_count": 56,
   "metadata": {},
   "outputs": [
    {
     "name": "stderr",
     "output_type": "stream",
     "text": [
      "[I 2025-05-06 19:23:56,225] A new study created in memory with name: no-name-3be5bad5-0de0-43e9-a22b-f21a1003ee32\n",
      "[I 2025-05-06 19:23:56,623] Trial 0 finished with value: -0.40776193689606005 and parameters: {'damping': 0.5373080641287455, 'preference': -279.68087803861295}. Best is trial 0 with value: -0.40776193689606005.\n",
      "[I 2025-05-06 19:23:56,985] Trial 1 finished with value: -0.3849301045785692 and parameters: {'damping': 0.5283009741808316, 'preference': -158.50455601080154}. Best is trial 0 with value: -0.40776193689606005.\n",
      "[I 2025-05-06 19:23:57,526] Trial 2 finished with value: -0.3402489264287669 and parameters: {'damping': 0.7923825752909821, 'preference': -68.71231208893084}. Best is trial 0 with value: -0.40776193689606005.\n",
      "[I 2025-05-06 19:23:57,811] Trial 3 finished with value: -0.4003350614688532 and parameters: {'damping': 0.5317418887149734, 'preference': -227.9710239617022}. Best is trial 0 with value: -0.40776193689606005.\n",
      "[I 2025-05-06 19:23:58,661] Trial 4 finished with value: -0.2940310250215242 and parameters: {'damping': 0.7046897054091096, 'preference': -24.31687678477124}. Best is trial 0 with value: -0.40776193689606005.\n",
      "[I 2025-05-06 19:23:59,700] Trial 5 finished with value: -0.3605586687415437 and parameters: {'damping': 0.8152826312656265, 'preference': -99.30893198134996}. Best is trial 0 with value: -0.40776193689606005.\n",
      "[I 2025-05-06 19:24:00,526] Trial 6 finished with value: -0.38594354577443124 and parameters: {'damping': 0.8549223898670961, 'preference': -171.0666917048883}. Best is trial 0 with value: -0.40776193689606005.\n",
      "[I 2025-05-06 19:24:00,914] Trial 7 finished with value: -0.388762266367358 and parameters: {'damping': 0.5635751619116955, 'preference': -195.45989064396684}. Best is trial 0 with value: -0.40776193689606005.\n",
      "[I 2025-05-06 19:24:01,491] Trial 8 finished with value: -0.40461787289216594 and parameters: {'damping': 0.7868346448829412, 'preference': -282.90345308182714}. Best is trial 0 with value: -0.40776193689606005.\n",
      "[I 2025-05-06 19:24:02,331] Trial 9 finished with value: -0.11768890770119445 and parameters: {'damping': 0.8831004754603491, 'preference': -6.1102700212138075}. Best is trial 0 with value: -0.40776193689606005.\n",
      "[I 2025-05-06 19:24:02,646] Trial 10 finished with value: -0.4074437850639438 and parameters: {'damping': 0.6294163924066882, 'preference': -292.1340736748824}. Best is trial 0 with value: -0.40776193689606005.\n",
      "[I 2025-05-06 19:24:02,962] Trial 11 finished with value: -0.40714030777610843 and parameters: {'damping': 0.6220692067064519, 'preference': -266.30922608538685}. Best is trial 0 with value: -0.40776193689606005.\n",
      "[I 2025-05-06 19:24:03,303] Trial 12 finished with value: -0.4077450618090842 and parameters: {'damping': 0.6276488518869437, 'preference': -299.2944249754346}. Best is trial 0 with value: -0.40776193689606005.\n",
      "[I 2025-05-06 19:24:03,670] Trial 13 finished with value: -0.4005158269459205 and parameters: {'damping': 0.6068038306427167, 'preference': -231.0378314429883}. Best is trial 0 with value: -0.40776193689606005.\n",
      "[I 2025-05-06 19:24:04,106] Trial 14 finished with value: -0.40025734782799355 and parameters: {'damping': 0.7015905525521782, 'preference': -245.0079369277732}. Best is trial 0 with value: -0.40776193689606005.\n",
      "[I 2025-05-06 19:24:04,455] Trial 15 finished with value: -0.40680429347754193 and parameters: {'damping': 0.5031290809903123, 'preference': -299.96750309779236}. Best is trial 0 with value: -0.40776193689606005.\n",
      "[I 2025-05-06 19:24:04,948] Trial 16 pruned. \n",
      "[I 2025-05-06 19:24:05,280] Trial 17 pruned. \n",
      "[I 2025-05-06 19:24:05,748] Trial 18 pruned. \n",
      "[I 2025-05-06 19:24:06,327] Trial 19 finished with value: -0.40529856950422233 and parameters: {'damping': 0.7396908542079302, 'preference': -262.58943055129055}. Best is trial 0 with value: -0.40776193689606005.\n",
      "[I 2025-05-06 19:24:06,799] Trial 20 pruned. \n",
      "[I 2025-05-06 19:24:07,229] Trial 21 finished with value: -0.40829088239954986 and parameters: {'damping': 0.6421413236740929, 'preference': -296.9932734160678}. Best is trial 21 with value: -0.40829088239954986.\n",
      "[I 2025-05-06 19:24:07,640] Trial 22 finished with value: -0.40581932959449346 and parameters: {'damping': 0.6617987971116397, 'preference': -265.4589748446955}. Best is trial 21 with value: -0.40829088239954986.\n",
      "[I 2025-05-06 19:24:08,032] Trial 23 finished with value: -0.40749082393039 and parameters: {'damping': 0.5561239766011029, 'preference': -299.27544798709243}. Best is trial 21 with value: -0.40829088239954986.\n",
      "[I 2025-05-06 19:24:08,593] Trial 24 finished with value: -0.4038420467579935 and parameters: {'damping': 0.7259446986512306, 'preference': -250.17059255803946}. Best is trial 21 with value: -0.40829088239954986.\n",
      "[I 2025-05-06 19:24:08,991] Trial 25 finished with value: -0.4065753641361935 and parameters: {'damping': 0.6365060221565153, 'preference': -274.3153580771614}. Best is trial 21 with value: -0.40829088239954986.\n",
      "[I 2025-05-06 19:24:09,430] Trial 26 pruned. \n",
      "[I 2025-05-06 19:24:09,926] Trial 27 pruned. \n",
      "[I 2025-05-06 19:24:10,362] Trial 28 pruned. \n",
      "[I 2025-05-06 19:24:10,903] Trial 29 pruned. \n",
      "[I 2025-05-06 19:24:11,456] Trial 30 pruned. \n",
      "[I 2025-05-06 19:24:12,049] Trial 31 finished with value: -0.40841966944217983 and parameters: {'damping': 0.5803584046175001, 'preference': -290.33892763178324}. Best is trial 31 with value: -0.40841966944217983.\n",
      "[I 2025-05-06 19:24:12,484] Trial 32 finished with value: -0.406072823826868 and parameters: {'damping': 0.5843563082412746, 'preference': -282.7935763313844}. Best is trial 31 with value: -0.40841966944217983.\n",
      "[I 2025-05-06 19:24:12,883] Trial 33 pruned. \n",
      "[I 2025-05-06 19:24:13,292] Trial 34 pruned. \n",
      "[I 2025-05-06 19:24:13,759] Trial 35 finished with value: -0.4077450618090842 and parameters: {'damping': 0.6342571520566505, 'preference': -299.82189713411384}. Best is trial 31 with value: -0.40841966944217983.\n",
      "[I 2025-05-06 19:24:14,229] Trial 36 pruned. \n",
      "[I 2025-05-06 19:24:14,896] Trial 37 pruned. \n",
      "[I 2025-05-06 19:24:15,375] Trial 38 pruned. \n",
      "[I 2025-05-06 19:24:15,992] Trial 39 finished with value: -0.406750744654457 and parameters: {'damping': 0.7511470548384604, 'preference': -286.81800223200764}. Best is trial 31 with value: -0.40841966944217983.\n",
      "[I 2025-05-06 19:24:16,696] Trial 40 pruned. \n",
      "[I 2025-05-06 19:24:17,156] Trial 41 finished with value: -0.40944099908320514 and parameters: {'damping': 0.6379295221773548, 'preference': -296.53215822509486}. Best is trial 41 with value: -0.40944099908320514.\n",
      "[I 2025-05-06 19:24:17,807] Trial 42 finished with value: -0.4058759245158819 and parameters: {'damping': 0.6513426920349511, 'preference': -287.479949856349}. Best is trial 41 with value: -0.40944099908320514.\n",
      "[I 2025-05-06 19:24:18,253] Trial 43 pruned. \n",
      "[I 2025-05-06 19:24:18,707] Trial 44 finished with value: -0.40647876053519594 and parameters: {'damping': 0.6405614349231564, 'preference': -274.615780182981}. Best is trial 41 with value: -0.40944099908320514.\n",
      "[I 2025-05-06 19:24:19,271] Trial 45 pruned. \n",
      "[I 2025-05-06 19:24:19,847] Trial 46 pruned. \n",
      "[I 2025-05-06 19:24:20,334] Trial 47 pruned. \n",
      "[I 2025-05-06 19:24:21,176] Trial 48 pruned. \n",
      "[I 2025-05-06 19:24:21,680] Trial 49 pruned. \n",
      "[I 2025-05-06 19:24:22,282] Trial 50 finished with value: -0.410017149541955 and parameters: {'damping': 0.621389723171733, 'preference': -297.74934537965964}. Best is trial 50 with value: -0.410017149541955.\n",
      "[I 2025-05-06 19:24:22,727] Trial 51 finished with value: -0.410017149541955 and parameters: {'damping': 0.6220473375838393, 'preference': -299.9023437597542}. Best is trial 50 with value: -0.410017149541955.\n",
      "[I 2025-05-06 19:24:23,202] Trial 52 finished with value: -0.40684485518498636 and parameters: {'damping': 0.6213999971972368, 'preference': -289.5618698102782}. Best is trial 50 with value: -0.410017149541955.\n",
      "[I 2025-05-06 19:24:23,841] Trial 53 pruned. \n",
      "[I 2025-05-06 19:24:24,465] Trial 54 pruned. \n",
      "[I 2025-05-06 19:24:24,957] Trial 55 finished with value: -0.40900028428533464 and parameters: {'damping': 0.5626322632173817, 'preference': -295.29926640911634}. Best is trial 50 with value: -0.410017149541955.\n",
      "[I 2025-05-06 19:24:25,425] Trial 56 finished with value: -0.40868367211565704 and parameters: {'damping': 0.613601684952618, 'preference': -299.8514439221521}. Best is trial 50 with value: -0.410017149541955.\n",
      "[I 2025-05-06 19:24:26,010] Trial 57 pruned. \n",
      "[I 2025-05-06 19:24:26,570] Trial 58 finished with value: -0.40900028428533464 and parameters: {'damping': 0.5647310568682455, 'preference': -291.94604463439623}. Best is trial 50 with value: -0.410017149541955.\n",
      "[I 2025-05-06 19:24:27,102] Trial 59 pruned. \n",
      "[I 2025-05-06 19:24:27,699] Trial 60 pruned. \n",
      "[I 2025-05-06 19:24:28,355] Trial 61 finished with value: -0.4080849323064571 and parameters: {'damping': 0.6129156093787198, 'preference': -292.6026103139913}. Best is trial 50 with value: -0.410017149541955.\n",
      "[I 2025-05-06 19:24:28,866] Trial 62 finished with value: -0.40737814895072283 and parameters: {'damping': 0.5976610778673594, 'preference': -297.49610833563037}. Best is trial 50 with value: -0.410017149541955.\n",
      "[I 2025-05-06 19:24:29,389] Trial 63 pruned. \n",
      "[I 2025-05-06 19:24:30,000] Trial 64 finished with value: -0.40726657209156886 and parameters: {'damping': 0.5662448031942798, 'preference': -281.5205689763351}. Best is trial 50 with value: -0.410017149541955.\n",
      "[I 2025-05-06 19:24:30,559] Trial 65 pruned. \n",
      "[I 2025-05-06 19:24:31,525] Trial 66 pruned. \n",
      "[I 2025-05-06 19:24:32,093] Trial 67 pruned. \n",
      "[I 2025-05-06 19:24:32,647] Trial 68 finished with value: -0.4074437850639438 and parameters: {'damping': 0.6306554562125144, 'preference': -290.7588453134136}. Best is trial 50 with value: -0.410017149541955.\n",
      "[I 2025-05-06 19:24:33,258] Trial 69 pruned. \n",
      "[I 2025-05-06 19:24:33,846] Trial 70 finished with value: -0.40854571582800586 and parameters: {'damping': 0.56939982228664, 'preference': -297.8301168300321}. Best is trial 50 with value: -0.410017149541955.\n",
      "[I 2025-05-06 19:24:34,411] Trial 71 finished with value: -0.40877524680765603 and parameters: {'damping': 0.5672885461426307, 'preference': -297.7925404358616}. Best is trial 50 with value: -0.410017149541955.\n",
      "[I 2025-05-06 19:24:35,090] Trial 72 finished with value: -0.40900028428533464 and parameters: {'damping': 0.5617348935273933, 'preference': -296.17962831633207}. Best is trial 50 with value: -0.410017149541955.\n",
      "[I 2025-05-06 19:24:35,530] Trial 73 finished with value: -0.4084852716766126 and parameters: {'damping': 0.5395379986617557, 'preference': -299.5832355033219}. Best is trial 50 with value: -0.410017149541955.\n",
      "[I 2025-05-06 19:24:36,026] Trial 74 finished with value: -0.40728743548371493 and parameters: {'damping': 0.5610093196934856, 'preference': -274.02171791855994}. Best is trial 50 with value: -0.410017149541955.\n",
      "[I 2025-05-06 19:24:36,397] Trial 75 pruned. \n",
      "[I 2025-05-06 19:24:39,366] Trial 76 pruned. \n",
      "[I 2025-05-06 19:24:40,039] Trial 77 pruned. \n",
      "[I 2025-05-06 19:24:40,488] Trial 78 pruned. \n",
      "[I 2025-05-06 19:24:40,966] Trial 79 pruned. \n",
      "[I 2025-05-06 19:24:41,508] Trial 80 pruned. \n",
      "[I 2025-05-06 19:24:41,987] Trial 81 finished with value: -0.4097090923960434 and parameters: {'damping': 0.5687442944818727, 'preference': -299.8847737797856}. Best is trial 50 with value: -0.410017149541955.\n",
      "[I 2025-05-06 19:24:42,421] Trial 82 finished with value: -0.40841966944217983 and parameters: {'damping': 0.5826296406111933, 'preference': -292.84680687521933}. Best is trial 50 with value: -0.410017149541955.\n",
      "[I 2025-05-06 19:24:42,707] Trial 83 finished with value: -0.40731907818653484 and parameters: {'damping': 0.5337615981303804, 'preference': -299.77351246348957}. Best is trial 50 with value: -0.410017149541955.\n",
      "[I 2025-05-06 19:24:43,032] Trial 84 finished with value: -0.40801993552269367 and parameters: {'damping': 0.6152589463666857, 'preference': -285.6988434290436}. Best is trial 50 with value: -0.410017149541955.\n",
      "[I 2025-05-06 19:24:43,349] Trial 85 finished with value: -0.4078081538687325 and parameters: {'damping': 0.5680017846731686, 'preference': -273.72538227589297}. Best is trial 50 with value: -0.410017149541955.\n",
      "[I 2025-05-06 19:24:43,626] Trial 86 finished with value: -0.40737814895072283 and parameters: {'damping': 0.5918611060873248, 'preference': -293.4555409965481}. Best is trial 50 with value: -0.410017149541955.\n",
      "[I 2025-05-06 19:24:43,948] Trial 87 pruned. \n",
      "[I 2025-05-06 19:24:44,338] Trial 88 finished with value: -0.40847311220193433 and parameters: {'damping': 0.5419751924464009, 'preference': -286.1334263485861}. Best is trial 50 with value: -0.410017149541955.\n",
      "[I 2025-05-06 19:24:44,635] Trial 89 pruned. \n",
      "[I 2025-05-06 19:24:44,948] Trial 90 pruned. \n",
      "[I 2025-05-06 19:24:45,322] Trial 91 finished with value: -0.40877524680765603 and parameters: {'damping': 0.5661021993369314, 'preference': -295.50765892910186}. Best is trial 50 with value: -0.410017149541955.\n",
      "[I 2025-05-06 19:24:45,772] Trial 92 finished with value: -0.40939256044167815 and parameters: {'damping': 0.6080402522385917, 'preference': -293.55286661911094}. Best is trial 50 with value: -0.410017149541955.\n",
      "[I 2025-05-06 19:24:46,087] Trial 93 pruned. \n",
      "[I 2025-05-06 19:24:46,403] Trial 94 pruned. \n",
      "[I 2025-05-06 19:24:46,815] Trial 95 finished with value: -0.4089414321181404 and parameters: {'damping': 0.5648385271904555, 'preference': -286.20489252843333}. Best is trial 50 with value: -0.410017149541955.\n",
      "[I 2025-05-06 19:24:47,207] Trial 96 finished with value: -0.40847311220193433 and parameters: {'damping': 0.5212191007628485, 'preference': -286.6686500028481}. Best is trial 50 with value: -0.410017149541955.\n",
      "[I 2025-05-06 19:24:47,492] Trial 97 pruned. \n",
      "[I 2025-05-06 19:24:47,823] Trial 98 pruned. \n",
      "[I 2025-05-06 19:24:48,139] Trial 99 pruned. \n"
     ]
    }
   ],
   "source": [
    "import optuna\n",
    "from optuna.pruners import MedianPruner\n",
    "\n",
    "# Hàm objective với pruning\n",
    "def objective(trial):\n",
    "    damping = trial.suggest_float('damping', 0.5, 0.9)\n",
    "    preference = trial.suggest_float('preference', -300, 0)\n",
    "    \n",
    "    model = AffinityPropagation(\n",
    "        damping=damping,\n",
    "        preference=preference,\n",
    "        random_state=42\n",
    "    )\n",
    "    labels = model.fit_predict(X)\n",
    "    \n",
    "    n_clusters = len(set(labels))\n",
    "    if n_clusters <= 1 or n_clusters >= len(X):\n",
    "        return 1.0  # Trả về loss cao ngay\n",
    "\n",
    "    score = silhouette_score(X, labels)\n",
    "\n",
    "    # Gửi signal cho Optuna pruning\n",
    "    trial.report(-score, step=0)\n",
    "    if trial.should_prune():\n",
    "        raise optuna.TrialPruned()\n",
    "\n",
    "    return -score  # Vì Optuna minimize\n",
    "\n",
    "# Tạo Study có pruner\n",
    "pruner = MedianPruner(n_startup_trials=10, n_warmup_steps=0)\n",
    "study = optuna.create_study(direction='minimize', pruner=pruner)\n",
    "study.optimize(objective, n_trials=100)\n",
    "\n",
    "# Sau khi tìm xong, build lại mô hình tốt nhất\n",
    "best = study.best_params\n",
    "\n",
    "best_model = AffinityPropagation(\n",
    "    damping=best['damping'],\n",
    "    preference=best['preference'],\n",
    "    random_state=42\n",
    ")\n",
    "best_labels = best_model.fit_predict(X)\n",
    "best_n_clusters = len(set(best_labels))\n",
    "\n",
    "# Tính các chỉ số đánh giá\n",
    "silhouette_ap = silhouette_score(X, best_labels)\n",
    "davies_bouldin_ap = davies_bouldin_score(X, best_labels)\n",
    "calinski_harabasz_ap = calinski_harabasz_score(X, best_labels)\n"
   ]
  },
  {
   "cell_type": "code",
   "execution_count": 57,
   "metadata": {},
   "outputs": [
    {
     "name": "stdout",
     "output_type": "stream",
     "text": [
      "[Optuna] Affinity Propagation:\n",
      "- Số lượng cụm: 88\n",
      "- Silhouette Score: 0.410\n",
      "- Davies Bouldin Score: 0.610\n",
      "- Calinski Harabasz Score: 61283.565\n",
      "- Tham số tối ưu:\n",
      "\t+ Damping: 0.621\n",
      "\t+ Preference: -297.749\n"
     ]
    }
   ],
   "source": [
    "print(\"[Optuna] Affinity Propagation:\")\n",
    "print(f\"- Số lượng cụm: {best_n_clusters}\")\n",
    "print(f\"- Silhouette Score: {silhouette_ap:.3f}\")\n",
    "print(f\"- Davies Bouldin Score: {davies_bouldin_ap:.3f}\")\n",
    "print(f\"- Calinski Harabasz Score: {calinski_harabasz_ap:.3f}\")\n",
    "print(f\"- Tham số tối ưu:\")\n",
    "print(f\"\\t+ Damping: {best['damping']:.3f}\")\n",
    "print(f\"\\t+ Preference: {best['preference']:.3f}\")"
   ]
  },
  {
   "cell_type": "code",
   "execution_count": 58,
   "metadata": {},
   "outputs": [
    {
     "data": {
      "application/vnd.plotly.v1+json": {
       "config": {
        "plotlyServerURL": "https://plot.ly"
       },
       "data": [
        {
         "mode": "markers",
         "name": "Objective Value",
         "type": "scatter",
         "x": [
          0,
          1,
          2,
          3,
          4,
          5,
          6,
          7,
          8,
          9,
          10,
          11,
          12,
          13,
          14,
          15,
          19,
          21,
          22,
          23,
          24,
          25,
          31,
          32,
          35,
          39,
          41,
          42,
          44,
          50,
          51,
          52,
          55,
          56,
          58,
          61,
          62,
          64,
          68,
          70,
          71,
          72,
          73,
          74,
          81,
          82,
          83,
          84,
          85,
          86,
          88,
          91,
          92,
          95,
          96
         ],
         "y": [
          -0.40776193689606005,
          -0.3849301045785692,
          -0.3402489264287669,
          -0.4003350614688532,
          -0.2940310250215242,
          -0.3605586687415437,
          -0.38594354577443124,
          -0.388762266367358,
          -0.40461787289216594,
          -0.11768890770119445,
          -0.4074437850639438,
          -0.40714030777610843,
          -0.4077450618090842,
          -0.4005158269459205,
          -0.40025734782799355,
          -0.40680429347754193,
          -0.40529856950422233,
          -0.40829088239954986,
          -0.40581932959449346,
          -0.40749082393039,
          -0.4038420467579935,
          -0.4065753641361935,
          -0.40841966944217983,
          -0.406072823826868,
          -0.4077450618090842,
          -0.406750744654457,
          -0.40944099908320514,
          -0.4058759245158819,
          -0.40647876053519594,
          -0.410017149541955,
          -0.410017149541955,
          -0.40684485518498636,
          -0.40900028428533464,
          -0.40868367211565704,
          -0.40900028428533464,
          -0.4080849323064571,
          -0.40737814895072283,
          -0.40726657209156886,
          -0.4074437850639438,
          -0.40854571582800586,
          -0.40877524680765603,
          -0.40900028428533464,
          -0.4084852716766126,
          -0.40728743548371493,
          -0.4097090923960434,
          -0.40841966944217983,
          -0.40731907818653484,
          -0.40801993552269367,
          -0.4078081538687325,
          -0.40737814895072283,
          -0.40847311220193433,
          -0.40877524680765603,
          -0.40939256044167815,
          -0.4089414321181404,
          -0.40847311220193433
         ]
        },
        {
         "mode": "lines",
         "name": "Best Value",
         "type": "scatter",
         "x": [
          0,
          1,
          2,
          3,
          4,
          5,
          6,
          7,
          8,
          9,
          10,
          11,
          12,
          13,
          14,
          15,
          16,
          17,
          18,
          19,
          20,
          21,
          22,
          23,
          24,
          25,
          26,
          27,
          28,
          29,
          30,
          31,
          32,
          33,
          34,
          35,
          36,
          37,
          38,
          39,
          40,
          41,
          42,
          43,
          44,
          45,
          46,
          47,
          48,
          49,
          50,
          51,
          52,
          53,
          54,
          55,
          56,
          57,
          58,
          59,
          60,
          61,
          62,
          63,
          64,
          65,
          66,
          67,
          68,
          69,
          70,
          71,
          72,
          73,
          74,
          75,
          76,
          77,
          78,
          79,
          80,
          81,
          82,
          83,
          84,
          85,
          86,
          87,
          88,
          89,
          90,
          91,
          92,
          93,
          94,
          95,
          96,
          97,
          98,
          99
         ],
         "y": [
          -0.40776193689606005,
          -0.40776193689606005,
          -0.40776193689606005,
          -0.40776193689606005,
          -0.40776193689606005,
          -0.40776193689606005,
          -0.40776193689606005,
          -0.40776193689606005,
          -0.40776193689606005,
          -0.40776193689606005,
          -0.40776193689606005,
          -0.40776193689606005,
          -0.40776193689606005,
          -0.40776193689606005,
          -0.40776193689606005,
          -0.40776193689606005,
          -0.40776193689606005,
          -0.40776193689606005,
          -0.40776193689606005,
          -0.40776193689606005,
          -0.40776193689606005,
          -0.40829088239954986,
          -0.40829088239954986,
          -0.40829088239954986,
          -0.40829088239954986,
          -0.40829088239954986,
          -0.40829088239954986,
          -0.40829088239954986,
          -0.40829088239954986,
          -0.40829088239954986,
          -0.40829088239954986,
          -0.40841966944217983,
          -0.40841966944217983,
          -0.40841966944217983,
          -0.40841966944217983,
          -0.40841966944217983,
          -0.40841966944217983,
          -0.40841966944217983,
          -0.40841966944217983,
          -0.40841966944217983,
          -0.40841966944217983,
          -0.40944099908320514,
          -0.40944099908320514,
          -0.40944099908320514,
          -0.40944099908320514,
          -0.40944099908320514,
          -0.40944099908320514,
          -0.40944099908320514,
          -0.40944099908320514,
          -0.40944099908320514,
          -0.410017149541955,
          -0.410017149541955,
          -0.410017149541955,
          -0.410017149541955,
          -0.410017149541955,
          -0.410017149541955,
          -0.410017149541955,
          -0.410017149541955,
          -0.410017149541955,
          -0.410017149541955,
          -0.410017149541955,
          -0.410017149541955,
          -0.410017149541955,
          -0.410017149541955,
          -0.410017149541955,
          -0.410017149541955,
          -0.410017149541955,
          -0.410017149541955,
          -0.410017149541955,
          -0.410017149541955,
          -0.410017149541955,
          -0.410017149541955,
          -0.410017149541955,
          -0.410017149541955,
          -0.410017149541955,
          -0.410017149541955,
          -0.410017149541955,
          -0.410017149541955,
          -0.410017149541955,
          -0.410017149541955,
          -0.410017149541955,
          -0.410017149541955,
          -0.410017149541955,
          -0.410017149541955,
          -0.410017149541955,
          -0.410017149541955,
          -0.410017149541955,
          -0.410017149541955,
          -0.410017149541955,
          -0.410017149541955,
          -0.410017149541955,
          -0.410017149541955,
          -0.410017149541955,
          -0.410017149541955,
          -0.410017149541955,
          -0.410017149541955,
          -0.410017149541955,
          -0.410017149541955,
          -0.410017149541955,
          -0.410017149541955
         ]
        },
        {
         "marker": {
          "color": "#cccccc"
         },
         "mode": "markers",
         "name": "Infeasible Trial",
         "showlegend": false,
         "type": "scatter",
         "x": [],
         "y": []
        }
       ],
       "layout": {
        "template": {
         "data": {
          "bar": [
           {
            "error_x": {
             "color": "#2a3f5f"
            },
            "error_y": {
             "color": "#2a3f5f"
            },
            "marker": {
             "line": {
              "color": "#E5ECF6",
              "width": 0.5
             },
             "pattern": {
              "fillmode": "overlay",
              "size": 10,
              "solidity": 0.2
             }
            },
            "type": "bar"
           }
          ],
          "barpolar": [
           {
            "marker": {
             "line": {
              "color": "#E5ECF6",
              "width": 0.5
             },
             "pattern": {
              "fillmode": "overlay",
              "size": 10,
              "solidity": 0.2
             }
            },
            "type": "barpolar"
           }
          ],
          "carpet": [
           {
            "aaxis": {
             "endlinecolor": "#2a3f5f",
             "gridcolor": "white",
             "linecolor": "white",
             "minorgridcolor": "white",
             "startlinecolor": "#2a3f5f"
            },
            "baxis": {
             "endlinecolor": "#2a3f5f",
             "gridcolor": "white",
             "linecolor": "white",
             "minorgridcolor": "white",
             "startlinecolor": "#2a3f5f"
            },
            "type": "carpet"
           }
          ],
          "choropleth": [
           {
            "colorbar": {
             "outlinewidth": 0,
             "ticks": ""
            },
            "type": "choropleth"
           }
          ],
          "contour": [
           {
            "colorbar": {
             "outlinewidth": 0,
             "ticks": ""
            },
            "colorscale": [
             [
              0,
              "#0d0887"
             ],
             [
              0.1111111111111111,
              "#46039f"
             ],
             [
              0.2222222222222222,
              "#7201a8"
             ],
             [
              0.3333333333333333,
              "#9c179e"
             ],
             [
              0.4444444444444444,
              "#bd3786"
             ],
             [
              0.5555555555555556,
              "#d8576b"
             ],
             [
              0.6666666666666666,
              "#ed7953"
             ],
             [
              0.7777777777777778,
              "#fb9f3a"
             ],
             [
              0.8888888888888888,
              "#fdca26"
             ],
             [
              1,
              "#f0f921"
             ]
            ],
            "type": "contour"
           }
          ],
          "contourcarpet": [
           {
            "colorbar": {
             "outlinewidth": 0,
             "ticks": ""
            },
            "type": "contourcarpet"
           }
          ],
          "heatmap": [
           {
            "colorbar": {
             "outlinewidth": 0,
             "ticks": ""
            },
            "colorscale": [
             [
              0,
              "#0d0887"
             ],
             [
              0.1111111111111111,
              "#46039f"
             ],
             [
              0.2222222222222222,
              "#7201a8"
             ],
             [
              0.3333333333333333,
              "#9c179e"
             ],
             [
              0.4444444444444444,
              "#bd3786"
             ],
             [
              0.5555555555555556,
              "#d8576b"
             ],
             [
              0.6666666666666666,
              "#ed7953"
             ],
             [
              0.7777777777777778,
              "#fb9f3a"
             ],
             [
              0.8888888888888888,
              "#fdca26"
             ],
             [
              1,
              "#f0f921"
             ]
            ],
            "type": "heatmap"
           }
          ],
          "histogram": [
           {
            "marker": {
             "pattern": {
              "fillmode": "overlay",
              "size": 10,
              "solidity": 0.2
             }
            },
            "type": "histogram"
           }
          ],
          "histogram2d": [
           {
            "colorbar": {
             "outlinewidth": 0,
             "ticks": ""
            },
            "colorscale": [
             [
              0,
              "#0d0887"
             ],
             [
              0.1111111111111111,
              "#46039f"
             ],
             [
              0.2222222222222222,
              "#7201a8"
             ],
             [
              0.3333333333333333,
              "#9c179e"
             ],
             [
              0.4444444444444444,
              "#bd3786"
             ],
             [
              0.5555555555555556,
              "#d8576b"
             ],
             [
              0.6666666666666666,
              "#ed7953"
             ],
             [
              0.7777777777777778,
              "#fb9f3a"
             ],
             [
              0.8888888888888888,
              "#fdca26"
             ],
             [
              1,
              "#f0f921"
             ]
            ],
            "type": "histogram2d"
           }
          ],
          "histogram2dcontour": [
           {
            "colorbar": {
             "outlinewidth": 0,
             "ticks": ""
            },
            "colorscale": [
             [
              0,
              "#0d0887"
             ],
             [
              0.1111111111111111,
              "#46039f"
             ],
             [
              0.2222222222222222,
              "#7201a8"
             ],
             [
              0.3333333333333333,
              "#9c179e"
             ],
             [
              0.4444444444444444,
              "#bd3786"
             ],
             [
              0.5555555555555556,
              "#d8576b"
             ],
             [
              0.6666666666666666,
              "#ed7953"
             ],
             [
              0.7777777777777778,
              "#fb9f3a"
             ],
             [
              0.8888888888888888,
              "#fdca26"
             ],
             [
              1,
              "#f0f921"
             ]
            ],
            "type": "histogram2dcontour"
           }
          ],
          "mesh3d": [
           {
            "colorbar": {
             "outlinewidth": 0,
             "ticks": ""
            },
            "type": "mesh3d"
           }
          ],
          "parcoords": [
           {
            "line": {
             "colorbar": {
              "outlinewidth": 0,
              "ticks": ""
             }
            },
            "type": "parcoords"
           }
          ],
          "pie": [
           {
            "automargin": true,
            "type": "pie"
           }
          ],
          "scatter": [
           {
            "fillpattern": {
             "fillmode": "overlay",
             "size": 10,
             "solidity": 0.2
            },
            "type": "scatter"
           }
          ],
          "scatter3d": [
           {
            "line": {
             "colorbar": {
              "outlinewidth": 0,
              "ticks": ""
             }
            },
            "marker": {
             "colorbar": {
              "outlinewidth": 0,
              "ticks": ""
             }
            },
            "type": "scatter3d"
           }
          ],
          "scattercarpet": [
           {
            "marker": {
             "colorbar": {
              "outlinewidth": 0,
              "ticks": ""
             }
            },
            "type": "scattercarpet"
           }
          ],
          "scattergeo": [
           {
            "marker": {
             "colorbar": {
              "outlinewidth": 0,
              "ticks": ""
             }
            },
            "type": "scattergeo"
           }
          ],
          "scattergl": [
           {
            "marker": {
             "colorbar": {
              "outlinewidth": 0,
              "ticks": ""
             }
            },
            "type": "scattergl"
           }
          ],
          "scattermap": [
           {
            "marker": {
             "colorbar": {
              "outlinewidth": 0,
              "ticks": ""
             }
            },
            "type": "scattermap"
           }
          ],
          "scattermapbox": [
           {
            "marker": {
             "colorbar": {
              "outlinewidth": 0,
              "ticks": ""
             }
            },
            "type": "scattermapbox"
           }
          ],
          "scatterpolar": [
           {
            "marker": {
             "colorbar": {
              "outlinewidth": 0,
              "ticks": ""
             }
            },
            "type": "scatterpolar"
           }
          ],
          "scatterpolargl": [
           {
            "marker": {
             "colorbar": {
              "outlinewidth": 0,
              "ticks": ""
             }
            },
            "type": "scatterpolargl"
           }
          ],
          "scatterternary": [
           {
            "marker": {
             "colorbar": {
              "outlinewidth": 0,
              "ticks": ""
             }
            },
            "type": "scatterternary"
           }
          ],
          "surface": [
           {
            "colorbar": {
             "outlinewidth": 0,
             "ticks": ""
            },
            "colorscale": [
             [
              0,
              "#0d0887"
             ],
             [
              0.1111111111111111,
              "#46039f"
             ],
             [
              0.2222222222222222,
              "#7201a8"
             ],
             [
              0.3333333333333333,
              "#9c179e"
             ],
             [
              0.4444444444444444,
              "#bd3786"
             ],
             [
              0.5555555555555556,
              "#d8576b"
             ],
             [
              0.6666666666666666,
              "#ed7953"
             ],
             [
              0.7777777777777778,
              "#fb9f3a"
             ],
             [
              0.8888888888888888,
              "#fdca26"
             ],
             [
              1,
              "#f0f921"
             ]
            ],
            "type": "surface"
           }
          ],
          "table": [
           {
            "cells": {
             "fill": {
              "color": "#EBF0F8"
             },
             "line": {
              "color": "white"
             }
            },
            "header": {
             "fill": {
              "color": "#C8D4E3"
             },
             "line": {
              "color": "white"
             }
            },
            "type": "table"
           }
          ]
         },
         "layout": {
          "annotationdefaults": {
           "arrowcolor": "#2a3f5f",
           "arrowhead": 0,
           "arrowwidth": 1
          },
          "autotypenumbers": "strict",
          "coloraxis": {
           "colorbar": {
            "outlinewidth": 0,
            "ticks": ""
           }
          },
          "colorscale": {
           "diverging": [
            [
             0,
             "#8e0152"
            ],
            [
             0.1,
             "#c51b7d"
            ],
            [
             0.2,
             "#de77ae"
            ],
            [
             0.3,
             "#f1b6da"
            ],
            [
             0.4,
             "#fde0ef"
            ],
            [
             0.5,
             "#f7f7f7"
            ],
            [
             0.6,
             "#e6f5d0"
            ],
            [
             0.7,
             "#b8e186"
            ],
            [
             0.8,
             "#7fbc41"
            ],
            [
             0.9,
             "#4d9221"
            ],
            [
             1,
             "#276419"
            ]
           ],
           "sequential": [
            [
             0,
             "#0d0887"
            ],
            [
             0.1111111111111111,
             "#46039f"
            ],
            [
             0.2222222222222222,
             "#7201a8"
            ],
            [
             0.3333333333333333,
             "#9c179e"
            ],
            [
             0.4444444444444444,
             "#bd3786"
            ],
            [
             0.5555555555555556,
             "#d8576b"
            ],
            [
             0.6666666666666666,
             "#ed7953"
            ],
            [
             0.7777777777777778,
             "#fb9f3a"
            ],
            [
             0.8888888888888888,
             "#fdca26"
            ],
            [
             1,
             "#f0f921"
            ]
           ],
           "sequentialminus": [
            [
             0,
             "#0d0887"
            ],
            [
             0.1111111111111111,
             "#46039f"
            ],
            [
             0.2222222222222222,
             "#7201a8"
            ],
            [
             0.3333333333333333,
             "#9c179e"
            ],
            [
             0.4444444444444444,
             "#bd3786"
            ],
            [
             0.5555555555555556,
             "#d8576b"
            ],
            [
             0.6666666666666666,
             "#ed7953"
            ],
            [
             0.7777777777777778,
             "#fb9f3a"
            ],
            [
             0.8888888888888888,
             "#fdca26"
            ],
            [
             1,
             "#f0f921"
            ]
           ]
          },
          "colorway": [
           "#636efa",
           "#EF553B",
           "#00cc96",
           "#ab63fa",
           "#FFA15A",
           "#19d3f3",
           "#FF6692",
           "#B6E880",
           "#FF97FF",
           "#FECB52"
          ],
          "font": {
           "color": "#2a3f5f"
          },
          "geo": {
           "bgcolor": "white",
           "lakecolor": "white",
           "landcolor": "#E5ECF6",
           "showlakes": true,
           "showland": true,
           "subunitcolor": "white"
          },
          "hoverlabel": {
           "align": "left"
          },
          "hovermode": "closest",
          "mapbox": {
           "style": "light"
          },
          "paper_bgcolor": "white",
          "plot_bgcolor": "#E5ECF6",
          "polar": {
           "angularaxis": {
            "gridcolor": "white",
            "linecolor": "white",
            "ticks": ""
           },
           "bgcolor": "#E5ECF6",
           "radialaxis": {
            "gridcolor": "white",
            "linecolor": "white",
            "ticks": ""
           }
          },
          "scene": {
           "xaxis": {
            "backgroundcolor": "#E5ECF6",
            "gridcolor": "white",
            "gridwidth": 2,
            "linecolor": "white",
            "showbackground": true,
            "ticks": "",
            "zerolinecolor": "white"
           },
           "yaxis": {
            "backgroundcolor": "#E5ECF6",
            "gridcolor": "white",
            "gridwidth": 2,
            "linecolor": "white",
            "showbackground": true,
            "ticks": "",
            "zerolinecolor": "white"
           },
           "zaxis": {
            "backgroundcolor": "#E5ECF6",
            "gridcolor": "white",
            "gridwidth": 2,
            "linecolor": "white",
            "showbackground": true,
            "ticks": "",
            "zerolinecolor": "white"
           }
          },
          "shapedefaults": {
           "line": {
            "color": "#2a3f5f"
           }
          },
          "ternary": {
           "aaxis": {
            "gridcolor": "white",
            "linecolor": "white",
            "ticks": ""
           },
           "baxis": {
            "gridcolor": "white",
            "linecolor": "white",
            "ticks": ""
           },
           "bgcolor": "#E5ECF6",
           "caxis": {
            "gridcolor": "white",
            "linecolor": "white",
            "ticks": ""
           }
          },
          "title": {
           "x": 0.05
          },
          "xaxis": {
           "automargin": true,
           "gridcolor": "white",
           "linecolor": "white",
           "ticks": "",
           "title": {
            "standoff": 15
           },
           "zerolinecolor": "white",
           "zerolinewidth": 2
          },
          "yaxis": {
           "automargin": true,
           "gridcolor": "white",
           "linecolor": "white",
           "ticks": "",
           "title": {
            "standoff": 15
           },
           "zerolinecolor": "white",
           "zerolinewidth": 2
          }
         }
        },
        "title": {
         "text": "Optimization History Plot"
        },
        "xaxis": {
         "title": {
          "text": "Trial"
         }
        },
        "yaxis": {
         "title": {
          "text": "Objective Value"
         }
        }
       }
      }
     },
     "metadata": {},
     "output_type": "display_data"
    }
   ],
   "source": [
    "# Vẽ lịch sử tối ưu (Optimization History)\n",
    "optuna.visualization.plot_optimization_history(study).show()"
   ]
  },
  {
   "cell_type": "code",
   "execution_count": 59,
   "metadata": {},
   "outputs": [
    {
     "data": {
      "application/vnd.plotly.v1+json": {
       "config": {
        "plotlyServerURL": "https://plot.ly"
       },
       "data": [
        {
         "cliponaxis": false,
         "hovertemplate": [
          "damping (FloatDistribution): 0.31219886514892026<extra></extra>",
          "preference (FloatDistribution): 0.6878011348510797<extra></extra>"
         ],
         "name": "Objective Value",
         "orientation": "h",
         "text": [
          "0.31",
          "0.69"
         ],
         "textposition": "outside",
         "type": "bar",
         "x": [
          0.31219886514892026,
          0.6878011348510797
         ],
         "y": [
          "damping",
          "preference"
         ]
        }
       ],
       "layout": {
        "template": {
         "data": {
          "bar": [
           {
            "error_x": {
             "color": "#2a3f5f"
            },
            "error_y": {
             "color": "#2a3f5f"
            },
            "marker": {
             "line": {
              "color": "#E5ECF6",
              "width": 0.5
             },
             "pattern": {
              "fillmode": "overlay",
              "size": 10,
              "solidity": 0.2
             }
            },
            "type": "bar"
           }
          ],
          "barpolar": [
           {
            "marker": {
             "line": {
              "color": "#E5ECF6",
              "width": 0.5
             },
             "pattern": {
              "fillmode": "overlay",
              "size": 10,
              "solidity": 0.2
             }
            },
            "type": "barpolar"
           }
          ],
          "carpet": [
           {
            "aaxis": {
             "endlinecolor": "#2a3f5f",
             "gridcolor": "white",
             "linecolor": "white",
             "minorgridcolor": "white",
             "startlinecolor": "#2a3f5f"
            },
            "baxis": {
             "endlinecolor": "#2a3f5f",
             "gridcolor": "white",
             "linecolor": "white",
             "minorgridcolor": "white",
             "startlinecolor": "#2a3f5f"
            },
            "type": "carpet"
           }
          ],
          "choropleth": [
           {
            "colorbar": {
             "outlinewidth": 0,
             "ticks": ""
            },
            "type": "choropleth"
           }
          ],
          "contour": [
           {
            "colorbar": {
             "outlinewidth": 0,
             "ticks": ""
            },
            "colorscale": [
             [
              0,
              "#0d0887"
             ],
             [
              0.1111111111111111,
              "#46039f"
             ],
             [
              0.2222222222222222,
              "#7201a8"
             ],
             [
              0.3333333333333333,
              "#9c179e"
             ],
             [
              0.4444444444444444,
              "#bd3786"
             ],
             [
              0.5555555555555556,
              "#d8576b"
             ],
             [
              0.6666666666666666,
              "#ed7953"
             ],
             [
              0.7777777777777778,
              "#fb9f3a"
             ],
             [
              0.8888888888888888,
              "#fdca26"
             ],
             [
              1,
              "#f0f921"
             ]
            ],
            "type": "contour"
           }
          ],
          "contourcarpet": [
           {
            "colorbar": {
             "outlinewidth": 0,
             "ticks": ""
            },
            "type": "contourcarpet"
           }
          ],
          "heatmap": [
           {
            "colorbar": {
             "outlinewidth": 0,
             "ticks": ""
            },
            "colorscale": [
             [
              0,
              "#0d0887"
             ],
             [
              0.1111111111111111,
              "#46039f"
             ],
             [
              0.2222222222222222,
              "#7201a8"
             ],
             [
              0.3333333333333333,
              "#9c179e"
             ],
             [
              0.4444444444444444,
              "#bd3786"
             ],
             [
              0.5555555555555556,
              "#d8576b"
             ],
             [
              0.6666666666666666,
              "#ed7953"
             ],
             [
              0.7777777777777778,
              "#fb9f3a"
             ],
             [
              0.8888888888888888,
              "#fdca26"
             ],
             [
              1,
              "#f0f921"
             ]
            ],
            "type": "heatmap"
           }
          ],
          "histogram": [
           {
            "marker": {
             "pattern": {
              "fillmode": "overlay",
              "size": 10,
              "solidity": 0.2
             }
            },
            "type": "histogram"
           }
          ],
          "histogram2d": [
           {
            "colorbar": {
             "outlinewidth": 0,
             "ticks": ""
            },
            "colorscale": [
             [
              0,
              "#0d0887"
             ],
             [
              0.1111111111111111,
              "#46039f"
             ],
             [
              0.2222222222222222,
              "#7201a8"
             ],
             [
              0.3333333333333333,
              "#9c179e"
             ],
             [
              0.4444444444444444,
              "#bd3786"
             ],
             [
              0.5555555555555556,
              "#d8576b"
             ],
             [
              0.6666666666666666,
              "#ed7953"
             ],
             [
              0.7777777777777778,
              "#fb9f3a"
             ],
             [
              0.8888888888888888,
              "#fdca26"
             ],
             [
              1,
              "#f0f921"
             ]
            ],
            "type": "histogram2d"
           }
          ],
          "histogram2dcontour": [
           {
            "colorbar": {
             "outlinewidth": 0,
             "ticks": ""
            },
            "colorscale": [
             [
              0,
              "#0d0887"
             ],
             [
              0.1111111111111111,
              "#46039f"
             ],
             [
              0.2222222222222222,
              "#7201a8"
             ],
             [
              0.3333333333333333,
              "#9c179e"
             ],
             [
              0.4444444444444444,
              "#bd3786"
             ],
             [
              0.5555555555555556,
              "#d8576b"
             ],
             [
              0.6666666666666666,
              "#ed7953"
             ],
             [
              0.7777777777777778,
              "#fb9f3a"
             ],
             [
              0.8888888888888888,
              "#fdca26"
             ],
             [
              1,
              "#f0f921"
             ]
            ],
            "type": "histogram2dcontour"
           }
          ],
          "mesh3d": [
           {
            "colorbar": {
             "outlinewidth": 0,
             "ticks": ""
            },
            "type": "mesh3d"
           }
          ],
          "parcoords": [
           {
            "line": {
             "colorbar": {
              "outlinewidth": 0,
              "ticks": ""
             }
            },
            "type": "parcoords"
           }
          ],
          "pie": [
           {
            "automargin": true,
            "type": "pie"
           }
          ],
          "scatter": [
           {
            "fillpattern": {
             "fillmode": "overlay",
             "size": 10,
             "solidity": 0.2
            },
            "type": "scatter"
           }
          ],
          "scatter3d": [
           {
            "line": {
             "colorbar": {
              "outlinewidth": 0,
              "ticks": ""
             }
            },
            "marker": {
             "colorbar": {
              "outlinewidth": 0,
              "ticks": ""
             }
            },
            "type": "scatter3d"
           }
          ],
          "scattercarpet": [
           {
            "marker": {
             "colorbar": {
              "outlinewidth": 0,
              "ticks": ""
             }
            },
            "type": "scattercarpet"
           }
          ],
          "scattergeo": [
           {
            "marker": {
             "colorbar": {
              "outlinewidth": 0,
              "ticks": ""
             }
            },
            "type": "scattergeo"
           }
          ],
          "scattergl": [
           {
            "marker": {
             "colorbar": {
              "outlinewidth": 0,
              "ticks": ""
             }
            },
            "type": "scattergl"
           }
          ],
          "scattermap": [
           {
            "marker": {
             "colorbar": {
              "outlinewidth": 0,
              "ticks": ""
             }
            },
            "type": "scattermap"
           }
          ],
          "scattermapbox": [
           {
            "marker": {
             "colorbar": {
              "outlinewidth": 0,
              "ticks": ""
             }
            },
            "type": "scattermapbox"
           }
          ],
          "scatterpolar": [
           {
            "marker": {
             "colorbar": {
              "outlinewidth": 0,
              "ticks": ""
             }
            },
            "type": "scatterpolar"
           }
          ],
          "scatterpolargl": [
           {
            "marker": {
             "colorbar": {
              "outlinewidth": 0,
              "ticks": ""
             }
            },
            "type": "scatterpolargl"
           }
          ],
          "scatterternary": [
           {
            "marker": {
             "colorbar": {
              "outlinewidth": 0,
              "ticks": ""
             }
            },
            "type": "scatterternary"
           }
          ],
          "surface": [
           {
            "colorbar": {
             "outlinewidth": 0,
             "ticks": ""
            },
            "colorscale": [
             [
              0,
              "#0d0887"
             ],
             [
              0.1111111111111111,
              "#46039f"
             ],
             [
              0.2222222222222222,
              "#7201a8"
             ],
             [
              0.3333333333333333,
              "#9c179e"
             ],
             [
              0.4444444444444444,
              "#bd3786"
             ],
             [
              0.5555555555555556,
              "#d8576b"
             ],
             [
              0.6666666666666666,
              "#ed7953"
             ],
             [
              0.7777777777777778,
              "#fb9f3a"
             ],
             [
              0.8888888888888888,
              "#fdca26"
             ],
             [
              1,
              "#f0f921"
             ]
            ],
            "type": "surface"
           }
          ],
          "table": [
           {
            "cells": {
             "fill": {
              "color": "#EBF0F8"
             },
             "line": {
              "color": "white"
             }
            },
            "header": {
             "fill": {
              "color": "#C8D4E3"
             },
             "line": {
              "color": "white"
             }
            },
            "type": "table"
           }
          ]
         },
         "layout": {
          "annotationdefaults": {
           "arrowcolor": "#2a3f5f",
           "arrowhead": 0,
           "arrowwidth": 1
          },
          "autotypenumbers": "strict",
          "coloraxis": {
           "colorbar": {
            "outlinewidth": 0,
            "ticks": ""
           }
          },
          "colorscale": {
           "diverging": [
            [
             0,
             "#8e0152"
            ],
            [
             0.1,
             "#c51b7d"
            ],
            [
             0.2,
             "#de77ae"
            ],
            [
             0.3,
             "#f1b6da"
            ],
            [
             0.4,
             "#fde0ef"
            ],
            [
             0.5,
             "#f7f7f7"
            ],
            [
             0.6,
             "#e6f5d0"
            ],
            [
             0.7,
             "#b8e186"
            ],
            [
             0.8,
             "#7fbc41"
            ],
            [
             0.9,
             "#4d9221"
            ],
            [
             1,
             "#276419"
            ]
           ],
           "sequential": [
            [
             0,
             "#0d0887"
            ],
            [
             0.1111111111111111,
             "#46039f"
            ],
            [
             0.2222222222222222,
             "#7201a8"
            ],
            [
             0.3333333333333333,
             "#9c179e"
            ],
            [
             0.4444444444444444,
             "#bd3786"
            ],
            [
             0.5555555555555556,
             "#d8576b"
            ],
            [
             0.6666666666666666,
             "#ed7953"
            ],
            [
             0.7777777777777778,
             "#fb9f3a"
            ],
            [
             0.8888888888888888,
             "#fdca26"
            ],
            [
             1,
             "#f0f921"
            ]
           ],
           "sequentialminus": [
            [
             0,
             "#0d0887"
            ],
            [
             0.1111111111111111,
             "#46039f"
            ],
            [
             0.2222222222222222,
             "#7201a8"
            ],
            [
             0.3333333333333333,
             "#9c179e"
            ],
            [
             0.4444444444444444,
             "#bd3786"
            ],
            [
             0.5555555555555556,
             "#d8576b"
            ],
            [
             0.6666666666666666,
             "#ed7953"
            ],
            [
             0.7777777777777778,
             "#fb9f3a"
            ],
            [
             0.8888888888888888,
             "#fdca26"
            ],
            [
             1,
             "#f0f921"
            ]
           ]
          },
          "colorway": [
           "#636efa",
           "#EF553B",
           "#00cc96",
           "#ab63fa",
           "#FFA15A",
           "#19d3f3",
           "#FF6692",
           "#B6E880",
           "#FF97FF",
           "#FECB52"
          ],
          "font": {
           "color": "#2a3f5f"
          },
          "geo": {
           "bgcolor": "white",
           "lakecolor": "white",
           "landcolor": "#E5ECF6",
           "showlakes": true,
           "showland": true,
           "subunitcolor": "white"
          },
          "hoverlabel": {
           "align": "left"
          },
          "hovermode": "closest",
          "mapbox": {
           "style": "light"
          },
          "paper_bgcolor": "white",
          "plot_bgcolor": "#E5ECF6",
          "polar": {
           "angularaxis": {
            "gridcolor": "white",
            "linecolor": "white",
            "ticks": ""
           },
           "bgcolor": "#E5ECF6",
           "radialaxis": {
            "gridcolor": "white",
            "linecolor": "white",
            "ticks": ""
           }
          },
          "scene": {
           "xaxis": {
            "backgroundcolor": "#E5ECF6",
            "gridcolor": "white",
            "gridwidth": 2,
            "linecolor": "white",
            "showbackground": true,
            "ticks": "",
            "zerolinecolor": "white"
           },
           "yaxis": {
            "backgroundcolor": "#E5ECF6",
            "gridcolor": "white",
            "gridwidth": 2,
            "linecolor": "white",
            "showbackground": true,
            "ticks": "",
            "zerolinecolor": "white"
           },
           "zaxis": {
            "backgroundcolor": "#E5ECF6",
            "gridcolor": "white",
            "gridwidth": 2,
            "linecolor": "white",
            "showbackground": true,
            "ticks": "",
            "zerolinecolor": "white"
           }
          },
          "shapedefaults": {
           "line": {
            "color": "#2a3f5f"
           }
          },
          "ternary": {
           "aaxis": {
            "gridcolor": "white",
            "linecolor": "white",
            "ticks": ""
           },
           "baxis": {
            "gridcolor": "white",
            "linecolor": "white",
            "ticks": ""
           },
           "bgcolor": "#E5ECF6",
           "caxis": {
            "gridcolor": "white",
            "linecolor": "white",
            "ticks": ""
           }
          },
          "title": {
           "x": 0.05
          },
          "xaxis": {
           "automargin": true,
           "gridcolor": "white",
           "linecolor": "white",
           "ticks": "",
           "title": {
            "standoff": 15
           },
           "zerolinecolor": "white",
           "zerolinewidth": 2
          },
          "yaxis": {
           "automargin": true,
           "gridcolor": "white",
           "linecolor": "white",
           "ticks": "",
           "title": {
            "standoff": 15
           },
           "zerolinecolor": "white",
           "zerolinewidth": 2
          }
         }
        },
        "title": {
         "text": "Hyperparameter Importances"
        },
        "xaxis": {
         "title": {
          "text": "Hyperparameter Importance"
         }
        },
        "yaxis": {
         "title": {
          "text": "Hyperparameter"
         }
        }
       }
      }
     },
     "metadata": {},
     "output_type": "display_data"
    }
   ],
   "source": [
    "# Vẽ tầm quan trọng các tham số (Hyperparameter Importance)\n",
    "optuna.visualization.plot_param_importances(study).show()"
   ]
  },
  {
   "cell_type": "markdown",
   "metadata": {},
   "source": [
    "# Một số kết luận"
   ]
  },
  {
   "cell_type": "markdown",
   "metadata": {},
   "source": [
    "## 1. Hyperopt/Optuna\n",
    "\n",
    "Công cụ | Ưu điểm\n",
    "---|---\n",
    "Hyperopt | Dễ code, nhanh, tối ưu tốt với bài toán đơn giản\n",
    "Optuna | Giao diện đẹp, logging mạnh, hỗ trợ visualization trực quan"
   ]
  },
  {
   "cell_type": "markdown",
   "metadata": {},
   "source": [
    "## 2. Lựa chọn kỹ thuật\n",
    "\n",
    "Tiêu chí | Grid Search | Hyperopt / Optuna\n",
    "---|---|---\n",
    "Cách tìm kiếm | Quét toàn bộ (mọi tổ hợp parameter có thể) | Tối ưu hóa thông minh dựa trên mẫu ngẫu nhiên + học từ kết quả trước\n",
    "Phủ không gian tham số | Đảm bảo mọi vùng đều được quét qua | Không đảm bảo quét hết — ưu tiên vùng thấy \"ngon\" sớm\n",
    "Phụ thuộc random | Không | Có\n",
    "Độ tin cậy khi mẫu nhỏ | Cao (vì bao phủ đều) | Thấp (dễ mắc kẹt vào vùng xấu)\n",
    "\n",
    "<p>\n",
    "\n",
    "Grid Search | Hyperopt / Optuna\n",
    "---|---\n",
    "Tin cậy hơn khi số lượng trial nhỏ | Cần nhiều trial mới hiệu quả\n",
    "Tìm chắc chắn preference tốt | Dễ tìm nhầm preference xấu\n",
    "Độ ổn định cao | Độ dao động lớn\n",
    "\n",
    "**Vì vậy**:\n",
    "- Grid Search: Khi ít mẫu và không gian nhỏ, nó rất hiệu quả vì đi hết từng ngóc ngách.\n",
    "- Hyperopt / Optuna: Cần nhiều lượt thử mới \"học\" được vùng tốt vì khi ít trial thì hay bị chọn nhầm vùng xấu."
   ]
  }
 ],
 "metadata": {
  "colab": {
   "provenance": [],
   "toc_visible": true
  },
  "kernelspec": {
   "display_name": "Python 3",
   "name": "python3"
  },
  "language_info": {
   "codemirror_mode": {
    "name": "ipython",
    "version": 3
   },
   "file_extension": ".py",
   "mimetype": "text/x-python",
   "name": "python",
   "nbconvert_exporter": "python",
   "pygments_lexer": "ipython3",
   "version": "3.13.2"
  }
 },
 "nbformat": 4,
 "nbformat_minor": 0
}
